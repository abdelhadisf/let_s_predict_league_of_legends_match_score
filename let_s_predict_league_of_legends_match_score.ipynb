{
  "cells": [
    {
      "cell_type": "markdown",
      "metadata": {
        "id": "6TmFAgQjqYgT"
      },
      "source": [
        "### LEAGUE OF LEGENDS MATCH SCORE PREDICTION"
      ]
    },
    {
      "cell_type": "code",
      "execution_count": null,
      "metadata": {
        "_cell_guid": "b1076dfc-b9ad-4769-8c92-a6c4dae69d19",
        "_kg_hide-input": true,
        "_kg_hide-output": true,
        "_uuid": "8f2839f25d086af736a60e9eeb907d3b93b6e0e5",
        "colab": {
          "base_uri": "https://localhost:8080/",
          "height": 673
        },
        "id": "2cGIVXHjqYgV",
        "outputId": "621532b4-7f2b-4d99-d65f-d8049f2c8480"
      },
      "outputs": [
        {
          "output_type": "display_data",
          "data": {
            "text/html": [
              "        <script type=\"text/javascript\">\n",
              "        window.PlotlyConfig = {MathJaxConfig: 'local'};\n",
              "        if (window.MathJax && window.MathJax.Hub && window.MathJax.Hub.Config) {window.MathJax.Hub.Config({SVG: {font: \"STIX-Web\"}});}\n",
              "        if (typeof require !== 'undefined') {\n",
              "        require.undef(\"plotly\");\n",
              "        requirejs.config({\n",
              "            paths: {\n",
              "                'plotly': ['https://cdn.plot.ly/plotly-2.35.2.min']\n",
              "            }\n",
              "        });\n",
              "        require(['plotly'], function(Plotly) {\n",
              "            window._Plotly = Plotly;\n",
              "        });\n",
              "        }\n",
              "        </script>\n",
              "        "
            ]
          },
          "metadata": {}
        },
        {
          "output_type": "display_data",
          "data": {
            "text/plain": [
              "<IPython.core.display.HTML object>"
            ],
            "text/html": [
              "\n",
              "     <input type=\"file\" id=\"files-303e317a-b8ad-4190-9610-122eb62acbc8\" name=\"files[]\" multiple disabled\n",
              "        style=\"border:none\" />\n",
              "     <output id=\"result-303e317a-b8ad-4190-9610-122eb62acbc8\">\n",
              "      Upload widget is only available when the cell has been executed in the\n",
              "      current browser session. Please rerun this cell to enable.\n",
              "      </output>\n",
              "      <script>// Copyright 2017 Google LLC\n",
              "//\n",
              "// Licensed under the Apache License, Version 2.0 (the \"License\");\n",
              "// you may not use this file except in compliance with the License.\n",
              "// You may obtain a copy of the License at\n",
              "//\n",
              "//      http://www.apache.org/licenses/LICENSE-2.0\n",
              "//\n",
              "// Unless required by applicable law or agreed to in writing, software\n",
              "// distributed under the License is distributed on an \"AS IS\" BASIS,\n",
              "// WITHOUT WARRANTIES OR CONDITIONS OF ANY KIND, either express or implied.\n",
              "// See the License for the specific language governing permissions and\n",
              "// limitations under the License.\n",
              "\n",
              "/**\n",
              " * @fileoverview Helpers for google.colab Python module.\n",
              " */\n",
              "(function(scope) {\n",
              "function span(text, styleAttributes = {}) {\n",
              "  const element = document.createElement('span');\n",
              "  element.textContent = text;\n",
              "  for (const key of Object.keys(styleAttributes)) {\n",
              "    element.style[key] = styleAttributes[key];\n",
              "  }\n",
              "  return element;\n",
              "}\n",
              "\n",
              "// Max number of bytes which will be uploaded at a time.\n",
              "const MAX_PAYLOAD_SIZE = 100 * 1024;\n",
              "\n",
              "function _uploadFiles(inputId, outputId) {\n",
              "  const steps = uploadFilesStep(inputId, outputId);\n",
              "  const outputElement = document.getElementById(outputId);\n",
              "  // Cache steps on the outputElement to make it available for the next call\n",
              "  // to uploadFilesContinue from Python.\n",
              "  outputElement.steps = steps;\n",
              "\n",
              "  return _uploadFilesContinue(outputId);\n",
              "}\n",
              "\n",
              "// This is roughly an async generator (not supported in the browser yet),\n",
              "// where there are multiple asynchronous steps and the Python side is going\n",
              "// to poll for completion of each step.\n",
              "// This uses a Promise to block the python side on completion of each step,\n",
              "// then passes the result of the previous step as the input to the next step.\n",
              "function _uploadFilesContinue(outputId) {\n",
              "  const outputElement = document.getElementById(outputId);\n",
              "  const steps = outputElement.steps;\n",
              "\n",
              "  const next = steps.next(outputElement.lastPromiseValue);\n",
              "  return Promise.resolve(next.value.promise).then((value) => {\n",
              "    // Cache the last promise value to make it available to the next\n",
              "    // step of the generator.\n",
              "    outputElement.lastPromiseValue = value;\n",
              "    return next.value.response;\n",
              "  });\n",
              "}\n",
              "\n",
              "/**\n",
              " * Generator function which is called between each async step of the upload\n",
              " * process.\n",
              " * @param {string} inputId Element ID of the input file picker element.\n",
              " * @param {string} outputId Element ID of the output display.\n",
              " * @return {!Iterable<!Object>} Iterable of next steps.\n",
              " */\n",
              "function* uploadFilesStep(inputId, outputId) {\n",
              "  const inputElement = document.getElementById(inputId);\n",
              "  inputElement.disabled = false;\n",
              "\n",
              "  const outputElement = document.getElementById(outputId);\n",
              "  outputElement.innerHTML = '';\n",
              "\n",
              "  const pickedPromise = new Promise((resolve) => {\n",
              "    inputElement.addEventListener('change', (e) => {\n",
              "      resolve(e.target.files);\n",
              "    });\n",
              "  });\n",
              "\n",
              "  const cancel = document.createElement('button');\n",
              "  inputElement.parentElement.appendChild(cancel);\n",
              "  cancel.textContent = 'Cancel upload';\n",
              "  const cancelPromise = new Promise((resolve) => {\n",
              "    cancel.onclick = () => {\n",
              "      resolve(null);\n",
              "    };\n",
              "  });\n",
              "\n",
              "  // Wait for the user to pick the files.\n",
              "  const files = yield {\n",
              "    promise: Promise.race([pickedPromise, cancelPromise]),\n",
              "    response: {\n",
              "      action: 'starting',\n",
              "    }\n",
              "  };\n",
              "\n",
              "  cancel.remove();\n",
              "\n",
              "  // Disable the input element since further picks are not allowed.\n",
              "  inputElement.disabled = true;\n",
              "\n",
              "  if (!files) {\n",
              "    return {\n",
              "      response: {\n",
              "        action: 'complete',\n",
              "      }\n",
              "    };\n",
              "  }\n",
              "\n",
              "  for (const file of files) {\n",
              "    const li = document.createElement('li');\n",
              "    li.append(span(file.name, {fontWeight: 'bold'}));\n",
              "    li.append(span(\n",
              "        `(${file.type || 'n/a'}) - ${file.size} bytes, ` +\n",
              "        `last modified: ${\n",
              "            file.lastModifiedDate ? file.lastModifiedDate.toLocaleDateString() :\n",
              "                                    'n/a'} - `));\n",
              "    const percent = span('0% done');\n",
              "    li.appendChild(percent);\n",
              "\n",
              "    outputElement.appendChild(li);\n",
              "\n",
              "    const fileDataPromise = new Promise((resolve) => {\n",
              "      const reader = new FileReader();\n",
              "      reader.onload = (e) => {\n",
              "        resolve(e.target.result);\n",
              "      };\n",
              "      reader.readAsArrayBuffer(file);\n",
              "    });\n",
              "    // Wait for the data to be ready.\n",
              "    let fileData = yield {\n",
              "      promise: fileDataPromise,\n",
              "      response: {\n",
              "        action: 'continue',\n",
              "      }\n",
              "    };\n",
              "\n",
              "    // Use a chunked sending to avoid message size limits. See b/62115660.\n",
              "    let position = 0;\n",
              "    do {\n",
              "      const length = Math.min(fileData.byteLength - position, MAX_PAYLOAD_SIZE);\n",
              "      const chunk = new Uint8Array(fileData, position, length);\n",
              "      position += length;\n",
              "\n",
              "      const base64 = btoa(String.fromCharCode.apply(null, chunk));\n",
              "      yield {\n",
              "        response: {\n",
              "          action: 'append',\n",
              "          file: file.name,\n",
              "          data: base64,\n",
              "        },\n",
              "      };\n",
              "\n",
              "      let percentDone = fileData.byteLength === 0 ?\n",
              "          100 :\n",
              "          Math.round((position / fileData.byteLength) * 100);\n",
              "      percent.textContent = `${percentDone}% done`;\n",
              "\n",
              "    } while (position < fileData.byteLength);\n",
              "  }\n",
              "\n",
              "  // All done.\n",
              "  yield {\n",
              "    response: {\n",
              "      action: 'complete',\n",
              "    }\n",
              "  };\n",
              "}\n",
              "\n",
              "scope.google = scope.google || {};\n",
              "scope.google.colab = scope.google.colab || {};\n",
              "scope.google.colab._files = {\n",
              "  _uploadFiles,\n",
              "  _uploadFilesContinue,\n",
              "};\n",
              "})(self);\n",
              "</script> "
            ]
          },
          "metadata": {}
        },
        {
          "output_type": "stream",
          "name": "stdout",
          "text": [
            "Saving games.csv to games (1).csv\n",
            "Uploaded file: games (1).csv\n",
            "Dataset preview:\n",
            "       gameId   creationTime  gameDuration  seasonId  winner  firstBlood  \\\n",
            "0  3326086514  1504279457970          1949         9       1           2   \n",
            "1  3229566029  1497848803862          1851         9       1           1   \n",
            "2  3327363504  1504360103310          1493         9       1           2   \n",
            "3  3326856598  1504348503996          1758         9       1           1   \n",
            "4  3330080762  1504554410899          2094         9       1           2   \n",
            "\n",
            "   firstTower  firstInhibitor  firstBaron  firstDragon  ...  t2_towerKills  \\\n",
            "0           1               1           1            1  ...              5   \n",
            "1           1               1           0            1  ...              2   \n",
            "2           1               1           1            2  ...              2   \n",
            "3           1               1           1            1  ...              0   \n",
            "4           1               1           1            1  ...              3   \n",
            "\n",
            "   t2_inhibitorKills  t2_baronKills  t2_dragonKills  t2_riftHeraldKills  \\\n",
            "0                  0              0               1                   1   \n",
            "1                  0              0               0                   0   \n",
            "2                  0              0               1                   0   \n",
            "3                  0              0               0                   0   \n",
            "4                  0              0               1                   0   \n",
            "\n",
            "   t2_ban1  t2_ban2  t2_ban3  t2_ban4  t2_ban5  \n",
            "0      114       67       43       16       51  \n",
            "1       11       67      238       51      420  \n",
            "2      157      238      121       57       28  \n",
            "3      164       18      141       40       51  \n",
            "4       86       11      201      122       18  \n",
            "\n",
            "[5 rows x 61 columns]\n",
            "File is stored in the current working directory:\n",
            "['.config', 'games (1).csv', 'games.csv', 'sample_data']\n"
          ]
        }
      ],
      "source": [
        "# Import necessary libraries\n",
        "import numpy as np  # For linear algebra\n",
        "import pandas as pd  # For data processing\n",
        "import matplotlib.pyplot as plt  # For visualization\n",
        "import seaborn as sns  # For statistical plots\n",
        "from plotly.offline import init_notebook_mode, iplot\n",
        "import plotly.graph_objs as go\n",
        "import warnings\n",
        "import os\n",
        "\n",
        "# Suppress warnings\n",
        "warnings.filterwarnings(\"ignore\")\n",
        "\n",
        "# Initialize Plotly\n",
        "init_notebook_mode(connected=True)\n",
        "\n",
        "# Upload the file (for Google Colab)\n",
        "from google.colab import files\n",
        "\n",
        "# Ask the user to upload the file\n",
        "uploaded = files.upload()\n",
        "\n",
        "# Assuming the uploaded file is named 'games.csv'\n",
        "filename = list(uploaded.keys())[0]  # Get the uploaded file name\n",
        "print(f\"Uploaded file: {filename}\")\n",
        "\n",
        "# Load the CSV file into a DataFrame\n",
        "lol = pd.read_csv(filename)\n",
        "\n",
        "# Display the first 5 rows of the dataset\n",
        "print(\"Dataset preview:\")\n",
        "print(lol.head())\n",
        "\n",
        "\n",
        "\n",
        "# Check the uploaded file location\n",
        "print(\"File is stored in the current working directory:\")\n",
        "print(os.listdir('.'))\n"
      ]
    },
    {
      "cell_type": "markdown",
      "metadata": {
        "id": "6GenD6uKqYgX"
      },
      "source": [
        "League of Legends (abbreviated LoL) is a multiplayer online battle arena video game developed and published by Riot Games for Microsoft Windows and macOS.\n",
        "\n",
        "In League of Legends, players assume the role of an unseen \"summoner\" that controls a \"champion\" with unique abilities and battle against a team of other players or computer-controlled champions. The goal is usually to destroy the opposing team's \"nexus\", a structure that lies at the heart of a base protected by defensive structures, although other distinct game modes exist as well.\n",
        "\n",
        "Each League of Legends match is discrete, with all champions starting off fairly weak but increasing in strength by accumulating items and experience over the course of the game."
      ]
    },
    {
      "cell_type": "markdown",
      "metadata": {
        "id": "KIcOSIypqYgY"
      },
      "source": [
        "![](https://cdn.webrazzi.com/uploads/2016/09/league-of-legends.jpg)"
      ]
    },
    {
      "cell_type": "markdown",
      "metadata": {
        "id": "2AnO1mIzqYgY"
      },
      "source": [
        "In this kernel ,League of Legends ranked matches were analyzed and a decision tree classification algorithm was developed to predict match scores. To develop this algorithm:\n",
        "\n",
        "- Winner (1 = team1, 2 = team2)\n",
        "\n",
        "- First Baron, dragon, tower, blood, inhibitor and Rift Herald (1 = team1, 2 = team2, 0 = none)\n",
        "\n",
        "- The number of tower, inhibitor, Baron and dragon kills each team has\n",
        "\n",
        "features were used.\n",
        "\n",
        "* All information were taken from Wikipedia."
      ]
    },
    {
      "cell_type": "markdown",
      "metadata": {
        "id": "Gav-HMIhqYgY"
      },
      "source": [
        "#### Contents:\n",
        "\n",
        "1. [Game](#1)\n",
        "2. [Data Analysis](#2)\n",
        "3. [Decision Tree with Grid Search Method](#3)\n",
        "4. [Prediction](#4)"
      ]
    },
    {
      "cell_type": "markdown",
      "metadata": {
        "id": "IplGM3gNqYgZ"
      },
      "source": [
        "<a id=\"1\"></a> <br>\n",
        "**GAME**"
      ]
    },
    {
      "cell_type": "markdown",
      "metadata": {
        "id": "U3ZuysNpqYgZ"
      },
      "source": [
        "Summoner's Rift is the most popular map in League of Legends.\n",
        "\n",
        "On this map type, two teams of five players compete to destroy an enemy building called a Nexus, which is guarded by the enemy team and a number of defensive structures called turrets, or towers.\n",
        "\n",
        "One nexus is located in each enemy base on opposite sides of the map, in the lower-left and upper-right hand corners.\n",
        "\n",
        "These structures continually create weak non-player characters known as minions, which advance toward the enemy base along three paths: top, middle, and bottom lanes.\n",
        "\n",
        "Players compete to advance these waves of minions into the enemy base, which allows them to destroy enemy structures and ultimately win the match.\n",
        "\n",
        "Between lanes are neutral areas of the map known as the 'jungle', arrayed in four quadrants. A shallow river divides the map between the teams, but doesn't actually impede movement; all champions can wade through it no differently than dry land."
      ]
    },
    {
      "cell_type": "markdown",
      "metadata": {
        "id": "6Tdb9M9OqYgZ"
      },
      "source": [
        "![](http://www.wikizero.biz/index.php?q=aHR0cDovL3VwbG9hZC53aWtpbWVkaWEub3JnL3dpa2lwZWRpYS9jb21tb25zL3RodW1iL2QvZGMvTWFwX29mX01PQkEuc3ZnLzI0MHB4LU1hcF9vZl9NT0JBLnN2Zy5wbmc)"
      ]
    },
    {
      "cell_type": "markdown",
      "metadata": {
        "id": "1wrqMIwlqYga"
      },
      "source": [
        "Figure above shows a simplified representation of Summoner's Rift. The yellow paths are the \"lanes\" where endless waves of troops known as minions march; blue and red dots are the defensive turrets that defend the lanes. Not pictured are the two turrets that flank each Nexus – the ultimate goal of the game, which are within each team's base in their corner. The dotted black line is the river that divides the sides."
      ]
    },
    {
      "cell_type": "markdown",
      "metadata": {
        "id": "bGVn269mqYga"
      },
      "source": [
        "Each team wishes to defend their own structures and destroy the other team's structures. These include:\n",
        "\n",
        "**Towers – ** Each lane is guarded by powerful defensive structures called turrets or towers. Every team has 11 towers in total.\n",
        "\n",
        "**Inhibitor –** Each lane contains one Inhibitor. A lane's Inhibitor can be attacked after a team has destroyed the three turrets guarding its lane.\n",
        "\n",
        "**Elemental Drakes/Elder Dragon –** Elemental drakes are powerful monsters located in the bottom half of the river. All members of the team that kills the drake are provided with buffs that last the entire game and accrue cumulatively. The drakes are flavored after the Four Elements, with each drake granting a thematically appropriate buff. A random elemental drake will respawn six minutes after the previous one is killed. The Elder Dragon spawns instead after 35 minutes have passed in-game. When killed, it provides a stronger buff than an individual elemental drake, but is temporary, unlike the earlier drake rewards.\n",
        "\n",
        "**Rift Herald –** The Rift Herald is a powerful enemy located in the upper side of the River. Killing the Rift Herald allows it to be summoned again as a battering ram to attack enemy towers.\n",
        "\n",
        "**Baron Nashor – ** Baron Nashor is the most powerful neutral enemy, located in the upper side of the River. It will spawn after twenty minutes, replacing the Rift Herald.\n",
        "\n",
        "**Nexus –** Each team has a Nexus that can only be damaged once all the turrets in a lane, that lane's inhibitor and the Nexus turrets are destroyed. Destruction of the enemy team's Nexus ends the game."
      ]
    },
    {
      "cell_type": "code",
      "execution_count": null,
      "metadata": {
        "_cell_guid": "79c7e3d0-c299-4dcb-8224-4455121ee9b0",
        "_kg_hide-input": true,
        "_uuid": "d629ff2d2480ee46fbb7e2d37f6b5fab8052498a",
        "id": "2-70AB05qYga"
      },
      "outputs": [],
      "source": [
        "data=lol[[\"winner\",\"firstBlood\",\"firstTower\",\"firstInhibitor\",\"firstBaron\",\"firstDragon\",\"firstRiftHerald\",\"t1_towerKills\",\"t1_inhibitorKills\",'t1_baronKills',\n",
        "       't1_dragonKills','t2_towerKills','t2_inhibitorKills', 't2_baronKills', 't2_dragonKills'\n",
        "       ]]"
      ]
    },
    {
      "cell_type": "code",
      "execution_count": null,
      "metadata": {
        "_kg_hide-input": true,
        "id": "QZheEX8AqYgb"
      },
      "outputs": [],
      "source": [
        "data.drop([524,839,867,5325,5340,6472,7408,7430,7570,7711,7874,7900,3858,4031,4467,4551,4646,4696,4897,4907,5002,5027,1241,1347,1452,1712,1962,2681,2799,2837,2960,3010,3093,3234,3325,3534,3634,3659,3747,3806,3848],inplace=True)\n",
        "data=data.reset_index()\n",
        "data.drop([\"index\"],axis=1,inplace=True)"
      ]
    },
    {
      "cell_type": "markdown",
      "metadata": {
        "id": "66Nazg1RqYgb"
      },
      "source": [
        "<a id=\"2\"></a> <br>\n",
        "**DATA ANALYSIS**"
      ]
    },
    {
      "cell_type": "markdown",
      "metadata": {
        "id": "5Yu7D9ZZqYgb"
      },
      "source": [
        "Following table shows first 5 entries of dataset."
      ]
    },
    {
      "cell_type": "code",
      "execution_count": null,
      "metadata": {
        "_kg_hide-input": true,
        "colab": {
          "base_uri": "https://localhost:8080/",
          "height": 226
        },
        "id": "Kh9Ruw1rqYgb",
        "outputId": "9229363e-a984-4a7b-e931-e5e75e3d94a6"
      },
      "outputs": [
        {
          "output_type": "execute_result",
          "data": {
            "text/plain": [
              "   winner  firstBlood  firstTower  firstInhibitor  firstBaron  firstDragon  \\\n",
              "0       1           2           1               1           1            1   \n",
              "1       1           1           1               1           0            1   \n",
              "2       1           2           1               1           1            2   \n",
              "3       1           1           1               1           1            1   \n",
              "4       1           2           1               1           1            1   \n",
              "\n",
              "   firstRiftHerald  t1_towerKills  t1_inhibitorKills  t1_baronKills  \\\n",
              "0                2             11                  1              2   \n",
              "1                1             10                  4              0   \n",
              "2                0              8                  1              1   \n",
              "3                0              9                  2              1   \n",
              "4                0              9                  2              1   \n",
              "\n",
              "   t1_dragonKills  t2_towerKills  t2_inhibitorKills  t2_baronKills  \\\n",
              "0               3              5                  0              0   \n",
              "1               2              2                  0              0   \n",
              "2               1              2                  0              0   \n",
              "3               2              0                  0              0   \n",
              "4               3              3                  0              0   \n",
              "\n",
              "   t2_dragonKills  \n",
              "0               1  \n",
              "1               0  \n",
              "2               1  \n",
              "3               0  \n",
              "4               1  "
            ],
            "text/html": [
              "\n",
              "  <div id=\"df-633032b6-814a-461e-bdc8-d6b1879fa03b\" class=\"colab-df-container\">\n",
              "    <div>\n",
              "<style scoped>\n",
              "    .dataframe tbody tr th:only-of-type {\n",
              "        vertical-align: middle;\n",
              "    }\n",
              "\n",
              "    .dataframe tbody tr th {\n",
              "        vertical-align: top;\n",
              "    }\n",
              "\n",
              "    .dataframe thead th {\n",
              "        text-align: right;\n",
              "    }\n",
              "</style>\n",
              "<table border=\"1\" class=\"dataframe\">\n",
              "  <thead>\n",
              "    <tr style=\"text-align: right;\">\n",
              "      <th></th>\n",
              "      <th>winner</th>\n",
              "      <th>firstBlood</th>\n",
              "      <th>firstTower</th>\n",
              "      <th>firstInhibitor</th>\n",
              "      <th>firstBaron</th>\n",
              "      <th>firstDragon</th>\n",
              "      <th>firstRiftHerald</th>\n",
              "      <th>t1_towerKills</th>\n",
              "      <th>t1_inhibitorKills</th>\n",
              "      <th>t1_baronKills</th>\n",
              "      <th>t1_dragonKills</th>\n",
              "      <th>t2_towerKills</th>\n",
              "      <th>t2_inhibitorKills</th>\n",
              "      <th>t2_baronKills</th>\n",
              "      <th>t2_dragonKills</th>\n",
              "    </tr>\n",
              "  </thead>\n",
              "  <tbody>\n",
              "    <tr>\n",
              "      <th>0</th>\n",
              "      <td>1</td>\n",
              "      <td>2</td>\n",
              "      <td>1</td>\n",
              "      <td>1</td>\n",
              "      <td>1</td>\n",
              "      <td>1</td>\n",
              "      <td>2</td>\n",
              "      <td>11</td>\n",
              "      <td>1</td>\n",
              "      <td>2</td>\n",
              "      <td>3</td>\n",
              "      <td>5</td>\n",
              "      <td>0</td>\n",
              "      <td>0</td>\n",
              "      <td>1</td>\n",
              "    </tr>\n",
              "    <tr>\n",
              "      <th>1</th>\n",
              "      <td>1</td>\n",
              "      <td>1</td>\n",
              "      <td>1</td>\n",
              "      <td>1</td>\n",
              "      <td>0</td>\n",
              "      <td>1</td>\n",
              "      <td>1</td>\n",
              "      <td>10</td>\n",
              "      <td>4</td>\n",
              "      <td>0</td>\n",
              "      <td>2</td>\n",
              "      <td>2</td>\n",
              "      <td>0</td>\n",
              "      <td>0</td>\n",
              "      <td>0</td>\n",
              "    </tr>\n",
              "    <tr>\n",
              "      <th>2</th>\n",
              "      <td>1</td>\n",
              "      <td>2</td>\n",
              "      <td>1</td>\n",
              "      <td>1</td>\n",
              "      <td>1</td>\n",
              "      <td>2</td>\n",
              "      <td>0</td>\n",
              "      <td>8</td>\n",
              "      <td>1</td>\n",
              "      <td>1</td>\n",
              "      <td>1</td>\n",
              "      <td>2</td>\n",
              "      <td>0</td>\n",
              "      <td>0</td>\n",
              "      <td>1</td>\n",
              "    </tr>\n",
              "    <tr>\n",
              "      <th>3</th>\n",
              "      <td>1</td>\n",
              "      <td>1</td>\n",
              "      <td>1</td>\n",
              "      <td>1</td>\n",
              "      <td>1</td>\n",
              "      <td>1</td>\n",
              "      <td>0</td>\n",
              "      <td>9</td>\n",
              "      <td>2</td>\n",
              "      <td>1</td>\n",
              "      <td>2</td>\n",
              "      <td>0</td>\n",
              "      <td>0</td>\n",
              "      <td>0</td>\n",
              "      <td>0</td>\n",
              "    </tr>\n",
              "    <tr>\n",
              "      <th>4</th>\n",
              "      <td>1</td>\n",
              "      <td>2</td>\n",
              "      <td>1</td>\n",
              "      <td>1</td>\n",
              "      <td>1</td>\n",
              "      <td>1</td>\n",
              "      <td>0</td>\n",
              "      <td>9</td>\n",
              "      <td>2</td>\n",
              "      <td>1</td>\n",
              "      <td>3</td>\n",
              "      <td>3</td>\n",
              "      <td>0</td>\n",
              "      <td>0</td>\n",
              "      <td>1</td>\n",
              "    </tr>\n",
              "  </tbody>\n",
              "</table>\n",
              "</div>\n",
              "    <div class=\"colab-df-buttons\">\n",
              "\n",
              "  <div class=\"colab-df-container\">\n",
              "    <button class=\"colab-df-convert\" onclick=\"convertToInteractive('df-633032b6-814a-461e-bdc8-d6b1879fa03b')\"\n",
              "            title=\"Convert this dataframe to an interactive table.\"\n",
              "            style=\"display:none;\">\n",
              "\n",
              "  <svg xmlns=\"http://www.w3.org/2000/svg\" height=\"24px\" viewBox=\"0 -960 960 960\">\n",
              "    <path d=\"M120-120v-720h720v720H120Zm60-500h600v-160H180v160Zm220 220h160v-160H400v160Zm0 220h160v-160H400v160ZM180-400h160v-160H180v160Zm440 0h160v-160H620v160ZM180-180h160v-160H180v160Zm440 0h160v-160H620v160Z\"/>\n",
              "  </svg>\n",
              "    </button>\n",
              "\n",
              "  <style>\n",
              "    .colab-df-container {\n",
              "      display:flex;\n",
              "      gap: 12px;\n",
              "    }\n",
              "\n",
              "    .colab-df-convert {\n",
              "      background-color: #E8F0FE;\n",
              "      border: none;\n",
              "      border-radius: 50%;\n",
              "      cursor: pointer;\n",
              "      display: none;\n",
              "      fill: #1967D2;\n",
              "      height: 32px;\n",
              "      padding: 0 0 0 0;\n",
              "      width: 32px;\n",
              "    }\n",
              "\n",
              "    .colab-df-convert:hover {\n",
              "      background-color: #E2EBFA;\n",
              "      box-shadow: 0px 1px 2px rgba(60, 64, 67, 0.3), 0px 1px 3px 1px rgba(60, 64, 67, 0.15);\n",
              "      fill: #174EA6;\n",
              "    }\n",
              "\n",
              "    .colab-df-buttons div {\n",
              "      margin-bottom: 4px;\n",
              "    }\n",
              "\n",
              "    [theme=dark] .colab-df-convert {\n",
              "      background-color: #3B4455;\n",
              "      fill: #D2E3FC;\n",
              "    }\n",
              "\n",
              "    [theme=dark] .colab-df-convert:hover {\n",
              "      background-color: #434B5C;\n",
              "      box-shadow: 0px 1px 3px 1px rgba(0, 0, 0, 0.15);\n",
              "      filter: drop-shadow(0px 1px 2px rgba(0, 0, 0, 0.3));\n",
              "      fill: #FFFFFF;\n",
              "    }\n",
              "  </style>\n",
              "\n",
              "    <script>\n",
              "      const buttonEl =\n",
              "        document.querySelector('#df-633032b6-814a-461e-bdc8-d6b1879fa03b button.colab-df-convert');\n",
              "      buttonEl.style.display =\n",
              "        google.colab.kernel.accessAllowed ? 'block' : 'none';\n",
              "\n",
              "      async function convertToInteractive(key) {\n",
              "        const element = document.querySelector('#df-633032b6-814a-461e-bdc8-d6b1879fa03b');\n",
              "        const dataTable =\n",
              "          await google.colab.kernel.invokeFunction('convertToInteractive',\n",
              "                                                    [key], {});\n",
              "        if (!dataTable) return;\n",
              "\n",
              "        const docLinkHtml = 'Like what you see? Visit the ' +\n",
              "          '<a target=\"_blank\" href=https://colab.research.google.com/notebooks/data_table.ipynb>data table notebook</a>'\n",
              "          + ' to learn more about interactive tables.';\n",
              "        element.innerHTML = '';\n",
              "        dataTable['output_type'] = 'display_data';\n",
              "        await google.colab.output.renderOutput(dataTable, element);\n",
              "        const docLink = document.createElement('div');\n",
              "        docLink.innerHTML = docLinkHtml;\n",
              "        element.appendChild(docLink);\n",
              "      }\n",
              "    </script>\n",
              "  </div>\n",
              "\n",
              "\n",
              "<div id=\"df-5e1561fe-9afc-46d5-9956-00e126731af8\">\n",
              "  <button class=\"colab-df-quickchart\" onclick=\"quickchart('df-5e1561fe-9afc-46d5-9956-00e126731af8')\"\n",
              "            title=\"Suggest charts\"\n",
              "            style=\"display:none;\">\n",
              "\n",
              "<svg xmlns=\"http://www.w3.org/2000/svg\" height=\"24px\"viewBox=\"0 0 24 24\"\n",
              "     width=\"24px\">\n",
              "    <g>\n",
              "        <path d=\"M19 3H5c-1.1 0-2 .9-2 2v14c0 1.1.9 2 2 2h14c1.1 0 2-.9 2-2V5c0-1.1-.9-2-2-2zM9 17H7v-7h2v7zm4 0h-2V7h2v10zm4 0h-2v-4h2v4z\"/>\n",
              "    </g>\n",
              "</svg>\n",
              "  </button>\n",
              "\n",
              "<style>\n",
              "  .colab-df-quickchart {\n",
              "      --bg-color: #E8F0FE;\n",
              "      --fill-color: #1967D2;\n",
              "      --hover-bg-color: #E2EBFA;\n",
              "      --hover-fill-color: #174EA6;\n",
              "      --disabled-fill-color: #AAA;\n",
              "      --disabled-bg-color: #DDD;\n",
              "  }\n",
              "\n",
              "  [theme=dark] .colab-df-quickchart {\n",
              "      --bg-color: #3B4455;\n",
              "      --fill-color: #D2E3FC;\n",
              "      --hover-bg-color: #434B5C;\n",
              "      --hover-fill-color: #FFFFFF;\n",
              "      --disabled-bg-color: #3B4455;\n",
              "      --disabled-fill-color: #666;\n",
              "  }\n",
              "\n",
              "  .colab-df-quickchart {\n",
              "    background-color: var(--bg-color);\n",
              "    border: none;\n",
              "    border-radius: 50%;\n",
              "    cursor: pointer;\n",
              "    display: none;\n",
              "    fill: var(--fill-color);\n",
              "    height: 32px;\n",
              "    padding: 0;\n",
              "    width: 32px;\n",
              "  }\n",
              "\n",
              "  .colab-df-quickchart:hover {\n",
              "    background-color: var(--hover-bg-color);\n",
              "    box-shadow: 0 1px 2px rgba(60, 64, 67, 0.3), 0 1px 3px 1px rgba(60, 64, 67, 0.15);\n",
              "    fill: var(--button-hover-fill-color);\n",
              "  }\n",
              "\n",
              "  .colab-df-quickchart-complete:disabled,\n",
              "  .colab-df-quickchart-complete:disabled:hover {\n",
              "    background-color: var(--disabled-bg-color);\n",
              "    fill: var(--disabled-fill-color);\n",
              "    box-shadow: none;\n",
              "  }\n",
              "\n",
              "  .colab-df-spinner {\n",
              "    border: 2px solid var(--fill-color);\n",
              "    border-color: transparent;\n",
              "    border-bottom-color: var(--fill-color);\n",
              "    animation:\n",
              "      spin 1s steps(1) infinite;\n",
              "  }\n",
              "\n",
              "  @keyframes spin {\n",
              "    0% {\n",
              "      border-color: transparent;\n",
              "      border-bottom-color: var(--fill-color);\n",
              "      border-left-color: var(--fill-color);\n",
              "    }\n",
              "    20% {\n",
              "      border-color: transparent;\n",
              "      border-left-color: var(--fill-color);\n",
              "      border-top-color: var(--fill-color);\n",
              "    }\n",
              "    30% {\n",
              "      border-color: transparent;\n",
              "      border-left-color: var(--fill-color);\n",
              "      border-top-color: var(--fill-color);\n",
              "      border-right-color: var(--fill-color);\n",
              "    }\n",
              "    40% {\n",
              "      border-color: transparent;\n",
              "      border-right-color: var(--fill-color);\n",
              "      border-top-color: var(--fill-color);\n",
              "    }\n",
              "    60% {\n",
              "      border-color: transparent;\n",
              "      border-right-color: var(--fill-color);\n",
              "    }\n",
              "    80% {\n",
              "      border-color: transparent;\n",
              "      border-right-color: var(--fill-color);\n",
              "      border-bottom-color: var(--fill-color);\n",
              "    }\n",
              "    90% {\n",
              "      border-color: transparent;\n",
              "      border-bottom-color: var(--fill-color);\n",
              "    }\n",
              "  }\n",
              "</style>\n",
              "\n",
              "  <script>\n",
              "    async function quickchart(key) {\n",
              "      const quickchartButtonEl =\n",
              "        document.querySelector('#' + key + ' button');\n",
              "      quickchartButtonEl.disabled = true;  // To prevent multiple clicks.\n",
              "      quickchartButtonEl.classList.add('colab-df-spinner');\n",
              "      try {\n",
              "        const charts = await google.colab.kernel.invokeFunction(\n",
              "            'suggestCharts', [key], {});\n",
              "      } catch (error) {\n",
              "        console.error('Error during call to suggestCharts:', error);\n",
              "      }\n",
              "      quickchartButtonEl.classList.remove('colab-df-spinner');\n",
              "      quickchartButtonEl.classList.add('colab-df-quickchart-complete');\n",
              "    }\n",
              "    (() => {\n",
              "      let quickchartButtonEl =\n",
              "        document.querySelector('#df-5e1561fe-9afc-46d5-9956-00e126731af8 button');\n",
              "      quickchartButtonEl.style.display =\n",
              "        google.colab.kernel.accessAllowed ? 'block' : 'none';\n",
              "    })();\n",
              "  </script>\n",
              "</div>\n",
              "\n",
              "    </div>\n",
              "  </div>\n"
            ],
            "application/vnd.google.colaboratory.intrinsic+json": {
              "type": "dataframe",
              "variable_name": "data",
              "summary": "{\n  \"name\": \"data\",\n  \"rows\": 51449,\n  \"fields\": [\n    {\n      \"column\": \"winner\",\n      \"properties\": {\n        \"dtype\": \"number\",\n        \"std\": 0,\n        \"min\": 1,\n        \"max\": 2,\n        \"num_unique_values\": 2,\n        \"samples\": [\n          2,\n          1\n        ],\n        \"semantic_type\": \"\",\n        \"description\": \"\"\n      }\n    },\n    {\n      \"column\": \"firstBlood\",\n      \"properties\": {\n        \"dtype\": \"number\",\n        \"std\": 0,\n        \"min\": 0,\n        \"max\": 2,\n        \"num_unique_values\": 3,\n        \"samples\": [\n          2,\n          1\n        ],\n        \"semantic_type\": \"\",\n        \"description\": \"\"\n      }\n    },\n    {\n      \"column\": \"firstTower\",\n      \"properties\": {\n        \"dtype\": \"number\",\n        \"std\": 0,\n        \"min\": 0,\n        \"max\": 2,\n        \"num_unique_values\": 3,\n        \"samples\": [\n          1,\n          2\n        ],\n        \"semantic_type\": \"\",\n        \"description\": \"\"\n      }\n    },\n    {\n      \"column\": \"firstInhibitor\",\n      \"properties\": {\n        \"dtype\": \"number\",\n        \"std\": 0,\n        \"min\": 0,\n        \"max\": 2,\n        \"num_unique_values\": 3,\n        \"samples\": [\n          1,\n          0\n        ],\n        \"semantic_type\": \"\",\n        \"description\": \"\"\n      }\n    },\n    {\n      \"column\": \"firstBaron\",\n      \"properties\": {\n        \"dtype\": \"number\",\n        \"std\": 0,\n        \"min\": 0,\n        \"max\": 2,\n        \"num_unique_values\": 3,\n        \"samples\": [\n          1,\n          0\n        ],\n        \"semantic_type\": \"\",\n        \"description\": \"\"\n      }\n    },\n    {\n      \"column\": \"firstDragon\",\n      \"properties\": {\n        \"dtype\": \"number\",\n        \"std\": 0,\n        \"min\": 0,\n        \"max\": 2,\n        \"num_unique_values\": 3,\n        \"samples\": [\n          1,\n          2\n        ],\n        \"semantic_type\": \"\",\n        \"description\": \"\"\n      }\n    },\n    {\n      \"column\": \"firstRiftHerald\",\n      \"properties\": {\n        \"dtype\": \"number\",\n        \"std\": 0,\n        \"min\": 0,\n        \"max\": 2,\n        \"num_unique_values\": 3,\n        \"samples\": [\n          2,\n          1\n        ],\n        \"semantic_type\": \"\",\n        \"description\": \"\"\n      }\n    },\n    {\n      \"column\": \"t1_towerKills\",\n      \"properties\": {\n        \"dtype\": \"number\",\n        \"std\": 3,\n        \"min\": 0,\n        \"max\": 11,\n        \"num_unique_values\": 12,\n        \"samples\": [\n          2,\n          5\n        ],\n        \"semantic_type\": \"\",\n        \"description\": \"\"\n      }\n    },\n    {\n      \"column\": \"t1_inhibitorKills\",\n      \"properties\": {\n        \"dtype\": \"number\",\n        \"std\": 1,\n        \"min\": 0,\n        \"max\": 10,\n        \"num_unique_values\": 11,\n        \"samples\": [\n          3,\n          1\n        ],\n        \"semantic_type\": \"\",\n        \"description\": \"\"\n      }\n    },\n    {\n      \"column\": \"t1_baronKills\",\n      \"properties\": {\n        \"dtype\": \"number\",\n        \"std\": 0,\n        \"min\": 0,\n        \"max\": 5,\n        \"num_unique_values\": 6,\n        \"samples\": [\n          2,\n          0\n        ],\n        \"semantic_type\": \"\",\n        \"description\": \"\"\n      }\n    },\n    {\n      \"column\": \"t1_dragonKills\",\n      \"properties\": {\n        \"dtype\": \"number\",\n        \"std\": 1,\n        \"min\": 0,\n        \"max\": 6,\n        \"num_unique_values\": 7,\n        \"samples\": [\n          3,\n          2\n        ],\n        \"semantic_type\": \"\",\n        \"description\": \"\"\n      }\n    },\n    {\n      \"column\": \"t2_towerKills\",\n      \"properties\": {\n        \"dtype\": \"number\",\n        \"std\": 3,\n        \"min\": 0,\n        \"max\": 11,\n        \"num_unique_values\": 12,\n        \"samples\": [\n          1,\n          7\n        ],\n        \"semantic_type\": \"\",\n        \"description\": \"\"\n      }\n    },\n    {\n      \"column\": \"t2_inhibitorKills\",\n      \"properties\": {\n        \"dtype\": \"number\",\n        \"std\": 1,\n        \"min\": 0,\n        \"max\": 10,\n        \"num_unique_values\": 11,\n        \"samples\": [\n          5,\n          0\n        ],\n        \"semantic_type\": \"\",\n        \"description\": \"\"\n      }\n    },\n    {\n      \"column\": \"t2_baronKills\",\n      \"properties\": {\n        \"dtype\": \"number\",\n        \"std\": 0,\n        \"min\": 0,\n        \"max\": 4,\n        \"num_unique_values\": 5,\n        \"samples\": [\n          1,\n          4\n        ],\n        \"semantic_type\": \"\",\n        \"description\": \"\"\n      }\n    },\n    {\n      \"column\": \"t2_dragonKills\",\n      \"properties\": {\n        \"dtype\": \"number\",\n        \"std\": 1,\n        \"min\": 0,\n        \"max\": 6,\n        \"num_unique_values\": 7,\n        \"samples\": [\n          1,\n          0\n        ],\n        \"semantic_type\": \"\",\n        \"description\": \"\"\n      }\n    }\n  ]\n}"
            }
          },
          "metadata": {},
          "execution_count": 6
        }
      ],
      "source": [
        "data.head()"
      ]
    },
    {
      "source": [
        "# @title firstBlood\n",
        "\n",
        "from matplotlib import pyplot as plt\n",
        "data['firstBlood'].plot(kind='hist', bins=20, title='firstBlood')\n",
        "plt.gca().spines[['top', 'right',]].set_visible(False)"
      ],
      "cell_type": "code",
      "execution_count": null,
      "outputs": [
        {
          "output_type": "display_data",
          "data": {
            "text/plain": [
              "<Figure size 640x480 with 1 Axes>"
            ],
            "image/png": "[encoded data removed]"
          },
          "metadata": {}
        }
      ],
      "metadata": {
        "colab": {
          "base_uri": "https://localhost:8080/",
          "height": 452
        },
        "id": "bOpEiifPsoQx",
        "outputId": "28eeb073-ef08-486d-c358-5f775d1c15b1"
      }
    },
    {
      "cell_type": "markdown",
      "metadata": {
        "id": "CK6LeSB_qYgb"
      },
      "source": [
        "Now let's check the data set for missing data."
      ]
    },
    {
      "cell_type": "code",
      "execution_count": null,
      "metadata": {
        "_kg_hide-input": true,
        "colab": {
          "base_uri": "https://localhost:8080/",
          "height": 698
        },
        "id": "vBEH4B3MqYgb",
        "outputId": "5d169a2e-cc33-4001-d145-55ae9fc62590"
      },
      "outputs": [
        {
          "output_type": "display_data",
          "data": {
            "text/plain": [
              "<Figure size 2500x1000 with 3 Axes>"
            ],
            "image/png": "[encoded data removed]"
          },
          "metadata": {}
        }
      ],
      "source": [
        "import missingno as msno\n",
        "msno.bar(data)\n",
        "plt.show()"
      ]
    },
    {
      "cell_type": "code",
      "execution_count": null,
      "metadata": {
        "_kg_hide-input": true,
        "id": "1BM4Q6q-qYgb"
      },
      "outputs": [],
      "source": [
        "first_team=data[data.winner==1]\n",
        "second_team=data[data.winner==2]"
      ]
    },
    {
      "cell_type": "markdown",
      "metadata": {
        "id": "W2fHoojGqYgc"
      },
      "source": [
        "Following subplots shows probabilities of Different Features when a team wins.\n",
        "\n",
        "For example\n",
        "\n",
        "In matches with first team win:\n",
        "\n",
        "- The probability of taking first blood of first team is about %59.\n",
        "- The probability of taking first blood of second team is about %39.\n",
        "- The probability of taking first blood of any team is about %0.98 (early surrender)\n",
        "\n",
        "In matches with second team win:\n",
        "\n",
        "- The probability of taking first blood of first team is about %41.\n",
        "- The probability of taking first blood of second team is about %57.\n",
        "- The probability of taking first blood of any team is about %0.1 (early surrender)\n",
        "\n",
        "etc..\n",
        "\n",
        "and also we see that the most important factor in winning matches is to take the **first inhibitor** or the **first tower**."
      ]
    },
    {
      "cell_type": "code",
      "execution_count": null,
      "metadata": {
        "_kg_hide-input": true,
        "colab": {
          "base_uri": "https://localhost:8080/",
          "height": 817
        },
        "id": "DdfhREKCqYgc",
        "outputId": "2a055f8a-c325-4515-e6b4-3d8eb61e8998"
      },
      "outputs": [
        {
          "output_type": "display_data",
          "data": {
            "application/vnd.plotly.v1+json": {
              "data": [
                {
                  "histnorm": "probability",
                  "marker": {
                    "color": "crimson",
                    "line": {
                      "color": "black",
                      "width": 2
                    }
                  },
                  "opacity": 0.75,
                  "text": [
                    "0-None",
                    "1- First Team",
                    "2- Second Team"
                  ],
                  "x": [
                    0,
                    1,
                    2,
                    1
                  ],
                  "xaxis": "x",
                  "yaxis": "y",
                  "type": "histogram"
                },
                {
                  "histnorm": "probability",
                  "marker": {
                    "color": "grey",
                    "line": {
                      "color": "black",
                      "width": 2
                    }
                  },
                  "opacity": 0.75,
                  "text": [
                    "0-None",
                    "1- First Team",
                    "2- Second Team"
                  ],
                  "x": [
                    1,
                    0,
                    2,
                    1
                  ],
                  "xaxis": "x2",
                  "yaxis": "y2",
                  "type": "histogram"
                },
                {
                  "histnorm": "probability",
                  "marker": {
                    "color": "pink",
                    "line": {
                      "color": "black",
                      "width": 2
                    }
                  },
                  "opacity": 0.75,
                  "text": [
                    "0-None",
                    "1- First Team",
                    "2- Second Team"
                  ],
                  "x": [
                    2,
                    1,
                    0,
                    1
                  ],
                  "xaxis": "x3",
                  "yaxis": "y3",
                  "type": "histogram"
                },
                {
                  "histnorm": "probability",
                  "marker": {
                    "color": "purple",
                    "line": {
                      "color": "black",
                      "width": 2
                    }
                  },
                  "opacity": 0.75,
                  "text": [
                    "0-None",
                    "1- First Team",
                    "2- Second Team"
                  ],
                  "x": [
                    0,
                    2,
                    1,
                    2
                  ],
                  "xaxis": "x4",
                  "yaxis": "y4",
                  "type": "histogram"
                },
                {
                  "histnorm": "probability",
                  "marker": {
                    "color": "brown",
                    "line": {
                      "color": "black",
                      "width": 2
                    }
                  },
                  "opacity": 0.75,
                  "text": [
                    "0-None",
                    "1- First Team",
                    "2- Second Team"
                  ],
                  "x": [
                    1,
                    1,
                    2,
                    0
                  ],
                  "xaxis": "x5",
                  "yaxis": "y5",
                  "type": "histogram"
                },
                {
                  "histnorm": "probability",
                  "marker": {
                    "color": "orange",
                    "line": {
                      "color": "black",
                      "width": 2
                    }
                  },
                  "opacity": 0.75,
                  "text": [
                    "0-None",
                    "1- First Team",
                    "2- Second Team"
                  ],
                  "x": [
                    2,
                    0,
                    1,
                    2
                  ],
                  "xaxis": "x6",
                  "yaxis": "y6",
                  "type": "histogram"
                },
                {
                  "histnorm": "probability",
                  "marker": {
                    "color": "blue",
                    "line": {
                      "color": "black",
                      "width": 2
                    }
                  },
                  "opacity": 0.7,
                  "text": [
                    "0-None",
                    "1- First Team",
                    "2- Second Team"
                  ],
                  "x": [
                    1,
                    2,
                    0,
                    2
                  ],
                  "xaxis": "x7",
                  "yaxis": "y7",
                  "type": "histogram"
                },
                {
                  "histnorm": "probability",
                  "marker": {
                    "color": "yellow",
                    "line": {
                      "color": "black",
                      "width": 2
                    }
                  },
                  "opacity": 0.7,
                  "text": [
                    "0-None",
                    "1- First Team",
                    "2- Second Team"
                  ],
                  "x": [
                    2,
                    1,
                    0,
                    2
                  ],
                  "xaxis": "x8",
                  "yaxis": "y8",
                  "type": "histogram"
                },
                {
                  "histnorm": "probability",
                  "marker": {
                    "color": "green",
                    "line": {
                      "color": "black",
                      "width": 2
                    }
                  },
                  "opacity": 0.7,
                  "text": [
                    "0-None",
                    "1- First Team",
                    "2- Second Team"
                  ],
                  "x": [
                    0,
                    2,
                    1,
                    2
                  ],
                  "xaxis": "x9",
                  "yaxis": "y9",
                  "type": "histogram"
                },
                {
                  "histnorm": "probability",
                  "marker": {
                    "color": "slateblue",
                    "line": {
                      "color": "black",
                      "width": 2
                    }
                  },
                  "opacity": 0.7,
                  "text": [
                    "0-None",
                    "1- First Team",
                    "2- Second Team"
                  ],
                  "x": [
                    1,
                    0,
                    2,
                    1
                  ],
                  "xaxis": "x10",
                  "yaxis": "y10",
                  "type": "histogram"
                },
                {
                  "histnorm": "probability",
                  "marker": {
                    "color": "red",
                    "line": {
                      "color": "black",
                      "width": 2
                    }
                  },
                  "opacity": 0.7,
                  "text": [
                    "0-None",
                    "1- First Team",
                    "2- Second Team"
                  ],
                  "x": [
                    2,
                    0,
                    1,
                    1
                  ],
                  "xaxis": "x11",
                  "yaxis": "y11",
                  "type": "histogram"
                },
                {
                  "histnorm": "probability",
                  "marker": {
                    "color": "yellowgreen",
                    "line": {
                      "color": "black",
                      "width": 2
                    }
                  },
                  "opacity": 0.7,
                  "text": [
                    "0-None",
                    "1- First Team",
                    "2- Second Team"
                  ],
                  "x": [
                    0,
                    2,
                    1,
                    0
                  ],
                  "xaxis": "x12",
                  "yaxis": "y12",
                  "type": "histogram"
                }
              ],
              "layout": {
                "annotations": [
                  {
                    "font": {
                      "size": 15
                    },
                    "showarrow": false,
                    "text": "Teams",
                    "x": 0.5,
                    "xref": "paper",
                    "y": -0.1,
                    "yref": "paper"
                  },
                  {
                    "font": {
                      "size": 15
                    },
                    "showarrow": false,
                    "text": "Probabilities",
                    "textangle": -90,
                    "x": -0.08,
                    "xref": "paper",
                    "y": 0.5,
                    "yref": "paper"
                  },
                  {
                    "font": {
                      "size": 10
                    },
                    "showarrow": false,
                    "text": "First Blood When First Team Wins",
                    "x": 0.13,
                    "xref": "paper",
                    "y": 1,
                    "yref": "paper"
                  },
                  {
                    "font": {
                      "size": 10
                    },
                    "showarrow": false,
                    "text": "First Tower When Second Team Wins",
                    "x": 0.88,
                    "xref": "paper",
                    "y": 1,
                    "yref": "paper"
                  },
                  {
                    "font": {
                      "size": 10
                    },
                    "showarrow": false,
                    "text": "First Baron When First Team Wins",
                    "x": 0.13,
                    "xref": "paper",
                    "y": 0.85,
                    "yref": "paper"
                  },
                  {
                    "font": {
                      "size": 10
                    },
                    "showarrow": false,
                    "text": "First Inhibitor When Second Team Wins",
                    "x": 0.88,
                    "xref": "paper",
                    "y": 0.85,
                    "yref": "paper"
                  },
                  {
                    "font": {
                      "size": 10
                    },
                    "showarrow": false,
                    "text": "First Dragon When First Team Wins",
                    "x": 0.13,
                    "xref": "paper",
                    "y": 0.7,
                    "yref": "paper"
                  },
                  {
                    "font": {
                      "size": 10
                    },
                    "showarrow": false,
                    "text": "First Rift Herald When Second Team Wins",
                    "x": 0.88,
                    "xref": "paper",
                    "y": 0.7,
                    "yref": "paper"
                  },
                  {
                    "font": {
                      "size": 10
                    },
                    "showarrow": false,
                    "text": "First Blood When First Team Wins",
                    "x": 0.13,
                    "xref": "paper",
                    "y": 0.55,
                    "yref": "paper"
                  },
                  {
                    "font": {
                      "size": 10
                    },
                    "showarrow": false,
                    "text": "First Tower When Second Team Wins",
                    "x": 0.88,
                    "xref": "paper",
                    "y": 0.55,
                    "yref": "paper"
                  },
                  {
                    "font": {
                      "size": 10
                    },
                    "showarrow": false,
                    "text": "First Baron When First Team Wins",
                    "x": 0.13,
                    "xref": "paper",
                    "y": 0.4,
                    "yref": "paper"
                  },
                  {
                    "font": {
                      "size": 10
                    },
                    "showarrow": false,
                    "text": "First Inhibitor When Second Team Wins",
                    "x": 0.88,
                    "xref": "paper",
                    "y": 0.4,
                    "yref": "paper"
                  },
                  {
                    "font": {
                      "size": 10
                    },
                    "showarrow": false,
                    "text": "First Dragon When First Team Wins",
                    "x": 0.13,
                    "xref": "paper",
                    "y": 0.25,
                    "yref": "paper"
                  },
                  {
                    "font": {
                      "size": 10
                    },
                    "showarrow": false,
                    "text": "First Rift Herald When Second Team Wins",
                    "x": 0.88,
                    "xref": "paper",
                    "y": 0.25,
                    "yref": "paper"
                  }
                ],
                "bargap": 0.4,
                "bargroupgap": 0.1,
                "font": {
                  "family": "Franklin Gothic",
                  "size": 10
                },
                "height": 800,
                "paper_bgcolor": "rgb(243, 243, 243)",
                "plot_bgcolor": "snow",
                "showlegend": false,
                "template": {
                  "data": {
                    "barpolar": [
                      {
                        "marker": {
                          "line": {
                            "color": "#E5ECF6",
                            "width": 0.5
                          },
                          "pattern": {
                            "fillmode": "overlay",
                            "size": 10,
                            "solidity": 0.2
                          }
                        },
                        "type": "barpolar"
                      }
                    ],
                    "bar": [
                      {
                        "error_x": {
                          "color": "#2a3f5f"
                        },
                        "error_y": {
                          "color": "#2a3f5f"
                        },
                        "marker": {
                          "line": {
                            "color": "#E5ECF6",
                            "width": 0.5
                          },
                          "pattern": {
                            "fillmode": "overlay",
                            "size": 10,
                            "solidity": 0.2
                          }
                        },
                        "type": "bar"
                      }
                    ],
                    "carpet": [
                      {
                        "aaxis": {
                          "endlinecolor": "#2a3f5f",
                          "gridcolor": "white",
                          "linecolor": "white",
                          "minorgridcolor": "white",
                          "startlinecolor": "#2a3f5f"
                        },
                        "baxis": {
                          "endlinecolor": "#2a3f5f",
                          "gridcolor": "white",
                          "linecolor": "white",
                          "minorgridcolor": "white",
                          "startlinecolor": "#2a3f5f"
                        },
                        "type": "carpet"
                      }
                    ],
                    "choropleth": [
                      {
                        "colorbar": {
                          "outlinewidth": 0,
                          "ticks": ""
                        },
                        "type": "choropleth"
                      }
                    ],
                    "contourcarpet": [
                      {
                        "colorbar": {
                          "outlinewidth": 0,
                          "ticks": ""
                        },
                        "type": "contourcarpet"
                      }
                    ],
                    "contour": [
                      {
                        "colorbar": {
                          "outlinewidth": 0,
                          "ticks": ""
                        },
                        "colorscale": [
                          [
                            0,
                            "#0d0887"
                          ],
                          [
                            0.1111111111111111,
                            "#46039f"
                          ],
                          [
                            0.2222222222222222,
                            "#7201a8"
                          ],
                          [
                            0.3333333333333333,
                            "#9c179e"
                          ],
                          [
                            0.4444444444444444,
                            "#bd3786"
                          ],
                          [
                            0.5555555555555556,
                            "#d8576b"
                          ],
                          [
                            0.6666666666666666,
                            "#ed7953"
                          ],
                          [
                            0.7777777777777778,
                            "#fb9f3a"
                          ],
                          [
                            0.8888888888888888,
                            "#fdca26"
                          ],
                          [
                            1,
                            "#f0f921"
                          ]
                        ],
                        "type": "contour"
                      }
                    ],
                    "heatmapgl": [
                      {
                        "colorbar": {
                          "outlinewidth": 0,
                          "ticks": ""
                        },
                        "colorscale": [
                          [
                            0,
                            "#0d0887"
                          ],
                          [
                            0.1111111111111111,
                            "#46039f"
                          ],
                          [
                            0.2222222222222222,
                            "#7201a8"
                          ],
                          [
                            0.3333333333333333,
                            "#9c179e"
                          ],
                          [
                            0.4444444444444444,
                            "#bd3786"
                          ],
                          [
                            0.5555555555555556,
                            "#d8576b"
                          ],
                          [
                            0.6666666666666666,
                            "#ed7953"
                          ],
                          [
                            0.7777777777777778,
                            "#fb9f3a"
                          ],
                          [
                            0.8888888888888888,
                            "#fdca26"
                          ],
                          [
                            1,
                            "#f0f921"
                          ]
                        ],
                        "type": "heatmapgl"
                      }
                    ],
                    "heatmap": [
                      {
                        "colorbar": {
                          "outlinewidth": 0,
                          "ticks": ""
                        },
                        "colorscale": [
                          [
                            0,
                            "#0d0887"
                          ],
                          [
                            0.1111111111111111,
                            "#46039f"
                          ],
                          [
                            0.2222222222222222,
                            "#7201a8"
                          ],
                          [
                            0.3333333333333333,
                            "#9c179e"
                          ],
                          [
                            0.4444444444444444,
                            "#bd3786"
                          ],
                          [
                            0.5555555555555556,
                            "#d8576b"
                          ],
                          [
                            0.6666666666666666,
                            "#ed7953"
                          ],
                          [
                            0.7777777777777778,
                            "#fb9f3a"
                          ],
                          [
                            0.8888888888888888,
                            "#fdca26"
                          ],
                          [
                            1,
                            "#f0f921"
                          ]
                        ],
                        "type": "heatmap"
                      }
                    ],
                    "histogram2dcontour": [
                      {
                        "colorbar": {
                          "outlinewidth": 0,
                          "ticks": ""
                        },
                        "colorscale": [
                          [
                            0,
                            "#0d0887"
                          ],
                          [
                            0.1111111111111111,
                            "#46039f"
                          ],
                          [
                            0.2222222222222222,
                            "#7201a8"
                          ],
                          [
                            0.3333333333333333,
                            "#9c179e"
                          ],
                          [
                            0.4444444444444444,
                            "#bd3786"
                          ],
                          [
                            0.5555555555555556,
                            "#d8576b"
                          ],
                          [
                            0.6666666666666666,
                            "#ed7953"
                          ],
                          [
                            0.7777777777777778,
                            "#fb9f3a"
                          ],
                          [
                            0.8888888888888888,
                            "#fdca26"
                          ],
                          [
                            1,
                            "#f0f921"
                          ]
                        ],
                        "type": "histogram2dcontour"
                      }
                    ],
                    "histogram2d": [
                      {
                        "colorbar": {
                          "outlinewidth": 0,
                          "ticks": ""
                        },
                        "colorscale": [
                          [
                            0,
                            "#0d0887"
                          ],
                          [
                            0.1111111111111111,
                            "#46039f"
                          ],
                          [
                            0.2222222222222222,
                            "#7201a8"
                          ],
                          [
                            0.3333333333333333,
                            "#9c179e"
                          ],
                          [
                            0.4444444444444444,
                            "#bd3786"
                          ],
                          [
                            0.5555555555555556,
                            "#d8576b"
                          ],
                          [
                            0.6666666666666666,
                            "#ed7953"
                          ],
                          [
                            0.7777777777777778,
                            "#fb9f3a"
                          ],
                          [
                            0.8888888888888888,
                            "#fdca26"
                          ],
                          [
                            1,
                            "#f0f921"
                          ]
                        ],
                        "type": "histogram2d"
                      }
                    ],
                    "histogram": [
                      {
                        "marker": {
                          "pattern": {
                            "fillmode": "overlay",
                            "size": 10,
                            "solidity": 0.2
                          }
                        },
                        "type": "histogram"
                      }
                    ],
                    "mesh3d": [
                      {
                        "colorbar": {
                          "outlinewidth": 0,
                          "ticks": ""
                        },
                        "type": "mesh3d"
                      }
                    ],
                    "parcoords": [
                      {
                        "line": {
                          "colorbar": {
                            "outlinewidth": 0,
                            "ticks": ""
                          }
                        },
                        "type": "parcoords"
                      }
                    ],
                    "pie": [
                      {
                        "automargin": true,
                        "type": "pie"
                      }
                    ],
                    "scatter3d": [
                      {
                        "line": {
                          "colorbar": {
                            "outlinewidth": 0,
                            "ticks": ""
                          }
                        },
                        "marker": {
                          "colorbar": {
                            "outlinewidth": 0,
                            "ticks": ""
                          }
                        },
                        "type": "scatter3d"
                      }
                    ],
                    "scattercarpet": [
                      {
                        "marker": {
                          "colorbar": {
                            "outlinewidth": 0,
                            "ticks": ""
                          }
                        },
                        "type": "scattercarpet"
                      }
                    ],
                    "scattergeo": [
                      {
                        "marker": {
                          "colorbar": {
                            "outlinewidth": 0,
                            "ticks": ""
                          }
                        },
                        "type": "scattergeo"
                      }
                    ],
                    "scattergl": [
                      {
                        "marker": {
                          "colorbar": {
                            "outlinewidth": 0,
                            "ticks": ""
                          }
                        },
                        "type": "scattergl"
                      }
                    ],
                    "scattermapbox": [
                      {
                        "marker": {
                          "colorbar": {
                            "outlinewidth": 0,
                            "ticks": ""
                          }
                        },
                        "type": "scattermapbox"
                      }
                    ],
                    "scatterpolargl": [
                      {
                        "marker": {
                          "colorbar": {
                            "outlinewidth": 0,
                            "ticks": ""
                          }
                        },
                        "type": "scatterpolargl"
                      }
                    ],
                    "scatterpolar": [
                      {
                        "marker": {
                          "colorbar": {
                            "outlinewidth": 0,
                            "ticks": ""
                          }
                        },
                        "type": "scatterpolar"
                      }
                    ],
                    "scatter": [
                      {
                        "fillpattern": {
                          "fillmode": "overlay",
                          "size": 10,
                          "solidity": 0.2
                        },
                        "type": "scatter"
                      }
                    ],
                    "scatterternary": [
                      {
                        "marker": {
                          "colorbar": {
                            "outlinewidth": 0,
                            "ticks": ""
                          }
                        },
                        "type": "scatterternary"
                      }
                    ],
                    "surface": [
                      {
                        "colorbar": {
                          "outlinewidth": 0,
                          "ticks": ""
                        },
                        "colorscale": [
                          [
                            0,
                            "#0d0887"
                          ],
                          [
                            0.1111111111111111,
                            "#46039f"
                          ],
                          [
                            0.2222222222222222,
                            "#7201a8"
                          ],
                          [
                            0.3333333333333333,
                            "#9c179e"
                          ],
                          [
                            0.4444444444444444,
                            "#bd3786"
                          ],
                          [
                            0.5555555555555556,
                            "#d8576b"
                          ],
                          [
                            0.6666666666666666,
                            "#ed7953"
                          ],
                          [
                            0.7777777777777778,
                            "#fb9f3a"
                          ],
                          [
                            0.8888888888888888,
                            "#fdca26"
                          ],
                          [
                            1,
                            "#f0f921"
                          ]
                        ],
                        "type": "surface"
                      }
                    ],
                    "table": [
                      {
                        "cells": {
                          "fill": {
                            "color": "#EBF0F8"
                          },
                          "line": {
                            "color": "white"
                          }
                        },
                        "header": {
                          "fill": {
                            "color": "#C8D4E3"
                          },
                          "line": {
                            "color": "white"
                          }
                        },
                        "type": "table"
                      }
                    ]
                  },
                  "layout": {
                    "annotationdefaults": {
                      "arrowcolor": "#2a3f5f",
                      "arrowhead": 0,
                      "arrowwidth": 1
                    },
                    "autotypenumbers": "strict",
                    "coloraxis": {
                      "colorbar": {
                        "outlinewidth": 0,
                        "ticks": ""
                      }
                    },
                    "colorscale": {
                      "diverging": [
                        [
                          0,
                          "#8e0152"
                        ],
                        [
                          0.1,
                          "#c51b7d"
                        ],
                        [
                          0.2,
                          "#de77ae"
                        ],
                        [
                          0.3,
                          "#f1b6da"
                        ],
                        [
                          0.4,
                          "#fde0ef"
                        ],
                        [
                          0.5,
                          "#f7f7f7"
                        ],
                        [
                          0.6,
                          "#e6f5d0"
                        ],
                        [
                          0.7,
                          "#b8e186"
                        ],
                        [
                          0.8,
                          "#7fbc41"
                        ],
                        [
                          0.9,
                          "#4d9221"
                        ],
                        [
                          1,
                          "#276419"
                        ]
                      ],
                      "sequential": [
                        [
                          0,
                          "#0d0887"
                        ],
                        [
                          0.1111111111111111,
                          "#46039f"
                        ],
                        [
                          0.2222222222222222,
                          "#7201a8"
                        ],
                        [
                          0.3333333333333333,
                          "#9c179e"
                        ],
                        [
                          0.4444444444444444,
                          "#bd3786"
                        ],
                        [
                          0.5555555555555556,
                          "#d8576b"
                        ],
                        [
                          0.6666666666666666,
                          "#ed7953"
                        ],
                        [
                          0.7777777777777778,
                          "#fb9f3a"
                        ],
                        [
                          0.8888888888888888,
                          "#fdca26"
                        ],
                        [
                          1,
                          "#f0f921"
                        ]
                      ],
                      "sequentialminus": [
                        [
                          0,
                          "#0d0887"
                        ],
                        [
                          0.1111111111111111,
                          "#46039f"
                        ],
                        [
                          0.2222222222222222,
                          "#7201a8"
                        ],
                        [
                          0.3333333333333333,
                          "#9c179e"
                        ],
                        [
                          0.4444444444444444,
                          "#bd3786"
                        ],
                        [
                          0.5555555555555556,
                          "#d8576b"
                        ],
                        [
                          0.6666666666666666,
                          "#ed7953"
                        ],
                        [
                          0.7777777777777778,
                          "#fb9f3a"
                        ],
                        [
                          0.8888888888888888,
                          "#fdca26"
                        ],
                        [
                          1,
                          "#f0f921"
                        ]
                      ]
                    },
                    "colorway": [
                      "#636efa",
                      "#EF553B",
                      "#00cc96",
                      "#ab63fa",
                      "#FFA15A",
                      "#19d3f3",
                      "#FF6692",
                      "#B6E880",
                      "#FF97FF",
                      "#FECB52"
                    ],
                    "font": {
                      "color": "#2a3f5f"
                    },
                    "geo": {
                      "bgcolor": "white",
                      "lakecolor": "white",
                      "landcolor": "#E5ECF6",
                      "showlakes": true,
                      "showland": true,
                      "subunitcolor": "white"
                    },
                    "hoverlabel": {
                      "align": "left"
                    },
                    "hovermode": "closest",
                    "mapbox": {
                      "style": "light"
                    },
                    "paper_bgcolor": "white",
                    "plot_bgcolor": "#E5ECF6",
                    "polar": {
                      "angularaxis": {
                        "gridcolor": "white",
                        "linecolor": "white",
                        "ticks": ""
                      },
                      "bgcolor": "#E5ECF6",
                      "radialaxis": {
                        "gridcolor": "white",
                        "linecolor": "white",
                        "ticks": ""
                      }
                    },
                    "scene": {
                      "xaxis": {
                        "backgroundcolor": "#E5ECF6",
                        "gridcolor": "white",
                        "gridwidth": 2,
                        "linecolor": "white",
                        "showbackground": true,
                        "ticks": "",
                        "zerolinecolor": "white"
                      },
                      "yaxis": {
                        "backgroundcolor": "#E5ECF6",
                        "gridcolor": "white",
                        "gridwidth": 2,
                        "linecolor": "white",
                        "showbackground": true,
                        "ticks": "",
                        "zerolinecolor": "white"
                      },
                      "zaxis": {
                        "backgroundcolor": "#E5ECF6",
                        "gridcolor": "white",
                        "gridwidth": 2,
                        "linecolor": "white",
                        "showbackground": true,
                        "ticks": "",
                        "zerolinecolor": "white"
                      }
                    },
                    "shapedefaults": {
                      "line": {
                        "color": "#2a3f5f"
                      }
                    },
                    "ternary": {
                      "aaxis": {
                        "gridcolor": "white",
                        "linecolor": "white",
                        "ticks": ""
                      },
                      "baxis": {
                        "gridcolor": "white",
                        "linecolor": "white",
                        "ticks": ""
                      },
                      "bgcolor": "#E5ECF6",
                      "caxis": {
                        "gridcolor": "white",
                        "linecolor": "white",
                        "ticks": ""
                      }
                    },
                    "title": {
                      "x": 0.05
                    },
                    "xaxis": {
                      "automargin": true,
                      "gridcolor": "white",
                      "linecolor": "white",
                      "ticks": "",
                      "title": {
                        "standoff": 15
                      },
                      "zerolinecolor": "white",
                      "zerolinewidth": 2
                    },
                    "yaxis": {
                      "automargin": true,
                      "gridcolor": "white",
                      "linecolor": "white",
                      "ticks": "",
                      "title": {
                        "standoff": 15
                      },
                      "zerolinecolor": "white",
                      "zerolinewidth": 2
                    }
                  }
                },
                "title": {
                  "text": "Probabilities of First Blood etc. When a Team Wins"
                },
                "xaxis": {
                  "anchor": "y",
                  "domain": [
                    0,
                    0.45
                  ]
                },
                "yaxis": {
                  "anchor": "x",
                  "domain": [
                    0.9166666666666666,
                    1
                  ]
                },
                "xaxis2": {
                  "anchor": "y2",
                  "domain": [
                    0.55,
                    1
                  ]
                },
                "yaxis2": {
                  "anchor": "x2",
                  "domain": [
                    0.9166666666666666,
                    1
                  ]
                },
                "xaxis3": {
                  "anchor": "y3",
                  "domain": [
                    0,
                    0.45
                  ]
                },
                "yaxis3": {
                  "anchor": "x3",
                  "domain": [
                    0.7333333333333334,
                    0.8166666666666668
                  ]
                },
                "xaxis4": {
                  "anchor": "y4",
                  "domain": [
                    0.55,
                    1
                  ]
                },
                "yaxis4": {
                  "anchor": "x4",
                  "domain": [
                    0.7333333333333334,
                    0.8166666666666668
                  ]
                },
                "xaxis5": {
                  "anchor": "y5",
                  "domain": [
                    0,
                    0.45
                  ]
                },
                "yaxis5": {
                  "anchor": "x5",
                  "domain": [
                    0.55,
                    0.6333333333333334
                  ]
                },
                "xaxis6": {
                  "anchor": "y6",
                  "domain": [
                    0.55,
                    1
                  ]
                },
                "yaxis6": {
                  "anchor": "x6",
                  "domain": [
                    0.55,
                    0.6333333333333334
                  ]
                },
                "xaxis7": {
                  "anchor": "y7",
                  "domain": [
                    0,
                    0.45
                  ]
                },
                "yaxis7": {
                  "anchor": "x7",
                  "domain": [
                    0.3666666666666667,
                    0.45
                  ]
                },
                "xaxis8": {
                  "anchor": "y8",
                  "domain": [
                    0.55,
                    1
                  ]
                },
                "yaxis8": {
                  "anchor": "x8",
                  "domain": [
                    0.3666666666666667,
                    0.45
                  ]
                },
                "xaxis9": {
                  "anchor": "y9",
                  "domain": [
                    0,
                    0.45
                  ]
                },
                "yaxis9": {
                  "anchor": "x9",
                  "domain": [
                    0.18333333333333335,
                    0.26666666666666666
                  ]
                },
                "xaxis10": {
                  "anchor": "y10",
                  "domain": [
                    0.55,
                    1
                  ]
                },
                "yaxis10": {
                  "anchor": "x10",
                  "domain": [
                    0.18333333333333335,
                    0.26666666666666666
                  ]
                },
                "xaxis11": {
                  "anchor": "y11",
                  "domain": [
                    0,
                    0.45
                  ]
                },
                "yaxis11": {
                  "anchor": "x11",
                  "domain": [
                    0,
                    0.08333333333333333
                  ]
                },
                "xaxis12": {
                  "anchor": "y12",
                  "domain": [
                    0.55,
                    1
                  ]
                },
                "yaxis12": {
                  "anchor": "x12",
                  "domain": [
                    0,
                    0.08333333333333333
                  ]
                }
              },
              "config": {
                "showLink": false,
                "linkText": "Export to plot.ly",
                "plotlyServerURL": "https://plot.ly"
              }
            },
            "text/html": [
              "<div>                            <div id=\"31dd692f-6142-4a61-bf0a-0946e71c028e\" class=\"plotly-graph-div\" style=\"height:800px; width:100%;\"></div>            <script type=\"text/javascript\">                require([\"plotly\"], function(Plotly) {                    window.PLOTLYENV=window.PLOTLYENV || {};                                    if (document.getElementById(\"31dd692f-6142-4a61-bf0a-0946e71c028e\")) {                    Plotly.newPlot(                        \"31dd692f-6142-4a61-bf0a-0946e71c028e\",                        [{\"histnorm\":\"probability\",\"marker\":{\"color\":\"crimson\",\"line\":{\"color\":\"black\",\"width\":2}},\"opacity\":0.75,\"text\":[\"0-None\",\"1- First Team\",\"2- Second Team\"],\"x\":[0,1,2,1],\"xaxis\":\"x\",\"yaxis\":\"y\",\"type\":\"histogram\"},{\"histnorm\":\"probability\",\"marker\":{\"color\":\"grey\",\"line\":{\"color\":\"black\",\"width\":2}},\"opacity\":0.75,\"text\":[\"0-None\",\"1- First Team\",\"2- Second Team\"],\"x\":[1,0,2,1],\"xaxis\":\"x2\",\"yaxis\":\"y2\",\"type\":\"histogram\"},{\"histnorm\":\"probability\",\"marker\":{\"color\":\"pink\",\"line\":{\"color\":\"black\",\"width\":2}},\"opacity\":0.75,\"text\":[\"0-None\",\"1- First Team\",\"2- Second Team\"],\"x\":[2,1,0,1],\"xaxis\":\"x3\",\"yaxis\":\"y3\",\"type\":\"histogram\"},{\"histnorm\":\"probability\",\"marker\":{\"color\":\"purple\",\"line\":{\"color\":\"black\",\"width\":2}},\"opacity\":0.75,\"text\":[\"0-None\",\"1- First Team\",\"2- Second Team\"],\"x\":[0,2,1,2],\"xaxis\":\"x4\",\"yaxis\":\"y4\",\"type\":\"histogram\"},{\"histnorm\":\"probability\",\"marker\":{\"color\":\"brown\",\"line\":{\"color\":\"black\",\"width\":2}},\"opacity\":0.75,\"text\":[\"0-None\",\"1- First Team\",\"2- Second Team\"],\"x\":[1,1,2,0],\"xaxis\":\"x5\",\"yaxis\":\"y5\",\"type\":\"histogram\"},{\"histnorm\":\"probability\",\"marker\":{\"color\":\"orange\",\"line\":{\"color\":\"black\",\"width\":2}},\"opacity\":0.75,\"text\":[\"0-None\",\"1- First Team\",\"2- Second Team\"],\"x\":[2,0,1,2],\"xaxis\":\"x6\",\"yaxis\":\"y6\",\"type\":\"histogram\"},{\"histnorm\":\"probability\",\"marker\":{\"color\":\"blue\",\"line\":{\"color\":\"black\",\"width\":2}},\"opacity\":0.7,\"text\":[\"0-None\",\"1- First Team\",\"2- Second Team\"],\"x\":[1,2,0,2],\"xaxis\":\"x7\",\"yaxis\":\"y7\",\"type\":\"histogram\"},{\"histnorm\":\"probability\",\"marker\":{\"color\":\"yellow\",\"line\":{\"color\":\"black\",\"width\":2}},\"opacity\":0.7,\"text\":[\"0-None\",\"1- First Team\",\"2- Second Team\"],\"x\":[2,1,0,2],\"xaxis\":\"x8\",\"yaxis\":\"y8\",\"type\":\"histogram\"},{\"histnorm\":\"probability\",\"marker\":{\"color\":\"green\",\"line\":{\"color\":\"black\",\"width\":2}},\"opacity\":0.7,\"text\":[\"0-None\",\"1- First Team\",\"2- Second Team\"],\"x\":[0,2,1,2],\"xaxis\":\"x9\",\"yaxis\":\"y9\",\"type\":\"histogram\"},{\"histnorm\":\"probability\",\"marker\":{\"color\":\"slateblue\",\"line\":{\"color\":\"black\",\"width\":2}},\"opacity\":0.7,\"text\":[\"0-None\",\"1- First Team\",\"2- Second Team\"],\"x\":[1,0,2,1],\"xaxis\":\"x10\",\"yaxis\":\"y10\",\"type\":\"histogram\"},{\"histnorm\":\"probability\",\"marker\":{\"color\":\"red\",\"line\":{\"color\":\"black\",\"width\":2}},\"opacity\":0.7,\"text\":[\"0-None\",\"1- First Team\",\"2- Second Team\"],\"x\":[2,0,1,1],\"xaxis\":\"x11\",\"yaxis\":\"y11\",\"type\":\"histogram\"},{\"histnorm\":\"probability\",\"marker\":{\"color\":\"yellowgreen\",\"line\":{\"color\":\"black\",\"width\":2}},\"opacity\":0.7,\"text\":[\"0-None\",\"1- First Team\",\"2- Second Team\"],\"x\":[0,2,1,0],\"xaxis\":\"x12\",\"yaxis\":\"y12\",\"type\":\"histogram\"}],                        {\"annotations\":[{\"font\":{\"size\":15},\"showarrow\":false,\"text\":\"Teams\",\"x\":0.5,\"xref\":\"paper\",\"y\":-0.1,\"yref\":\"paper\"},{\"font\":{\"size\":15},\"showarrow\":false,\"text\":\"Probabilities\",\"textangle\":-90,\"x\":-0.08,\"xref\":\"paper\",\"y\":0.5,\"yref\":\"paper\"},{\"font\":{\"size\":10},\"showarrow\":false,\"text\":\"First Blood When First Team Wins\",\"x\":0.13,\"xref\":\"paper\",\"y\":1.0,\"yref\":\"paper\"},{\"font\":{\"size\":10},\"showarrow\":false,\"text\":\"First Tower When Second Team Wins\",\"x\":0.88,\"xref\":\"paper\",\"y\":1.0,\"yref\":\"paper\"},{\"font\":{\"size\":10},\"showarrow\":false,\"text\":\"First Baron When First Team Wins\",\"x\":0.13,\"xref\":\"paper\",\"y\":0.85,\"yref\":\"paper\"},{\"font\":{\"size\":10},\"showarrow\":false,\"text\":\"First Inhibitor When Second Team Wins\",\"x\":0.88,\"xref\":\"paper\",\"y\":0.85,\"yref\":\"paper\"},{\"font\":{\"size\":10},\"showarrow\":false,\"text\":\"First Dragon When First Team Wins\",\"x\":0.13,\"xref\":\"paper\",\"y\":0.7,\"yref\":\"paper\"},{\"font\":{\"size\":10},\"showarrow\":false,\"text\":\"First Rift Herald When Second Team Wins\",\"x\":0.88,\"xref\":\"paper\",\"y\":0.7,\"yref\":\"paper\"},{\"font\":{\"size\":10},\"showarrow\":false,\"text\":\"First Blood When First Team Wins\",\"x\":0.13,\"xref\":\"paper\",\"y\":0.55,\"yref\":\"paper\"},{\"font\":{\"size\":10},\"showarrow\":false,\"text\":\"First Tower When Second Team Wins\",\"x\":0.88,\"xref\":\"paper\",\"y\":0.55,\"yref\":\"paper\"},{\"font\":{\"size\":10},\"showarrow\":false,\"text\":\"First Baron When First Team Wins\",\"x\":0.13,\"xref\":\"paper\",\"y\":0.4,\"yref\":\"paper\"},{\"font\":{\"size\":10},\"showarrow\":false,\"text\":\"First Inhibitor When Second Team Wins\",\"x\":0.88,\"xref\":\"paper\",\"y\":0.4,\"yref\":\"paper\"},{\"font\":{\"size\":10},\"showarrow\":false,\"text\":\"First Dragon When First Team Wins\",\"x\":0.13,\"xref\":\"paper\",\"y\":0.25,\"yref\":\"paper\"},{\"font\":{\"size\":10},\"showarrow\":false,\"text\":\"First Rift Herald When Second Team Wins\",\"x\":0.88,\"xref\":\"paper\",\"y\":0.25,\"yref\":\"paper\"}],\"bargap\":0.4,\"bargroupgap\":0.1,\"font\":{\"family\":\"Franklin Gothic\",\"size\":10},\"height\":800,\"paper_bgcolor\":\"rgb(243, 243, 243)\",\"plot_bgcolor\":\"snow\",\"showlegend\":false,\"template\":{\"data\":{\"barpolar\":[{\"marker\":{\"line\":{\"color\":\"#E5ECF6\",\"width\":0.5},\"pattern\":{\"fillmode\":\"overlay\",\"size\":10,\"solidity\":0.2}},\"type\":\"barpolar\"}],\"bar\":[{\"error_x\":{\"color\":\"#2a3f5f\"},\"error_y\":{\"color\":\"#2a3f5f\"},\"marker\":{\"line\":{\"color\":\"#E5ECF6\",\"width\":0.5},\"pattern\":{\"fillmode\":\"overlay\",\"size\":10,\"solidity\":0.2}},\"type\":\"bar\"}],\"carpet\":[{\"aaxis\":{\"endlinecolor\":\"#2a3f5f\",\"gridcolor\":\"white\",\"linecolor\":\"white\",\"minorgridcolor\":\"white\",\"startlinecolor\":\"#2a3f5f\"},\"baxis\":{\"endlinecolor\":\"#2a3f5f\",\"gridcolor\":\"white\",\"linecolor\":\"white\",\"minorgridcolor\":\"white\",\"startlinecolor\":\"#2a3f5f\"},\"type\":\"carpet\"}],\"choropleth\":[{\"colorbar\":{\"outlinewidth\":0,\"ticks\":\"\"},\"type\":\"choropleth\"}],\"contourcarpet\":[{\"colorbar\":{\"outlinewidth\":0,\"ticks\":\"\"},\"type\":\"contourcarpet\"}],\"contour\":[{\"colorbar\":{\"outlinewidth\":0,\"ticks\":\"\"},\"colorscale\":[[0.0,\"#0d0887\"],[0.1111111111111111,\"#46039f\"],[0.2222222222222222,\"#7201a8\"],[0.3333333333333333,\"#9c179e\"],[0.4444444444444444,\"#bd3786\"],[0.5555555555555556,\"#d8576b\"],[0.6666666666666666,\"#ed7953\"],[0.7777777777777778,\"#fb9f3a\"],[0.8888888888888888,\"#fdca26\"],[1.0,\"#f0f921\"]],\"type\":\"contour\"}],\"heatmapgl\":[{\"colorbar\":{\"outlinewidth\":0,\"ticks\":\"\"},\"colorscale\":[[0.0,\"#0d0887\"],[0.1111111111111111,\"#46039f\"],[0.2222222222222222,\"#7201a8\"],[0.3333333333333333,\"#9c179e\"],[0.4444444444444444,\"#bd3786\"],[0.5555555555555556,\"#d8576b\"],[0.6666666666666666,\"#ed7953\"],[0.7777777777777778,\"#fb9f3a\"],[0.8888888888888888,\"#fdca26\"],[1.0,\"#f0f921\"]],\"type\":\"heatmapgl\"}],\"heatmap\":[{\"colorbar\":{\"outlinewidth\":0,\"ticks\":\"\"},\"colorscale\":[[0.0,\"#0d0887\"],[0.1111111111111111,\"#46039f\"],[0.2222222222222222,\"#7201a8\"],[0.3333333333333333,\"#9c179e\"],[0.4444444444444444,\"#bd3786\"],[0.5555555555555556,\"#d8576b\"],[0.6666666666666666,\"#ed7953\"],[0.7777777777777778,\"#fb9f3a\"],[0.8888888888888888,\"#fdca26\"],[1.0,\"#f0f921\"]],\"type\":\"heatmap\"}],\"histogram2dcontour\":[{\"colorbar\":{\"outlinewidth\":0,\"ticks\":\"\"},\"colorscale\":[[0.0,\"#0d0887\"],[0.1111111111111111,\"#46039f\"],[0.2222222222222222,\"#7201a8\"],[0.3333333333333333,\"#9c179e\"],[0.4444444444444444,\"#bd3786\"],[0.5555555555555556,\"#d8576b\"],[0.6666666666666666,\"#ed7953\"],[0.7777777777777778,\"#fb9f3a\"],[0.8888888888888888,\"#fdca26\"],[1.0,\"#f0f921\"]],\"type\":\"histogram2dcontour\"}],\"histogram2d\":[{\"colorbar\":{\"outlinewidth\":0,\"ticks\":\"\"},\"colorscale\":[[0.0,\"#0d0887\"],[0.1111111111111111,\"#46039f\"],[0.2222222222222222,\"#7201a8\"],[0.3333333333333333,\"#9c179e\"],[0.4444444444444444,\"#bd3786\"],[0.5555555555555556,\"#d8576b\"],[0.6666666666666666,\"#ed7953\"],[0.7777777777777778,\"#fb9f3a\"],[0.8888888888888888,\"#fdca26\"],[1.0,\"#f0f921\"]],\"type\":\"histogram2d\"}],\"histogram\":[{\"marker\":{\"pattern\":{\"fillmode\":\"overlay\",\"size\":10,\"solidity\":0.2}},\"type\":\"histogram\"}],\"mesh3d\":[{\"colorbar\":{\"outlinewidth\":0,\"ticks\":\"\"},\"type\":\"mesh3d\"}],\"parcoords\":[{\"line\":{\"colorbar\":{\"outlinewidth\":0,\"ticks\":\"\"}},\"type\":\"parcoords\"}],\"pie\":[{\"automargin\":true,\"type\":\"pie\"}],\"scatter3d\":[{\"line\":{\"colorbar\":{\"outlinewidth\":0,\"ticks\":\"\"}},\"marker\":{\"colorbar\":{\"outlinewidth\":0,\"ticks\":\"\"}},\"type\":\"scatter3d\"}],\"scattercarpet\":[{\"marker\":{\"colorbar\":{\"outlinewidth\":0,\"ticks\":\"\"}},\"type\":\"scattercarpet\"}],\"scattergeo\":[{\"marker\":{\"colorbar\":{\"outlinewidth\":0,\"ticks\":\"\"}},\"type\":\"scattergeo\"}],\"scattergl\":[{\"marker\":{\"colorbar\":{\"outlinewidth\":0,\"ticks\":\"\"}},\"type\":\"scattergl\"}],\"scattermapbox\":[{\"marker\":{\"colorbar\":{\"outlinewidth\":0,\"ticks\":\"\"}},\"type\":\"scattermapbox\"}],\"scatterpolargl\":[{\"marker\":{\"colorbar\":{\"outlinewidth\":0,\"ticks\":\"\"}},\"type\":\"scatterpolargl\"}],\"scatterpolar\":[{\"marker\":{\"colorbar\":{\"outlinewidth\":0,\"ticks\":\"\"}},\"type\":\"scatterpolar\"}],\"scatter\":[{\"fillpattern\":{\"fillmode\":\"overlay\",\"size\":10,\"solidity\":0.2},\"type\":\"scatter\"}],\"scatterternary\":[{\"marker\":{\"colorbar\":{\"outlinewidth\":0,\"ticks\":\"\"}},\"type\":\"scatterternary\"}],\"surface\":[{\"colorbar\":{\"outlinewidth\":0,\"ticks\":\"\"},\"colorscale\":[[0.0,\"#0d0887\"],[0.1111111111111111,\"#46039f\"],[0.2222222222222222,\"#7201a8\"],[0.3333333333333333,\"#9c179e\"],[0.4444444444444444,\"#bd3786\"],[0.5555555555555556,\"#d8576b\"],[0.6666666666666666,\"#ed7953\"],[0.7777777777777778,\"#fb9f3a\"],[0.8888888888888888,\"#fdca26\"],[1.0,\"#f0f921\"]],\"type\":\"surface\"}],\"table\":[{\"cells\":{\"fill\":{\"color\":\"#EBF0F8\"},\"line\":{\"color\":\"white\"}},\"header\":{\"fill\":{\"color\":\"#C8D4E3\"},\"line\":{\"color\":\"white\"}},\"type\":\"table\"}]},\"layout\":{\"annotationdefaults\":{\"arrowcolor\":\"#2a3f5f\",\"arrowhead\":0,\"arrowwidth\":1},\"autotypenumbers\":\"strict\",\"coloraxis\":{\"colorbar\":{\"outlinewidth\":0,\"ticks\":\"\"}},\"colorscale\":{\"diverging\":[[0,\"#8e0152\"],[0.1,\"#c51b7d\"],[0.2,\"#de77ae\"],[0.3,\"#f1b6da\"],[0.4,\"#fde0ef\"],[0.5,\"#f7f7f7\"],[0.6,\"#e6f5d0\"],[0.7,\"#b8e186\"],[0.8,\"#7fbc41\"],[0.9,\"#4d9221\"],[1,\"#276419\"]],\"sequential\":[[0.0,\"#0d0887\"],[0.1111111111111111,\"#46039f\"],[0.2222222222222222,\"#7201a8\"],[0.3333333333333333,\"#9c179e\"],[0.4444444444444444,\"#bd3786\"],[0.5555555555555556,\"#d8576b\"],[0.6666666666666666,\"#ed7953\"],[0.7777777777777778,\"#fb9f3a\"],[0.8888888888888888,\"#fdca26\"],[1.0,\"#f0f921\"]],\"sequentialminus\":[[0.0,\"#0d0887\"],[0.1111111111111111,\"#46039f\"],[0.2222222222222222,\"#7201a8\"],[0.3333333333333333,\"#9c179e\"],[0.4444444444444444,\"#bd3786\"],[0.5555555555555556,\"#d8576b\"],[0.6666666666666666,\"#ed7953\"],[0.7777777777777778,\"#fb9f3a\"],[0.8888888888888888,\"#fdca26\"],[1.0,\"#f0f921\"]]},\"colorway\":[\"#636efa\",\"#EF553B\",\"#00cc96\",\"#ab63fa\",\"#FFA15A\",\"#19d3f3\",\"#FF6692\",\"#B6E880\",\"#FF97FF\",\"#FECB52\"],\"font\":{\"color\":\"#2a3f5f\"},\"geo\":{\"bgcolor\":\"white\",\"lakecolor\":\"white\",\"landcolor\":\"#E5ECF6\",\"showlakes\":true,\"showland\":true,\"subunitcolor\":\"white\"},\"hoverlabel\":{\"align\":\"left\"},\"hovermode\":\"closest\",\"mapbox\":{\"style\":\"light\"},\"paper_bgcolor\":\"white\",\"plot_bgcolor\":\"#E5ECF6\",\"polar\":{\"angularaxis\":{\"gridcolor\":\"white\",\"linecolor\":\"white\",\"ticks\":\"\"},\"bgcolor\":\"#E5ECF6\",\"radialaxis\":{\"gridcolor\":\"white\",\"linecolor\":\"white\",\"ticks\":\"\"}},\"scene\":{\"xaxis\":{\"backgroundcolor\":\"#E5ECF6\",\"gridcolor\":\"white\",\"gridwidth\":2,\"linecolor\":\"white\",\"showbackground\":true,\"ticks\":\"\",\"zerolinecolor\":\"white\"},\"yaxis\":{\"backgroundcolor\":\"#E5ECF6\",\"gridcolor\":\"white\",\"gridwidth\":2,\"linecolor\":\"white\",\"showbackground\":true,\"ticks\":\"\",\"zerolinecolor\":\"white\"},\"zaxis\":{\"backgroundcolor\":\"#E5ECF6\",\"gridcolor\":\"white\",\"gridwidth\":2,\"linecolor\":\"white\",\"showbackground\":true,\"ticks\":\"\",\"zerolinecolor\":\"white\"}},\"shapedefaults\":{\"line\":{\"color\":\"#2a3f5f\"}},\"ternary\":{\"aaxis\":{\"gridcolor\":\"white\",\"linecolor\":\"white\",\"ticks\":\"\"},\"baxis\":{\"gridcolor\":\"white\",\"linecolor\":\"white\",\"ticks\":\"\"},\"bgcolor\":\"#E5ECF6\",\"caxis\":{\"gridcolor\":\"white\",\"linecolor\":\"white\",\"ticks\":\"\"}},\"title\":{\"x\":0.05},\"xaxis\":{\"automargin\":true,\"gridcolor\":\"white\",\"linecolor\":\"white\",\"ticks\":\"\",\"title\":{\"standoff\":15},\"zerolinecolor\":\"white\",\"zerolinewidth\":2},\"yaxis\":{\"automargin\":true,\"gridcolor\":\"white\",\"linecolor\":\"white\",\"ticks\":\"\",\"title\":{\"standoff\":15},\"zerolinecolor\":\"white\",\"zerolinewidth\":2}}},\"title\":{\"text\":\"Probabilities of First Blood etc. When a Team Wins\"},\"xaxis\":{\"anchor\":\"y\",\"domain\":[0.0,0.45]},\"yaxis\":{\"anchor\":\"x\",\"domain\":[0.9166666666666666,1.0]},\"xaxis2\":{\"anchor\":\"y2\",\"domain\":[0.55,1.0]},\"yaxis2\":{\"anchor\":\"x2\",\"domain\":[0.9166666666666666,1.0]},\"xaxis3\":{\"anchor\":\"y3\",\"domain\":[0.0,0.45]},\"yaxis3\":{\"anchor\":\"x3\",\"domain\":[0.7333333333333334,0.8166666666666668]},\"xaxis4\":{\"anchor\":\"y4\",\"domain\":[0.55,1.0]},\"yaxis4\":{\"anchor\":\"x4\",\"domain\":[0.7333333333333334,0.8166666666666668]},\"xaxis5\":{\"anchor\":\"y5\",\"domain\":[0.0,0.45]},\"yaxis5\":{\"anchor\":\"x5\",\"domain\":[0.55,0.6333333333333334]},\"xaxis6\":{\"anchor\":\"y6\",\"domain\":[0.55,1.0]},\"yaxis6\":{\"anchor\":\"x6\",\"domain\":[0.55,0.6333333333333334]},\"xaxis7\":{\"anchor\":\"y7\",\"domain\":[0.0,0.45]},\"yaxis7\":{\"anchor\":\"x7\",\"domain\":[0.3666666666666667,0.45]},\"xaxis8\":{\"anchor\":\"y8\",\"domain\":[0.55,1.0]},\"yaxis8\":{\"anchor\":\"x8\",\"domain\":[0.3666666666666667,0.45]},\"xaxis9\":{\"anchor\":\"y9\",\"domain\":[0.0,0.45]},\"yaxis9\":{\"anchor\":\"x9\",\"domain\":[0.18333333333333335,0.26666666666666666]},\"xaxis10\":{\"anchor\":\"y10\",\"domain\":[0.55,1.0]},\"yaxis10\":{\"anchor\":\"x10\",\"domain\":[0.18333333333333335,0.26666666666666666]},\"xaxis11\":{\"anchor\":\"y11\",\"domain\":[0.0,0.45]},\"yaxis11\":{\"anchor\":\"x11\",\"domain\":[0.0,0.08333333333333333]},\"xaxis12\":{\"anchor\":\"y12\",\"domain\":[0.55,1.0]},\"yaxis12\":{\"anchor\":\"x12\",\"domain\":[0.0,0.08333333333333333]}},                        {\"responsive\": true}                    ).then(function(){\n",
              "                            \n",
              "var gd = document.getElementById('31dd692f-6142-4a61-bf0a-0946e71c028e');\n",
              "var x = new MutationObserver(function (mutations, observer) {{\n",
              "        var display = window.getComputedStyle(gd).display;\n",
              "        if (!display || display === 'none') {{\n",
              "            console.log([gd, 'removed!']);\n",
              "            Plotly.purge(gd);\n",
              "            observer.disconnect();\n",
              "        }}\n",
              "}});\n",
              "\n",
              "// Listen for the removal of the full notebook cells\n",
              "var notebookContainer = gd.closest('#notebook-container');\n",
              "if (notebookContainer) {{\n",
              "    x.observe(notebookContainer, {childList: true});\n",
              "}}\n",
              "\n",
              "// Listen for the clearing of the current output cell\n",
              "var outputEl = gd.closest('.output');\n",
              "if (outputEl) {{\n",
              "    x.observe(outputEl, {childList: true});\n",
              "}}\n",
              "\n",
              "                        })                };                });            </script>        </div>"
            ]
          },
          "metadata": {}
        }
      ],
      "source": [
        "import plotly.graph_objs as go\n",
        "from plotly.subplots import make_subplots\n",
        "from plotly.offline import iplot\n",
        "\n",
        "# Replace with your data\n",
        "# Example placeholders for `first_team` and `second_team` data:\n",
        "# Ensure these are Pandas DataFrame objects or similar data structures\n",
        "import pandas as pd\n",
        "first_team = pd.DataFrame({\n",
        "    'firstBlood': [0, 1, 2, 1],\n",
        "    'firstTower': [1, 0, 2, 1],\n",
        "    'firstBaron': [2, 1, 0, 1],\n",
        "    'firstInhibitor': [0, 2, 1, 2],\n",
        "    'firstDragon': [1, 1, 2, 0],\n",
        "    'firstRiftHerald': [2, 0, 1, 2]\n",
        "})\n",
        "\n",
        "second_team = pd.DataFrame({\n",
        "    'firstBlood': [1, 2, 0, 2],\n",
        "    'firstTower': [2, 1, 0, 2],\n",
        "    'firstBaron': [0, 2, 1, 2],\n",
        "    'firstInhibitor': [1, 0, 2, 1],\n",
        "    'firstDragon': [2, 0, 1, 1],\n",
        "    'firstRiftHerald': [0, 2, 1, 0]\n",
        "})\n",
        "\n",
        "# Histogram traces\n",
        "traces = [\n",
        "    go.Histogram(\n",
        "        x=first_team[column],\n",
        "        text=['0-None', '1- First Team', '2- Second Team'],\n",
        "        histnorm='probability',\n",
        "        marker=dict(color=color, line=dict(color='black', width=2)),\n",
        "        opacity=0.75\n",
        "    )\n",
        "    for column, color in zip(\n",
        "        ['firstBlood', 'firstTower', 'firstBaron', 'firstInhibitor', 'firstDragon', 'firstRiftHerald'],\n",
        "        ['crimson', 'grey', 'pink', 'purple', 'brown', 'orange']\n",
        "    )\n",
        "] + [\n",
        "    go.Histogram(\n",
        "        x=second_team[column],\n",
        "        text=['0-None', '1- First Team', '2- Second Team'],\n",
        "        histnorm='probability',\n",
        "        marker=dict(color=color, line=dict(color='black', width=2)),\n",
        "        opacity=0.7\n",
        "    )\n",
        "    for column, color in zip(\n",
        "        ['firstBlood', 'firstTower', 'firstBaron', 'firstInhibitor', 'firstDragon', 'firstRiftHerald'],\n",
        "        ['blue', 'yellow', 'green', 'slateblue', 'red', 'yellowgreen']\n",
        "    )\n",
        "]\n",
        "\n",
        "# Create subplots\n",
        "fig = make_subplots(rows=6, cols=2, vertical_spacing=0.1)\n",
        "\n",
        "# Append traces to subplots\n",
        "for i, trace in enumerate(traces):\n",
        "    row = i // 2 + 1\n",
        "    col = i % 2 + 1\n",
        "    fig.append_trace(trace, row, col)\n",
        "\n",
        "# Update layout\n",
        "fig.update_layout(\n",
        "    annotations=[\n",
        "        dict(showarrow=False, text=\"Teams\", x=0.5, y=-0.1, xref=\"paper\", yref=\"paper\", font=dict(size=15)),\n",
        "        dict(showarrow=False, text=\"Probabilities\", x=-0.08, y=0.5, xref=\"paper\", yref=\"paper\", textangle=270, font=dict(size=15)),\n",
        "    ] + [\n",
        "        dict(\n",
        "            showarrow=False,\n",
        "            text=f\"{event} When {'First' if i % 2 == 0 else 'Second'} Team Wins\",\n",
        "            x=0.13 if i % 2 == 0 else 0.88,\n",
        "            y=1 - 0.15 * (i // 2),\n",
        "            xref=\"paper\",\n",
        "            yref=\"paper\",\n",
        "            font=dict(size=10)\n",
        "        )\n",
        "        for i, event in enumerate([\n",
        "            \"First Blood\", \"First Tower\", \"First Baron\", \"First Inhibitor\", \"First Dragon\", \"First Rift Herald\"\n",
        "        ] * 2)\n",
        "    ],\n",
        "    height=800,\n",
        "    font=dict(family=\"Franklin Gothic\", size=10),\n",
        "    showlegend=False,\n",
        "    bargap=0.4,\n",
        "    title=\"Probabilities of First Blood etc. When a Team Wins\",\n",
        "    plot_bgcolor=\"snow\",\n",
        "    bargroupgap=0.1,\n",
        "    paper_bgcolor='rgb(243, 243, 243)'\n",
        ")\n",
        "\n",
        "# Plot the figure\n",
        "iplot(fig)\n"
      ]
    },
    {
      "cell_type": "markdown",
      "metadata": {
        "id": "soluu0T5qYgc"
      },
      "source": [
        "Following table and subplots show average number of tower, inhibitor, Baron and dragon kills each team has."
      ]
    },
    {
      "cell_type": "code",
      "execution_count": null,
      "metadata": {
        "_kg_hide-input": true,
        "colab": {
          "base_uri": "https://localhost:8080/",
          "height": 143
        },
        "id": "-5bxXw-_qYgc",
        "outputId": "8f6a7ad7-160c-41ba-b6b4-f21c6e9109c2"
      },
      "outputs": [
        {
          "output_type": "execute_result",
          "data": {
            "text/plain": [
              "        t1_towerKills  t1_inhibitorKills  t1_baronKills  t1_dragonKills  \\\n",
              "winner                                                                    \n",
              "1            8.607006           1.830696       0.586188        1.953142   \n",
              "2            2.729627           0.186086       0.153740        0.809586   \n",
              "\n",
              "        t2_towerKills  t2_inhibitorKills  t2_baronKills  t2_dragonKills  \n",
              "winner                                                                   \n",
              "1            2.558381           0.166270       0.172914        0.804617  \n",
              "2            8.622831           1.825562       0.662771        2.021092  "
            ],
            "text/html": [
              "\n",
              "  <div id=\"df-22f06bc3-6cfd-489c-95f1-fdbce317ae22\" class=\"colab-df-container\">\n",
              "    <div>\n",
              "<style scoped>\n",
              "    .dataframe tbody tr th:only-of-type {\n",
              "        vertical-align: middle;\n",
              "    }\n",
              "\n",
              "    .dataframe tbody tr th {\n",
              "        vertical-align: top;\n",
              "    }\n",
              "\n",
              "    .dataframe thead th {\n",
              "        text-align: right;\n",
              "    }\n",
              "</style>\n",
              "<table border=\"1\" class=\"dataframe\">\n",
              "  <thead>\n",
              "    <tr style=\"text-align: right;\">\n",
              "      <th></th>\n",
              "      <th>t1_towerKills</th>\n",
              "      <th>t1_inhibitorKills</th>\n",
              "      <th>t1_baronKills</th>\n",
              "      <th>t1_dragonKills</th>\n",
              "      <th>t2_towerKills</th>\n",
              "      <th>t2_inhibitorKills</th>\n",
              "      <th>t2_baronKills</th>\n",
              "      <th>t2_dragonKills</th>\n",
              "    </tr>\n",
              "    <tr>\n",
              "      <th>winner</th>\n",
              "      <th></th>\n",
              "      <th></th>\n",
              "      <th></th>\n",
              "      <th></th>\n",
              "      <th></th>\n",
              "      <th></th>\n",
              "      <th></th>\n",
              "      <th></th>\n",
              "    </tr>\n",
              "  </thead>\n",
              "  <tbody>\n",
              "    <tr>\n",
              "      <th>1</th>\n",
              "      <td>8.607006</td>\n",
              "      <td>1.830696</td>\n",
              "      <td>0.586188</td>\n",
              "      <td>1.953142</td>\n",
              "      <td>2.558381</td>\n",
              "      <td>0.166270</td>\n",
              "      <td>0.172914</td>\n",
              "      <td>0.804617</td>\n",
              "    </tr>\n",
              "    <tr>\n",
              "      <th>2</th>\n",
              "      <td>2.729627</td>\n",
              "      <td>0.186086</td>\n",
              "      <td>0.153740</td>\n",
              "      <td>0.809586</td>\n",
              "      <td>8.622831</td>\n",
              "      <td>1.825562</td>\n",
              "      <td>0.662771</td>\n",
              "      <td>2.021092</td>\n",
              "    </tr>\n",
              "  </tbody>\n",
              "</table>\n",
              "</div>\n",
              "    <div class=\"colab-df-buttons\">\n",
              "\n",
              "  <div class=\"colab-df-container\">\n",
              "    <button class=\"colab-df-convert\" onclick=\"convertToInteractive('df-22f06bc3-6cfd-489c-95f1-fdbce317ae22')\"\n",
              "            title=\"Convert this dataframe to an interactive table.\"\n",
              "            style=\"display:none;\">\n",
              "\n",
              "  <svg xmlns=\"http://www.w3.org/2000/svg\" height=\"24px\" viewBox=\"0 -960 960 960\">\n",
              "    <path d=\"M120-120v-720h720v720H120Zm60-500h600v-160H180v160Zm220 220h160v-160H400v160Zm0 220h160v-160H400v160ZM180-400h160v-160H180v160Zm440 0h160v-160H620v160ZM180-180h160v-160H180v160Zm440 0h160v-160H620v160Z\"/>\n",
              "  </svg>\n",
              "    </button>\n",
              "\n",
              "  <style>\n",
              "    .colab-df-container {\n",
              "      display:flex;\n",
              "      gap: 12px;\n",
              "    }\n",
              "\n",
              "    .colab-df-convert {\n",
              "      background-color: #E8F0FE;\n",
              "      border: none;\n",
              "      border-radius: 50%;\n",
              "      cursor: pointer;\n",
              "      display: none;\n",
              "      fill: #1967D2;\n",
              "      height: 32px;\n",
              "      padding: 0 0 0 0;\n",
              "      width: 32px;\n",
              "    }\n",
              "\n",
              "    .colab-df-convert:hover {\n",
              "      background-color: #E2EBFA;\n",
              "      box-shadow: 0px 1px 2px rgba(60, 64, 67, 0.3), 0px 1px 3px 1px rgba(60, 64, 67, 0.15);\n",
              "      fill: #174EA6;\n",
              "    }\n",
              "\n",
              "    .colab-df-buttons div {\n",
              "      margin-bottom: 4px;\n",
              "    }\n",
              "\n",
              "    [theme=dark] .colab-df-convert {\n",
              "      background-color: #3B4455;\n",
              "      fill: #D2E3FC;\n",
              "    }\n",
              "\n",
              "    [theme=dark] .colab-df-convert:hover {\n",
              "      background-color: #434B5C;\n",
              "      box-shadow: 0px 1px 3px 1px rgba(0, 0, 0, 0.15);\n",
              "      filter: drop-shadow(0px 1px 2px rgba(0, 0, 0, 0.3));\n",
              "      fill: #FFFFFF;\n",
              "    }\n",
              "  </style>\n",
              "\n",
              "    <script>\n",
              "      const buttonEl =\n",
              "        document.querySelector('#df-22f06bc3-6cfd-489c-95f1-fdbce317ae22 button.colab-df-convert');\n",
              "      buttonEl.style.display =\n",
              "        google.colab.kernel.accessAllowed ? 'block' : 'none';\n",
              "\n",
              "      async function convertToInteractive(key) {\n",
              "        const element = document.querySelector('#df-22f06bc3-6cfd-489c-95f1-fdbce317ae22');\n",
              "        const dataTable =\n",
              "          await google.colab.kernel.invokeFunction('convertToInteractive',\n",
              "                                                    [key], {});\n",
              "        if (!dataTable) return;\n",
              "\n",
              "        const docLinkHtml = 'Like what you see? Visit the ' +\n",
              "          '<a target=\"_blank\" href=https://colab.research.google.com/notebooks/data_table.ipynb>data table notebook</a>'\n",
              "          + ' to learn more about interactive tables.';\n",
              "        element.innerHTML = '';\n",
              "        dataTable['output_type'] = 'display_data';\n",
              "        await google.colab.output.renderOutput(dataTable, element);\n",
              "        const docLink = document.createElement('div');\n",
              "        docLink.innerHTML = docLinkHtml;\n",
              "        element.appendChild(docLink);\n",
              "      }\n",
              "    </script>\n",
              "  </div>\n",
              "\n",
              "\n",
              "<div id=\"df-e757f43c-4a70-4601-b484-85b185c21f31\">\n",
              "  <button class=\"colab-df-quickchart\" onclick=\"quickchart('df-e757f43c-4a70-4601-b484-85b185c21f31')\"\n",
              "            title=\"Suggest charts\"\n",
              "            style=\"display:none;\">\n",
              "\n",
              "<svg xmlns=\"http://www.w3.org/2000/svg\" height=\"24px\"viewBox=\"0 0 24 24\"\n",
              "     width=\"24px\">\n",
              "    <g>\n",
              "        <path d=\"M19 3H5c-1.1 0-2 .9-2 2v14c0 1.1.9 2 2 2h14c1.1 0 2-.9 2-2V5c0-1.1-.9-2-2-2zM9 17H7v-7h2v7zm4 0h-2V7h2v10zm4 0h-2v-4h2v4z\"/>\n",
              "    </g>\n",
              "</svg>\n",
              "  </button>\n",
              "\n",
              "<style>\n",
              "  .colab-df-quickchart {\n",
              "      --bg-color: #E8F0FE;\n",
              "      --fill-color: #1967D2;\n",
              "      --hover-bg-color: #E2EBFA;\n",
              "      --hover-fill-color: #174EA6;\n",
              "      --disabled-fill-color: #AAA;\n",
              "      --disabled-bg-color: #DDD;\n",
              "  }\n",
              "\n",
              "  [theme=dark] .colab-df-quickchart {\n",
              "      --bg-color: #3B4455;\n",
              "      --fill-color: #D2E3FC;\n",
              "      --hover-bg-color: #434B5C;\n",
              "      --hover-fill-color: #FFFFFF;\n",
              "      --disabled-bg-color: #3B4455;\n",
              "      --disabled-fill-color: #666;\n",
              "  }\n",
              "\n",
              "  .colab-df-quickchart {\n",
              "    background-color: var(--bg-color);\n",
              "    border: none;\n",
              "    border-radius: 50%;\n",
              "    cursor: pointer;\n",
              "    display: none;\n",
              "    fill: var(--fill-color);\n",
              "    height: 32px;\n",
              "    padding: 0;\n",
              "    width: 32px;\n",
              "  }\n",
              "\n",
              "  .colab-df-quickchart:hover {\n",
              "    background-color: var(--hover-bg-color);\n",
              "    box-shadow: 0 1px 2px rgba(60, 64, 67, 0.3), 0 1px 3px 1px rgba(60, 64, 67, 0.15);\n",
              "    fill: var(--button-hover-fill-color);\n",
              "  }\n",
              "\n",
              "  .colab-df-quickchart-complete:disabled,\n",
              "  .colab-df-quickchart-complete:disabled:hover {\n",
              "    background-color: var(--disabled-bg-color);\n",
              "    fill: var(--disabled-fill-color);\n",
              "    box-shadow: none;\n",
              "  }\n",
              "\n",
              "  .colab-df-spinner {\n",
              "    border: 2px solid var(--fill-color);\n",
              "    border-color: transparent;\n",
              "    border-bottom-color: var(--fill-color);\n",
              "    animation:\n",
              "      spin 1s steps(1) infinite;\n",
              "  }\n",
              "\n",
              "  @keyframes spin {\n",
              "    0% {\n",
              "      border-color: transparent;\n",
              "      border-bottom-color: var(--fill-color);\n",
              "      border-left-color: var(--fill-color);\n",
              "    }\n",
              "    20% {\n",
              "      border-color: transparent;\n",
              "      border-left-color: var(--fill-color);\n",
              "      border-top-color: var(--fill-color);\n",
              "    }\n",
              "    30% {\n",
              "      border-color: transparent;\n",
              "      border-left-color: var(--fill-color);\n",
              "      border-top-color: var(--fill-color);\n",
              "      border-right-color: var(--fill-color);\n",
              "    }\n",
              "    40% {\n",
              "      border-color: transparent;\n",
              "      border-right-color: var(--fill-color);\n",
              "      border-top-color: var(--fill-color);\n",
              "    }\n",
              "    60% {\n",
              "      border-color: transparent;\n",
              "      border-right-color: var(--fill-color);\n",
              "    }\n",
              "    80% {\n",
              "      border-color: transparent;\n",
              "      border-right-color: var(--fill-color);\n",
              "      border-bottom-color: var(--fill-color);\n",
              "    }\n",
              "    90% {\n",
              "      border-color: transparent;\n",
              "      border-bottom-color: var(--fill-color);\n",
              "    }\n",
              "  }\n",
              "</style>\n",
              "\n",
              "  <script>\n",
              "    async function quickchart(key) {\n",
              "      const quickchartButtonEl =\n",
              "        document.querySelector('#' + key + ' button');\n",
              "      quickchartButtonEl.disabled = true;  // To prevent multiple clicks.\n",
              "      quickchartButtonEl.classList.add('colab-df-spinner');\n",
              "      try {\n",
              "        const charts = await google.colab.kernel.invokeFunction(\n",
              "            'suggestCharts', [key], {});\n",
              "      } catch (error) {\n",
              "        console.error('Error during call to suggestCharts:', error);\n",
              "      }\n",
              "      quickchartButtonEl.classList.remove('colab-df-spinner');\n",
              "      quickchartButtonEl.classList.add('colab-df-quickchart-complete');\n",
              "    }\n",
              "    (() => {\n",
              "      let quickchartButtonEl =\n",
              "        document.querySelector('#df-e757f43c-4a70-4601-b484-85b185c21f31 button');\n",
              "      quickchartButtonEl.style.display =\n",
              "        google.colab.kernel.accessAllowed ? 'block' : 'none';\n",
              "    })();\n",
              "  </script>\n",
              "</div>\n",
              "\n",
              "    </div>\n",
              "  </div>\n"
            ],
            "application/vnd.google.colaboratory.intrinsic+json": {
              "type": "dataframe",
              "summary": "{\n  \"name\": \"data_new\",\n  \"rows\": 2,\n  \"fields\": [\n    {\n      \"column\": \"winner\",\n      \"properties\": {\n        \"dtype\": \"number\",\n        \"std\": 0,\n        \"min\": 1,\n        \"max\": 2,\n        \"num_unique_values\": 2,\n        \"samples\": [\n          2,\n          1\n        ],\n        \"semantic_type\": \"\",\n        \"description\": \"\"\n      }\n    },\n    {\n      \"column\": \"t1_towerKills\",\n      \"properties\": {\n        \"dtype\": \"number\",\n        \"std\": 4.155934628073915,\n        \"min\": 2.729626569078818,\n        \"max\": 8.607005684436933,\n        \"num_unique_values\": 2,\n        \"samples\": [\n          2.729626569078818,\n          8.607005684436933\n        ],\n        \"semantic_type\": \"\",\n        \"description\": \"\"\n      }\n    },\n    {\n      \"column\": \"t1_inhibitorKills\",\n      \"properties\": {\n        \"dtype\": \"number\",\n        \"std\": 1.162914952614478,\n        \"min\": 0.18608586156691456,\n        \"max\": 1.8306959594407743,\n        \"num_unique_values\": 2,\n        \"samples\": [\n          0.18608586156691456,\n          1.8306959594407743\n        ],\n        \"semantic_type\": \"\",\n        \"description\": \"\"\n      }\n    },\n    {\n      \"column\": \"t1_baronKills\",\n      \"properties\": {\n        \"dtype\": \"number\",\n        \"std\": 0.30578701434430056,\n        \"min\": 0.15374021170267185,\n        \"max\": 0.5861883545859579,\n        \"num_unique_values\": 2,\n        \"samples\": [\n          0.15374021170267185,\n          0.5861883545859579\n        ],\n        \"semantic_type\": \"\",\n        \"description\": \"\"\n      }\n    },\n    {\n      \"column\": \"t1_dragonKills\",\n      \"properties\": {\n        \"dtype\": \"number\",\n        \"std\": 0.8086163143530474,\n        \"min\": 0.8095856451422501,\n        \"max\": 1.9531418036564756,\n        \"num_unique_values\": 2,\n        \"samples\": [\n          0.8095856451422501,\n          1.9531418036564756\n        ],\n        \"semantic_type\": \"\",\n        \"description\": \"\"\n      }\n    },\n    {\n      \"column\": \"t2_towerKills\",\n      \"properties\": {\n        \"dtype\": \"number\",\n        \"std\": 4.2882138117773065,\n        \"min\": 2.558380703641112,\n        \"max\": 8.622830834612206,\n        \"num_unique_values\": 2,\n        \"samples\": [\n          8.622830834612206,\n          2.558380703641112\n        ],\n        \"semantic_type\": \"\",\n        \"description\": \"\"\n      }\n    },\n    {\n      \"column\": \"t2_inhibitorKills\",\n      \"properties\": {\n        \"dtype\": \"number\",\n        \"std\": 1.1732965827953135,\n        \"min\": 0.1662697803041942,\n        \"max\": 1.8255617203793335,\n        \"num_unique_values\": 2,\n        \"samples\": [\n          1.8255617203793335,\n          0.1662697803041942\n        ],\n        \"semantic_type\": \"\",\n        \"description\": \"\"\n      }\n    },\n    {\n      \"column\": \"t2_baronKills\",\n      \"properties\": {\n        \"dtype\": \"number\",\n        \"std\": 0.3463809212123404,\n        \"min\": 0.17291442617913658,\n        \"max\": 0.6627710227049148,\n        \"num_unique_values\": 2,\n        \"samples\": [\n          0.6627710227049148,\n          0.17291442617913658\n        ],\n        \"semantic_type\": \"\",\n        \"description\": \"\"\n      }\n    },\n    {\n      \"column\": \"t2_dragonKills\",\n      \"properties\": {\n        \"dtype\": \"number\",\n        \"std\": 0.8601776387126568,\n        \"min\": 0.8046166845905669,\n        \"max\": 2.0210915673080705,\n        \"num_unique_values\": 2,\n        \"samples\": [\n          2.0210915673080705,\n          0.8046166845905669\n        ],\n        \"semantic_type\": \"\",\n        \"description\": \"\"\n      }\n    }\n  ]\n}"
            }
          },
          "metadata": {},
          "execution_count": 13
        }
      ],
      "source": [
        "data_new=data[[\"winner\",\"t1_towerKills\",\"t1_inhibitorKills\",\"t1_baronKills\",\"t1_dragonKills\",\"t2_towerKills\",\"t2_inhibitorKills\",\"t2_baronKills\",\"t2_dragonKills\"]]\n",
        "data_new.groupby(\"winner\").mean()\n"
      ]
    },
    {
      "cell_type": "code",
      "execution_count": null,
      "metadata": {
        "_kg_hide-input": true,
        "colab": {
          "base_uri": "https://localhost:8080/",
          "height": 945
        },
        "id": "HS_HbMlBqYgc",
        "outputId": "a4768f20-105d-4b5a-8185-ef089566eabd"
      },
      "outputs": [
        {
          "output_type": "display_data",
          "data": {
            "text/plain": [
              "<Figure size 1500x1000 with 8 Axes>"
            ],
            "image/png": "[encoded data removed]"
          },
          "metadata": {}
        }
      ],
      "source": [
        "f=data_new.groupby(\"winner\").mean().plot(kind=\"bar\",subplots=True,sharex=False,sharey=False,figsize=(15,10),layout=(2,4),alpha=0.7,title=\"Average Number of Tower etc. kills According to Winners\")\n",
        "f= sns.set_style(\"darkgrid\")\n",
        "f=sns.set_context(\"paper\")\n",
        "plt.show()"
      ]
    },
    {
      "cell_type": "code",
      "execution_count": null,
      "metadata": {
        "_kg_hide-input": true,
        "id": "1Z4Kwi5VqYgd"
      },
      "outputs": [],
      "source": [
        "y = data[\"winner\"].values\n",
        "x = data.drop([\"winner\"],axis=1)\n",
        "from sklearn.model_selection import train_test_split\n",
        "x_train, x_test, y_train, y_test = train_test_split(x,y,test_size = 0.3,random_state=1)\n",
        "from sklearn.tree import DecisionTreeClassifier\n",
        "from sklearn.model_selection import GridSearchCV"
      ]
    },
    {
      "cell_type": "markdown",
      "metadata": {
        "id": "lgm0nahQqYgd"
      },
      "source": [
        "<a id=\"3\"></a> <br>\n",
        "**Decision Tree with Grid Search Method**"
      ]
    },
    {
      "cell_type": "markdown",
      "metadata": {
        "id": "WDQWa6XUqYgd"
      },
      "source": [
        "To develop best model we searched best parameters. To find that we used Grid Search Method."
      ]
    },
    {
      "cell_type": "code",
      "execution_count": null,
      "metadata": {
        "id": "Zs3ah_XRqYgd"
      },
      "outputs": [],
      "source": [
        "criterion=[\"gini\",\"entropy\"]\n",
        "max_depth=range(1,20,2)\n",
        "splitter=[\"best\",\"random\"]\n",
        "dt=DecisionTreeClassifier()\n",
        "grid_decision_tree=GridSearchCV(estimator=dt,cv=15,param_grid=dict(criterion=criterion,max_depth=max_depth,splitter=splitter))"
      ]
    },
    {
      "cell_type": "code",
      "execution_count": null,
      "metadata": {
        "colab": {
          "base_uri": "https://localhost:8080/"
        },
        "id": "o93u3vlnqYgd",
        "outputId": "9009d8af-3ac3-4d08-d882-efee29f6da66"
      },
      "outputs": [
        {
          "output_type": "stream",
          "name": "stdout",
          "text": [
            "best score:  0.9693175528714891\n",
            "best param:  {'criterion': 'entropy', 'max_depth': 7, 'splitter': 'best'}\n"
          ]
        }
      ],
      "source": [
        "grid_decision_tree.fit(x_train,y_train)\n",
        "print(\"best score: \", grid_decision_tree.best_score_)\n",
        "print(\"best param: \", grid_decision_tree.best_params_)"
      ]
    },
    {
      "cell_type": "markdown",
      "metadata": {
        "id": "OG9F-ahPqYgd"
      },
      "source": [
        "And we found best parameters : criterion parameter as entropy , max depth is 7 and splitter is best. And then we test our model."
      ]
    },
    {
      "cell_type": "code",
      "execution_count": null,
      "metadata": {
        "colab": {
          "base_uri": "https://localhost:8080/"
        },
        "id": "ErqseeZXqYgd",
        "outputId": "109c1b33-3ccd-4163-efef-1a2140181c18"
      },
      "outputs": [
        {
          "output_type": "stream",
          "name": "stdout",
          "text": [
            "score: 0.9663103336572725\n"
          ]
        }
      ],
      "source": [
        "dt2=DecisionTreeClassifier(criterion=\"entropy\",max_depth=7, splitter=\"best\")\n",
        "dt2.fit(x_train,y_train)\n",
        "print(\"score:\", dt2.score(x_test,y_test))"
      ]
    },
    {
      "cell_type": "markdown",
      "metadata": {
        "id": "zJWdUsEhqYgd"
      },
      "source": [
        "Our model is working with about 97% accuracy. Following figure shows decision tree:"
      ]
    },
    {
      "cell_type": "code",
      "execution_count": null,
      "metadata": {
        "_kg_hide-input": true,
        "colab": {
          "base_uri": "https://localhost:8080/",
          "height": 1000
        },
        "id": "KAT8Rl4kqYge",
        "outputId": "39229d69-d756-4f60-d4b7-df8e624df0fe"
      },
      "outputs": [
        {
          "output_type": "execute_result",
          "data": {
            "image/svg+xml": "<?xml version=\"1.0\" encoding=\"UTF-8\" standalone=\"no\"?>\n<!DOCTYPE svg PUBLIC \"-//W3C//DTD SVG 1.1//EN\"\n \"http://www.w3.org/Graphics/SVG/1.1/DTD/svg11.dtd\">\n<!-- Generated by graphviz version 2.43.0 (0)\n -->\n<!-- Title: Tree Pages: 1 -->\n<svg width=\"10020pt\" height=\"909pt\"\n viewBox=\"0.00 0.00 10020.00 909.00\" xmlns=\"http://www.w3.org/2000/svg\" xmlns:xlink=\"http://www.w3.org/1999/xlink\">\n<g id=\"graph0\" class=\"graph\" transform=\"scale(1 1) rotate(0) translate(4 905)\">\n<title>Tree</title>\n<polygon fill=\"white\" stroke=\"transparent\" points=\"-4,4 -4,-905 10016,-905 10016,4 -4,4\"/>\n<!-- 0 -->\n<g id=\"node1\" class=\"node\">\n<title>0</title>\n<path fill=\"#fffdfd\" stroke=\"black\" d=\"M5237,-901C5237,-901 5106,-901 5106,-901 5100,-901 5094,-895 5094,-889 5094,-889 5094,-830 5094,-830 5094,-824 5100,-818 5106,-818 5106,-818 5237,-818 5237,-818 5243,-818 5249,-824 5249,-830 5249,-830 5249,-889 5249,-889 5249,-895 5243,-901 5237,-901\"/>\n<text text-anchor=\"start\" x=\"5116\" y=\"-885.8\" font-family=\"Helvetica,sans-Serif\" font-size=\"14.00\">t2_towerKills ≤ 6.5</text>\n<text text-anchor=\"start\" x=\"5131.5\" y=\"-870.8\" font-family=\"Helvetica,sans-Serif\" font-size=\"14.00\">entropy = 1.0</text>\n<text text-anchor=\"start\" x=\"5119\" y=\"-855.8\" font-family=\"Helvetica,sans-Serif\" font-size=\"14.00\">samples = 36014</text>\n<text text-anchor=\"start\" x=\"5102\" y=\"-840.8\" font-family=\"Helvetica,sans-Serif\" font-size=\"14.00\">value = [18119, 17895]</text>\n<text text-anchor=\"start\" x=\"5144\" y=\"-825.8\" font-family=\"Helvetica,sans-Serif\" font-size=\"14.00\">class = 1</text>\n</g>\n<!-- 1 -->\n<g id=\"node2\" class=\"node\">\n<title>1</title>\n<path fill=\"#e99457\" stroke=\"black\" d=\"M4185,-782C4185,-782 4062,-782 4062,-782 4056,-782 4050,-776 4050,-770 4050,-770 4050,-711 4050,-711 4050,-705 4056,-699 4062,-699 4062,-699 4185,-699 4185,-699 4191,-699 4197,-705 4197,-711 4197,-711 4197,-770 4197,-770 4197,-776 4191,-782 4185,-782\"/>\n<text text-anchor=\"start\" x=\"4068\" y=\"-766.8\" font-family=\"Helvetica,sans-Serif\" font-size=\"14.00\">t1_towerKills ≤ 3.5</text>\n<text text-anchor=\"start\" x=\"4076\" y=\"-751.8\" font-family=\"Helvetica,sans-Serif\" font-size=\"14.00\">entropy = 0.564</text>\n<text text-anchor=\"start\" x=\"4071\" y=\"-736.8\" font-family=\"Helvetica,sans-Serif\" font-size=\"14.00\">samples = 19339</text>\n<text text-anchor=\"start\" x=\"4058\" y=\"-721.8\" font-family=\"Helvetica,sans-Serif\" font-size=\"14.00\">value = [16775, 2564]</text>\n<text text-anchor=\"start\" x=\"4096\" y=\"-706.8\" font-family=\"Helvetica,sans-Serif\" font-size=\"14.00\">class = 1</text>\n</g>\n<!-- 0&#45;&gt;1 -->\n<g id=\"edge1\" class=\"edge\">\n<title>0&#45;&gt;1</title>\n<path fill=\"none\" stroke=\"black\" d=\"M5093.59,-849.8C4901.25,-828.33 4405.2,-772.95 4207.06,-750.83\"/>\n<polygon fill=\"black\" stroke=\"black\" points=\"4207.33,-747.34 4197,-749.71 4206.55,-754.29 4207.33,-747.34\"/>\n<text text-anchor=\"middle\" x=\"4212.61\" y=\"-765.54\" font-family=\"Helvetica,sans-Serif\" font-size=\"14.00\">True</text>\n</g>\n<!-- 98 -->\n<g id=\"node99\" class=\"node\">\n<title>98</title>\n<path fill=\"#4aa6e7\" stroke=\"black\" d=\"M6150,-782C6150,-782 6027,-782 6027,-782 6021,-782 6015,-776 6015,-770 6015,-770 6015,-711 6015,-711 6015,-705 6021,-699 6027,-699 6027,-699 6150,-699 6150,-699 6156,-699 6162,-705 6162,-711 6162,-711 6162,-770 6162,-770 6162,-776 6156,-782 6150,-782\"/>\n<text text-anchor=\"start\" x=\"6033\" y=\"-766.8\" font-family=\"Helvetica,sans-Serif\" font-size=\"14.00\">t1_towerKills ≤ 6.5</text>\n<text text-anchor=\"start\" x=\"6041\" y=\"-751.8\" font-family=\"Helvetica,sans-Serif\" font-size=\"14.00\">entropy = 0.404</text>\n<text text-anchor=\"start\" x=\"6036\" y=\"-736.8\" font-family=\"Helvetica,sans-Serif\" font-size=\"14.00\">samples = 16675</text>\n<text text-anchor=\"start\" x=\"6023\" y=\"-721.8\" font-family=\"Helvetica,sans-Serif\" font-size=\"14.00\">value = [1344, 15331]</text>\n<text text-anchor=\"start\" x=\"6061\" y=\"-706.8\" font-family=\"Helvetica,sans-Serif\" font-size=\"14.00\">class = 2</text>\n</g>\n<!-- 0&#45;&gt;98 -->\n<g id=\"edge98\" class=\"edge\">\n<title>0&#45;&gt;98</title>\n<path fill=\"none\" stroke=\"black\" d=\"M5249.29,-848.58C5420.46,-826.74 5828.53,-774.67 6004.91,-752.16\"/>\n<polygon fill=\"black\" stroke=\"black\" points=\"6005.44,-755.63 6014.92,-750.89 6004.56,-748.68 6005.44,-755.63\"/>\n<text text-anchor=\"middle\" x=\"5999.62\" y=\"-766.96\" font-family=\"Helvetica,sans-Serif\" font-size=\"14.00\">False</text>\n</g>\n<!-- 2 -->\n<g id=\"node3\" class=\"node\">\n<title>2</title>\n<path fill=\"#85c2ef\" stroke=\"black\" d=\"M2244.5,-663C2244.5,-663 2136.5,-663 2136.5,-663 2130.5,-663 2124.5,-657 2124.5,-651 2124.5,-651 2124.5,-592 2124.5,-592 2124.5,-586 2130.5,-580 2136.5,-580 2136.5,-580 2244.5,-580 2244.5,-580 2250.5,-580 2256.5,-586 2256.5,-592 2256.5,-592 2256.5,-651 2256.5,-651 2256.5,-657 2250.5,-663 2244.5,-663\"/>\n<text text-anchor=\"start\" x=\"2135\" y=\"-647.8\" font-family=\"Helvetica,sans-Serif\" font-size=\"14.00\">t2_towerKills ≤ 2.5</text>\n<text text-anchor=\"start\" x=\"2143\" y=\"-632.8\" font-family=\"Helvetica,sans-Serif\" font-size=\"14.00\">entropy = 0.851</text>\n<text text-anchor=\"start\" x=\"2142\" y=\"-617.8\" font-family=\"Helvetica,sans-Serif\" font-size=\"14.00\">samples = 3095</text>\n<text text-anchor=\"start\" x=\"2132.5\" y=\"-602.8\" font-family=\"Helvetica,sans-Serif\" font-size=\"14.00\">value = [856, 2239]</text>\n<text text-anchor=\"start\" x=\"2163\" y=\"-587.8\" font-family=\"Helvetica,sans-Serif\" font-size=\"14.00\">class = 2</text>\n</g>\n<!-- 1&#45;&gt;2 -->\n<g id=\"edge2\" class=\"edge\">\n<title>1&#45;&gt;2</title>\n<path fill=\"none\" stroke=\"black\" d=\"M4049.79,-735.04C3744.19,-716.54 2578.17,-645.96 2267.14,-627.14\"/>\n<polygon fill=\"black\" stroke=\"black\" points=\"2267.06,-623.63 2256.87,-626.52 2266.64,-630.62 2267.06,-623.63\"/>\n</g>\n<!-- 47 -->\n<g id=\"node48\" class=\"node\">\n<title>47</title>\n<path fill=\"#e6843d\" stroke=\"black\" d=\"M4182,-663C4182,-663 4065,-663 4065,-663 4059,-663 4053,-657 4053,-651 4053,-651 4053,-592 4053,-592 4053,-586 4059,-580 4065,-580 4065,-580 4182,-580 4182,-580 4188,-580 4194,-586 4194,-592 4194,-592 4194,-651 4194,-651 4194,-657 4188,-663 4182,-663\"/>\n<text text-anchor=\"start\" x=\"4061\" y=\"-647.8\" font-family=\"Helvetica,sans-Serif\" font-size=\"14.00\">t2_inhibitorKills ≤ 0.5</text>\n<text text-anchor=\"start\" x=\"4076\" y=\"-632.8\" font-family=\"Helvetica,sans-Serif\" font-size=\"14.00\">entropy = 0.141</text>\n<text text-anchor=\"start\" x=\"4071\" y=\"-617.8\" font-family=\"Helvetica,sans-Serif\" font-size=\"14.00\">samples = 16244</text>\n<text text-anchor=\"start\" x=\"4061.5\" y=\"-602.8\" font-family=\"Helvetica,sans-Serif\" font-size=\"14.00\">value = [15919, 325]</text>\n<text text-anchor=\"start\" x=\"4096\" y=\"-587.8\" font-family=\"Helvetica,sans-Serif\" font-size=\"14.00\">class = 1</text>\n</g>\n<!-- 1&#45;&gt;47 -->\n<g id=\"edge47\" class=\"edge\">\n<title>1&#45;&gt;47</title>\n<path fill=\"none\" stroke=\"black\" d=\"M4123.5,-698.91C4123.5,-690.65 4123.5,-681.86 4123.5,-673.3\"/>\n<polygon fill=\"black\" stroke=\"black\" points=\"4127,-673.02 4123.5,-663.02 4120,-673.02 4127,-673.02\"/>\n</g>\n<!-- 3 -->\n<g id=\"node4\" class=\"node\">\n<title>3</title>\n<path fill=\"#f7dac5\" stroke=\"black\" d=\"M1363,-544C1363,-544 1260,-544 1260,-544 1254,-544 1248,-538 1248,-532 1248,-532 1248,-473 1248,-473 1248,-467 1254,-461 1260,-461 1260,-461 1363,-461 1363,-461 1369,-461 1375,-467 1375,-473 1375,-473 1375,-532 1375,-532 1375,-538 1369,-544 1363,-544\"/>\n<text text-anchor=\"start\" x=\"1256\" y=\"-528.8\" font-family=\"Helvetica,sans-Serif\" font-size=\"14.00\">t1_towerKills ≤ 1.5</text>\n<text text-anchor=\"start\" x=\"1264\" y=\"-513.8\" font-family=\"Helvetica,sans-Serif\" font-size=\"14.00\">entropy = 0.979</text>\n<text text-anchor=\"start\" x=\"1263\" y=\"-498.8\" font-family=\"Helvetica,sans-Serif\" font-size=\"14.00\">samples = 1400</text>\n<text text-anchor=\"start\" x=\"1257\" y=\"-483.8\" font-family=\"Helvetica,sans-Serif\" font-size=\"14.00\">value = [820, 580]</text>\n<text text-anchor=\"start\" x=\"1284\" y=\"-468.8\" font-family=\"Helvetica,sans-Serif\" font-size=\"14.00\">class = 1</text>\n</g>\n<!-- 2&#45;&gt;3 -->\n<g id=\"edge3\" class=\"edge\">\n<title>2&#45;&gt;3</title>\n<path fill=\"none\" stroke=\"black\" d=\"M2124.43,-611.71C1963.72,-590.31 1553.24,-535.68 1385.06,-513.29\"/>\n<polygon fill=\"black\" stroke=\"black\" points=\"1385.43,-509.81 1375.06,-511.96 1384.51,-516.75 1385.43,-509.81\"/>\n</g>\n<!-- 32 -->\n<g id=\"node33\" class=\"node\">\n<title>32</title>\n<path fill=\"#3d9fe6\" stroke=\"black\" d=\"M2242,-544C2242,-544 2139,-544 2139,-544 2133,-544 2127,-538 2127,-532 2127,-532 2127,-473 2127,-473 2127,-467 2133,-461 2139,-461 2139,-461 2242,-461 2242,-461 2248,-461 2254,-467 2254,-473 2254,-473 2254,-532 2254,-532 2254,-538 2248,-544 2242,-544\"/>\n<text text-anchor=\"start\" x=\"2135\" y=\"-528.8\" font-family=\"Helvetica,sans-Serif\" font-size=\"14.00\">t1_towerKills ≤ 1.5</text>\n<text text-anchor=\"start\" x=\"2143\" y=\"-513.8\" font-family=\"Helvetica,sans-Serif\" font-size=\"14.00\">entropy = 0.148</text>\n<text text-anchor=\"start\" x=\"2142\" y=\"-498.8\" font-family=\"Helvetica,sans-Serif\" font-size=\"14.00\">samples = 1695</text>\n<text text-anchor=\"start\" x=\"2136\" y=\"-483.8\" font-family=\"Helvetica,sans-Serif\" font-size=\"14.00\">value = [36, 1659]</text>\n<text text-anchor=\"start\" x=\"2163\" y=\"-468.8\" font-family=\"Helvetica,sans-Serif\" font-size=\"14.00\">class = 2</text>\n</g>\n<!-- 2&#45;&gt;32 -->\n<g id=\"edge32\" class=\"edge\">\n<title>2&#45;&gt;32</title>\n<path fill=\"none\" stroke=\"black\" d=\"M2190.5,-579.91C2190.5,-571.65 2190.5,-562.86 2190.5,-554.3\"/>\n<polygon fill=\"black\" stroke=\"black\" points=\"2194,-554.02 2190.5,-544.02 2187,-554.02 2194,-554.02\"/>\n</g>\n<!-- 4 -->\n<g id=\"node5\" class=\"node\">\n<title>4</title>\n<path fill=\"#dcedfa\" stroke=\"black\" d=\"M834,-425C834,-425 733,-425 733,-425 727,-425 721,-419 721,-413 721,-413 721,-354 721,-354 721,-348 727,-342 733,-342 733,-342 834,-342 834,-342 840,-342 846,-348 846,-354 846,-354 846,-413 846,-413 846,-419 840,-425 834,-425\"/>\n<text text-anchor=\"start\" x=\"737.5\" y=\"-409.8\" font-family=\"Helvetica,sans-Serif\" font-size=\"14.00\">firstTower ≤ 1.5</text>\n<text text-anchor=\"start\" x=\"736\" y=\"-394.8\" font-family=\"Helvetica,sans-Serif\" font-size=\"14.00\">entropy = 0.993</text>\n<text text-anchor=\"start\" x=\"735\" y=\"-379.8\" font-family=\"Helvetica,sans-Serif\" font-size=\"14.00\">samples = 1016</text>\n<text text-anchor=\"start\" x=\"729\" y=\"-364.8\" font-family=\"Helvetica,sans-Serif\" font-size=\"14.00\">value = [458, 558]</text>\n<text text-anchor=\"start\" x=\"756\" y=\"-349.8\" font-family=\"Helvetica,sans-Serif\" font-size=\"14.00\">class = 2</text>\n</g>\n<!-- 3&#45;&gt;4 -->\n<g id=\"edge4\" class=\"edge\">\n<title>3&#45;&gt;4</title>\n<path fill=\"none\" stroke=\"black\" d=\"M1247.81,-487.39C1149.1,-465.51 959.75,-423.56 855.96,-400.56\"/>\n<polygon fill=\"black\" stroke=\"black\" points=\"856.7,-397.14 846.18,-398.39 855.19,-403.97 856.7,-397.14\"/>\n</g>\n<!-- 19 -->\n<g id=\"node20\" class=\"node\">\n<title>19</title>\n<path fill=\"#e78945\" stroke=\"black\" d=\"M1363,-425C1363,-425 1260,-425 1260,-425 1254,-425 1248,-419 1248,-413 1248,-413 1248,-354 1248,-354 1248,-348 1254,-342 1260,-342 1260,-342 1363,-342 1363,-342 1369,-342 1375,-348 1375,-354 1375,-354 1375,-413 1375,-413 1375,-419 1369,-425 1363,-425\"/>\n<text text-anchor=\"start\" x=\"1256\" y=\"-409.8\" font-family=\"Helvetica,sans-Serif\" font-size=\"14.00\">t2_towerKills ≤ 1.5</text>\n<text text-anchor=\"start\" x=\"1264\" y=\"-394.8\" font-family=\"Helvetica,sans-Serif\" font-size=\"14.00\">entropy = 0.317</text>\n<text text-anchor=\"start\" x=\"1266.5\" y=\"-379.8\" font-family=\"Helvetica,sans-Serif\" font-size=\"14.00\">samples = 384</text>\n<text text-anchor=\"start\" x=\"1261\" y=\"-364.8\" font-family=\"Helvetica,sans-Serif\" font-size=\"14.00\">value = [362, 22]</text>\n<text text-anchor=\"start\" x=\"1284\" y=\"-349.8\" font-family=\"Helvetica,sans-Serif\" font-size=\"14.00\">class = 1</text>\n</g>\n<!-- 3&#45;&gt;19 -->\n<g id=\"edge19\" class=\"edge\">\n<title>3&#45;&gt;19</title>\n<path fill=\"none\" stroke=\"black\" d=\"M1311.5,-460.91C1311.5,-452.65 1311.5,-443.86 1311.5,-435.3\"/>\n<polygon fill=\"black\" stroke=\"black\" points=\"1315,-435.02 1311.5,-425.02 1308,-435.02 1315,-435.02\"/>\n</g>\n<!-- 5 -->\n<g id=\"node6\" class=\"node\">\n<title>5</title>\n<path fill=\"#fdf7f3\" stroke=\"black\" d=\"M471,-306C471,-306 348,-306 348,-306 342,-306 336,-300 336,-294 336,-294 336,-235 336,-235 336,-229 342,-223 348,-223 348,-223 471,-223 471,-223 477,-223 483,-229 483,-235 483,-235 483,-294 483,-294 483,-300 477,-306 471,-306\"/>\n<text text-anchor=\"start\" x=\"364\" y=\"-290.8\" font-family=\"Helvetica,sans-Serif\" font-size=\"14.00\">firstBlood ≤ 1.5</text>\n<text text-anchor=\"start\" x=\"362\" y=\"-275.8\" font-family=\"Helvetica,sans-Serif\" font-size=\"14.00\">entropy = 0.999</text>\n<text text-anchor=\"start\" x=\"364.5\" y=\"-260.8\" font-family=\"Helvetica,sans-Serif\" font-size=\"14.00\">samples = 874</text>\n<text text-anchor=\"start\" x=\"344\" y=\"-245.8\" font-family=\"Helvetica,sans-Serif\" font-size=\"14.00\">value = [451.0, 423.0]</text>\n<text text-anchor=\"start\" x=\"382\" y=\"-230.8\" font-family=\"Helvetica,sans-Serif\" font-size=\"14.00\">class = 1</text>\n</g>\n<!-- 4&#45;&gt;5 -->\n<g id=\"edge5\" class=\"edge\">\n<title>4&#45;&gt;5</title>\n<path fill=\"none\" stroke=\"black\" d=\"M720.9,-362.92C658.34,-343.35 561.78,-313.14 492.78,-291.55\"/>\n<polygon fill=\"black\" stroke=\"black\" points=\"493.82,-288.21 483.24,-288.57 491.73,-294.89 493.82,-288.21\"/>\n</g>\n<!-- 12 -->\n<g id=\"node13\" class=\"node\">\n<title>12</title>\n<path fill=\"#43a2e6\" stroke=\"black\" d=\"M839.5,-306C839.5,-306 727.5,-306 727.5,-306 721.5,-306 715.5,-300 715.5,-294 715.5,-294 715.5,-235 715.5,-235 715.5,-229 721.5,-223 727.5,-223 727.5,-223 839.5,-223 839.5,-223 845.5,-223 851.5,-229 851.5,-235 851.5,-235 851.5,-294 851.5,-294 851.5,-300 845.5,-306 839.5,-306\"/>\n<text text-anchor=\"start\" x=\"723.5\" y=\"-290.8\" font-family=\"Helvetica,sans-Serif\" font-size=\"14.00\">t2_dragonKills ≤ 0.5</text>\n<text text-anchor=\"start\" x=\"736\" y=\"-275.8\" font-family=\"Helvetica,sans-Serif\" font-size=\"14.00\">entropy = 0.283</text>\n<text text-anchor=\"start\" x=\"738.5\" y=\"-260.8\" font-family=\"Helvetica,sans-Serif\" font-size=\"14.00\">samples = 142</text>\n<text text-anchor=\"start\" x=\"725.5\" y=\"-245.8\" font-family=\"Helvetica,sans-Serif\" font-size=\"14.00\">value = [7.0, 135.0]</text>\n<text text-anchor=\"start\" x=\"756\" y=\"-230.8\" font-family=\"Helvetica,sans-Serif\" font-size=\"14.00\">class = 2</text>\n</g>\n<!-- 4&#45;&gt;12 -->\n<g id=\"edge12\" class=\"edge\">\n<title>4&#45;&gt;12</title>\n<path fill=\"none\" stroke=\"black\" d=\"M783.5,-341.91C783.5,-333.65 783.5,-324.86 783.5,-316.3\"/>\n<polygon fill=\"black\" stroke=\"black\" points=\"787,-316.02 783.5,-306.02 780,-316.02 787,-316.02\"/>\n</g>\n<!-- 6 -->\n<g id=\"node7\" class=\"node\">\n<title>6</title>\n<path fill=\"#f9e1d1\" stroke=\"black\" d=\"M252,-187C252,-187 151,-187 151,-187 145,-187 139,-181 139,-175 139,-175 139,-116 139,-116 139,-110 145,-104 151,-104 151,-104 252,-104 252,-104 258,-104 264,-110 264,-116 264,-116 264,-175 264,-175 264,-181 258,-187 252,-187\"/>\n<text text-anchor=\"start\" x=\"156\" y=\"-171.8\" font-family=\"Helvetica,sans-Serif\" font-size=\"14.00\">firstBlood ≤ 0.5</text>\n<text text-anchor=\"start\" x=\"154\" y=\"-156.8\" font-family=\"Helvetica,sans-Serif\" font-size=\"14.00\">entropy = 0.987</text>\n<text text-anchor=\"start\" x=\"156.5\" y=\"-141.8\" font-family=\"Helvetica,sans-Serif\" font-size=\"14.00\">samples = 625</text>\n<text text-anchor=\"start\" x=\"147\" y=\"-126.8\" font-family=\"Helvetica,sans-Serif\" font-size=\"14.00\">value = [354, 271]</text>\n<text text-anchor=\"start\" x=\"174\" y=\"-111.8\" font-family=\"Helvetica,sans-Serif\" font-size=\"14.00\">class = 1</text>\n</g>\n<!-- 5&#45;&gt;6 -->\n<g id=\"edge6\" class=\"edge\">\n<title>5&#45;&gt;6</title>\n<path fill=\"none\" stroke=\"black\" d=\"M337.34,-222.91C316.49,-211.18 293.76,-198.4 272.97,-186.7\"/>\n<polygon fill=\"black\" stroke=\"black\" points=\"274.61,-183.61 264.18,-181.76 271.18,-189.71 274.61,-183.61\"/>\n</g>\n<!-- 9 -->\n<g id=\"node10\" class=\"node\">\n<title>9</title>\n<path fill=\"#b7dcf6\" stroke=\"black\" d=\"M465.5,-187C465.5,-187 353.5,-187 353.5,-187 347.5,-187 341.5,-181 341.5,-175 341.5,-175 341.5,-116 341.5,-116 341.5,-110 347.5,-104 353.5,-104 353.5,-104 465.5,-104 465.5,-104 471.5,-104 477.5,-110 477.5,-116 477.5,-116 477.5,-175 477.5,-175 477.5,-181 471.5,-187 465.5,-187\"/>\n<text text-anchor=\"start\" x=\"349.5\" y=\"-171.8\" font-family=\"Helvetica,sans-Serif\" font-size=\"14.00\">t1_dragonKills ≤ 0.5</text>\n<text text-anchor=\"start\" x=\"362\" y=\"-156.8\" font-family=\"Helvetica,sans-Serif\" font-size=\"14.00\">entropy = 0.965</text>\n<text text-anchor=\"start\" x=\"364.5\" y=\"-141.8\" font-family=\"Helvetica,sans-Serif\" font-size=\"14.00\">samples = 249</text>\n<text text-anchor=\"start\" x=\"359\" y=\"-126.8\" font-family=\"Helvetica,sans-Serif\" font-size=\"14.00\">value = [97, 152]</text>\n<text text-anchor=\"start\" x=\"382\" y=\"-111.8\" font-family=\"Helvetica,sans-Serif\" font-size=\"14.00\">class = 2</text>\n</g>\n<!-- 5&#45;&gt;9 -->\n<g id=\"edge9\" class=\"edge\">\n<title>5&#45;&gt;9</title>\n<path fill=\"none\" stroke=\"black\" d=\"M409.5,-222.91C409.5,-214.65 409.5,-205.86 409.5,-197.3\"/>\n<polygon fill=\"black\" stroke=\"black\" points=\"413,-197.02 409.5,-187.02 406,-197.02 413,-197.02\"/>\n</g>\n<!-- 7 -->\n<g id=\"node8\" class=\"node\">\n<title>7</title>\n<path fill=\"#fefaf7\" stroke=\"black\" d=\"M113,-68C113,-68 12,-68 12,-68 6,-68 0,-62 0,-56 0,-56 0,-12 0,-12 0,-6 6,0 12,0 12,0 113,0 113,0 119,0 125,-6 125,-12 125,-12 125,-56 125,-56 125,-62 119,-68 113,-68\"/>\n<text text-anchor=\"start\" x=\"22.5\" y=\"-52.8\" font-family=\"Helvetica,sans-Serif\" font-size=\"14.00\">entropy = 1.0</text>\n<text text-anchor=\"start\" x=\"17.5\" y=\"-37.8\" font-family=\"Helvetica,sans-Serif\" font-size=\"14.00\">samples = 353</text>\n<text text-anchor=\"start\" x=\"8\" y=\"-22.8\" font-family=\"Helvetica,sans-Serif\" font-size=\"14.00\">value = [180, 173]</text>\n<text text-anchor=\"start\" x=\"35\" y=\"-7.8\" font-family=\"Helvetica,sans-Serif\" font-size=\"14.00\">class = 1</text>\n</g>\n<!-- 6&#45;&gt;7 -->\n<g id=\"edge7\" class=\"edge\">\n<title>6&#45;&gt;7</title>\n<path fill=\"none\" stroke=\"black\" d=\"M149.74,-103.73C137.7,-94.24 124.9,-84.16 112.92,-74.72\"/>\n<polygon fill=\"black\" stroke=\"black\" points=\"114.79,-71.74 104.77,-68.3 110.46,-77.24 114.79,-71.74\"/>\n</g>\n<!-- 8 -->\n<g id=\"node9\" class=\"node\">\n<title>8</title>\n<path fill=\"#f4c8a9\" stroke=\"black\" d=\"M248,-68C248,-68 155,-68 155,-68 149,-68 143,-62 143,-56 143,-56 143,-12 143,-12 143,-6 149,0 155,0 155,0 248,0 248,0 254,0 260,-6 260,-12 260,-12 260,-56 260,-56 260,-62 254,-68 248,-68\"/>\n<text text-anchor=\"start\" x=\"154\" y=\"-52.8\" font-family=\"Helvetica,sans-Serif\" font-size=\"14.00\">entropy = 0.943</text>\n<text text-anchor=\"start\" x=\"156.5\" y=\"-37.8\" font-family=\"Helvetica,sans-Serif\" font-size=\"14.00\">samples = 272</text>\n<text text-anchor=\"start\" x=\"151\" y=\"-22.8\" font-family=\"Helvetica,sans-Serif\" font-size=\"14.00\">value = [174, 98]</text>\n<text text-anchor=\"start\" x=\"174\" y=\"-7.8\" font-family=\"Helvetica,sans-Serif\" font-size=\"14.00\">class = 1</text>\n</g>\n<!-- 6&#45;&gt;8 -->\n<g id=\"edge8\" class=\"edge\">\n<title>6&#45;&gt;8</title>\n<path fill=\"none\" stroke=\"black\" d=\"M201.5,-103.73C201.5,-95.52 201.5,-86.86 201.5,-78.56\"/>\n<polygon fill=\"black\" stroke=\"black\" points=\"205,-78.3 201.5,-68.3 198,-78.3 205,-78.3\"/>\n</g>\n<!-- 10 -->\n<g id=\"node11\" class=\"node\">\n<title>10</title>\n<path fill=\"#abd5f4\" stroke=\"black\" d=\"M383,-68C383,-68 290,-68 290,-68 284,-68 278,-62 278,-56 278,-56 278,-12 278,-12 278,-6 284,0 290,0 290,0 383,0 383,0 389,0 395,-6 395,-12 395,-12 395,-56 395,-56 395,-62 389,-68 383,-68\"/>\n<text text-anchor=\"start\" x=\"289\" y=\"-52.8\" font-family=\"Helvetica,sans-Serif\" font-size=\"14.00\">entropy = 0.947</text>\n<text text-anchor=\"start\" x=\"291.5\" y=\"-37.8\" font-family=\"Helvetica,sans-Serif\" font-size=\"14.00\">samples = 233</text>\n<text text-anchor=\"start\" x=\"286\" y=\"-22.8\" font-family=\"Helvetica,sans-Serif\" font-size=\"14.00\">value = [85, 148]</text>\n<text text-anchor=\"start\" x=\"309\" y=\"-7.8\" font-family=\"Helvetica,sans-Serif\" font-size=\"14.00\">class = 2</text>\n</g>\n<!-- 9&#45;&gt;10 -->\n<g id=\"edge10\" class=\"edge\">\n<title>9&#45;&gt;10</title>\n<path fill=\"none\" stroke=\"black\" d=\"M382.32,-103.73C376.42,-94.88 370.17,-85.51 364.25,-76.63\"/>\n<polygon fill=\"black\" stroke=\"black\" points=\"367.16,-74.68 358.7,-68.3 361.33,-78.56 367.16,-74.68\"/>\n</g>\n<!-- 11 -->\n<g id=\"node12\" class=\"node\">\n<title>11</title>\n<path fill=\"#eeab7b\" stroke=\"black\" d=\"M512,-68C512,-68 425,-68 425,-68 419,-68 413,-62 413,-56 413,-56 413,-12 413,-12 413,-6 419,0 425,0 425,0 512,0 512,0 518,0 524,-6 524,-12 524,-12 524,-56 524,-56 524,-62 518,-68 512,-68\"/>\n<text text-anchor=\"start\" x=\"421\" y=\"-52.8\" font-family=\"Helvetica,sans-Serif\" font-size=\"14.00\">entropy = 0.811</text>\n<text text-anchor=\"start\" x=\"427.5\" y=\"-37.8\" font-family=\"Helvetica,sans-Serif\" font-size=\"14.00\">samples = 16</text>\n<text text-anchor=\"start\" x=\"425.5\" y=\"-22.8\" font-family=\"Helvetica,sans-Serif\" font-size=\"14.00\">value = [12, 4]</text>\n<text text-anchor=\"start\" x=\"441\" y=\"-7.8\" font-family=\"Helvetica,sans-Serif\" font-size=\"14.00\">class = 1</text>\n</g>\n<!-- 9&#45;&gt;11 -->\n<g id=\"edge11\" class=\"edge\">\n<title>9&#45;&gt;11</title>\n<path fill=\"none\" stroke=\"black\" d=\"M431.47,-103.73C436.14,-95.06 441.08,-85.9 445.77,-77.18\"/>\n<polygon fill=\"black\" stroke=\"black\" points=\"448.9,-78.76 450.56,-68.3 442.73,-75.44 448.9,-78.76\"/>\n</g>\n<!-- 13 -->\n<g id=\"node14\" class=\"node\">\n<title>13</title>\n<path fill=\"#57ace9\" stroke=\"black\" d=\"M756,-187C756,-187 669,-187 669,-187 663,-187 657,-181 657,-175 657,-175 657,-116 657,-116 657,-110 663,-104 669,-104 669,-104 756,-104 756,-104 762,-104 768,-110 768,-116 768,-116 768,-175 768,-175 768,-181 762,-187 756,-187\"/>\n<text text-anchor=\"start\" x=\"667\" y=\"-171.8\" font-family=\"Helvetica,sans-Serif\" font-size=\"14.00\">firstBlood ≤ 1.5</text>\n<text text-anchor=\"start\" x=\"665\" y=\"-156.8\" font-family=\"Helvetica,sans-Serif\" font-size=\"14.00\">entropy = 0.567</text>\n<text text-anchor=\"start\" x=\"671.5\" y=\"-141.8\" font-family=\"Helvetica,sans-Serif\" font-size=\"14.00\">samples = 45</text>\n<text text-anchor=\"start\" x=\"669.5\" y=\"-126.8\" font-family=\"Helvetica,sans-Serif\" font-size=\"14.00\">value = [6, 39]</text>\n<text text-anchor=\"start\" x=\"685\" y=\"-111.8\" font-family=\"Helvetica,sans-Serif\" font-size=\"14.00\">class = 2</text>\n</g>\n<!-- 12&#45;&gt;13 -->\n<g id=\"edge13\" class=\"edge\">\n<title>12&#45;&gt;13</title>\n<path fill=\"none\" stroke=\"black\" d=\"M758.87,-222.91C753.53,-214.1 747.82,-204.7 742.3,-195.61\"/>\n<polygon fill=\"black\" stroke=\"black\" points=\"745.27,-193.75 737.09,-187.02 739.29,-197.39 745.27,-193.75\"/>\n</g>\n<!-- 16 -->\n<g id=\"node17\" class=\"node\">\n<title>16</title>\n<path fill=\"#3b9ee5\" stroke=\"black\" d=\"M910.5,-187C910.5,-187 798.5,-187 798.5,-187 792.5,-187 786.5,-181 786.5,-175 786.5,-175 786.5,-116 786.5,-116 786.5,-110 792.5,-104 798.5,-104 798.5,-104 910.5,-104 910.5,-104 916.5,-104 922.5,-110 922.5,-116 922.5,-116 922.5,-175 922.5,-175 922.5,-181 916.5,-187 910.5,-187\"/>\n<text text-anchor=\"start\" x=\"794.5\" y=\"-171.8\" font-family=\"Helvetica,sans-Serif\" font-size=\"14.00\">t1_dragonKills ≤ 0.5</text>\n<text text-anchor=\"start\" x=\"807\" y=\"-156.8\" font-family=\"Helvetica,sans-Serif\" font-size=\"14.00\">entropy = 0.083</text>\n<text text-anchor=\"start\" x=\"813.5\" y=\"-141.8\" font-family=\"Helvetica,sans-Serif\" font-size=\"14.00\">samples = 97</text>\n<text text-anchor=\"start\" x=\"811.5\" y=\"-126.8\" font-family=\"Helvetica,sans-Serif\" font-size=\"14.00\">value = [1, 96]</text>\n<text text-anchor=\"start\" x=\"827\" y=\"-111.8\" font-family=\"Helvetica,sans-Serif\" font-size=\"14.00\">class = 2</text>\n</g>\n<!-- 12&#45;&gt;16 -->\n<g id=\"edge16\" class=\"edge\">\n<title>12&#45;&gt;16</title>\n<path fill=\"none\" stroke=\"black\" d=\"M808.13,-222.91C813.47,-214.1 819.18,-204.7 824.7,-195.61\"/>\n<polygon fill=\"black\" stroke=\"black\" points=\"827.71,-197.39 829.91,-187.02 821.73,-193.75 827.71,-197.39\"/>\n</g>\n<!-- 14 -->\n<g id=\"node15\" class=\"node\">\n<title>14</title>\n<path fill=\"#d7ebfa\" stroke=\"black\" d=\"M641,-68C641,-68 554,-68 554,-68 548,-68 542,-62 542,-56 542,-56 542,-12 542,-12 542,-6 548,0 554,0 554,0 641,0 641,0 647,0 653,-6 653,-12 653,-12 653,-56 653,-56 653,-62 647,-68 641,-68\"/>\n<text text-anchor=\"start\" x=\"550\" y=\"-52.8\" font-family=\"Helvetica,sans-Serif\" font-size=\"14.00\">entropy = 0.991</text>\n<text text-anchor=\"start\" x=\"560\" y=\"-37.8\" font-family=\"Helvetica,sans-Serif\" font-size=\"14.00\">samples = 9</text>\n<text text-anchor=\"start\" x=\"558\" y=\"-22.8\" font-family=\"Helvetica,sans-Serif\" font-size=\"14.00\">value = [4, 5]</text>\n<text text-anchor=\"start\" x=\"570\" y=\"-7.8\" font-family=\"Helvetica,sans-Serif\" font-size=\"14.00\">class = 2</text>\n</g>\n<!-- 13&#45;&gt;14 -->\n<g id=\"edge14\" class=\"edge\">\n<title>13&#45;&gt;14</title>\n<path fill=\"none\" stroke=\"black\" d=\"M669.68,-103.73C659.91,-94.42 649.53,-84.54 639.78,-75.26\"/>\n<polygon fill=\"black\" stroke=\"black\" points=\"642.13,-72.66 632.47,-68.3 637.3,-77.73 642.13,-72.66\"/>\n</g>\n<!-- 15 -->\n<g id=\"node16\" class=\"node\">\n<title>15</title>\n<path fill=\"#45a3e7\" stroke=\"black\" d=\"M763.5,-68C763.5,-68 683.5,-68 683.5,-68 677.5,-68 671.5,-62 671.5,-56 671.5,-56 671.5,-12 671.5,-12 671.5,-6 677.5,0 683.5,0 683.5,0 763.5,0 763.5,0 769.5,0 775.5,-6 775.5,-12 775.5,-12 775.5,-56 775.5,-56 775.5,-62 769.5,-68 763.5,-68\"/>\n<text text-anchor=\"start\" x=\"679.5\" y=\"-52.8\" font-family=\"Helvetica,sans-Serif\" font-size=\"14.00\">entropy = 0.31</text>\n<text text-anchor=\"start\" x=\"682.5\" y=\"-37.8\" font-family=\"Helvetica,sans-Serif\" font-size=\"14.00\">samples = 36</text>\n<text text-anchor=\"start\" x=\"680.5\" y=\"-22.8\" font-family=\"Helvetica,sans-Serif\" font-size=\"14.00\">value = [2, 34]</text>\n<text text-anchor=\"start\" x=\"696\" y=\"-7.8\" font-family=\"Helvetica,sans-Serif\" font-size=\"14.00\">class = 2</text>\n</g>\n<!-- 13&#45;&gt;15 -->\n<g id=\"edge15\" class=\"edge\">\n<title>13&#45;&gt;15</title>\n<path fill=\"none\" stroke=\"black\" d=\"M716.6,-103.73C717.43,-95.43 718.31,-86.67 719.15,-78.28\"/>\n<polygon fill=\"black\" stroke=\"black\" points=\"722.64,-78.6 720.15,-68.3 715.67,-77.9 722.64,-78.6\"/>\n</g>\n<!-- 17 -->\n<g id=\"node18\" class=\"node\">\n<title>17</title>\n<path fill=\"#399de5\" stroke=\"black\" d=\"M883.5,-68C883.5,-68 805.5,-68 805.5,-68 799.5,-68 793.5,-62 793.5,-56 793.5,-56 793.5,-12 793.5,-12 793.5,-6 799.5,0 805.5,0 805.5,0 883.5,0 883.5,0 889.5,0 895.5,-6 895.5,-12 895.5,-12 895.5,-56 895.5,-56 895.5,-62 889.5,-68 883.5,-68\"/>\n<text text-anchor=\"start\" x=\"804.5\" y=\"-52.8\" font-family=\"Helvetica,sans-Serif\" font-size=\"14.00\">entropy = 0.0</text>\n<text text-anchor=\"start\" x=\"803.5\" y=\"-37.8\" font-family=\"Helvetica,sans-Serif\" font-size=\"14.00\">samples = 92</text>\n<text text-anchor=\"start\" x=\"801.5\" y=\"-22.8\" font-family=\"Helvetica,sans-Serif\" font-size=\"14.00\">value = [0, 92]</text>\n<text text-anchor=\"start\" x=\"817\" y=\"-7.8\" font-family=\"Helvetica,sans-Serif\" font-size=\"14.00\">class = 2</text>\n</g>\n<!-- 16&#45;&gt;17 -->\n<g id=\"edge17\" class=\"edge\">\n<title>16&#45;&gt;17</title>\n<path fill=\"none\" stroke=\"black\" d=\"M850.78,-103.73C850.02,-95.43 849.22,-86.67 848.45,-78.28\"/>\n<polygon fill=\"black\" stroke=\"black\" points=\"851.94,-77.94 847.54,-68.3 844.97,-78.58 851.94,-77.94\"/>\n</g>\n<!-- 18 -->\n<g id=\"node19\" class=\"node\">\n<title>18</title>\n<path fill=\"#6ab6ec\" stroke=\"black\" d=\"M1013,-68C1013,-68 926,-68 926,-68 920,-68 914,-62 914,-56 914,-56 914,-12 914,-12 914,-6 920,0 926,0 926,0 1013,0 1013,0 1019,0 1025,-6 1025,-12 1025,-12 1025,-56 1025,-56 1025,-62 1019,-68 1013,-68\"/>\n<text text-anchor=\"start\" x=\"922\" y=\"-52.8\" font-family=\"Helvetica,sans-Serif\" font-size=\"14.00\">entropy = 0.722</text>\n<text text-anchor=\"start\" x=\"932\" y=\"-37.8\" font-family=\"Helvetica,sans-Serif\" font-size=\"14.00\">samples = 5</text>\n<text text-anchor=\"start\" x=\"930\" y=\"-22.8\" font-family=\"Helvetica,sans-Serif\" font-size=\"14.00\">value = [1, 4]</text>\n<text text-anchor=\"start\" x=\"942\" y=\"-7.8\" font-family=\"Helvetica,sans-Serif\" font-size=\"14.00\">class = 2</text>\n</g>\n<!-- 16&#45;&gt;18 -->\n<g id=\"edge18\" class=\"edge\">\n<title>16&#45;&gt;18</title>\n<path fill=\"none\" stroke=\"black\" d=\"M897.32,-103.73C907.09,-94.42 917.47,-84.54 927.22,-75.26\"/>\n<polygon fill=\"black\" stroke=\"black\" points=\"929.7,-77.73 934.53,-68.3 924.87,-72.66 929.7,-77.73\"/>\n</g>\n<!-- 20 -->\n<g id=\"node21\" class=\"node\">\n<title>20</title>\n<path fill=\"#e5833b\" stroke=\"black\" d=\"M1275.5,-306C1275.5,-306 1163.5,-306 1163.5,-306 1157.5,-306 1151.5,-300 1151.5,-294 1151.5,-294 1151.5,-235 1151.5,-235 1151.5,-229 1157.5,-223 1163.5,-223 1163.5,-223 1275.5,-223 1275.5,-223 1281.5,-223 1287.5,-229 1287.5,-235 1287.5,-235 1287.5,-294 1287.5,-294 1287.5,-300 1281.5,-306 1275.5,-306\"/>\n<text text-anchor=\"start\" x=\"1159.5\" y=\"-290.8\" font-family=\"Helvetica,sans-Serif\" font-size=\"14.00\">t2_dragonKills ≤ 0.5</text>\n<text text-anchor=\"start\" x=\"1172\" y=\"-275.8\" font-family=\"Helvetica,sans-Serif\" font-size=\"14.00\">entropy = 0.095</text>\n<text text-anchor=\"start\" x=\"1174.5\" y=\"-260.8\" font-family=\"Helvetica,sans-Serif\" font-size=\"14.00\">samples = 327</text>\n<text text-anchor=\"start\" x=\"1172.5\" y=\"-245.8\" font-family=\"Helvetica,sans-Serif\" font-size=\"14.00\">value = [323, 4]</text>\n<text text-anchor=\"start\" x=\"1192\" y=\"-230.8\" font-family=\"Helvetica,sans-Serif\" font-size=\"14.00\">class = 1</text>\n</g>\n<!-- 19&#45;&gt;20 -->\n<g id=\"edge20\" class=\"edge\">\n<title>19&#45;&gt;20</title>\n<path fill=\"none\" stroke=\"black\" d=\"M1279.58,-341.91C1272.52,-332.92 1264.96,-323.32 1257.68,-314.05\"/>\n<polygon fill=\"black\" stroke=\"black\" points=\"1260.3,-311.72 1251.36,-306.02 1254.79,-316.05 1260.3,-311.72\"/>\n</g>\n<!-- 25 -->\n<g id=\"node26\" class=\"node\">\n<title>25</title>\n<path fill=\"#f1bb94\" stroke=\"black\" d=\"M1460.5,-306C1460.5,-306 1348.5,-306 1348.5,-306 1342.5,-306 1336.5,-300 1336.5,-294 1336.5,-294 1336.5,-235 1336.5,-235 1336.5,-229 1342.5,-223 1348.5,-223 1348.5,-223 1460.5,-223 1460.5,-223 1466.5,-223 1472.5,-229 1472.5,-235 1472.5,-235 1472.5,-294 1472.5,-294 1472.5,-300 1466.5,-306 1460.5,-306\"/>\n<text text-anchor=\"start\" x=\"1344.5\" y=\"-290.8\" font-family=\"Helvetica,sans-Serif\" font-size=\"14.00\">t2_dragonKills ≤ 0.5</text>\n<text text-anchor=\"start\" x=\"1364.5\" y=\"-275.8\" font-family=\"Helvetica,sans-Serif\" font-size=\"14.00\">entropy = 0.9</text>\n<text text-anchor=\"start\" x=\"1363.5\" y=\"-260.8\" font-family=\"Helvetica,sans-Serif\" font-size=\"14.00\">samples = 57</text>\n<text text-anchor=\"start\" x=\"1357.5\" y=\"-245.8\" font-family=\"Helvetica,sans-Serif\" font-size=\"14.00\">value = [39, 18]</text>\n<text text-anchor=\"start\" x=\"1377\" y=\"-230.8\" font-family=\"Helvetica,sans-Serif\" font-size=\"14.00\">class = 1</text>\n</g>\n<!-- 19&#45;&gt;25 -->\n<g id=\"edge25\" class=\"edge\">\n<title>19&#45;&gt;25</title>\n<path fill=\"none\" stroke=\"black\" d=\"M1343.77,-341.91C1350.91,-332.92 1358.54,-323.32 1365.91,-314.05\"/>\n<polygon fill=\"black\" stroke=\"black\" points=\"1368.81,-316.03 1372.29,-306.02 1363.33,-311.67 1368.81,-316.03\"/>\n</g>\n<!-- 21 -->\n<g id=\"node22\" class=\"node\">\n<title>21</title>\n<path fill=\"#e58139\" stroke=\"black\" d=\"M1126.5,-179.5C1126.5,-179.5 1040.5,-179.5 1040.5,-179.5 1034.5,-179.5 1028.5,-173.5 1028.5,-167.5 1028.5,-167.5 1028.5,-123.5 1028.5,-123.5 1028.5,-117.5 1034.5,-111.5 1040.5,-111.5 1040.5,-111.5 1126.5,-111.5 1126.5,-111.5 1132.5,-111.5 1138.5,-117.5 1138.5,-123.5 1138.5,-123.5 1138.5,-167.5 1138.5,-167.5 1138.5,-173.5 1132.5,-179.5 1126.5,-179.5\"/>\n<text text-anchor=\"start\" x=\"1043.5\" y=\"-164.3\" font-family=\"Helvetica,sans-Serif\" font-size=\"14.00\">entropy = 0.0</text>\n<text text-anchor=\"start\" x=\"1038.5\" y=\"-149.3\" font-family=\"Helvetica,sans-Serif\" font-size=\"14.00\">samples = 278</text>\n<text text-anchor=\"start\" x=\"1036.5\" y=\"-134.3\" font-family=\"Helvetica,sans-Serif\" font-size=\"14.00\">value = [278, 0]</text>\n<text text-anchor=\"start\" x=\"1056\" y=\"-119.3\" font-family=\"Helvetica,sans-Serif\" font-size=\"14.00\">class = 1</text>\n</g>\n<!-- 20&#45;&gt;21 -->\n<g id=\"edge21\" class=\"edge\">\n<title>20&#45;&gt;21</title>\n<path fill=\"none\" stroke=\"black\" d=\"M1172.32,-222.91C1158.59,-211.1 1143.61,-198.22 1129.94,-186.45\"/>\n<polygon fill=\"black\" stroke=\"black\" points=\"1131.92,-183.54 1122.05,-179.67 1127.35,-188.84 1131.92,-183.54\"/>\n</g>\n<!-- 22 -->\n<g id=\"node23\" class=\"node\">\n<title>22</title>\n<path fill=\"#e78c4b\" stroke=\"black\" d=\"M1270,-187C1270,-187 1169,-187 1169,-187 1163,-187 1157,-181 1157,-175 1157,-175 1157,-116 1157,-116 1157,-110 1163,-104 1169,-104 1169,-104 1270,-104 1270,-104 1276,-104 1282,-110 1282,-116 1282,-116 1282,-175 1282,-175 1282,-181 1276,-187 1270,-187\"/>\n<text text-anchor=\"start\" x=\"1174\" y=\"-171.8\" font-family=\"Helvetica,sans-Serif\" font-size=\"14.00\">firstBlood ≤ 1.5</text>\n<text text-anchor=\"start\" x=\"1172\" y=\"-156.8\" font-family=\"Helvetica,sans-Serif\" font-size=\"14.00\">entropy = 0.408</text>\n<text text-anchor=\"start\" x=\"1178.5\" y=\"-141.8\" font-family=\"Helvetica,sans-Serif\" font-size=\"14.00\">samples = 49</text>\n<text text-anchor=\"start\" x=\"1165\" y=\"-126.8\" font-family=\"Helvetica,sans-Serif\" font-size=\"14.00\">value = [45.0, 4.0]</text>\n<text text-anchor=\"start\" x=\"1192\" y=\"-111.8\" font-family=\"Helvetica,sans-Serif\" font-size=\"14.00\">class = 1</text>\n</g>\n<!-- 20&#45;&gt;22 -->\n<g id=\"edge22\" class=\"edge\">\n<title>20&#45;&gt;22</title>\n<path fill=\"none\" stroke=\"black\" d=\"M1219.5,-222.91C1219.5,-214.65 1219.5,-205.86 1219.5,-197.3\"/>\n<polygon fill=\"black\" stroke=\"black\" points=\"1223,-197.02 1219.5,-187.02 1216,-197.02 1223,-197.02\"/>\n</g>\n<!-- 23 -->\n<g id=\"node24\" class=\"node\">\n<title>23</title>\n<path fill=\"#e58139\" stroke=\"black\" d=\"M1133.5,-68C1133.5,-68 1055.5,-68 1055.5,-68 1049.5,-68 1043.5,-62 1043.5,-56 1043.5,-56 1043.5,-12 1043.5,-12 1043.5,-6 1049.5,0 1055.5,0 1055.5,0 1133.5,0 1133.5,0 1139.5,0 1145.5,-6 1145.5,-12 1145.5,-12 1145.5,-56 1145.5,-56 1145.5,-62 1139.5,-68 1133.5,-68\"/>\n<text text-anchor=\"start\" x=\"1054.5\" y=\"-52.8\" font-family=\"Helvetica,sans-Serif\" font-size=\"14.00\">entropy = 0.0</text>\n<text text-anchor=\"start\" x=\"1053.5\" y=\"-37.8\" font-family=\"Helvetica,sans-Serif\" font-size=\"14.00\">samples = 34</text>\n<text text-anchor=\"start\" x=\"1051.5\" y=\"-22.8\" font-family=\"Helvetica,sans-Serif\" font-size=\"14.00\">value = [34, 0]</text>\n<text text-anchor=\"start\" x=\"1067\" y=\"-7.8\" font-family=\"Helvetica,sans-Serif\" font-size=\"14.00\">class = 1</text>\n</g>\n<!-- 22&#45;&gt;23 -->\n<g id=\"edge23\" class=\"edge\">\n<title>22&#45;&gt;23</title>\n<path fill=\"none\" stroke=\"black\" d=\"M1172.95,-103.73C1162.23,-94.33 1150.83,-84.35 1140.15,-74.99\"/>\n<polygon fill=\"black\" stroke=\"black\" points=\"1142.34,-72.26 1132.51,-68.3 1137.73,-77.52 1142.34,-72.26\"/>\n</g>\n<!-- 24 -->\n<g id=\"node25\" class=\"node\">\n<title>24</title>\n<path fill=\"#eeaf81\" stroke=\"black\" d=\"M1263,-68C1263,-68 1176,-68 1176,-68 1170,-68 1164,-62 1164,-56 1164,-56 1164,-12 1164,-12 1164,-6 1170,0 1176,0 1176,0 1263,0 1263,0 1269,0 1275,-6 1275,-12 1275,-12 1275,-56 1275,-56 1275,-62 1269,-68 1263,-68\"/>\n<text text-anchor=\"start\" x=\"1172\" y=\"-52.8\" font-family=\"Helvetica,sans-Serif\" font-size=\"14.00\">entropy = 0.837</text>\n<text text-anchor=\"start\" x=\"1178.5\" y=\"-37.8\" font-family=\"Helvetica,sans-Serif\" font-size=\"14.00\">samples = 15</text>\n<text text-anchor=\"start\" x=\"1176.5\" y=\"-22.8\" font-family=\"Helvetica,sans-Serif\" font-size=\"14.00\">value = [11, 4]</text>\n<text text-anchor=\"start\" x=\"1192\" y=\"-7.8\" font-family=\"Helvetica,sans-Serif\" font-size=\"14.00\">class = 1</text>\n</g>\n<!-- 22&#45;&gt;24 -->\n<g id=\"edge24\" class=\"edge\">\n<title>22&#45;&gt;24</title>\n<path fill=\"none\" stroke=\"black\" d=\"M1219.5,-103.73C1219.5,-95.52 1219.5,-86.86 1219.5,-78.56\"/>\n<polygon fill=\"black\" stroke=\"black\" points=\"1223,-78.3 1219.5,-68.3 1216,-78.3 1223,-78.3\"/>\n</g>\n<!-- 26 -->\n<g id=\"node27\" class=\"node\">\n<title>26</title>\n<path fill=\"#e99457\" stroke=\"black\" d=\"M1456.5,-187C1456.5,-187 1352.5,-187 1352.5,-187 1346.5,-187 1340.5,-181 1340.5,-175 1340.5,-175 1340.5,-116 1340.5,-116 1340.5,-110 1346.5,-104 1352.5,-104 1352.5,-104 1456.5,-104 1456.5,-104 1462.5,-104 1468.5,-110 1468.5,-116 1468.5,-116 1468.5,-175 1468.5,-175 1468.5,-181 1462.5,-187 1456.5,-187\"/>\n<text text-anchor=\"start\" x=\"1348.5\" y=\"-171.8\" font-family=\"Helvetica,sans-Serif\" font-size=\"14.00\">t2_baronKills ≤ 0.5</text>\n<text text-anchor=\"start\" x=\"1357\" y=\"-156.8\" font-family=\"Helvetica,sans-Serif\" font-size=\"14.00\">entropy = 0.567</text>\n<text text-anchor=\"start\" x=\"1363.5\" y=\"-141.8\" font-family=\"Helvetica,sans-Serif\" font-size=\"14.00\">samples = 30</text>\n<text text-anchor=\"start\" x=\"1361.5\" y=\"-126.8\" font-family=\"Helvetica,sans-Serif\" font-size=\"14.00\">value = [26, 4]</text>\n<text text-anchor=\"start\" x=\"1377\" y=\"-111.8\" font-family=\"Helvetica,sans-Serif\" font-size=\"14.00\">class = 1</text>\n</g>\n<!-- 25&#45;&gt;26 -->\n<g id=\"edge26\" class=\"edge\">\n<title>25&#45;&gt;26</title>\n<path fill=\"none\" stroke=\"black\" d=\"M1404.5,-222.91C1404.5,-214.65 1404.5,-205.86 1404.5,-197.3\"/>\n<polygon fill=\"black\" stroke=\"black\" points=\"1408,-197.02 1404.5,-187.02 1401,-197.02 1408,-197.02\"/>\n</g>\n<!-- 29 -->\n<g id=\"node30\" class=\"node\">\n<title>29</title>\n<path fill=\"#f1f8fd\" stroke=\"black\" d=\"M1641.5,-187C1641.5,-187 1529.5,-187 1529.5,-187 1523.5,-187 1517.5,-181 1517.5,-175 1517.5,-175 1517.5,-116 1517.5,-116 1517.5,-110 1523.5,-104 1529.5,-104 1529.5,-104 1641.5,-104 1641.5,-104 1647.5,-104 1653.5,-110 1653.5,-116 1653.5,-116 1653.5,-175 1653.5,-175 1653.5,-181 1647.5,-187 1641.5,-187\"/>\n<text text-anchor=\"start\" x=\"1525.5\" y=\"-171.8\" font-family=\"Helvetica,sans-Serif\" font-size=\"14.00\">t1_dragonKills ≤ 0.5</text>\n<text text-anchor=\"start\" x=\"1538\" y=\"-156.8\" font-family=\"Helvetica,sans-Serif\" font-size=\"14.00\">entropy = 0.999</text>\n<text text-anchor=\"start\" x=\"1544.5\" y=\"-141.8\" font-family=\"Helvetica,sans-Serif\" font-size=\"14.00\">samples = 27</text>\n<text text-anchor=\"start\" x=\"1538.5\" y=\"-126.8\" font-family=\"Helvetica,sans-Serif\" font-size=\"14.00\">value = [13, 14]</text>\n<text text-anchor=\"start\" x=\"1558\" y=\"-111.8\" font-family=\"Helvetica,sans-Serif\" font-size=\"14.00\">class = 2</text>\n</g>\n<!-- 25&#45;&gt;29 -->\n<g id=\"edge29\" class=\"edge\">\n<title>25&#45;&gt;29</title>\n<path fill=\"none\" stroke=\"black\" d=\"M1467.3,-222.91C1482.46,-213.11 1498.77,-202.56 1514.29,-192.53\"/>\n<polygon fill=\"black\" stroke=\"black\" points=\"1516.32,-195.39 1522.81,-187.02 1512.52,-189.51 1516.32,-195.39\"/>\n</g>\n<!-- 27 -->\n<g id=\"node28\" class=\"node\">\n<title>27</title>\n<path fill=\"#e89050\" stroke=\"black\" d=\"M1385.5,-68C1385.5,-68 1305.5,-68 1305.5,-68 1299.5,-68 1293.5,-62 1293.5,-56 1293.5,-56 1293.5,-12 1293.5,-12 1293.5,-6 1299.5,0 1305.5,0 1305.5,0 1385.5,0 1385.5,0 1391.5,0 1397.5,-6 1397.5,-12 1397.5,-12 1397.5,-56 1397.5,-56 1397.5,-62 1391.5,-68 1385.5,-68\"/>\n<text text-anchor=\"start\" x=\"1301.5\" y=\"-52.8\" font-family=\"Helvetica,sans-Serif\" font-size=\"14.00\">entropy = 0.48</text>\n<text text-anchor=\"start\" x=\"1304.5\" y=\"-37.8\" font-family=\"Helvetica,sans-Serif\" font-size=\"14.00\">samples = 29</text>\n<text text-anchor=\"start\" x=\"1302.5\" y=\"-22.8\" font-family=\"Helvetica,sans-Serif\" font-size=\"14.00\">value = [26, 3]</text>\n<text text-anchor=\"start\" x=\"1318\" y=\"-7.8\" font-family=\"Helvetica,sans-Serif\" font-size=\"14.00\">class = 1</text>\n</g>\n<!-- 26&#45;&gt;27 -->\n<g id=\"edge27\" class=\"edge\">\n<title>26&#45;&gt;27</title>\n<path fill=\"none\" stroke=\"black\" d=\"M1382.53,-103.73C1377.86,-95.06 1372.92,-85.9 1368.23,-77.18\"/>\n<polygon fill=\"black\" stroke=\"black\" points=\"1371.27,-75.44 1363.44,-68.3 1365.1,-78.76 1371.27,-75.44\"/>\n</g>\n<!-- 28 -->\n<g id=\"node29\" class=\"node\">\n<title>28</title>\n<path fill=\"#399de5\" stroke=\"black\" d=\"M1499.5,-68C1499.5,-68 1427.5,-68 1427.5,-68 1421.5,-68 1415.5,-62 1415.5,-56 1415.5,-56 1415.5,-12 1415.5,-12 1415.5,-6 1421.5,0 1427.5,0 1427.5,0 1499.5,0 1499.5,0 1505.5,0 1511.5,-6 1511.5,-12 1511.5,-12 1511.5,-56 1511.5,-56 1511.5,-62 1505.5,-68 1499.5,-68\"/>\n<text text-anchor=\"start\" x=\"1423.5\" y=\"-52.8\" font-family=\"Helvetica,sans-Serif\" font-size=\"14.00\">entropy = 0.0</text>\n<text text-anchor=\"start\" x=\"1426\" y=\"-37.8\" font-family=\"Helvetica,sans-Serif\" font-size=\"14.00\">samples = 1</text>\n<text text-anchor=\"start\" x=\"1424\" y=\"-22.8\" font-family=\"Helvetica,sans-Serif\" font-size=\"14.00\">value = [0, 1]</text>\n<text text-anchor=\"start\" x=\"1436\" y=\"-7.8\" font-family=\"Helvetica,sans-Serif\" font-size=\"14.00\">class = 2</text>\n</g>\n<!-- 26&#45;&gt;28 -->\n<g id=\"edge28\" class=\"edge\">\n<title>26&#45;&gt;28</title>\n<path fill=\"none\" stroke=\"black\" d=\"M1426.47,-103.73C1431.14,-95.06 1436.08,-85.9 1440.77,-77.18\"/>\n<polygon fill=\"black\" stroke=\"black\" points=\"1443.9,-78.76 1445.56,-68.3 1437.73,-75.44 1443.9,-78.76\"/>\n</g>\n<!-- 30 -->\n<g id=\"node31\" class=\"node\">\n<title>30</title>\n<path fill=\"#88c4ef\" stroke=\"black\" d=\"M1629,-68C1629,-68 1542,-68 1542,-68 1536,-68 1530,-62 1530,-56 1530,-56 1530,-12 1530,-12 1530,-6 1536,0 1542,0 1542,0 1629,0 1629,0 1635,0 1641,-6 1641,-12 1641,-12 1641,-56 1641,-56 1641,-62 1635,-68 1629,-68\"/>\n<text text-anchor=\"start\" x=\"1538\" y=\"-52.8\" font-family=\"Helvetica,sans-Serif\" font-size=\"14.00\">entropy = 0.863</text>\n<text text-anchor=\"start\" x=\"1544.5\" y=\"-37.8\" font-family=\"Helvetica,sans-Serif\" font-size=\"14.00\">samples = 14</text>\n<text text-anchor=\"start\" x=\"1542.5\" y=\"-22.8\" font-family=\"Helvetica,sans-Serif\" font-size=\"14.00\">value = [4, 10]</text>\n<text text-anchor=\"start\" x=\"1558\" y=\"-7.8\" font-family=\"Helvetica,sans-Serif\" font-size=\"14.00\">class = 2</text>\n</g>\n<!-- 29&#45;&gt;30 -->\n<g id=\"edge30\" class=\"edge\">\n<title>29&#45;&gt;30</title>\n<path fill=\"none\" stroke=\"black\" d=\"M1585.5,-103.73C1585.5,-95.52 1585.5,-86.86 1585.5,-78.56\"/>\n<polygon fill=\"black\" stroke=\"black\" points=\"1589,-78.3 1585.5,-68.3 1582,-78.3 1589,-78.3\"/>\n</g>\n<!-- 31 -->\n<g id=\"node32\" class=\"node\">\n<title>31</title>\n<path fill=\"#f1b991\" stroke=\"black\" d=\"M1751.5,-68C1751.5,-68 1671.5,-68 1671.5,-68 1665.5,-68 1659.5,-62 1659.5,-56 1659.5,-56 1659.5,-12 1659.5,-12 1659.5,-6 1665.5,0 1671.5,0 1671.5,0 1751.5,0 1751.5,0 1757.5,0 1763.5,-6 1763.5,-12 1763.5,-12 1763.5,-56 1763.5,-56 1763.5,-62 1757.5,-68 1751.5,-68\"/>\n<text text-anchor=\"start\" x=\"1667.5\" y=\"-52.8\" font-family=\"Helvetica,sans-Serif\" font-size=\"14.00\">entropy = 0.89</text>\n<text text-anchor=\"start\" x=\"1670.5\" y=\"-37.8\" font-family=\"Helvetica,sans-Serif\" font-size=\"14.00\">samples = 13</text>\n<text text-anchor=\"start\" x=\"1672\" y=\"-22.8\" font-family=\"Helvetica,sans-Serif\" font-size=\"14.00\">value = [9, 4]</text>\n<text text-anchor=\"start\" x=\"1684\" y=\"-7.8\" font-family=\"Helvetica,sans-Serif\" font-size=\"14.00\">class = 1</text>\n</g>\n<!-- 29&#45;&gt;31 -->\n<g id=\"edge31\" class=\"edge\">\n<title>29&#45;&gt;31</title>\n<path fill=\"none\" stroke=\"black\" d=\"M1632.42,-103.73C1643.23,-94.33 1654.71,-84.35 1665.49,-74.99\"/>\n<polygon fill=\"black\" stroke=\"black\" points=\"1667.93,-77.5 1673.18,-68.3 1663.34,-72.22 1667.93,-77.5\"/>\n</g>\n<!-- 33 -->\n<g id=\"node34\" class=\"node\">\n<title>33</title>\n<path fill=\"#399de5\" stroke=\"black\" d=\"M2167,-417.5C2167,-417.5 2074,-417.5 2074,-417.5 2068,-417.5 2062,-411.5 2062,-405.5 2062,-405.5 2062,-361.5 2062,-361.5 2062,-355.5 2068,-349.5 2074,-349.5 2074,-349.5 2167,-349.5 2167,-349.5 2173,-349.5 2179,-355.5 2179,-361.5 2179,-361.5 2179,-405.5 2179,-405.5 2179,-411.5 2173,-417.5 2167,-417.5\"/>\n<text text-anchor=\"start\" x=\"2080.5\" y=\"-402.3\" font-family=\"Helvetica,sans-Serif\" font-size=\"14.00\">entropy = 0.0</text>\n<text text-anchor=\"start\" x=\"2072\" y=\"-387.3\" font-family=\"Helvetica,sans-Serif\" font-size=\"14.00\">samples = 1199</text>\n<text text-anchor=\"start\" x=\"2070\" y=\"-372.3\" font-family=\"Helvetica,sans-Serif\" font-size=\"14.00\">value = [0, 1199]</text>\n<text text-anchor=\"start\" x=\"2093\" y=\"-357.3\" font-family=\"Helvetica,sans-Serif\" font-size=\"14.00\">class = 2</text>\n</g>\n<!-- 32&#45;&gt;33 -->\n<g id=\"edge33\" class=\"edge\">\n<title>32&#45;&gt;33</title>\n<path fill=\"none\" stroke=\"black\" d=\"M2166.21,-460.91C2159.55,-449.76 2152.3,-437.66 2145.59,-426.44\"/>\n<polygon fill=\"black\" stroke=\"black\" points=\"2148.48,-424.45 2140.34,-417.67 2142.47,-428.05 2148.48,-424.45\"/>\n</g>\n<!-- 34 -->\n<g id=\"node35\" class=\"node\">\n<title>34</title>\n<path fill=\"#48a5e7\" stroke=\"black\" d=\"M2312,-425C2312,-425 2209,-425 2209,-425 2203,-425 2197,-419 2197,-413 2197,-413 2197,-354 2197,-354 2197,-348 2203,-342 2209,-342 2209,-342 2312,-342 2312,-342 2318,-342 2324,-348 2324,-354 2324,-354 2324,-413 2324,-413 2324,-419 2318,-425 2312,-425\"/>\n<text text-anchor=\"start\" x=\"2205\" y=\"-409.8\" font-family=\"Helvetica,sans-Serif\" font-size=\"14.00\">t2_towerKills ≤ 4.5</text>\n<text text-anchor=\"start\" x=\"2213\" y=\"-394.8\" font-family=\"Helvetica,sans-Serif\" font-size=\"14.00\">entropy = 0.375</text>\n<text text-anchor=\"start\" x=\"2215.5\" y=\"-379.8\" font-family=\"Helvetica,sans-Serif\" font-size=\"14.00\">samples = 496</text>\n<text text-anchor=\"start\" x=\"2210\" y=\"-364.8\" font-family=\"Helvetica,sans-Serif\" font-size=\"14.00\">value = [36, 460]</text>\n<text text-anchor=\"start\" x=\"2233\" y=\"-349.8\" font-family=\"Helvetica,sans-Serif\" font-size=\"14.00\">class = 2</text>\n</g>\n<!-- 32&#45;&gt;34 -->\n<g id=\"edge34\" class=\"edge\">\n<title>32&#45;&gt;34</title>\n<path fill=\"none\" stroke=\"black\" d=\"M2214.79,-460.91C2220.05,-452.1 2225.68,-442.7 2231.12,-433.61\"/>\n<polygon fill=\"black\" stroke=\"black\" points=\"2234.13,-435.4 2236.26,-425.02 2228.12,-431.81 2234.13,-435.4\"/>\n</g>\n<!-- 35 -->\n<g id=\"node36\" class=\"node\">\n<title>35</title>\n<path fill=\"#60b0ea\" stroke=\"black\" d=\"M2219.5,-306C2219.5,-306 2103.5,-306 2103.5,-306 2097.5,-306 2091.5,-300 2091.5,-294 2091.5,-294 2091.5,-235 2091.5,-235 2091.5,-229 2097.5,-223 2103.5,-223 2103.5,-223 2219.5,-223 2219.5,-223 2225.5,-223 2231.5,-229 2231.5,-235 2231.5,-235 2231.5,-294 2231.5,-294 2231.5,-300 2225.5,-306 2219.5,-306\"/>\n<text text-anchor=\"start\" x=\"2101.5\" y=\"-290.8\" font-family=\"Helvetica,sans-Serif\" font-size=\"14.00\">t1_dragonKills ≤ 1.5</text>\n<text text-anchor=\"start\" x=\"2114\" y=\"-275.8\" font-family=\"Helvetica,sans-Serif\" font-size=\"14.00\">entropy = 0.643</text>\n<text text-anchor=\"start\" x=\"2116.5\" y=\"-260.8\" font-family=\"Helvetica,sans-Serif\" font-size=\"14.00\">samples = 177</text>\n<text text-anchor=\"start\" x=\"2099.5\" y=\"-245.8\" font-family=\"Helvetica,sans-Serif\" font-size=\"14.00\">value = [29.0, 148.0]</text>\n<text text-anchor=\"start\" x=\"2134\" y=\"-230.8\" font-family=\"Helvetica,sans-Serif\" font-size=\"14.00\">class = 2</text>\n</g>\n<!-- 34&#45;&gt;35 -->\n<g id=\"edge35\" class=\"edge\">\n<title>34&#45;&gt;35</title>\n<path fill=\"none\" stroke=\"black\" d=\"M2226.15,-341.91C2218.47,-332.83 2210.26,-323.12 2202.34,-313.77\"/>\n<polygon fill=\"black\" stroke=\"black\" points=\"2204.92,-311.39 2195.79,-306.02 2199.57,-315.92 2204.92,-311.39\"/>\n</g>\n<!-- 42 -->\n<g id=\"node43\" class=\"node\">\n<title>42</title>\n<path fill=\"#3d9fe6\" stroke=\"black\" d=\"M2408.5,-306C2408.5,-306 2312.5,-306 2312.5,-306 2306.5,-306 2300.5,-300 2300.5,-294 2300.5,-294 2300.5,-235 2300.5,-235 2300.5,-229 2306.5,-223 2312.5,-223 2312.5,-223 2408.5,-223 2408.5,-223 2414.5,-223 2420.5,-229 2420.5,-235 2420.5,-235 2420.5,-294 2420.5,-294 2420.5,-300 2414.5,-306 2408.5,-306\"/>\n<text text-anchor=\"start\" x=\"2308.5\" y=\"-290.8\" font-family=\"Helvetica,sans-Serif\" font-size=\"14.00\">firstInhibitor ≤ 1.0</text>\n<text text-anchor=\"start\" x=\"2313\" y=\"-275.8\" font-family=\"Helvetica,sans-Serif\" font-size=\"14.00\">entropy = 0.152</text>\n<text text-anchor=\"start\" x=\"2315.5\" y=\"-260.8\" font-family=\"Helvetica,sans-Serif\" font-size=\"14.00\">samples = 319</text>\n<text text-anchor=\"start\" x=\"2313.5\" y=\"-245.8\" font-family=\"Helvetica,sans-Serif\" font-size=\"14.00\">value = [7, 312]</text>\n<text text-anchor=\"start\" x=\"2333\" y=\"-230.8\" font-family=\"Helvetica,sans-Serif\" font-size=\"14.00\">class = 2</text>\n</g>\n<!-- 34&#45;&gt;42 -->\n<g id=\"edge42\" class=\"edge\">\n<title>34&#45;&gt;42</title>\n<path fill=\"none\" stroke=\"black\" d=\"M2295.19,-341.91C2302.95,-332.83 2311.25,-323.12 2319.24,-313.77\"/>\n<polygon fill=\"black\" stroke=\"black\" points=\"2322.03,-315.9 2325.87,-306.02 2316.71,-311.35 2322.03,-315.9\"/>\n</g>\n<!-- 36 -->\n<g id=\"node37\" class=\"node\">\n<title>36</title>\n<path fill=\"#4ea7e8\" stroke=\"black\" d=\"M2018,-187C2018,-187 1915,-187 1915,-187 1909,-187 1903,-181 1903,-175 1903,-175 1903,-116 1903,-116 1903,-110 1909,-104 1915,-104 1915,-104 2018,-104 2018,-104 2024,-104 2030,-110 2030,-116 2030,-116 2030,-175 2030,-175 2030,-181 2024,-187 2018,-187\"/>\n<text text-anchor=\"start\" x=\"1911\" y=\"-171.8\" font-family=\"Helvetica,sans-Serif\" font-size=\"14.00\">t1_towerKills ≤ 2.5</text>\n<text text-anchor=\"start\" x=\"1919\" y=\"-156.8\" font-family=\"Helvetica,sans-Serif\" font-size=\"14.00\">entropy = 0.452</text>\n<text text-anchor=\"start\" x=\"1921.5\" y=\"-141.8\" font-family=\"Helvetica,sans-Serif\" font-size=\"14.00\">samples = 148</text>\n<text text-anchor=\"start\" x=\"1916\" y=\"-126.8\" font-family=\"Helvetica,sans-Serif\" font-size=\"14.00\">value = [14, 134]</text>\n<text text-anchor=\"start\" x=\"1939\" y=\"-111.8\" font-family=\"Helvetica,sans-Serif\" font-size=\"14.00\">class = 2</text>\n</g>\n<!-- 35&#45;&gt;36 -->\n<g id=\"edge36\" class=\"edge\">\n<title>35&#45;&gt;36</title>\n<path fill=\"none\" stroke=\"black\" d=\"M2093.85,-222.91C2076.07,-212.24 2056.84,-200.7 2038.83,-189.9\"/>\n<polygon fill=\"black\" stroke=\"black\" points=\"2040.48,-186.8 2030.1,-184.66 2036.88,-192.81 2040.48,-186.8\"/>\n</g>\n<!-- 39 -->\n<g id=\"node40\" class=\"node\">\n<title>39</title>\n<path fill=\"#fdf7f2\" stroke=\"black\" d=\"M2215.5,-187C2215.5,-187 2107.5,-187 2107.5,-187 2101.5,-187 2095.5,-181 2095.5,-175 2095.5,-175 2095.5,-116 2095.5,-116 2095.5,-110 2101.5,-104 2107.5,-104 2107.5,-104 2215.5,-104 2215.5,-104 2221.5,-104 2227.5,-110 2227.5,-116 2227.5,-116 2227.5,-175 2227.5,-175 2227.5,-181 2221.5,-187 2215.5,-187\"/>\n<text text-anchor=\"start\" x=\"2109.5\" y=\"-171.8\" font-family=\"Helvetica,sans-Serif\" font-size=\"14.00\">firstInhibitor ≤ 1.0</text>\n<text text-anchor=\"start\" x=\"2114\" y=\"-156.8\" font-family=\"Helvetica,sans-Serif\" font-size=\"14.00\">entropy = 0.999</text>\n<text text-anchor=\"start\" x=\"2120.5\" y=\"-141.8\" font-family=\"Helvetica,sans-Serif\" font-size=\"14.00\">samples = 29</text>\n<text text-anchor=\"start\" x=\"2103.5\" y=\"-126.8\" font-family=\"Helvetica,sans-Serif\" font-size=\"14.00\">value = [15.0, 14.0]</text>\n<text text-anchor=\"start\" x=\"2134\" y=\"-111.8\" font-family=\"Helvetica,sans-Serif\" font-size=\"14.00\">class = 1</text>\n</g>\n<!-- 35&#45;&gt;39 -->\n<g id=\"edge39\" class=\"edge\">\n<title>35&#45;&gt;39</title>\n<path fill=\"none\" stroke=\"black\" d=\"M2161.5,-222.91C2161.5,-214.65 2161.5,-205.86 2161.5,-197.3\"/>\n<polygon fill=\"black\" stroke=\"black\" points=\"2165,-197.02 2161.5,-187.02 2158,-197.02 2165,-197.02\"/>\n</g>\n<!-- 37 -->\n<g id=\"node38\" class=\"node\">\n<title>37</title>\n<path fill=\"#40a0e6\" stroke=\"black\" d=\"M1881,-68C1881,-68 1794,-68 1794,-68 1788,-68 1782,-62 1782,-56 1782,-56 1782,-12 1782,-12 1782,-6 1788,0 1794,0 1794,0 1881,0 1881,0 1887,0 1893,-6 1893,-12 1893,-12 1893,-56 1893,-56 1893,-62 1887,-68 1881,-68\"/>\n<text text-anchor=\"start\" x=\"1790\" y=\"-52.8\" font-family=\"Helvetica,sans-Serif\" font-size=\"14.00\">entropy = 0.206</text>\n<text text-anchor=\"start\" x=\"1796.5\" y=\"-37.8\" font-family=\"Helvetica,sans-Serif\" font-size=\"14.00\">samples = 93</text>\n<text text-anchor=\"start\" x=\"1794.5\" y=\"-22.8\" font-family=\"Helvetica,sans-Serif\" font-size=\"14.00\">value = [3, 90]</text>\n<text text-anchor=\"start\" x=\"1810\" y=\"-7.8\" font-family=\"Helvetica,sans-Serif\" font-size=\"14.00\">class = 2</text>\n</g>\n<!-- 36&#45;&gt;37 -->\n<g id=\"edge37\" class=\"edge\">\n<title>36&#45;&gt;37</title>\n<path fill=\"none\" stroke=\"black\" d=\"M1918.47,-103.73C1907.4,-94.33 1895.64,-84.35 1884.61,-74.99\"/>\n<polygon fill=\"black\" stroke=\"black\" points=\"1886.62,-72.1 1876.73,-68.3 1882.09,-77.44 1886.62,-72.1\"/>\n</g>\n<!-- 38 -->\n<g id=\"node39\" class=\"node\">\n<title>38</title>\n<path fill=\"#6ab6ec\" stroke=\"black\" d=\"M2010,-68C2010,-68 1923,-68 1923,-68 1917,-68 1911,-62 1911,-56 1911,-56 1911,-12 1911,-12 1911,-6 1917,0 1923,0 1923,0 2010,0 2010,0 2016,0 2022,-6 2022,-12 2022,-12 2022,-56 2022,-56 2022,-62 2016,-68 2010,-68\"/>\n<text text-anchor=\"start\" x=\"1919\" y=\"-52.8\" font-family=\"Helvetica,sans-Serif\" font-size=\"14.00\">entropy = 0.722</text>\n<text text-anchor=\"start\" x=\"1925.5\" y=\"-37.8\" font-family=\"Helvetica,sans-Serif\" font-size=\"14.00\">samples = 55</text>\n<text text-anchor=\"start\" x=\"1919.5\" y=\"-22.8\" font-family=\"Helvetica,sans-Serif\" font-size=\"14.00\">value = [11, 44]</text>\n<text text-anchor=\"start\" x=\"1939\" y=\"-7.8\" font-family=\"Helvetica,sans-Serif\" font-size=\"14.00\">class = 2</text>\n</g>\n<!-- 36&#45;&gt;38 -->\n<g id=\"edge38\" class=\"edge\">\n<title>36&#45;&gt;38</title>\n<path fill=\"none\" stroke=\"black\" d=\"M1966.5,-103.73C1966.5,-95.52 1966.5,-86.86 1966.5,-78.56\"/>\n<polygon fill=\"black\" stroke=\"black\" points=\"1970,-78.3 1966.5,-68.3 1963,-78.3 1970,-78.3\"/>\n</g>\n<!-- 40 -->\n<g id=\"node41\" class=\"node\">\n<title>40</title>\n<path fill=\"#f8ddca\" stroke=\"black\" d=\"M2160.5,-68C2160.5,-68 2052.5,-68 2052.5,-68 2046.5,-68 2040.5,-62 2040.5,-56 2040.5,-56 2040.5,-12 2040.5,-12 2040.5,-6 2046.5,0 2052.5,0 2052.5,0 2160.5,0 2160.5,0 2166.5,0 2172.5,-6 2172.5,-12 2172.5,-12 2172.5,-56 2172.5,-56 2172.5,-62 2166.5,-68 2160.5,-68\"/>\n<text text-anchor=\"start\" x=\"2059\" y=\"-52.8\" font-family=\"Helvetica,sans-Serif\" font-size=\"14.00\">entropy = 0.983</text>\n<text text-anchor=\"start\" x=\"2065.5\" y=\"-37.8\" font-family=\"Helvetica,sans-Serif\" font-size=\"14.00\">samples = 26</text>\n<text text-anchor=\"start\" x=\"2048.5\" y=\"-22.8\" font-family=\"Helvetica,sans-Serif\" font-size=\"14.00\">value = [15.0, 11.0]</text>\n<text text-anchor=\"start\" x=\"2079\" y=\"-7.8\" font-family=\"Helvetica,sans-Serif\" font-size=\"14.00\">class = 1</text>\n</g>\n<!-- 39&#45;&gt;40 -->\n<g id=\"edge40\" class=\"edge\">\n<title>39&#45;&gt;40</title>\n<path fill=\"none\" stroke=\"black\" d=\"M2141.02,-103.73C2136.71,-95.15 2132.16,-86.09 2127.82,-77.46\"/>\n<polygon fill=\"black\" stroke=\"black\" points=\"2130.84,-75.66 2123.23,-68.3 2124.59,-78.81 2130.84,-75.66\"/>\n</g>\n<!-- 41 -->\n<g id=\"node42\" class=\"node\">\n<title>41</title>\n<path fill=\"#399de5\" stroke=\"black\" d=\"M2274.5,-68C2274.5,-68 2202.5,-68 2202.5,-68 2196.5,-68 2190.5,-62 2190.5,-56 2190.5,-56 2190.5,-12 2190.5,-12 2190.5,-6 2196.5,0 2202.5,0 2202.5,0 2274.5,0 2274.5,0 2280.5,0 2286.5,-6 2286.5,-12 2286.5,-12 2286.5,-56 2286.5,-56 2286.5,-62 2280.5,-68 2274.5,-68\"/>\n<text text-anchor=\"start\" x=\"2198.5\" y=\"-52.8\" font-family=\"Helvetica,sans-Serif\" font-size=\"14.00\">entropy = 0.0</text>\n<text text-anchor=\"start\" x=\"2201\" y=\"-37.8\" font-family=\"Helvetica,sans-Serif\" font-size=\"14.00\">samples = 3</text>\n<text text-anchor=\"start\" x=\"2199\" y=\"-22.8\" font-family=\"Helvetica,sans-Serif\" font-size=\"14.00\">value = [0, 3]</text>\n<text text-anchor=\"start\" x=\"2211\" y=\"-7.8\" font-family=\"Helvetica,sans-Serif\" font-size=\"14.00\">class = 2</text>\n</g>\n<!-- 39&#45;&gt;41 -->\n<g id=\"edge41\" class=\"edge\">\n<title>39&#45;&gt;41</title>\n<path fill=\"none\" stroke=\"black\" d=\"M2190.17,-103.73C2196.39,-94.88 2202.98,-85.51 2209.23,-76.63\"/>\n<polygon fill=\"black\" stroke=\"black\" points=\"2212.19,-78.49 2215.08,-68.3 2206.47,-74.47 2212.19,-78.49\"/>\n</g>\n<!-- 43 -->\n<g id=\"node44\" class=\"node\">\n<title>43</title>\n<path fill=\"#41a1e6\" stroke=\"black\" d=\"M2416.5,-187C2416.5,-187 2304.5,-187 2304.5,-187 2298.5,-187 2292.5,-181 2292.5,-175 2292.5,-175 2292.5,-116 2292.5,-116 2292.5,-110 2298.5,-104 2304.5,-104 2304.5,-104 2416.5,-104 2416.5,-104 2422.5,-104 2428.5,-110 2428.5,-116 2428.5,-116 2428.5,-175 2428.5,-175 2428.5,-181 2422.5,-187 2416.5,-187\"/>\n<text text-anchor=\"start\" x=\"2300.5\" y=\"-171.8\" font-family=\"Helvetica,sans-Serif\" font-size=\"14.00\">t1_dragonKills ≤ 0.5</text>\n<text text-anchor=\"start\" x=\"2316.5\" y=\"-156.8\" font-family=\"Helvetica,sans-Serif\" font-size=\"14.00\">entropy = 0.24</text>\n<text text-anchor=\"start\" x=\"2315.5\" y=\"-141.8\" font-family=\"Helvetica,sans-Serif\" font-size=\"14.00\">samples = 177</text>\n<text text-anchor=\"start\" x=\"2302.5\" y=\"-126.8\" font-family=\"Helvetica,sans-Serif\" font-size=\"14.00\">value = [7.0, 170.0]</text>\n<text text-anchor=\"start\" x=\"2333\" y=\"-111.8\" font-family=\"Helvetica,sans-Serif\" font-size=\"14.00\">class = 2</text>\n</g>\n<!-- 42&#45;&gt;43 -->\n<g id=\"edge43\" class=\"edge\">\n<title>42&#45;&gt;43</title>\n<path fill=\"none\" stroke=\"black\" d=\"M2360.5,-222.91C2360.5,-214.65 2360.5,-205.86 2360.5,-197.3\"/>\n<polygon fill=\"black\" stroke=\"black\" points=\"2364,-197.02 2360.5,-187.02 2357,-197.02 2364,-197.02\"/>\n</g>\n<!-- 46 -->\n<g id=\"node47\" class=\"node\">\n<title>46</title>\n<path fill=\"#399de5\" stroke=\"black\" d=\"M2544.5,-179.5C2544.5,-179.5 2458.5,-179.5 2458.5,-179.5 2452.5,-179.5 2446.5,-173.5 2446.5,-167.5 2446.5,-167.5 2446.5,-123.5 2446.5,-123.5 2446.5,-117.5 2452.5,-111.5 2458.5,-111.5 2458.5,-111.5 2544.5,-111.5 2544.5,-111.5 2550.5,-111.5 2556.5,-117.5 2556.5,-123.5 2556.5,-123.5 2556.5,-167.5 2556.5,-167.5 2556.5,-173.5 2550.5,-179.5 2544.5,-179.5\"/>\n<text text-anchor=\"start\" x=\"2461.5\" y=\"-164.3\" font-family=\"Helvetica,sans-Serif\" font-size=\"14.00\">entropy = 0.0</text>\n<text text-anchor=\"start\" x=\"2456.5\" y=\"-149.3\" font-family=\"Helvetica,sans-Serif\" font-size=\"14.00\">samples = 142</text>\n<text text-anchor=\"start\" x=\"2454.5\" y=\"-134.3\" font-family=\"Helvetica,sans-Serif\" font-size=\"14.00\">value = [0, 142]</text>\n<text text-anchor=\"start\" x=\"2474\" y=\"-119.3\" font-family=\"Helvetica,sans-Serif\" font-size=\"14.00\">class = 2</text>\n</g>\n<!-- 42&#45;&gt;46 -->\n<g id=\"edge46\" class=\"edge\">\n<title>42&#45;&gt;46</title>\n<path fill=\"none\" stroke=\"black\" d=\"M2409.42,-222.91C2423.78,-210.99 2439.47,-197.98 2453.75,-186.12\"/>\n<polygon fill=\"black\" stroke=\"black\" points=\"2456.07,-188.75 2461.53,-179.67 2451.6,-183.36 2456.07,-188.75\"/>\n</g>\n<!-- 44 -->\n<g id=\"node45\" class=\"node\">\n<title>44</title>\n<path fill=\"#3b9ee5\" stroke=\"black\" d=\"M2404,-68C2404,-68 2317,-68 2317,-68 2311,-68 2305,-62 2305,-56 2305,-56 2305,-12 2305,-12 2305,-6 2311,0 2317,0 2317,0 2404,0 2404,0 2410,0 2416,-6 2416,-12 2416,-12 2416,-56 2416,-56 2416,-62 2410,-68 2404,-68\"/>\n<text text-anchor=\"start\" x=\"2313\" y=\"-52.8\" font-family=\"Helvetica,sans-Serif\" font-size=\"14.00\">entropy = 0.089</text>\n<text text-anchor=\"start\" x=\"2319.5\" y=\"-37.8\" font-family=\"Helvetica,sans-Serif\" font-size=\"14.00\">samples = 89</text>\n<text text-anchor=\"start\" x=\"2317.5\" y=\"-22.8\" font-family=\"Helvetica,sans-Serif\" font-size=\"14.00\">value = [1, 88]</text>\n<text text-anchor=\"start\" x=\"2333\" y=\"-7.8\" font-family=\"Helvetica,sans-Serif\" font-size=\"14.00\">class = 2</text>\n</g>\n<!-- 43&#45;&gt;44 -->\n<g id=\"edge44\" class=\"edge\">\n<title>43&#45;&gt;44</title>\n<path fill=\"none\" stroke=\"black\" d=\"M2360.5,-103.73C2360.5,-95.52 2360.5,-86.86 2360.5,-78.56\"/>\n<polygon fill=\"black\" stroke=\"black\" points=\"2364,-78.3 2360.5,-68.3 2357,-78.3 2364,-78.3\"/>\n</g>\n<!-- 45 -->\n<g id=\"node46\" class=\"node\">\n<title>45</title>\n<path fill=\"#47a4e7\" stroke=\"black\" d=\"M2533,-68C2533,-68 2446,-68 2446,-68 2440,-68 2434,-62 2434,-56 2434,-56 2434,-12 2434,-12 2434,-6 2440,0 2446,0 2446,0 2533,0 2533,0 2539,0 2545,-6 2545,-12 2545,-12 2545,-56 2545,-56 2545,-62 2539,-68 2533,-68\"/>\n<text text-anchor=\"start\" x=\"2442\" y=\"-52.8\" font-family=\"Helvetica,sans-Serif\" font-size=\"14.00\">entropy = 0.359</text>\n<text text-anchor=\"start\" x=\"2448.5\" y=\"-37.8\" font-family=\"Helvetica,sans-Serif\" font-size=\"14.00\">samples = 88</text>\n<text text-anchor=\"start\" x=\"2446.5\" y=\"-22.8\" font-family=\"Helvetica,sans-Serif\" font-size=\"14.00\">value = [6, 82]</text>\n<text text-anchor=\"start\" x=\"2462\" y=\"-7.8\" font-family=\"Helvetica,sans-Serif\" font-size=\"14.00\">class = 2</text>\n</g>\n<!-- 43&#45;&gt;45 -->\n<g id=\"edge45\" class=\"edge\">\n<title>43&#45;&gt;45</title>\n<path fill=\"none\" stroke=\"black\" d=\"M2408.53,-103.73C2419.6,-94.33 2431.36,-84.35 2442.39,-74.99\"/>\n<polygon fill=\"black\" stroke=\"black\" points=\"2444.91,-77.44 2450.27,-68.3 2440.38,-72.1 2444.91,-77.44\"/>\n</g>\n<!-- 48 -->\n<g id=\"node49\" class=\"node\">\n<title>48</title>\n<path fill=\"#e5823a\" stroke=\"black\" d=\"M4074.5,-544C4074.5,-544 3958.5,-544 3958.5,-544 3952.5,-544 3946.5,-538 3946.5,-532 3946.5,-532 3946.5,-473 3946.5,-473 3946.5,-467 3952.5,-461 3958.5,-461 3958.5,-461 4074.5,-461 4074.5,-461 4080.5,-461 4086.5,-467 4086.5,-473 4086.5,-473 4086.5,-532 4086.5,-532 4086.5,-538 4080.5,-544 4074.5,-544\"/>\n<text text-anchor=\"start\" x=\"3961\" y=\"-528.8\" font-family=\"Helvetica,sans-Serif\" font-size=\"14.00\">t1_towerKills ≤ 6.5</text>\n<text text-anchor=\"start\" x=\"3969\" y=\"-513.8\" font-family=\"Helvetica,sans-Serif\" font-size=\"14.00\">entropy = 0.059</text>\n<text text-anchor=\"start\" x=\"3964\" y=\"-498.8\" font-family=\"Helvetica,sans-Serif\" font-size=\"14.00\">samples = 15325</text>\n<text text-anchor=\"start\" x=\"3954.5\" y=\"-483.8\" font-family=\"Helvetica,sans-Serif\" font-size=\"14.00\">value = [15220, 105]</text>\n<text text-anchor=\"start\" x=\"3989\" y=\"-468.8\" font-family=\"Helvetica,sans-Serif\" font-size=\"14.00\">class = 1</text>\n</g>\n<!-- 47&#45;&gt;48 -->\n<g id=\"edge48\" class=\"edge\">\n<title>47&#45;&gt;48</title>\n<path fill=\"none\" stroke=\"black\" d=\"M4086.38,-579.91C4077.99,-570.74 4069.02,-560.93 4060.39,-551.49\"/>\n<polygon fill=\"black\" stroke=\"black\" points=\"4062.89,-549.04 4053.56,-544.02 4057.72,-553.76 4062.89,-549.04\"/>\n</g>\n<!-- 77 -->\n<g id=\"node78\" class=\"node\">\n<title>77</title>\n<path fill=\"#eda977\" stroke=\"black\" d=\"M4556,-544C4556,-544 4439,-544 4439,-544 4433,-544 4427,-538 4427,-532 4427,-532 4427,-473 4427,-473 4427,-467 4433,-461 4439,-461 4439,-461 4556,-461 4556,-461 4562,-461 4568,-467 4568,-473 4568,-473 4568,-532 4568,-532 4568,-538 4562,-544 4556,-544\"/>\n<text text-anchor=\"start\" x=\"4435\" y=\"-528.8\" font-family=\"Helvetica,sans-Serif\" font-size=\"14.00\">t1_inhibitorKills ≤ 0.5</text>\n<text text-anchor=\"start\" x=\"4450\" y=\"-513.8\" font-family=\"Helvetica,sans-Serif\" font-size=\"14.00\">entropy = 0.794</text>\n<text text-anchor=\"start\" x=\"4452.5\" y=\"-498.8\" font-family=\"Helvetica,sans-Serif\" font-size=\"14.00\">samples = 919</text>\n<text text-anchor=\"start\" x=\"4443\" y=\"-483.8\" font-family=\"Helvetica,sans-Serif\" font-size=\"14.00\">value = [699, 220]</text>\n<text text-anchor=\"start\" x=\"4470\" y=\"-468.8\" font-family=\"Helvetica,sans-Serif\" font-size=\"14.00\">class = 1</text>\n</g>\n<!-- 47&#45;&gt;77 -->\n<g id=\"edge77\" class=\"edge\">\n<title>47&#45;&gt;77</title>\n<path fill=\"none\" stroke=\"black\" d=\"M4194.29,-598.36C4257.77,-578.5 4350.85,-549.38 4417.11,-528.65\"/>\n<polygon fill=\"black\" stroke=\"black\" points=\"4418.19,-531.98 4426.69,-525.65 4416.1,-525.3 4418.19,-531.98\"/>\n</g>\n<!-- 49 -->\n<g id=\"node50\" class=\"node\">\n<title>49</title>\n<path fill=\"#e68844\" stroke=\"black\" d=\"M3399,-425C3399,-425 3296,-425 3296,-425 3290,-425 3284,-419 3284,-413 3284,-413 3284,-354 3284,-354 3284,-348 3290,-342 3296,-342 3296,-342 3399,-342 3399,-342 3405,-342 3411,-348 3411,-354 3411,-354 3411,-413 3411,-413 3411,-419 3405,-425 3399,-425\"/>\n<text text-anchor=\"start\" x=\"3292\" y=\"-409.8\" font-family=\"Helvetica,sans-Serif\" font-size=\"14.00\">t2_towerKills ≤ 3.5</text>\n<text text-anchor=\"start\" x=\"3300\" y=\"-394.8\" font-family=\"Helvetica,sans-Serif\" font-size=\"14.00\">entropy = 0.291</text>\n<text text-anchor=\"start\" x=\"3299\" y=\"-379.8\" font-family=\"Helvetica,sans-Serif\" font-size=\"14.00\">samples = 1858</text>\n<text text-anchor=\"start\" x=\"3293\" y=\"-364.8\" font-family=\"Helvetica,sans-Serif\" font-size=\"14.00\">value = [1763, 95]</text>\n<text text-anchor=\"start\" x=\"3320\" y=\"-349.8\" font-family=\"Helvetica,sans-Serif\" font-size=\"14.00\">class = 1</text>\n</g>\n<!-- 48&#45;&gt;49 -->\n<g id=\"edge49\" class=\"edge\">\n<title>48&#45;&gt;49</title>\n<path fill=\"none\" stroke=\"black\" d=\"M3946.48,-489.26C3819.13,-466.98 3550.75,-420.05 3420.92,-397.34\"/>\n<polygon fill=\"black\" stroke=\"black\" points=\"3421.51,-393.89 3411.06,-395.62 3420.31,-400.79 3421.51,-393.89\"/>\n</g>\n<!-- 64 -->\n<g id=\"node65\" class=\"node\">\n<title>64</title>\n<path fill=\"#e58139\" stroke=\"black\" d=\"M4070.5,-425C4070.5,-425 3962.5,-425 3962.5,-425 3956.5,-425 3950.5,-419 3950.5,-413 3950.5,-413 3950.5,-354 3950.5,-354 3950.5,-348 3956.5,-342 3962.5,-342 3962.5,-342 4070.5,-342 4070.5,-342 4076.5,-342 4082.5,-348 4082.5,-354 4082.5,-354 4082.5,-413 4082.5,-413 4082.5,-419 4076.5,-425 4070.5,-425\"/>\n<text text-anchor=\"start\" x=\"3961\" y=\"-409.8\" font-family=\"Helvetica,sans-Serif\" font-size=\"14.00\">t1_towerKills ≤ 8.5</text>\n<text text-anchor=\"start\" x=\"3969\" y=\"-394.8\" font-family=\"Helvetica,sans-Serif\" font-size=\"14.00\">entropy = 0.009</text>\n<text text-anchor=\"start\" x=\"3964\" y=\"-379.8\" font-family=\"Helvetica,sans-Serif\" font-size=\"14.00\">samples = 13467</text>\n<text text-anchor=\"start\" x=\"3958.5\" y=\"-364.8\" font-family=\"Helvetica,sans-Serif\" font-size=\"14.00\">value = [13457, 10]</text>\n<text text-anchor=\"start\" x=\"3989\" y=\"-349.8\" font-family=\"Helvetica,sans-Serif\" font-size=\"14.00\">class = 1</text>\n</g>\n<!-- 48&#45;&gt;64 -->\n<g id=\"edge64\" class=\"edge\">\n<title>48&#45;&gt;64</title>\n<path fill=\"none\" stroke=\"black\" d=\"M4016.5,-460.91C4016.5,-452.65 4016.5,-443.86 4016.5,-435.3\"/>\n<polygon fill=\"black\" stroke=\"black\" points=\"4020,-435.02 4016.5,-425.02 4013,-435.02 4020,-435.02\"/>\n</g>\n<!-- 50 -->\n<g id=\"node51\" class=\"node\">\n<title>50</title>\n<path fill=\"#e5823b\" stroke=\"black\" d=\"M3021.5,-306C3021.5,-306 2917.5,-306 2917.5,-306 2911.5,-306 2905.5,-300 2905.5,-294 2905.5,-294 2905.5,-235 2905.5,-235 2905.5,-229 2911.5,-223 2917.5,-223 2917.5,-223 3021.5,-223 3021.5,-223 3027.5,-223 3033.5,-229 3033.5,-235 3033.5,-235 3033.5,-294 3033.5,-294 3033.5,-300 3027.5,-306 3021.5,-306\"/>\n<text text-anchor=\"start\" x=\"2913.5\" y=\"-290.8\" font-family=\"Helvetica,sans-Serif\" font-size=\"14.00\">t2_baronKills ≤ 0.5</text>\n<text text-anchor=\"start\" x=\"2922\" y=\"-275.8\" font-family=\"Helvetica,sans-Serif\" font-size=\"14.00\">entropy = 0.085</text>\n<text text-anchor=\"start\" x=\"2921\" y=\"-260.8\" font-family=\"Helvetica,sans-Serif\" font-size=\"14.00\">samples = 1600</text>\n<text text-anchor=\"start\" x=\"2915\" y=\"-245.8\" font-family=\"Helvetica,sans-Serif\" font-size=\"14.00\">value = [1583, 17]</text>\n<text text-anchor=\"start\" x=\"2942\" y=\"-230.8\" font-family=\"Helvetica,sans-Serif\" font-size=\"14.00\">class = 1</text>\n</g>\n<!-- 49&#45;&gt;50 -->\n<g id=\"edge50\" class=\"edge\">\n<title>49&#45;&gt;50</title>\n<path fill=\"none\" stroke=\"black\" d=\"M3283.8,-362.78C3217.39,-342.23 3113.4,-310.04 3043.42,-288.38\"/>\n<polygon fill=\"black\" stroke=\"black\" points=\"3044.36,-285.01 3033.77,-285.39 3042.29,-291.69 3044.36,-285.01\"/>\n</g>\n<!-- 57 -->\n<g id=\"node58\" class=\"node\">\n<title>57</title>\n<path fill=\"#f0b88f\" stroke=\"black\" d=\"M3406,-306C3406,-306 3289,-306 3289,-306 3283,-306 3277,-300 3277,-294 3277,-294 3277,-235 3277,-235 3277,-229 3283,-223 3289,-223 3289,-223 3406,-223 3406,-223 3412,-223 3418,-229 3418,-235 3418,-235 3418,-294 3418,-294 3418,-300 3412,-306 3406,-306\"/>\n<text text-anchor=\"start\" x=\"3285\" y=\"-290.8\" font-family=\"Helvetica,sans-Serif\" font-size=\"14.00\">t1_inhibitorKills ≤ 0.5</text>\n<text text-anchor=\"start\" x=\"3300\" y=\"-275.8\" font-family=\"Helvetica,sans-Serif\" font-size=\"14.00\">entropy = 0.884</text>\n<text text-anchor=\"start\" x=\"3302.5\" y=\"-260.8\" font-family=\"Helvetica,sans-Serif\" font-size=\"14.00\">samples = 258</text>\n<text text-anchor=\"start\" x=\"3297\" y=\"-245.8\" font-family=\"Helvetica,sans-Serif\" font-size=\"14.00\">value = [180, 78]</text>\n<text text-anchor=\"start\" x=\"3320\" y=\"-230.8\" font-family=\"Helvetica,sans-Serif\" font-size=\"14.00\">class = 1</text>\n</g>\n<!-- 49&#45;&gt;57 -->\n<g id=\"edge57\" class=\"edge\">\n<title>49&#45;&gt;57</title>\n<path fill=\"none\" stroke=\"black\" d=\"M3347.5,-341.91C3347.5,-333.65 3347.5,-324.86 3347.5,-316.3\"/>\n<polygon fill=\"black\" stroke=\"black\" points=\"3351,-316.02 3347.5,-306.02 3344,-316.02 3351,-316.02\"/>\n</g>\n<!-- 51 -->\n<g id=\"node52\" class=\"node\">\n<title>51</title>\n<path fill=\"#e5823a\" stroke=\"black\" d=\"M2816,-187C2816,-187 2713,-187 2713,-187 2707,-187 2701,-181 2701,-175 2701,-175 2701,-116 2701,-116 2701,-110 2707,-104 2713,-104 2713,-104 2816,-104 2816,-104 2822,-104 2828,-110 2828,-116 2828,-116 2828,-175 2828,-175 2828,-181 2822,-187 2816,-187\"/>\n<text text-anchor=\"start\" x=\"2709\" y=\"-171.8\" font-family=\"Helvetica,sans-Serif\" font-size=\"14.00\">t2_towerKills ≤ 2.5</text>\n<text text-anchor=\"start\" x=\"2717\" y=\"-156.8\" font-family=\"Helvetica,sans-Serif\" font-size=\"14.00\">entropy = 0.055</text>\n<text text-anchor=\"start\" x=\"2716\" y=\"-141.8\" font-family=\"Helvetica,sans-Serif\" font-size=\"14.00\">samples = 1578</text>\n<text text-anchor=\"start\" x=\"2710\" y=\"-126.8\" font-family=\"Helvetica,sans-Serif\" font-size=\"14.00\">value = [1568, 10]</text>\n<text text-anchor=\"start\" x=\"2737\" y=\"-111.8\" font-family=\"Helvetica,sans-Serif\" font-size=\"14.00\">class = 1</text>\n</g>\n<!-- 50&#45;&gt;51 -->\n<g id=\"edge51\" class=\"edge\">\n<title>50&#45;&gt;51</title>\n<path fill=\"none\" stroke=\"black\" d=\"M2905.48,-226.96C2883.7,-214.53 2859.21,-200.55 2836.83,-187.78\"/>\n<polygon fill=\"black\" stroke=\"black\" points=\"2838.45,-184.68 2828.03,-182.76 2834.99,-190.76 2838.45,-184.68\"/>\n</g>\n<!-- 54 -->\n<g id=\"node55\" class=\"node\">\n<title>54</title>\n<path fill=\"#f1bc95\" stroke=\"black\" d=\"M3021,-187C3021,-187 2918,-187 2918,-187 2912,-187 2906,-181 2906,-175 2906,-175 2906,-116 2906,-116 2906,-110 2912,-104 2918,-104 2918,-104 3021,-104 3021,-104 3027,-104 3033,-110 3033,-116 3033,-116 3033,-175 3033,-175 3033,-181 3027,-187 3021,-187\"/>\n<text text-anchor=\"start\" x=\"2914\" y=\"-171.8\" font-family=\"Helvetica,sans-Serif\" font-size=\"14.00\">t1_towerKills ≤ 5.5</text>\n<text text-anchor=\"start\" x=\"2922\" y=\"-156.8\" font-family=\"Helvetica,sans-Serif\" font-size=\"14.00\">entropy = 0.902</text>\n<text text-anchor=\"start\" x=\"2928.5\" y=\"-141.8\" font-family=\"Helvetica,sans-Serif\" font-size=\"14.00\">samples = 22</text>\n<text text-anchor=\"start\" x=\"2915\" y=\"-126.8\" font-family=\"Helvetica,sans-Serif\" font-size=\"14.00\">value = [15.0, 7.0]</text>\n<text text-anchor=\"start\" x=\"2942\" y=\"-111.8\" font-family=\"Helvetica,sans-Serif\" font-size=\"14.00\">class = 1</text>\n</g>\n<!-- 50&#45;&gt;54 -->\n<g id=\"edge54\" class=\"edge\">\n<title>50&#45;&gt;54</title>\n<path fill=\"none\" stroke=\"black\" d=\"M2969.5,-222.91C2969.5,-214.65 2969.5,-205.86 2969.5,-197.3\"/>\n<polygon fill=\"black\" stroke=\"black\" points=\"2973,-197.02 2969.5,-187.02 2966,-197.02 2973,-197.02\"/>\n</g>\n<!-- 52 -->\n<g id=\"node53\" class=\"node\">\n<title>52</title>\n<path fill=\"#e58139\" stroke=\"black\" d=\"M2668,-68C2668,-68 2575,-68 2575,-68 2569,-68 2563,-62 2563,-56 2563,-56 2563,-12 2563,-12 2563,-6 2569,0 2575,0 2575,0 2668,0 2668,0 2674,0 2680,-6 2680,-12 2680,-12 2680,-56 2680,-56 2680,-62 2674,-68 2668,-68\"/>\n<text text-anchor=\"start\" x=\"2574\" y=\"-52.8\" font-family=\"Helvetica,sans-Serif\" font-size=\"14.00\">entropy = 0.022</text>\n<text text-anchor=\"start\" x=\"2573\" y=\"-37.8\" font-family=\"Helvetica,sans-Serif\" font-size=\"14.00\">samples = 1385</text>\n<text text-anchor=\"start\" x=\"2571\" y=\"-22.8\" font-family=\"Helvetica,sans-Serif\" font-size=\"14.00\">value = [1382, 3]</text>\n<text text-anchor=\"start\" x=\"2594\" y=\"-7.8\" font-family=\"Helvetica,sans-Serif\" font-size=\"14.00\">class = 1</text>\n</g>\n<!-- 51&#45;&gt;52 -->\n<g id=\"edge52\" class=\"edge\">\n<title>51&#45;&gt;52</title>\n<path fill=\"none\" stroke=\"black\" d=\"M2711.25,-103.73C2698.75,-94.15 2685.44,-83.96 2673.01,-74.44\"/>\n<polygon fill=\"black\" stroke=\"black\" points=\"2675.05,-71.6 2664.99,-68.3 2670.8,-77.16 2675.05,-71.6\"/>\n</g>\n<!-- 53 -->\n<g id=\"node54\" class=\"node\">\n<title>53</title>\n<path fill=\"#e68640\" stroke=\"black\" d=\"M2818.5,-68C2818.5,-68 2710.5,-68 2710.5,-68 2704.5,-68 2698.5,-62 2698.5,-56 2698.5,-56 2698.5,-12 2698.5,-12 2698.5,-6 2704.5,0 2710.5,0 2710.5,0 2818.5,0 2818.5,0 2824.5,0 2830.5,-6 2830.5,-12 2830.5,-12 2830.5,-56 2830.5,-56 2830.5,-62 2824.5,-68 2818.5,-68\"/>\n<text text-anchor=\"start\" x=\"2717\" y=\"-52.8\" font-family=\"Helvetica,sans-Serif\" font-size=\"14.00\">entropy = 0.225</text>\n<text text-anchor=\"start\" x=\"2719.5\" y=\"-37.8\" font-family=\"Helvetica,sans-Serif\" font-size=\"14.00\">samples = 193</text>\n<text text-anchor=\"start\" x=\"2706.5\" y=\"-22.8\" font-family=\"Helvetica,sans-Serif\" font-size=\"14.00\">value = [186.0, 7.0]</text>\n<text text-anchor=\"start\" x=\"2737\" y=\"-7.8\" font-family=\"Helvetica,sans-Serif\" font-size=\"14.00\">class = 1</text>\n</g>\n<!-- 51&#45;&gt;53 -->\n<g id=\"edge53\" class=\"edge\">\n<title>51&#45;&gt;53</title>\n<path fill=\"none\" stroke=\"black\" d=\"M2764.5,-103.73C2764.5,-95.52 2764.5,-86.86 2764.5,-78.56\"/>\n<polygon fill=\"black\" stroke=\"black\" points=\"2768,-78.3 2764.5,-68.3 2761,-78.3 2768,-78.3\"/>\n</g>\n<!-- 55 -->\n<g id=\"node56\" class=\"node\">\n<title>55</title>\n<path fill=\"#8ec7f0\" stroke=\"black\" d=\"M2948,-68C2948,-68 2861,-68 2861,-68 2855,-68 2849,-62 2849,-56 2849,-56 2849,-12 2849,-12 2849,-6 2855,0 2861,0 2861,0 2948,0 2948,0 2954,0 2960,-6 2960,-12 2960,-12 2960,-56 2960,-56 2960,-62 2954,-68 2948,-68\"/>\n<text text-anchor=\"start\" x=\"2857\" y=\"-52.8\" font-family=\"Helvetica,sans-Serif\" font-size=\"14.00\">entropy = 0.881</text>\n<text text-anchor=\"start\" x=\"2863.5\" y=\"-37.8\" font-family=\"Helvetica,sans-Serif\" font-size=\"14.00\">samples = 10</text>\n<text text-anchor=\"start\" x=\"2865\" y=\"-22.8\" font-family=\"Helvetica,sans-Serif\" font-size=\"14.00\">value = [3, 7]</text>\n<text text-anchor=\"start\" x=\"2877\" y=\"-7.8\" font-family=\"Helvetica,sans-Serif\" font-size=\"14.00\">class = 2</text>\n</g>\n<!-- 54&#45;&gt;55 -->\n<g id=\"edge55\" class=\"edge\">\n<title>54&#45;&gt;55</title>\n<path fill=\"none\" stroke=\"black\" d=\"M2945.3,-103.73C2940.1,-94.97 2934.6,-85.7 2929.38,-76.91\"/>\n<polygon fill=\"black\" stroke=\"black\" points=\"2932.38,-75.11 2924.27,-68.3 2926.36,-78.69 2932.38,-75.11\"/>\n</g>\n<!-- 56 -->\n<g id=\"node57\" class=\"node\">\n<title>56</title>\n<path fill=\"#e58139\" stroke=\"black\" d=\"M3068.5,-68C3068.5,-68 2990.5,-68 2990.5,-68 2984.5,-68 2978.5,-62 2978.5,-56 2978.5,-56 2978.5,-12 2978.5,-12 2978.5,-6 2984.5,0 2990.5,0 2990.5,0 3068.5,0 3068.5,0 3074.5,0 3080.5,-6 3080.5,-12 3080.5,-12 3080.5,-56 3080.5,-56 3080.5,-62 3074.5,-68 3068.5,-68\"/>\n<text text-anchor=\"start\" x=\"2989.5\" y=\"-52.8\" font-family=\"Helvetica,sans-Serif\" font-size=\"14.00\">entropy = 0.0</text>\n<text text-anchor=\"start\" x=\"2988.5\" y=\"-37.8\" font-family=\"Helvetica,sans-Serif\" font-size=\"14.00\">samples = 12</text>\n<text text-anchor=\"start\" x=\"2986.5\" y=\"-22.8\" font-family=\"Helvetica,sans-Serif\" font-size=\"14.00\">value = [12, 0]</text>\n<text text-anchor=\"start\" x=\"3002\" y=\"-7.8\" font-family=\"Helvetica,sans-Serif\" font-size=\"14.00\">class = 1</text>\n</g>\n<!-- 54&#45;&gt;56 -->\n<g id=\"edge56\" class=\"edge\">\n<title>54&#45;&gt;56</title>\n<path fill=\"none\" stroke=\"black\" d=\"M2991.84,-103.73C2996.59,-95.06 3001.61,-85.9 3006.39,-77.18\"/>\n<polygon fill=\"black\" stroke=\"black\" points=\"3009.52,-78.75 3011.25,-68.3 3003.38,-75.39 3009.52,-78.75\"/>\n</g>\n<!-- 58 -->\n<g id=\"node59\" class=\"node\">\n<title>58</title>\n<path fill=\"#d5eaf9\" stroke=\"black\" d=\"M3331,-187C3331,-187 3228,-187 3228,-187 3222,-187 3216,-181 3216,-175 3216,-175 3216,-116 3216,-116 3216,-110 3222,-104 3228,-104 3228,-104 3331,-104 3331,-104 3337,-104 3343,-110 3343,-116 3343,-116 3343,-175 3343,-175 3343,-181 3337,-187 3331,-187\"/>\n<text text-anchor=\"start\" x=\"3224\" y=\"-171.8\" font-family=\"Helvetica,sans-Serif\" font-size=\"14.00\">t2_towerKills ≤ 4.5</text>\n<text text-anchor=\"start\" x=\"3235.5\" y=\"-156.8\" font-family=\"Helvetica,sans-Serif\" font-size=\"14.00\">entropy = 0.99</text>\n<text text-anchor=\"start\" x=\"3234.5\" y=\"-141.8\" font-family=\"Helvetica,sans-Serif\" font-size=\"14.00\">samples = 125</text>\n<text text-anchor=\"start\" x=\"3232.5\" y=\"-126.8\" font-family=\"Helvetica,sans-Serif\" font-size=\"14.00\">value = [55, 70]</text>\n<text text-anchor=\"start\" x=\"3252\" y=\"-111.8\" font-family=\"Helvetica,sans-Serif\" font-size=\"14.00\">class = 2</text>\n</g>\n<!-- 57&#45;&gt;58 -->\n<g id=\"edge58\" class=\"edge\">\n<title>57&#45;&gt;58</title>\n<path fill=\"none\" stroke=\"black\" d=\"M3323.91,-222.91C3318.84,-214.2 3313.44,-204.9 3308.21,-195.89\"/>\n<polygon fill=\"black\" stroke=\"black\" points=\"3311.1,-193.91 3303.05,-187.02 3305.05,-197.43 3311.1,-193.91\"/>\n</g>\n<!-- 61 -->\n<g id=\"node62\" class=\"node\">\n<title>61</title>\n<path fill=\"#e78946\" stroke=\"black\" d=\"M3460,-187C3460,-187 3373,-187 3373,-187 3367,-187 3361,-181 3361,-175 3361,-175 3361,-116 3361,-116 3361,-110 3367,-104 3373,-104 3373,-104 3460,-104 3460,-104 3466,-104 3472,-110 3472,-116 3472,-116 3472,-175 3472,-175 3472,-181 3466,-187 3460,-187\"/>\n<text text-anchor=\"start\" x=\"3370.5\" y=\"-171.8\" font-family=\"Helvetica,sans-Serif\" font-size=\"14.00\">firstBaron ≤ 1.5</text>\n<text text-anchor=\"start\" x=\"3369\" y=\"-156.8\" font-family=\"Helvetica,sans-Serif\" font-size=\"14.00\">entropy = 0.328</text>\n<text text-anchor=\"start\" x=\"3371.5\" y=\"-141.8\" font-family=\"Helvetica,sans-Serif\" font-size=\"14.00\">samples = 133</text>\n<text text-anchor=\"start\" x=\"3369.5\" y=\"-126.8\" font-family=\"Helvetica,sans-Serif\" font-size=\"14.00\">value = [125, 8]</text>\n<text text-anchor=\"start\" x=\"3389\" y=\"-111.8\" font-family=\"Helvetica,sans-Serif\" font-size=\"14.00\">class = 1</text>\n</g>\n<!-- 57&#45;&gt;61 -->\n<g id=\"edge61\" class=\"edge\">\n<title>57&#45;&gt;61</title>\n<path fill=\"none\" stroke=\"black\" d=\"M3371.44,-222.91C3376.58,-214.2 3382.06,-204.9 3387.37,-195.89\"/>\n<polygon fill=\"black\" stroke=\"black\" points=\"3390.54,-197.41 3392.6,-187.02 3384.51,-193.86 3390.54,-197.41\"/>\n</g>\n<!-- 59 -->\n<g id=\"node60\" class=\"node\">\n<title>59</title>\n<path fill=\"#f1ba93\" stroke=\"black\" d=\"M3198,-68C3198,-68 3111,-68 3111,-68 3105,-68 3099,-62 3099,-56 3099,-56 3099,-12 3099,-12 3099,-6 3105,0 3111,0 3111,0 3198,0 3198,0 3204,0 3210,-6 3210,-12 3210,-12 3210,-56 3210,-56 3210,-62 3204,-68 3198,-68\"/>\n<text text-anchor=\"start\" x=\"3107\" y=\"-52.8\" font-family=\"Helvetica,sans-Serif\" font-size=\"14.00\">entropy = 0.895</text>\n<text text-anchor=\"start\" x=\"3113.5\" y=\"-37.8\" font-family=\"Helvetica,sans-Serif\" font-size=\"14.00\">samples = 61</text>\n<text text-anchor=\"start\" x=\"3107.5\" y=\"-22.8\" font-family=\"Helvetica,sans-Serif\" font-size=\"14.00\">value = [42, 19]</text>\n<text text-anchor=\"start\" x=\"3127\" y=\"-7.8\" font-family=\"Helvetica,sans-Serif\" font-size=\"14.00\">class = 1</text>\n</g>\n<!-- 58&#45;&gt;59 -->\n<g id=\"edge59\" class=\"edge\">\n<title>58&#45;&gt;59</title>\n<path fill=\"none\" stroke=\"black\" d=\"M3232.95,-103.73C3222.23,-94.33 3210.83,-84.35 3200.15,-74.99\"/>\n<polygon fill=\"black\" stroke=\"black\" points=\"3202.34,-72.26 3192.51,-68.3 3197.73,-77.52 3202.34,-72.26\"/>\n</g>\n<!-- 60 -->\n<g id=\"node61\" class=\"node\">\n<title>60</title>\n<path fill=\"#6bb6ec\" stroke=\"black\" d=\"M3327,-68C3327,-68 3240,-68 3240,-68 3234,-68 3228,-62 3228,-56 3228,-56 3228,-12 3228,-12 3228,-6 3234,0 3240,0 3240,0 3327,0 3327,0 3333,0 3339,-6 3339,-12 3339,-12 3339,-56 3339,-56 3339,-62 3333,-68 3327,-68\"/>\n<text text-anchor=\"start\" x=\"3236\" y=\"-52.8\" font-family=\"Helvetica,sans-Serif\" font-size=\"14.00\">entropy = 0.728</text>\n<text text-anchor=\"start\" x=\"3242.5\" y=\"-37.8\" font-family=\"Helvetica,sans-Serif\" font-size=\"14.00\">samples = 64</text>\n<text text-anchor=\"start\" x=\"3236.5\" y=\"-22.8\" font-family=\"Helvetica,sans-Serif\" font-size=\"14.00\">value = [13, 51]</text>\n<text text-anchor=\"start\" x=\"3256\" y=\"-7.8\" font-family=\"Helvetica,sans-Serif\" font-size=\"14.00\">class = 2</text>\n</g>\n<!-- 58&#45;&gt;60 -->\n<g id=\"edge60\" class=\"edge\">\n<title>58&#45;&gt;60</title>\n<path fill=\"none\" stroke=\"black\" d=\"M3280.99,-103.73C3281.29,-95.52 3281.61,-86.86 3281.91,-78.56\"/>\n<polygon fill=\"black\" stroke=\"black\" points=\"3285.42,-78.42 3282.28,-68.3 3278.42,-78.17 3285.42,-78.42\"/>\n</g>\n<!-- 62 -->\n<g id=\"node63\" class=\"node\">\n<title>62</title>\n<path fill=\"#e58139\" stroke=\"black\" d=\"M3455.5,-68C3455.5,-68 3369.5,-68 3369.5,-68 3363.5,-68 3357.5,-62 3357.5,-56 3357.5,-56 3357.5,-12 3357.5,-12 3357.5,-6 3363.5,0 3369.5,0 3369.5,0 3455.5,0 3455.5,0 3461.5,0 3467.5,-6 3467.5,-12 3467.5,-12 3467.5,-56 3467.5,-56 3467.5,-62 3461.5,-68 3455.5,-68\"/>\n<text text-anchor=\"start\" x=\"3372.5\" y=\"-52.8\" font-family=\"Helvetica,sans-Serif\" font-size=\"14.00\">entropy = 0.0</text>\n<text text-anchor=\"start\" x=\"3367.5\" y=\"-37.8\" font-family=\"Helvetica,sans-Serif\" font-size=\"14.00\">samples = 105</text>\n<text text-anchor=\"start\" x=\"3365.5\" y=\"-22.8\" font-family=\"Helvetica,sans-Serif\" font-size=\"14.00\">value = [105, 0]</text>\n<text text-anchor=\"start\" x=\"3385\" y=\"-7.8\" font-family=\"Helvetica,sans-Serif\" font-size=\"14.00\">class = 1</text>\n</g>\n<!-- 61&#45;&gt;62 -->\n<g id=\"edge62\" class=\"edge\">\n<title>61&#45;&gt;62</title>\n<path fill=\"none\" stroke=\"black\" d=\"M3415.01,-103.73C3414.71,-95.52 3414.39,-86.86 3414.09,-78.56\"/>\n<polygon fill=\"black\" stroke=\"black\" points=\"3417.58,-78.17 3413.72,-68.3 3410.58,-78.42 3417.58,-78.17\"/>\n</g>\n<!-- 63 -->\n<g id=\"node64\" class=\"node\">\n<title>63</title>\n<path fill=\"#efb388\" stroke=\"black\" d=\"M3585,-68C3585,-68 3498,-68 3498,-68 3492,-68 3486,-62 3486,-56 3486,-56 3486,-12 3486,-12 3486,-6 3492,0 3498,0 3498,0 3585,0 3585,0 3591,0 3597,-6 3597,-12 3597,-12 3597,-56 3597,-56 3597,-62 3591,-68 3585,-68\"/>\n<text text-anchor=\"start\" x=\"3494\" y=\"-52.8\" font-family=\"Helvetica,sans-Serif\" font-size=\"14.00\">entropy = 0.863</text>\n<text text-anchor=\"start\" x=\"3500.5\" y=\"-37.8\" font-family=\"Helvetica,sans-Serif\" font-size=\"14.00\">samples = 28</text>\n<text text-anchor=\"start\" x=\"3498.5\" y=\"-22.8\" font-family=\"Helvetica,sans-Serif\" font-size=\"14.00\">value = [20, 8]</text>\n<text text-anchor=\"start\" x=\"3514\" y=\"-7.8\" font-family=\"Helvetica,sans-Serif\" font-size=\"14.00\">class = 1</text>\n</g>\n<!-- 61&#45;&gt;63 -->\n<g id=\"edge63\" class=\"edge\">\n<title>61&#45;&gt;63</title>\n<path fill=\"none\" stroke=\"black\" d=\"M3463.05,-103.73C3473.77,-94.33 3485.17,-84.35 3495.85,-74.99\"/>\n<polygon fill=\"black\" stroke=\"black\" points=\"3498.27,-77.52 3503.49,-68.3 3493.66,-72.26 3498.27,-77.52\"/>\n</g>\n<!-- 65 -->\n<g id=\"node66\" class=\"node\">\n<title>65</title>\n<path fill=\"#e5813a\" stroke=\"black\" d=\"M3995,-306C3995,-306 3892,-306 3892,-306 3886,-306 3880,-300 3880,-294 3880,-294 3880,-235 3880,-235 3880,-229 3886,-223 3892,-223 3892,-223 3995,-223 3995,-223 4001,-223 4007,-229 4007,-235 4007,-235 4007,-294 4007,-294 4007,-300 4001,-306 3995,-306\"/>\n<text text-anchor=\"start\" x=\"3888\" y=\"-290.8\" font-family=\"Helvetica,sans-Serif\" font-size=\"14.00\">t2_towerKills ≤ 4.5</text>\n<text text-anchor=\"start\" x=\"3896\" y=\"-275.8\" font-family=\"Helvetica,sans-Serif\" font-size=\"14.00\">entropy = 0.027</text>\n<text text-anchor=\"start\" x=\"3895\" y=\"-260.8\" font-family=\"Helvetica,sans-Serif\" font-size=\"14.00\">samples = 3268</text>\n<text text-anchor=\"start\" x=\"3893\" y=\"-245.8\" font-family=\"Helvetica,sans-Serif\" font-size=\"14.00\">value = [3259, 9]</text>\n<text text-anchor=\"start\" x=\"3916\" y=\"-230.8\" font-family=\"Helvetica,sans-Serif\" font-size=\"14.00\">class = 1</text>\n</g>\n<!-- 64&#45;&gt;65 -->\n<g id=\"edge65\" class=\"edge\">\n<title>64&#45;&gt;65</title>\n<path fill=\"none\" stroke=\"black\" d=\"M3991.17,-341.91C3985.68,-333.1 3979.81,-323.7 3974.14,-314.61\"/>\n<polygon fill=\"black\" stroke=\"black\" points=\"3977.05,-312.65 3968.78,-306.02 3971.11,-316.36 3977.05,-312.65\"/>\n</g>\n<!-- 72 -->\n<g id=\"node73\" class=\"node\">\n<title>72</title>\n<path fill=\"#e58139\" stroke=\"black\" d=\"M4141.5,-306C4141.5,-306 4037.5,-306 4037.5,-306 4031.5,-306 4025.5,-300 4025.5,-294 4025.5,-294 4025.5,-235 4025.5,-235 4025.5,-229 4031.5,-223 4037.5,-223 4037.5,-223 4141.5,-223 4141.5,-223 4147.5,-223 4153.5,-229 4153.5,-235 4153.5,-235 4153.5,-294 4153.5,-294 4153.5,-300 4147.5,-306 4141.5,-306\"/>\n<text text-anchor=\"start\" x=\"4033.5\" y=\"-290.8\" font-family=\"Helvetica,sans-Serif\" font-size=\"14.00\">t1_baronKills ≤ 2.5</text>\n<text text-anchor=\"start\" x=\"4042\" y=\"-275.8\" font-family=\"Helvetica,sans-Serif\" font-size=\"14.00\">entropy = 0.001</text>\n<text text-anchor=\"start\" x=\"4037\" y=\"-260.8\" font-family=\"Helvetica,sans-Serif\" font-size=\"14.00\">samples = 10199</text>\n<text text-anchor=\"start\" x=\"4035\" y=\"-245.8\" font-family=\"Helvetica,sans-Serif\" font-size=\"14.00\">value = [10198, 1]</text>\n<text text-anchor=\"start\" x=\"4062\" y=\"-230.8\" font-family=\"Helvetica,sans-Serif\" font-size=\"14.00\">class = 1</text>\n</g>\n<!-- 64&#45;&gt;72 -->\n<g id=\"edge72\" class=\"edge\">\n<title>64&#45;&gt;72</title>\n<path fill=\"none\" stroke=\"black\" d=\"M4041.83,-341.91C4047.32,-333.1 4053.19,-323.7 4058.86,-314.61\"/>\n<polygon fill=\"black\" stroke=\"black\" points=\"4061.89,-316.36 4064.22,-306.02 4055.95,-312.65 4061.89,-316.36\"/>\n</g>\n<!-- 66 -->\n<g id=\"node67\" class=\"node\">\n<title>66</title>\n<path fill=\"#e58139\" stroke=\"black\" d=\"M3855,-187C3855,-187 3752,-187 3752,-187 3746,-187 3740,-181 3740,-175 3740,-175 3740,-116 3740,-116 3740,-110 3746,-104 3752,-104 3752,-104 3855,-104 3855,-104 3861,-104 3867,-110 3867,-116 3867,-116 3867,-175 3867,-175 3867,-181 3861,-187 3855,-187\"/>\n<text text-anchor=\"start\" x=\"3748\" y=\"-171.8\" font-family=\"Helvetica,sans-Serif\" font-size=\"14.00\">t2_towerKills ≤ 2.5</text>\n<text text-anchor=\"start\" x=\"3756\" y=\"-156.8\" font-family=\"Helvetica,sans-Serif\" font-size=\"14.00\">entropy = 0.009</text>\n<text text-anchor=\"start\" x=\"3755\" y=\"-141.8\" font-family=\"Helvetica,sans-Serif\" font-size=\"14.00\">samples = 2734</text>\n<text text-anchor=\"start\" x=\"3753\" y=\"-126.8\" font-family=\"Helvetica,sans-Serif\" font-size=\"14.00\">value = [2732, 2]</text>\n<text text-anchor=\"start\" x=\"3776\" y=\"-111.8\" font-family=\"Helvetica,sans-Serif\" font-size=\"14.00\">class = 1</text>\n</g>\n<!-- 65&#45;&gt;66 -->\n<g id=\"edge66\" class=\"edge\">\n<title>65&#45;&gt;66</title>\n<path fill=\"none\" stroke=\"black\" d=\"M3894.93,-222.91C3883.63,-213.47 3871.52,-203.34 3859.92,-193.65\"/>\n<polygon fill=\"black\" stroke=\"black\" points=\"3861.9,-190.75 3851.99,-187.02 3857.42,-196.12 3861.9,-190.75\"/>\n</g>\n<!-- 69 -->\n<g id=\"node70\" class=\"node\">\n<title>69</title>\n<path fill=\"#e5833c\" stroke=\"black\" d=\"M3993.5,-187C3993.5,-187 3897.5,-187 3897.5,-187 3891.5,-187 3885.5,-181 3885.5,-175 3885.5,-175 3885.5,-116 3885.5,-116 3885.5,-110 3891.5,-104 3897.5,-104 3897.5,-104 3993.5,-104 3993.5,-104 3999.5,-104 4005.5,-110 4005.5,-116 4005.5,-116 4005.5,-175 4005.5,-175 4005.5,-181 3999.5,-187 3993.5,-187\"/>\n<text text-anchor=\"start\" x=\"3893.5\" y=\"-171.8\" font-family=\"Helvetica,sans-Serif\" font-size=\"14.00\">firstInhibitor ≤ 0.5</text>\n<text text-anchor=\"start\" x=\"3898\" y=\"-156.8\" font-family=\"Helvetica,sans-Serif\" font-size=\"14.00\">entropy = 0.101</text>\n<text text-anchor=\"start\" x=\"3900.5\" y=\"-141.8\" font-family=\"Helvetica,sans-Serif\" font-size=\"14.00\">samples = 534</text>\n<text text-anchor=\"start\" x=\"3898.5\" y=\"-126.8\" font-family=\"Helvetica,sans-Serif\" font-size=\"14.00\">value = [527, 7]</text>\n<text text-anchor=\"start\" x=\"3918\" y=\"-111.8\" font-family=\"Helvetica,sans-Serif\" font-size=\"14.00\">class = 1</text>\n</g>\n<!-- 65&#45;&gt;69 -->\n<g id=\"edge69\" class=\"edge\">\n<title>65&#45;&gt;69</title>\n<path fill=\"none\" stroke=\"black\" d=\"M3944.19,-222.91C3944.34,-214.56 3944.49,-205.67 3944.64,-197.02\"/>\n<polygon fill=\"black\" stroke=\"black\" points=\"3948.14,-197.08 3944.81,-187.02 3941.14,-196.96 3948.14,-197.08\"/>\n</g>\n<!-- 67 -->\n<g id=\"node68\" class=\"node\">\n<title>67</title>\n<path fill=\"#e58139\" stroke=\"black\" d=\"M3720,-68C3720,-68 3627,-68 3627,-68 3621,-68 3615,-62 3615,-56 3615,-56 3615,-12 3615,-12 3615,-6 3621,0 3627,0 3627,0 3720,0 3720,0 3726,0 3732,-6 3732,-12 3732,-12 3732,-56 3732,-56 3732,-62 3726,-68 3720,-68\"/>\n<text text-anchor=\"start\" x=\"3633.5\" y=\"-52.8\" font-family=\"Helvetica,sans-Serif\" font-size=\"14.00\">entropy = 0.0</text>\n<text text-anchor=\"start\" x=\"3625\" y=\"-37.8\" font-family=\"Helvetica,sans-Serif\" font-size=\"14.00\">samples = 1687</text>\n<text text-anchor=\"start\" x=\"3623\" y=\"-22.8\" font-family=\"Helvetica,sans-Serif\" font-size=\"14.00\">value = [1687, 0]</text>\n<text text-anchor=\"start\" x=\"3646\" y=\"-7.8\" font-family=\"Helvetica,sans-Serif\" font-size=\"14.00\">class = 1</text>\n</g>\n<!-- 66&#45;&gt;67 -->\n<g id=\"edge67\" class=\"edge\">\n<title>66&#45;&gt;67</title>\n<path fill=\"none\" stroke=\"black\" d=\"M3755.09,-103.73C3743.94,-94.33 3732.09,-84.35 3720.97,-74.99\"/>\n<polygon fill=\"black\" stroke=\"black\" points=\"3722.94,-72.06 3713.03,-68.3 3718.43,-77.42 3722.94,-72.06\"/>\n</g>\n<!-- 68 -->\n<g id=\"node69\" class=\"node\">\n<title>68</title>\n<path fill=\"#e58139\" stroke=\"black\" d=\"M3855,-68C3855,-68 3762,-68 3762,-68 3756,-68 3750,-62 3750,-56 3750,-56 3750,-12 3750,-12 3750,-6 3756,0 3762,0 3762,0 3855,0 3855,0 3861,0 3867,-6 3867,-12 3867,-12 3867,-56 3867,-56 3867,-62 3861,-68 3855,-68\"/>\n<text text-anchor=\"start\" x=\"3764.5\" y=\"-52.8\" font-family=\"Helvetica,sans-Serif\" font-size=\"14.00\">entropy = 0.02</text>\n<text text-anchor=\"start\" x=\"3760\" y=\"-37.8\" font-family=\"Helvetica,sans-Serif\" font-size=\"14.00\">samples = 1047</text>\n<text text-anchor=\"start\" x=\"3758\" y=\"-22.8\" font-family=\"Helvetica,sans-Serif\" font-size=\"14.00\">value = [1045, 2]</text>\n<text text-anchor=\"start\" x=\"3781\" y=\"-7.8\" font-family=\"Helvetica,sans-Serif\" font-size=\"14.00\">class = 1</text>\n</g>\n<!-- 66&#45;&gt;68 -->\n<g id=\"edge68\" class=\"edge\">\n<title>66&#45;&gt;68</title>\n<path fill=\"none\" stroke=\"black\" d=\"M3805.36,-103.73C3805.74,-95.52 3806.13,-86.86 3806.51,-78.56\"/>\n<polygon fill=\"black\" stroke=\"black\" points=\"3810.02,-78.45 3806.98,-68.3 3803.03,-78.13 3810.02,-78.45\"/>\n</g>\n<!-- 70 -->\n<g id=\"node71\" class=\"node\">\n<title>70</title>\n<path fill=\"#eca06a\" stroke=\"black\" d=\"M3984,-68C3984,-68 3897,-68 3897,-68 3891,-68 3885,-62 3885,-56 3885,-56 3885,-12 3885,-12 3885,-6 3891,0 3897,0 3897,0 3984,0 3984,0 3990,0 3996,-6 3996,-12 3996,-12 3996,-56 3996,-56 3996,-62 3990,-68 3984,-68\"/>\n<text text-anchor=\"start\" x=\"3893\" y=\"-52.8\" font-family=\"Helvetica,sans-Serif\" font-size=\"14.00\">entropy = 0.722</text>\n<text text-anchor=\"start\" x=\"3899.5\" y=\"-37.8\" font-family=\"Helvetica,sans-Serif\" font-size=\"14.00\">samples = 10</text>\n<text text-anchor=\"start\" x=\"3901\" y=\"-22.8\" font-family=\"Helvetica,sans-Serif\" font-size=\"14.00\">value = [8, 2]</text>\n<text text-anchor=\"start\" x=\"3913\" y=\"-7.8\" font-family=\"Helvetica,sans-Serif\" font-size=\"14.00\">class = 1</text>\n</g>\n<!-- 69&#45;&gt;70 -->\n<g id=\"edge70\" class=\"edge\">\n<title>69&#45;&gt;70</title>\n<path fill=\"none\" stroke=\"black\" d=\"M3943.64,-103.73C3943.26,-95.52 3942.87,-86.86 3942.49,-78.56\"/>\n<polygon fill=\"black\" stroke=\"black\" points=\"3945.97,-78.13 3942.02,-68.3 3938.98,-78.45 3945.97,-78.13\"/>\n</g>\n<!-- 71 -->\n<g id=\"node72\" class=\"node\">\n<title>71</title>\n<path fill=\"#e5823b\" stroke=\"black\" d=\"M4113,-68C4113,-68 4026,-68 4026,-68 4020,-68 4014,-62 4014,-56 4014,-56 4014,-12 4014,-12 4014,-6 4020,0 4026,0 4026,0 4113,0 4113,0 4119,0 4125,-6 4125,-12 4125,-12 4125,-56 4125,-56 4125,-62 4119,-68 4113,-68\"/>\n<text text-anchor=\"start\" x=\"4022\" y=\"-52.8\" font-family=\"Helvetica,sans-Serif\" font-size=\"14.00\">entropy = 0.078</text>\n<text text-anchor=\"start\" x=\"4024.5\" y=\"-37.8\" font-family=\"Helvetica,sans-Serif\" font-size=\"14.00\">samples = 524</text>\n<text text-anchor=\"start\" x=\"4022.5\" y=\"-22.8\" font-family=\"Helvetica,sans-Serif\" font-size=\"14.00\">value = [519, 5]</text>\n<text text-anchor=\"start\" x=\"4042\" y=\"-7.8\" font-family=\"Helvetica,sans-Serif\" font-size=\"14.00\">class = 1</text>\n</g>\n<!-- 69&#45;&gt;71 -->\n<g id=\"edge71\" class=\"edge\">\n<title>69&#45;&gt;71</title>\n<path fill=\"none\" stroke=\"black\" d=\"M3991.67,-103.73C4002.31,-94.33 4013.62,-84.35 4024.22,-74.99\"/>\n<polygon fill=\"black\" stroke=\"black\" points=\"4026.61,-77.54 4031.79,-68.3 4021.98,-72.3 4026.61,-77.54\"/>\n</g>\n<!-- 73 -->\n<g id=\"node74\" class=\"node\">\n<title>73</title>\n<path fill=\"#e58139\" stroke=\"black\" d=\"M4139,-179.5C4139,-179.5 4038,-179.5 4038,-179.5 4032,-179.5 4026,-173.5 4026,-167.5 4026,-167.5 4026,-123.5 4026,-123.5 4026,-117.5 4032,-111.5 4038,-111.5 4038,-111.5 4139,-111.5 4139,-111.5 4145,-111.5 4151,-117.5 4151,-123.5 4151,-123.5 4151,-167.5 4151,-167.5 4151,-173.5 4145,-179.5 4139,-179.5\"/>\n<text text-anchor=\"start\" x=\"4048.5\" y=\"-164.3\" font-family=\"Helvetica,sans-Serif\" font-size=\"14.00\">entropy = 0.0</text>\n<text text-anchor=\"start\" x=\"4036\" y=\"-149.3\" font-family=\"Helvetica,sans-Serif\" font-size=\"14.00\">samples = 10151</text>\n<text text-anchor=\"start\" x=\"4034\" y=\"-134.3\" font-family=\"Helvetica,sans-Serif\" font-size=\"14.00\">value = [10151, 0]</text>\n<text text-anchor=\"start\" x=\"4061\" y=\"-119.3\" font-family=\"Helvetica,sans-Serif\" font-size=\"14.00\">class = 1</text>\n</g>\n<!-- 72&#45;&gt;73 -->\n<g id=\"edge73\" class=\"edge\">\n<title>72&#45;&gt;73</title>\n<path fill=\"none\" stroke=\"black\" d=\"M4089.15,-222.91C4089.06,-212.2 4088.96,-200.62 4088.87,-189.78\"/>\n<polygon fill=\"black\" stroke=\"black\" points=\"4092.37,-189.64 4088.78,-179.67 4085.37,-189.7 4092.37,-189.64\"/>\n</g>\n<!-- 74 -->\n<g id=\"node75\" class=\"node\">\n<title>74</title>\n<path fill=\"#e6843d\" stroke=\"black\" d=\"M4284,-187C4284,-187 4181,-187 4181,-187 4175,-187 4169,-181 4169,-175 4169,-175 4169,-116 4169,-116 4169,-110 4175,-104 4181,-104 4181,-104 4284,-104 4284,-104 4290,-104 4296,-110 4296,-116 4296,-116 4296,-175 4296,-175 4296,-181 4290,-187 4284,-187\"/>\n<text text-anchor=\"start\" x=\"4177\" y=\"-171.8\" font-family=\"Helvetica,sans-Serif\" font-size=\"14.00\">t2_towerKills ≤ 2.5</text>\n<text text-anchor=\"start\" x=\"4185\" y=\"-156.8\" font-family=\"Helvetica,sans-Serif\" font-size=\"14.00\">entropy = 0.146</text>\n<text text-anchor=\"start\" x=\"4191.5\" y=\"-141.8\" font-family=\"Helvetica,sans-Serif\" font-size=\"14.00\">samples = 48</text>\n<text text-anchor=\"start\" x=\"4189.5\" y=\"-126.8\" font-family=\"Helvetica,sans-Serif\" font-size=\"14.00\">value = [47, 1]</text>\n<text text-anchor=\"start\" x=\"4205\" y=\"-111.8\" font-family=\"Helvetica,sans-Serif\" font-size=\"14.00\">class = 1</text>\n</g>\n<!-- 72&#45;&gt;74 -->\n<g id=\"edge74\" class=\"edge\">\n<title>72&#45;&gt;74</title>\n<path fill=\"none\" stroke=\"black\" d=\"M4139.11,-222.91C4150.76,-213.38 4163.26,-203.15 4175.21,-193.37\"/>\n<polygon fill=\"black\" stroke=\"black\" points=\"4177.45,-196.06 4182.97,-187.02 4173.02,-190.64 4177.45,-196.06\"/>\n</g>\n<!-- 75 -->\n<g id=\"node76\" class=\"node\">\n<title>75</title>\n<path fill=\"#e89152\" stroke=\"black\" d=\"M4242,-68C4242,-68 4155,-68 4155,-68 4149,-68 4143,-62 4143,-56 4143,-56 4143,-12 4143,-12 4143,-6 4149,0 4155,0 4155,0 4242,0 4242,0 4248,0 4254,-6 4254,-12 4254,-12 4254,-56 4254,-56 4254,-62 4248,-68 4242,-68\"/>\n<text text-anchor=\"start\" x=\"4151\" y=\"-52.8\" font-family=\"Helvetica,sans-Serif\" font-size=\"14.00\">entropy = 0.503</text>\n<text text-anchor=\"start\" x=\"4161\" y=\"-37.8\" font-family=\"Helvetica,sans-Serif\" font-size=\"14.00\">samples = 9</text>\n<text text-anchor=\"start\" x=\"4159\" y=\"-22.8\" font-family=\"Helvetica,sans-Serif\" font-size=\"14.00\">value = [8, 1]</text>\n<text text-anchor=\"start\" x=\"4171\" y=\"-7.8\" font-family=\"Helvetica,sans-Serif\" font-size=\"14.00\">class = 1</text>\n</g>\n<!-- 74&#45;&gt;75 -->\n<g id=\"edge75\" class=\"edge\">\n<title>74&#45;&gt;75</title>\n<path fill=\"none\" stroke=\"black\" d=\"M4219.84,-103.73C4217.23,-95.34 4214.48,-86.47 4211.85,-78.01\"/>\n<polygon fill=\"black\" stroke=\"black\" points=\"4215.15,-76.81 4208.84,-68.3 4208.46,-78.89 4215.15,-76.81\"/>\n</g>\n<!-- 76 -->\n<g id=\"node77\" class=\"node\">\n<title>76</title>\n<path fill=\"#e58139\" stroke=\"black\" d=\"M4362.5,-68C4362.5,-68 4284.5,-68 4284.5,-68 4278.5,-68 4272.5,-62 4272.5,-56 4272.5,-56 4272.5,-12 4272.5,-12 4272.5,-6 4278.5,0 4284.5,0 4284.5,0 4362.5,0 4362.5,0 4368.5,0 4374.5,-6 4374.5,-12 4374.5,-12 4374.5,-56 4374.5,-56 4374.5,-62 4368.5,-68 4362.5,-68\"/>\n<text text-anchor=\"start\" x=\"4283.5\" y=\"-52.8\" font-family=\"Helvetica,sans-Serif\" font-size=\"14.00\">entropy = 0.0</text>\n<text text-anchor=\"start\" x=\"4282.5\" y=\"-37.8\" font-family=\"Helvetica,sans-Serif\" font-size=\"14.00\">samples = 39</text>\n<text text-anchor=\"start\" x=\"4280.5\" y=\"-22.8\" font-family=\"Helvetica,sans-Serif\" font-size=\"14.00\">value = [39, 0]</text>\n<text text-anchor=\"start\" x=\"4296\" y=\"-7.8\" font-family=\"Helvetica,sans-Serif\" font-size=\"14.00\">class = 1</text>\n</g>\n<!-- 74&#45;&gt;76 -->\n<g id=\"edge76\" class=\"edge\">\n<title>74&#45;&gt;76</title>\n<path fill=\"none\" stroke=\"black\" d=\"M4266.39,-103.73C4273.89,-94.7 4281.84,-85.12 4289.36,-76.08\"/>\n<polygon fill=\"black\" stroke=\"black\" points=\"4292.13,-78.23 4295.83,-68.3 4286.74,-73.75 4292.13,-78.23\"/>\n</g>\n<!-- 78 -->\n<g id=\"node79\" class=\"node\">\n<title>78</title>\n<path fill=\"#3fa0e6\" stroke=\"black\" d=\"M4549.5,-425C4549.5,-425 4445.5,-425 4445.5,-425 4439.5,-425 4433.5,-419 4433.5,-413 4433.5,-413 4433.5,-354 4433.5,-354 4433.5,-348 4439.5,-342 4445.5,-342 4445.5,-342 4549.5,-342 4549.5,-342 4555.5,-342 4561.5,-348 4561.5,-354 4561.5,-354 4561.5,-413 4561.5,-413 4561.5,-419 4555.5,-425 4549.5,-425\"/>\n<text text-anchor=\"start\" x=\"4441.5\" y=\"-409.8\" font-family=\"Helvetica,sans-Serif\" font-size=\"14.00\">t1_baronKills ≤ 0.5</text>\n<text text-anchor=\"start\" x=\"4450\" y=\"-394.8\" font-family=\"Helvetica,sans-Serif\" font-size=\"14.00\">entropy = 0.183</text>\n<text text-anchor=\"start\" x=\"4452.5\" y=\"-379.8\" font-family=\"Helvetica,sans-Serif\" font-size=\"14.00\">samples = 144</text>\n<text text-anchor=\"start\" x=\"4450.5\" y=\"-364.8\" font-family=\"Helvetica,sans-Serif\" font-size=\"14.00\">value = [4, 140]</text>\n<text text-anchor=\"start\" x=\"4470\" y=\"-349.8\" font-family=\"Helvetica,sans-Serif\" font-size=\"14.00\">class = 2</text>\n</g>\n<!-- 77&#45;&gt;78 -->\n<g id=\"edge78\" class=\"edge\">\n<title>77&#45;&gt;78</title>\n<path fill=\"none\" stroke=\"black\" d=\"M4497.5,-460.91C4497.5,-452.65 4497.5,-443.86 4497.5,-435.3\"/>\n<polygon fill=\"black\" stroke=\"black\" points=\"4501,-435.02 4497.5,-425.02 4494,-435.02 4501,-435.02\"/>\n</g>\n<!-- 85 -->\n<g id=\"node86\" class=\"node\">\n<title>85</title>\n<path fill=\"#e89050\" stroke=\"black\" d=\"M4944.5,-425C4944.5,-425 4848.5,-425 4848.5,-425 4842.5,-425 4836.5,-419 4836.5,-413 4836.5,-413 4836.5,-354 4836.5,-354 4836.5,-348 4842.5,-342 4848.5,-342 4848.5,-342 4944.5,-342 4944.5,-342 4950.5,-342 4956.5,-348 4956.5,-354 4956.5,-354 4956.5,-413 4956.5,-413 4956.5,-419 4950.5,-425 4944.5,-425\"/>\n<text text-anchor=\"start\" x=\"4844.5\" y=\"-409.8\" font-family=\"Helvetica,sans-Serif\" font-size=\"14.00\">firstInhibitor ≤ 1.5</text>\n<text text-anchor=\"start\" x=\"4849\" y=\"-394.8\" font-family=\"Helvetica,sans-Serif\" font-size=\"14.00\">entropy = 0.479</text>\n<text text-anchor=\"start\" x=\"4851.5\" y=\"-379.8\" font-family=\"Helvetica,sans-Serif\" font-size=\"14.00\">samples = 775</text>\n<text text-anchor=\"start\" x=\"4846\" y=\"-364.8\" font-family=\"Helvetica,sans-Serif\" font-size=\"14.00\">value = [695, 80]</text>\n<text text-anchor=\"start\" x=\"4869\" y=\"-349.8\" font-family=\"Helvetica,sans-Serif\" font-size=\"14.00\">class = 1</text>\n</g>\n<!-- 77&#45;&gt;85 -->\n<g id=\"edge85\" class=\"edge\">\n<title>77&#45;&gt;85</title>\n<path fill=\"none\" stroke=\"black\" d=\"M4568.37,-480.72C4641.2,-459.36 4753.89,-426.32 4826.42,-405.05\"/>\n<polygon fill=\"black\" stroke=\"black\" points=\"4827.77,-408.3 4836.38,-402.13 4825.8,-401.58 4827.77,-408.3\"/>\n</g>\n<!-- 79 -->\n<g id=\"node80\" class=\"node\">\n<title>79</title>\n<path fill=\"#399de5\" stroke=\"black\" d=\"M4472.5,-298.5C4472.5,-298.5 4386.5,-298.5 4386.5,-298.5 4380.5,-298.5 4374.5,-292.5 4374.5,-286.5 4374.5,-286.5 4374.5,-242.5 4374.5,-242.5 4374.5,-236.5 4380.5,-230.5 4386.5,-230.5 4386.5,-230.5 4472.5,-230.5 4472.5,-230.5 4478.5,-230.5 4484.5,-236.5 4484.5,-242.5 4484.5,-242.5 4484.5,-286.5 4484.5,-286.5 4484.5,-292.5 4478.5,-298.5 4472.5,-298.5\"/>\n<text text-anchor=\"start\" x=\"4389.5\" y=\"-283.3\" font-family=\"Helvetica,sans-Serif\" font-size=\"14.00\">entropy = 0.0</text>\n<text text-anchor=\"start\" x=\"4384.5\" y=\"-268.3\" font-family=\"Helvetica,sans-Serif\" font-size=\"14.00\">samples = 121</text>\n<text text-anchor=\"start\" x=\"4382.5\" y=\"-253.3\" font-family=\"Helvetica,sans-Serif\" font-size=\"14.00\">value = [0, 121]</text>\n<text text-anchor=\"start\" x=\"4402\" y=\"-238.3\" font-family=\"Helvetica,sans-Serif\" font-size=\"14.00\">class = 2</text>\n</g>\n<!-- 78&#45;&gt;79 -->\n<g id=\"edge79\" class=\"edge\">\n<title>78&#45;&gt;79</title>\n<path fill=\"none\" stroke=\"black\" d=\"M4473.91,-341.91C4467.43,-330.76 4460.4,-318.66 4453.87,-307.44\"/>\n<polygon fill=\"black\" stroke=\"black\" points=\"4456.83,-305.55 4448.78,-298.67 4450.78,-309.07 4456.83,-305.55\"/>\n</g>\n<!-- 80 -->\n<g id=\"node81\" class=\"node\">\n<title>80</title>\n<path fill=\"#63b2ea\" stroke=\"black\" d=\"M4618.5,-306C4618.5,-306 4514.5,-306 4514.5,-306 4508.5,-306 4502.5,-300 4502.5,-294 4502.5,-294 4502.5,-235 4502.5,-235 4502.5,-229 4508.5,-223 4514.5,-223 4514.5,-223 4618.5,-223 4618.5,-223 4624.5,-223 4630.5,-229 4630.5,-235 4630.5,-235 4630.5,-294 4630.5,-294 4630.5,-300 4624.5,-306 4618.5,-306\"/>\n<text text-anchor=\"start\" x=\"4510.5\" y=\"-290.8\" font-family=\"Helvetica,sans-Serif\" font-size=\"14.00\">t2_baronKills ≤ 0.5</text>\n<text text-anchor=\"start\" x=\"4519\" y=\"-275.8\" font-family=\"Helvetica,sans-Serif\" font-size=\"14.00\">entropy = 0.667</text>\n<text text-anchor=\"start\" x=\"4525.5\" y=\"-260.8\" font-family=\"Helvetica,sans-Serif\" font-size=\"14.00\">samples = 23</text>\n<text text-anchor=\"start\" x=\"4523.5\" y=\"-245.8\" font-family=\"Helvetica,sans-Serif\" font-size=\"14.00\">value = [4, 19]</text>\n<text text-anchor=\"start\" x=\"4539\" y=\"-230.8\" font-family=\"Helvetica,sans-Serif\" font-size=\"14.00\">class = 2</text>\n</g>\n<!-- 78&#45;&gt;80 -->\n<g id=\"edge80\" class=\"edge\">\n<title>78&#45;&gt;80</title>\n<path fill=\"none\" stroke=\"black\" d=\"M4521.44,-341.91C4526.58,-333.2 4532.06,-323.9 4537.37,-314.89\"/>\n<polygon fill=\"black\" stroke=\"black\" points=\"4540.54,-316.41 4542.6,-306.02 4534.51,-312.86 4540.54,-316.41\"/>\n</g>\n<!-- 81 -->\n<g id=\"node82\" class=\"node\">\n<title>81</title>\n<path fill=\"#91c9f1\" stroke=\"black\" d=\"M4549.5,-187C4549.5,-187 4457.5,-187 4457.5,-187 4451.5,-187 4445.5,-181 4445.5,-175 4445.5,-175 4445.5,-116 4445.5,-116 4445.5,-110 4451.5,-104 4457.5,-104 4457.5,-104 4549.5,-104 4549.5,-104 4555.5,-104 4561.5,-110 4561.5,-116 4561.5,-116 4561.5,-175 4561.5,-175 4561.5,-181 4555.5,-187 4549.5,-187\"/>\n<text text-anchor=\"start\" x=\"4453.5\" y=\"-171.8\" font-family=\"Helvetica,sans-Serif\" font-size=\"14.00\">firstDragon ≤ 1.5</text>\n<text text-anchor=\"start\" x=\"4459.5\" y=\"-156.8\" font-family=\"Helvetica,sans-Serif\" font-size=\"14.00\">entropy = 0.89</text>\n<text text-anchor=\"start\" x=\"4462.5\" y=\"-141.8\" font-family=\"Helvetica,sans-Serif\" font-size=\"14.00\">samples = 13</text>\n<text text-anchor=\"start\" x=\"4464\" y=\"-126.8\" font-family=\"Helvetica,sans-Serif\" font-size=\"14.00\">value = [4, 9]</text>\n<text text-anchor=\"start\" x=\"4476\" y=\"-111.8\" font-family=\"Helvetica,sans-Serif\" font-size=\"14.00\">class = 2</text>\n</g>\n<!-- 80&#45;&gt;81 -->\n<g id=\"edge81\" class=\"edge\">\n<title>80&#45;&gt;81</title>\n<path fill=\"none\" stroke=\"black\" d=\"M4544.64,-222.91C4539.95,-214.2 4534.94,-204.9 4530.1,-195.89\"/>\n<polygon fill=\"black\" stroke=\"black\" points=\"4533.14,-194.17 4525.32,-187.02 4526.98,-197.48 4533.14,-194.17\"/>\n</g>\n<!-- 84 -->\n<g id=\"node85\" class=\"node\">\n<title>84</title>\n<path fill=\"#399de5\" stroke=\"black\" d=\"M4669.5,-179.5C4669.5,-179.5 4591.5,-179.5 4591.5,-179.5 4585.5,-179.5 4579.5,-173.5 4579.5,-167.5 4579.5,-167.5 4579.5,-123.5 4579.5,-123.5 4579.5,-117.5 4585.5,-111.5 4591.5,-111.5 4591.5,-111.5 4669.5,-111.5 4669.5,-111.5 4675.5,-111.5 4681.5,-117.5 4681.5,-123.5 4681.5,-123.5 4681.5,-167.5 4681.5,-167.5 4681.5,-173.5 4675.5,-179.5 4669.5,-179.5\"/>\n<text text-anchor=\"start\" x=\"4590.5\" y=\"-164.3\" font-family=\"Helvetica,sans-Serif\" font-size=\"14.00\">entropy = 0.0</text>\n<text text-anchor=\"start\" x=\"4589.5\" y=\"-149.3\" font-family=\"Helvetica,sans-Serif\" font-size=\"14.00\">samples = 10</text>\n<text text-anchor=\"start\" x=\"4587.5\" y=\"-134.3\" font-family=\"Helvetica,sans-Serif\" font-size=\"14.00\">value = [0, 10]</text>\n<text text-anchor=\"start\" x=\"4603\" y=\"-119.3\" font-family=\"Helvetica,sans-Serif\" font-size=\"14.00\">class = 2</text>\n</g>\n<!-- 80&#45;&gt;84 -->\n<g id=\"edge84\" class=\"edge\">\n<title>80&#45;&gt;84</title>\n<path fill=\"none\" stroke=\"black\" d=\"M4588.7,-222.91C4594.74,-211.87 4601.29,-199.9 4607.38,-188.77\"/>\n<polygon fill=\"black\" stroke=\"black\" points=\"4610.63,-190.12 4612.36,-179.67 4604.49,-186.76 4610.63,-190.12\"/>\n</g>\n<!-- 82 -->\n<g id=\"node83\" class=\"node\">\n<title>82</title>\n<path fill=\"#f6d5bd\" stroke=\"black\" d=\"M4492,-68C4492,-68 4405,-68 4405,-68 4399,-68 4393,-62 4393,-56 4393,-56 4393,-12 4393,-12 4393,-6 4399,0 4405,0 4405,0 4492,0 4492,0 4498,0 4504,-6 4504,-12 4504,-12 4504,-56 4504,-56 4504,-62 4498,-68 4492,-68\"/>\n<text text-anchor=\"start\" x=\"4401\" y=\"-52.8\" font-family=\"Helvetica,sans-Serif\" font-size=\"14.00\">entropy = 0.971</text>\n<text text-anchor=\"start\" x=\"4411\" y=\"-37.8\" font-family=\"Helvetica,sans-Serif\" font-size=\"14.00\">samples = 5</text>\n<text text-anchor=\"start\" x=\"4409\" y=\"-22.8\" font-family=\"Helvetica,sans-Serif\" font-size=\"14.00\">value = [3, 2]</text>\n<text text-anchor=\"start\" x=\"4421\" y=\"-7.8\" font-family=\"Helvetica,sans-Serif\" font-size=\"14.00\">class = 1</text>\n</g>\n<!-- 81&#45;&gt;82 -->\n<g id=\"edge82\" class=\"edge\">\n<title>81&#45;&gt;82</title>\n<path fill=\"none\" stroke=\"black\" d=\"M4483.02,-103.73C4478.71,-95.15 4474.16,-86.09 4469.82,-77.46\"/>\n<polygon fill=\"black\" stroke=\"black\" points=\"4472.84,-75.66 4465.23,-68.3 4466.59,-78.81 4472.84,-75.66\"/>\n</g>\n<!-- 83 -->\n<g id=\"node84\" class=\"node\">\n<title>83</title>\n<path fill=\"#55abe9\" stroke=\"black\" d=\"M4621,-68C4621,-68 4534,-68 4534,-68 4528,-68 4522,-62 4522,-56 4522,-56 4522,-12 4522,-12 4522,-6 4528,0 4534,0 4534,0 4621,0 4621,0 4627,0 4633,-6 4633,-12 4633,-12 4633,-56 4633,-56 4633,-62 4627,-68 4621,-68\"/>\n<text text-anchor=\"start\" x=\"4530\" y=\"-52.8\" font-family=\"Helvetica,sans-Serif\" font-size=\"14.00\">entropy = 0.544</text>\n<text text-anchor=\"start\" x=\"4540\" y=\"-37.8\" font-family=\"Helvetica,sans-Serif\" font-size=\"14.00\">samples = 8</text>\n<text text-anchor=\"start\" x=\"4538\" y=\"-22.8\" font-family=\"Helvetica,sans-Serif\" font-size=\"14.00\">value = [1, 7]</text>\n<text text-anchor=\"start\" x=\"4550\" y=\"-7.8\" font-family=\"Helvetica,sans-Serif\" font-size=\"14.00\">class = 2</text>\n</g>\n<!-- 81&#45;&gt;83 -->\n<g id=\"edge83\" class=\"edge\">\n<title>81&#45;&gt;83</title>\n<path fill=\"none\" stroke=\"black\" d=\"M4531.05,-103.73C4537.03,-94.88 4543.37,-85.51 4549.37,-76.63\"/>\n<polygon fill=\"black\" stroke=\"black\" points=\"4552.3,-78.54 4555,-68.3 4546.5,-74.63 4552.3,-78.54\"/>\n</g>\n<!-- 86 -->\n<g id=\"node87\" class=\"node\">\n<title>86</title>\n<path fill=\"#eda876\" stroke=\"black\" d=\"M4948,-306C4948,-306 4845,-306 4845,-306 4839,-306 4833,-300 4833,-294 4833,-294 4833,-235 4833,-235 4833,-229 4839,-223 4845,-223 4845,-223 4948,-223 4948,-223 4954,-223 4960,-229 4960,-235 4960,-235 4960,-294 4960,-294 4960,-300 4954,-306 4948,-306\"/>\n<text text-anchor=\"start\" x=\"4841\" y=\"-290.8\" font-family=\"Helvetica,sans-Serif\" font-size=\"14.00\">t1_towerKills ≤ 7.5</text>\n<text text-anchor=\"start\" x=\"4849\" y=\"-275.8\" font-family=\"Helvetica,sans-Serif\" font-size=\"14.00\">entropy = 0.788</text>\n<text text-anchor=\"start\" x=\"4851.5\" y=\"-260.8\" font-family=\"Helvetica,sans-Serif\" font-size=\"14.00\">samples = 322</text>\n<text text-anchor=\"start\" x=\"4846\" y=\"-245.8\" font-family=\"Helvetica,sans-Serif\" font-size=\"14.00\">value = [246, 76]</text>\n<text text-anchor=\"start\" x=\"4869\" y=\"-230.8\" font-family=\"Helvetica,sans-Serif\" font-size=\"14.00\">class = 1</text>\n</g>\n<!-- 85&#45;&gt;86 -->\n<g id=\"edge86\" class=\"edge\">\n<title>85&#45;&gt;86</title>\n<path fill=\"none\" stroke=\"black\" d=\"M4896.5,-341.91C4896.5,-333.65 4896.5,-324.86 4896.5,-316.3\"/>\n<polygon fill=\"black\" stroke=\"black\" points=\"4900,-316.02 4896.5,-306.02 4893,-316.02 4900,-316.02\"/>\n</g>\n<!-- 93 -->\n<g id=\"node94\" class=\"node\">\n<title>93</title>\n<path fill=\"#e5823b\" stroke=\"black\" d=\"M5228,-306C5228,-306 5125,-306 5125,-306 5119,-306 5113,-300 5113,-294 5113,-294 5113,-235 5113,-235 5113,-229 5119,-223 5125,-223 5125,-223 5228,-223 5228,-223 5234,-223 5240,-229 5240,-235 5240,-235 5240,-294 5240,-294 5240,-300 5234,-306 5228,-306\"/>\n<text text-anchor=\"start\" x=\"5121\" y=\"-290.8\" font-family=\"Helvetica,sans-Serif\" font-size=\"14.00\">t1_towerKills ≤ 7.5</text>\n<text text-anchor=\"start\" x=\"5129\" y=\"-275.8\" font-family=\"Helvetica,sans-Serif\" font-size=\"14.00\">entropy = 0.073</text>\n<text text-anchor=\"start\" x=\"5131.5\" y=\"-260.8\" font-family=\"Helvetica,sans-Serif\" font-size=\"14.00\">samples = 453</text>\n<text text-anchor=\"start\" x=\"5129.5\" y=\"-245.8\" font-family=\"Helvetica,sans-Serif\" font-size=\"14.00\">value = [449, 4]</text>\n<text text-anchor=\"start\" x=\"5149\" y=\"-230.8\" font-family=\"Helvetica,sans-Serif\" font-size=\"14.00\">class = 1</text>\n</g>\n<!-- 85&#45;&gt;93 -->\n<g id=\"edge93\" class=\"edge\">\n<title>85&#45;&gt;93</title>\n<path fill=\"none\" stroke=\"black\" d=\"M4956.57,-357.4C4999.56,-339.43 5057.68,-315.15 5103.38,-296.05\"/>\n<polygon fill=\"black\" stroke=\"black\" points=\"5104.76,-299.27 5112.64,-292.19 5102.06,-292.81 5104.76,-299.27\"/>\n</g>\n<!-- 87 -->\n<g id=\"node88\" class=\"node\">\n<title>87</title>\n<path fill=\"#73baed\" stroke=\"black\" d=\"M4875,-187C4875,-187 4772,-187 4772,-187 4766,-187 4760,-181 4760,-175 4760,-175 4760,-116 4760,-116 4760,-110 4766,-104 4772,-104 4772,-104 4875,-104 4875,-104 4881,-104 4887,-110 4887,-116 4887,-116 4887,-175 4887,-175 4887,-181 4881,-187 4875,-187\"/>\n<text text-anchor=\"start\" x=\"4768\" y=\"-171.8\" font-family=\"Helvetica,sans-Serif\" font-size=\"14.00\">t2_towerKills ≤ 4.5</text>\n<text text-anchor=\"start\" x=\"4776\" y=\"-156.8\" font-family=\"Helvetica,sans-Serif\" font-size=\"14.00\">entropy = 0.773</text>\n<text text-anchor=\"start\" x=\"4782.5\" y=\"-141.8\" font-family=\"Helvetica,sans-Serif\" font-size=\"14.00\">samples = 44</text>\n<text text-anchor=\"start\" x=\"4776.5\" y=\"-126.8\" font-family=\"Helvetica,sans-Serif\" font-size=\"14.00\">value = [10, 34]</text>\n<text text-anchor=\"start\" x=\"4796\" y=\"-111.8\" font-family=\"Helvetica,sans-Serif\" font-size=\"14.00\">class = 2</text>\n</g>\n<!-- 86&#45;&gt;87 -->\n<g id=\"edge87\" class=\"edge\">\n<title>86&#45;&gt;87</title>\n<path fill=\"none\" stroke=\"black\" d=\"M4871.17,-222.91C4865.68,-214.1 4859.81,-204.7 4854.14,-195.61\"/>\n<polygon fill=\"black\" stroke=\"black\" points=\"4857.05,-193.65 4848.78,-187.02 4851.11,-197.36 4857.05,-193.65\"/>\n</g>\n<!-- 90 -->\n<g id=\"node91\" class=\"node\">\n<title>90</title>\n<path fill=\"#ea975c\" stroke=\"black\" d=\"M5021.5,-187C5021.5,-187 4917.5,-187 4917.5,-187 4911.5,-187 4905.5,-181 4905.5,-175 4905.5,-175 4905.5,-116 4905.5,-116 4905.5,-110 4911.5,-104 4917.5,-104 4917.5,-104 5021.5,-104 5021.5,-104 5027.5,-104 5033.5,-110 5033.5,-116 5033.5,-116 5033.5,-175 5033.5,-175 5033.5,-181 5027.5,-187 5021.5,-187\"/>\n<text text-anchor=\"start\" x=\"4913.5\" y=\"-171.8\" font-family=\"Helvetica,sans-Serif\" font-size=\"14.00\">t2_baronKills ≤ 0.5</text>\n<text text-anchor=\"start\" x=\"4922\" y=\"-156.8\" font-family=\"Helvetica,sans-Serif\" font-size=\"14.00\">entropy = 0.613</text>\n<text text-anchor=\"start\" x=\"4924.5\" y=\"-141.8\" font-family=\"Helvetica,sans-Serif\" font-size=\"14.00\">samples = 278</text>\n<text text-anchor=\"start\" x=\"4919\" y=\"-126.8\" font-family=\"Helvetica,sans-Serif\" font-size=\"14.00\">value = [236, 42]</text>\n<text text-anchor=\"start\" x=\"4942\" y=\"-111.8\" font-family=\"Helvetica,sans-Serif\" font-size=\"14.00\">class = 1</text>\n</g>\n<!-- 86&#45;&gt;90 -->\n<g id=\"edge90\" class=\"edge\">\n<title>86&#45;&gt;90</title>\n<path fill=\"none\" stroke=\"black\" d=\"M4921.83,-222.91C4927.32,-214.1 4933.19,-204.7 4938.86,-195.61\"/>\n<polygon fill=\"black\" stroke=\"black\" points=\"4941.89,-197.36 4944.22,-187.02 4935.95,-193.65 4941.89,-197.36\"/>\n</g>\n<!-- 88 -->\n<g id=\"node89\" class=\"node\">\n<title>88</title>\n<path fill=\"#e58139\" stroke=\"black\" d=\"M4735.5,-68C4735.5,-68 4663.5,-68 4663.5,-68 4657.5,-68 4651.5,-62 4651.5,-56 4651.5,-56 4651.5,-12 4651.5,-12 4651.5,-6 4657.5,0 4663.5,0 4663.5,0 4735.5,0 4735.5,0 4741.5,0 4747.5,-6 4747.5,-12 4747.5,-12 4747.5,-56 4747.5,-56 4747.5,-62 4741.5,-68 4735.5,-68\"/>\n<text text-anchor=\"start\" x=\"4659.5\" y=\"-52.8\" font-family=\"Helvetica,sans-Serif\" font-size=\"14.00\">entropy = 0.0</text>\n<text text-anchor=\"start\" x=\"4662\" y=\"-37.8\" font-family=\"Helvetica,sans-Serif\" font-size=\"14.00\">samples = 3</text>\n<text text-anchor=\"start\" x=\"4660\" y=\"-22.8\" font-family=\"Helvetica,sans-Serif\" font-size=\"14.00\">value = [3, 0]</text>\n<text text-anchor=\"start\" x=\"4672\" y=\"-7.8\" font-family=\"Helvetica,sans-Serif\" font-size=\"14.00\">class = 1</text>\n</g>\n<!-- 87&#45;&gt;88 -->\n<g id=\"edge88\" class=\"edge\">\n<title>87&#45;&gt;88</title>\n<path fill=\"none\" stroke=\"black\" d=\"M4777.33,-103.73C4766.69,-94.33 4755.38,-84.35 4744.78,-74.99\"/>\n<polygon fill=\"black\" stroke=\"black\" points=\"4747.02,-72.3 4737.21,-68.3 4742.39,-77.54 4747.02,-72.3\"/>\n</g>\n<!-- 89 -->\n<g id=\"node90\" class=\"node\">\n<title>89</title>\n<path fill=\"#62b1ea\" stroke=\"black\" d=\"M4879,-68C4879,-68 4778,-68 4778,-68 4772,-68 4766,-62 4766,-56 4766,-56 4766,-12 4766,-12 4766,-6 4772,0 4778,0 4778,0 4879,0 4879,0 4885,0 4891,-6 4891,-12 4891,-12 4891,-56 4891,-56 4891,-62 4885,-68 4879,-68\"/>\n<text text-anchor=\"start\" x=\"4781\" y=\"-52.8\" font-family=\"Helvetica,sans-Serif\" font-size=\"14.00\">entropy = 0.659</text>\n<text text-anchor=\"start\" x=\"4787.5\" y=\"-37.8\" font-family=\"Helvetica,sans-Serif\" font-size=\"14.00\">samples = 41</text>\n<text text-anchor=\"start\" x=\"4774\" y=\"-22.8\" font-family=\"Helvetica,sans-Serif\" font-size=\"14.00\">value = [7.0, 34.0]</text>\n<text text-anchor=\"start\" x=\"4801\" y=\"-7.8\" font-family=\"Helvetica,sans-Serif\" font-size=\"14.00\">class = 2</text>\n</g>\n<!-- 87&#45;&gt;89 -->\n<g id=\"edge89\" class=\"edge\">\n<title>87&#45;&gt;89</title>\n<path fill=\"none\" stroke=\"black\" d=\"M4825.36,-103.73C4825.74,-95.52 4826.13,-86.86 4826.51,-78.56\"/>\n<polygon fill=\"black\" stroke=\"black\" points=\"4830.02,-78.45 4826.98,-68.3 4823.03,-78.13 4830.02,-78.45\"/>\n</g>\n<!-- 91 -->\n<g id=\"node92\" class=\"node\">\n<title>91</title>\n<path fill=\"#e68641\" stroke=\"black\" d=\"M5008,-68C5008,-68 4921,-68 4921,-68 4915,-68 4909,-62 4909,-56 4909,-56 4909,-12 4909,-12 4909,-6 4915,0 4921,0 4921,0 5008,0 5008,0 5014,0 5020,-6 5020,-12 5020,-12 5020,-56 5020,-56 5020,-62 5014,-68 5008,-68\"/>\n<text text-anchor=\"start\" x=\"4917\" y=\"-52.8\" font-family=\"Helvetica,sans-Serif\" font-size=\"14.00\">entropy = 0.239</text>\n<text text-anchor=\"start\" x=\"4919.5\" y=\"-37.8\" font-family=\"Helvetica,sans-Serif\" font-size=\"14.00\">samples = 127</text>\n<text text-anchor=\"start\" x=\"4917.5\" y=\"-22.8\" font-family=\"Helvetica,sans-Serif\" font-size=\"14.00\">value = [122, 5]</text>\n<text text-anchor=\"start\" x=\"4937\" y=\"-7.8\" font-family=\"Helvetica,sans-Serif\" font-size=\"14.00\">class = 1</text>\n</g>\n<!-- 90&#45;&gt;91 -->\n<g id=\"edge91\" class=\"edge\">\n<title>90&#45;&gt;91</title>\n<path fill=\"none\" stroke=\"black\" d=\"M4967.64,-103.73C4967.26,-95.52 4966.87,-86.86 4966.49,-78.56\"/>\n<polygon fill=\"black\" stroke=\"black\" points=\"4969.97,-78.13 4966.02,-68.3 4962.98,-78.45 4969.97,-78.13\"/>\n</g>\n<!-- 92 -->\n<g id=\"node93\" class=\"node\">\n<title>92</title>\n<path fill=\"#edaa79\" stroke=\"black\" d=\"M5143,-68C5143,-68 5050,-68 5050,-68 5044,-68 5038,-62 5038,-56 5038,-56 5038,-12 5038,-12 5038,-6 5044,0 5050,0 5050,0 5143,0 5143,0 5149,0 5155,-6 5155,-12 5155,-12 5155,-56 5155,-56 5155,-62 5149,-68 5143,-68\"/>\n<text text-anchor=\"start\" x=\"5049\" y=\"-52.8\" font-family=\"Helvetica,sans-Serif\" font-size=\"14.00\">entropy = 0.803</text>\n<text text-anchor=\"start\" x=\"5051.5\" y=\"-37.8\" font-family=\"Helvetica,sans-Serif\" font-size=\"14.00\">samples = 151</text>\n<text text-anchor=\"start\" x=\"5046\" y=\"-22.8\" font-family=\"Helvetica,sans-Serif\" font-size=\"14.00\">value = [114, 37]</text>\n<text text-anchor=\"start\" x=\"5069\" y=\"-7.8\" font-family=\"Helvetica,sans-Serif\" font-size=\"14.00\">class = 1</text>\n</g>\n<!-- 90&#45;&gt;92 -->\n<g id=\"edge92\" class=\"edge\">\n<title>90&#45;&gt;92</title>\n<path fill=\"none\" stroke=\"black\" d=\"M5016.79,-103.73C5027.69,-94.33 5039.26,-84.35 5050.12,-74.99\"/>\n<polygon fill=\"black\" stroke=\"black\" points=\"5052.59,-77.48 5057.88,-68.3 5048.02,-72.18 5052.59,-77.48\"/>\n</g>\n<!-- 94 -->\n<g id=\"node95\" class=\"node\">\n<title>94</title>\n<path fill=\"#e78b48\" stroke=\"black\" d=\"M5232.5,-187C5232.5,-187 5120.5,-187 5120.5,-187 5114.5,-187 5108.5,-181 5108.5,-175 5108.5,-175 5108.5,-116 5108.5,-116 5108.5,-110 5114.5,-104 5120.5,-104 5120.5,-104 5232.5,-104 5232.5,-104 5238.5,-104 5244.5,-110 5244.5,-116 5244.5,-116 5244.5,-175 5244.5,-175 5244.5,-181 5238.5,-187 5232.5,-187\"/>\n<text text-anchor=\"start\" x=\"5116.5\" y=\"-171.8\" font-family=\"Helvetica,sans-Serif\" font-size=\"14.00\">t2_dragonKills ≤ 1.5</text>\n<text text-anchor=\"start\" x=\"5129\" y=\"-156.8\" font-family=\"Helvetica,sans-Serif\" font-size=\"14.00\">entropy = 0.371</text>\n<text text-anchor=\"start\" x=\"5135.5\" y=\"-141.8\" font-family=\"Helvetica,sans-Serif\" font-size=\"14.00\">samples = 56</text>\n<text text-anchor=\"start\" x=\"5133.5\" y=\"-126.8\" font-family=\"Helvetica,sans-Serif\" font-size=\"14.00\">value = [52, 4]</text>\n<text text-anchor=\"start\" x=\"5149\" y=\"-111.8\" font-family=\"Helvetica,sans-Serif\" font-size=\"14.00\">class = 1</text>\n</g>\n<!-- 93&#45;&gt;94 -->\n<g id=\"edge94\" class=\"edge\">\n<title>93&#45;&gt;94</title>\n<path fill=\"none\" stroke=\"black\" d=\"M5176.5,-222.91C5176.5,-214.65 5176.5,-205.86 5176.5,-197.3\"/>\n<polygon fill=\"black\" stroke=\"black\" points=\"5180,-197.02 5176.5,-187.02 5173,-197.02 5180,-197.02\"/>\n</g>\n<!-- 97 -->\n<g id=\"node98\" class=\"node\">\n<title>97</title>\n<path fill=\"#e58139\" stroke=\"black\" d=\"M5360.5,-179.5C5360.5,-179.5 5274.5,-179.5 5274.5,-179.5 5268.5,-179.5 5262.5,-173.5 5262.5,-167.5 5262.5,-167.5 5262.5,-123.5 5262.5,-123.5 5262.5,-117.5 5268.5,-111.5 5274.5,-111.5 5274.5,-111.5 5360.5,-111.5 5360.5,-111.5 5366.5,-111.5 5372.5,-117.5 5372.5,-123.5 5372.5,-123.5 5372.5,-167.5 5372.5,-167.5 5372.5,-173.5 5366.5,-179.5 5360.5,-179.5\"/>\n<text text-anchor=\"start\" x=\"5277.5\" y=\"-164.3\" font-family=\"Helvetica,sans-Serif\" font-size=\"14.00\">entropy = 0.0</text>\n<text text-anchor=\"start\" x=\"5272.5\" y=\"-149.3\" font-family=\"Helvetica,sans-Serif\" font-size=\"14.00\">samples = 397</text>\n<text text-anchor=\"start\" x=\"5270.5\" y=\"-134.3\" font-family=\"Helvetica,sans-Serif\" font-size=\"14.00\">value = [397, 0]</text>\n<text text-anchor=\"start\" x=\"5290\" y=\"-119.3\" font-family=\"Helvetica,sans-Serif\" font-size=\"14.00\">class = 1</text>\n</g>\n<!-- 93&#45;&gt;97 -->\n<g id=\"edge97\" class=\"edge\">\n<title>93&#45;&gt;97</title>\n<path fill=\"none\" stroke=\"black\" d=\"M5225.42,-222.91C5239.78,-210.99 5255.47,-197.98 5269.75,-186.12\"/>\n<polygon fill=\"black\" stroke=\"black\" points=\"5272.07,-188.75 5277.53,-179.67 5267.6,-183.36 5272.07,-188.75\"/>\n</g>\n<!-- 95 -->\n<g id=\"node96\" class=\"node\">\n<title>95</title>\n<path fill=\"#e9965a\" stroke=\"black\" d=\"M5272,-68C5272,-68 5185,-68 5185,-68 5179,-68 5173,-62 5173,-56 5173,-56 5173,-12 5173,-12 5173,-6 5179,0 5185,0 5185,0 5272,0 5272,0 5278,0 5284,-6 5284,-12 5284,-12 5284,-56 5284,-56 5284,-62 5278,-68 5272,-68\"/>\n<text text-anchor=\"start\" x=\"5181\" y=\"-52.8\" font-family=\"Helvetica,sans-Serif\" font-size=\"14.00\">entropy = 0.592</text>\n<text text-anchor=\"start\" x=\"5187.5\" y=\"-37.8\" font-family=\"Helvetica,sans-Serif\" font-size=\"14.00\">samples = 28</text>\n<text text-anchor=\"start\" x=\"5185.5\" y=\"-22.8\" font-family=\"Helvetica,sans-Serif\" font-size=\"14.00\">value = [24, 4]</text>\n<text text-anchor=\"start\" x=\"5201\" y=\"-7.8\" font-family=\"Helvetica,sans-Serif\" font-size=\"14.00\">class = 1</text>\n</g>\n<!-- 94&#45;&gt;95 -->\n<g id=\"edge95\" class=\"edge\">\n<title>94&#45;&gt;95</title>\n<path fill=\"none\" stroke=\"black\" d=\"M5195.86,-103.73C5199.93,-95.15 5204.24,-86.09 5208.34,-77.46\"/>\n<polygon fill=\"black\" stroke=\"black\" points=\"5211.56,-78.83 5212.69,-68.3 5205.24,-75.83 5211.56,-78.83\"/>\n</g>\n<!-- 96 -->\n<g id=\"node97\" class=\"node\">\n<title>96</title>\n<path fill=\"#e58139\" stroke=\"black\" d=\"M5392.5,-68C5392.5,-68 5314.5,-68 5314.5,-68 5308.5,-68 5302.5,-62 5302.5,-56 5302.5,-56 5302.5,-12 5302.5,-12 5302.5,-6 5308.5,0 5314.5,0 5314.5,0 5392.5,0 5392.5,0 5398.5,0 5404.5,-6 5404.5,-12 5404.5,-12 5404.5,-56 5404.5,-56 5404.5,-62 5398.5,-68 5392.5,-68\"/>\n<text text-anchor=\"start\" x=\"5313.5\" y=\"-52.8\" font-family=\"Helvetica,sans-Serif\" font-size=\"14.00\">entropy = 0.0</text>\n<text text-anchor=\"start\" x=\"5312.5\" y=\"-37.8\" font-family=\"Helvetica,sans-Serif\" font-size=\"14.00\">samples = 28</text>\n<text text-anchor=\"start\" x=\"5310.5\" y=\"-22.8\" font-family=\"Helvetica,sans-Serif\" font-size=\"14.00\">value = [28, 0]</text>\n<text text-anchor=\"start\" x=\"5326\" y=\"-7.8\" font-family=\"Helvetica,sans-Serif\" font-size=\"14.00\">class = 1</text>\n</g>\n<!-- 94&#45;&gt;96 -->\n<g id=\"edge96\" class=\"edge\">\n<title>94&#45;&gt;96</title>\n<path fill=\"none\" stroke=\"black\" d=\"M5242.16,-103.88C5259.08,-93.41 5277.2,-82.2 5293.8,-71.93\"/>\n<polygon fill=\"black\" stroke=\"black\" points=\"5295.67,-74.89 5302.33,-66.66 5291.99,-68.94 5295.67,-74.89\"/>\n</g>\n<!-- 99 -->\n<g id=\"node100\" class=\"node\">\n<title>99</title>\n<path fill=\"#3a9de5\" stroke=\"black\" d=\"M6147,-663C6147,-663 6030,-663 6030,-663 6024,-663 6018,-657 6018,-651 6018,-651 6018,-592 6018,-592 6018,-586 6024,-580 6030,-580 6030,-580 6147,-580 6147,-580 6153,-580 6159,-586 6159,-592 6159,-592 6159,-651 6159,-651 6159,-657 6153,-663 6147,-663\"/>\n<text text-anchor=\"start\" x=\"6026\" y=\"-647.8\" font-family=\"Helvetica,sans-Serif\" font-size=\"14.00\">t1_inhibitorKills ≤ 0.5</text>\n<text text-anchor=\"start\" x=\"6041\" y=\"-632.8\" font-family=\"Helvetica,sans-Serif\" font-size=\"14.00\">entropy = 0.043</text>\n<text text-anchor=\"start\" x=\"6036\" y=\"-617.8\" font-family=\"Helvetica,sans-Serif\" font-size=\"14.00\">samples = 14017</text>\n<text text-anchor=\"start\" x=\"6030.5\" y=\"-602.8\" font-family=\"Helvetica,sans-Serif\" font-size=\"14.00\">value = [65, 13952]</text>\n<text text-anchor=\"start\" x=\"6061\" y=\"-587.8\" font-family=\"Helvetica,sans-Serif\" font-size=\"14.00\">class = 2</text>\n</g>\n<!-- 98&#45;&gt;99 -->\n<g id=\"edge99\" class=\"edge\">\n<title>98&#45;&gt;99</title>\n<path fill=\"none\" stroke=\"black\" d=\"M6088.5,-698.91C6088.5,-690.65 6088.5,-681.86 6088.5,-673.3\"/>\n<polygon fill=\"black\" stroke=\"black\" points=\"6092,-673.02 6088.5,-663.02 6085,-673.02 6092,-673.02\"/>\n</g>\n<!-- 138 -->\n<g id=\"node139\" class=\"node\">\n<title>138</title>\n<path fill=\"#f1f8fd\" stroke=\"black\" d=\"M7856.5,-663C7856.5,-663 7718.5,-663 7718.5,-663 7712.5,-663 7706.5,-657 7706.5,-651 7706.5,-651 7706.5,-592 7706.5,-592 7706.5,-586 7712.5,-580 7718.5,-580 7718.5,-580 7856.5,-580 7856.5,-580 7862.5,-580 7868.5,-586 7868.5,-592 7868.5,-592 7868.5,-651 7868.5,-651 7868.5,-657 7862.5,-663 7856.5,-663\"/>\n<text text-anchor=\"start\" x=\"7732\" y=\"-647.8\" font-family=\"Helvetica,sans-Serif\" font-size=\"14.00\">t1_towerKills ≤ 8.5</text>\n<text text-anchor=\"start\" x=\"7740\" y=\"-632.8\" font-family=\"Helvetica,sans-Serif\" font-size=\"14.00\">entropy = 0.999</text>\n<text text-anchor=\"start\" x=\"7739\" y=\"-617.8\" font-family=\"Helvetica,sans-Serif\" font-size=\"14.00\">samples = 2658</text>\n<text text-anchor=\"start\" x=\"7714.5\" y=\"-602.8\" font-family=\"Helvetica,sans-Serif\" font-size=\"14.00\">value = [1279.0, 1379.0]</text>\n<text text-anchor=\"start\" x=\"7760\" y=\"-587.8\" font-family=\"Helvetica,sans-Serif\" font-size=\"14.00\">class = 2</text>\n</g>\n<!-- 98&#45;&gt;138 -->\n<g id=\"edge138\" class=\"edge\">\n<title>98&#45;&gt;138</title>\n<path fill=\"none\" stroke=\"black\" d=\"M6162.05,-734.44C6435.68,-715.59 7394.57,-649.56 7696.05,-628.8\"/>\n<polygon fill=\"black\" stroke=\"black\" points=\"7696.33,-632.29 7706.07,-628.11 7695.85,-625.3 7696.33,-632.29\"/>\n</g>\n<!-- 100 -->\n<g id=\"node101\" class=\"node\">\n<title>100</title>\n<path fill=\"#399de5\" stroke=\"black\" d=\"M6102,-544C6102,-544 5999,-544 5999,-544 5993,-544 5987,-538 5987,-532 5987,-532 5987,-473 5987,-473 5987,-467 5993,-461 5999,-461 5999,-461 6102,-461 6102,-461 6108,-461 6114,-467 6114,-473 6114,-473 6114,-532 6114,-532 6114,-538 6108,-544 6102,-544\"/>\n<text text-anchor=\"start\" x=\"5995\" y=\"-528.8\" font-family=\"Helvetica,sans-Serif\" font-size=\"14.00\">t2_towerKills ≤ 8.5</text>\n<text text-anchor=\"start\" x=\"6003\" y=\"-513.8\" font-family=\"Helvetica,sans-Serif\" font-size=\"14.00\">entropy = 0.004</text>\n<text text-anchor=\"start\" x=\"5998\" y=\"-498.8\" font-family=\"Helvetica,sans-Serif\" font-size=\"14.00\">samples = 13196</text>\n<text text-anchor=\"start\" x=\"5996\" y=\"-483.8\" font-family=\"Helvetica,sans-Serif\" font-size=\"14.00\">value = [4, 13192]</text>\n<text text-anchor=\"start\" x=\"6023\" y=\"-468.8\" font-family=\"Helvetica,sans-Serif\" font-size=\"14.00\">class = 2</text>\n</g>\n<!-- 99&#45;&gt;100 -->\n<g id=\"edge100\" class=\"edge\">\n<title>99&#45;&gt;100</title>\n<path fill=\"none\" stroke=\"black\" d=\"M6075.32,-579.91C6072.57,-571.47 6069.66,-562.48 6066.82,-553.74\"/>\n<polygon fill=\"black\" stroke=\"black\" points=\"6070.08,-552.45 6063.66,-544.02 6063.42,-554.61 6070.08,-552.45\"/>\n</g>\n<!-- 113 -->\n<g id=\"node114\" class=\"node\">\n<title>113</title>\n<path fill=\"#49a5e7\" stroke=\"black\" d=\"M6264.5,-544C6264.5,-544 6168.5,-544 6168.5,-544 6162.5,-544 6156.5,-538 6156.5,-532 6156.5,-532 6156.5,-473 6156.5,-473 6156.5,-467 6162.5,-461 6168.5,-461 6168.5,-461 6264.5,-461 6264.5,-461 6270.5,-461 6276.5,-467 6276.5,-473 6276.5,-473 6276.5,-532 6276.5,-532 6276.5,-538 6270.5,-544 6264.5,-544\"/>\n<text text-anchor=\"start\" x=\"6164.5\" y=\"-528.8\" font-family=\"Helvetica,sans-Serif\" font-size=\"14.00\">firstInhibitor ≤ 1.5</text>\n<text text-anchor=\"start\" x=\"6169\" y=\"-513.8\" font-family=\"Helvetica,sans-Serif\" font-size=\"14.00\">entropy = 0.382</text>\n<text text-anchor=\"start\" x=\"6171.5\" y=\"-498.8\" font-family=\"Helvetica,sans-Serif\" font-size=\"14.00\">samples = 821</text>\n<text text-anchor=\"start\" x=\"6166\" y=\"-483.8\" font-family=\"Helvetica,sans-Serif\" font-size=\"14.00\">value = [61, 760]</text>\n<text text-anchor=\"start\" x=\"6189\" y=\"-468.8\" font-family=\"Helvetica,sans-Serif\" font-size=\"14.00\">class = 2</text>\n</g>\n<!-- 99&#45;&gt;113 -->\n<g id=\"edge113\" class=\"edge\">\n<title>99&#45;&gt;113</title>\n<path fill=\"none\" stroke=\"black\" d=\"M6132.91,-579.91C6143.14,-570.56 6154.1,-560.54 6164.61,-550.93\"/>\n<polygon fill=\"black\" stroke=\"black\" points=\"6167.15,-553.35 6172.17,-544.02 6162.43,-548.18 6167.15,-553.35\"/>\n</g>\n<!-- 101 -->\n<g id=\"node102\" class=\"node\">\n<title>101</title>\n<path fill=\"#399de5\" stroke=\"black\" d=\"M5853,-425C5853,-425 5736,-425 5736,-425 5730,-425 5724,-419 5724,-413 5724,-413 5724,-354 5724,-354 5724,-348 5730,-342 5736,-342 5736,-342 5853,-342 5853,-342 5859,-342 5865,-348 5865,-354 5865,-354 5865,-413 5865,-413 5865,-419 5859,-425 5853,-425\"/>\n<text text-anchor=\"start\" x=\"5732\" y=\"-409.8\" font-family=\"Helvetica,sans-Serif\" font-size=\"14.00\">t2_inhibitorKills ≤ 2.5</text>\n<text text-anchor=\"start\" x=\"5747\" y=\"-394.8\" font-family=\"Helvetica,sans-Serif\" font-size=\"14.00\">entropy = 0.014</text>\n<text text-anchor=\"start\" x=\"5746\" y=\"-379.8\" font-family=\"Helvetica,sans-Serif\" font-size=\"14.00\">samples = 3128</text>\n<text text-anchor=\"start\" x=\"5744\" y=\"-364.8\" font-family=\"Helvetica,sans-Serif\" font-size=\"14.00\">value = [4, 3124]</text>\n<text text-anchor=\"start\" x=\"5767\" y=\"-349.8\" font-family=\"Helvetica,sans-Serif\" font-size=\"14.00\">class = 2</text>\n</g>\n<!-- 100&#45;&gt;101 -->\n<g id=\"edge101\" class=\"edge\">\n<title>100&#45;&gt;101</title>\n<path fill=\"none\" stroke=\"black\" d=\"M5986.89,-472.43C5953.04,-456.96 5911.07,-437.78 5874.98,-421.28\"/>\n<polygon fill=\"black\" stroke=\"black\" points=\"5876,-417.9 5865.45,-416.93 5873.09,-424.27 5876,-417.9\"/>\n</g>\n<!-- 112 -->\n<g id=\"node113\" class=\"node\">\n<title>112</title>\n<path fill=\"#399de5\" stroke=\"black\" d=\"M6101,-417.5C6101,-417.5 6000,-417.5 6000,-417.5 5994,-417.5 5988,-411.5 5988,-405.5 5988,-405.5 5988,-361.5 5988,-361.5 5988,-355.5 5994,-349.5 6000,-349.5 6000,-349.5 6101,-349.5 6101,-349.5 6107,-349.5 6113,-355.5 6113,-361.5 6113,-361.5 6113,-405.5 6113,-405.5 6113,-411.5 6107,-417.5 6101,-417.5\"/>\n<text text-anchor=\"start\" x=\"6010.5\" y=\"-402.3\" font-family=\"Helvetica,sans-Serif\" font-size=\"14.00\">entropy = 0.0</text>\n<text text-anchor=\"start\" x=\"5998\" y=\"-387.3\" font-family=\"Helvetica,sans-Serif\" font-size=\"14.00\">samples = 10068</text>\n<text text-anchor=\"start\" x=\"5996\" y=\"-372.3\" font-family=\"Helvetica,sans-Serif\" font-size=\"14.00\">value = [0, 10068]</text>\n<text text-anchor=\"start\" x=\"6023\" y=\"-357.3\" font-family=\"Helvetica,sans-Serif\" font-size=\"14.00\">class = 2</text>\n</g>\n<!-- 100&#45;&gt;112 -->\n<g id=\"edge112\" class=\"edge\">\n<title>100&#45;&gt;112</title>\n<path fill=\"none\" stroke=\"black\" d=\"M6050.5,-460.91C6050.5,-450.2 6050.5,-438.62 6050.5,-427.78\"/>\n<polygon fill=\"black\" stroke=\"black\" points=\"6054,-427.67 6050.5,-417.67 6047,-427.67 6054,-427.67\"/>\n</g>\n<!-- 102 -->\n<g id=\"node103\" class=\"node\">\n<title>102</title>\n<path fill=\"#399de5\" stroke=\"black\" d=\"M5648.5,-306C5648.5,-306 5540.5,-306 5540.5,-306 5534.5,-306 5528.5,-300 5528.5,-294 5528.5,-294 5528.5,-235 5528.5,-235 5528.5,-229 5534.5,-223 5540.5,-223 5540.5,-223 5648.5,-223 5648.5,-223 5654.5,-223 5660.5,-229 5660.5,-235 5660.5,-235 5660.5,-294 5660.5,-294 5660.5,-300 5654.5,-306 5648.5,-306\"/>\n<text text-anchor=\"start\" x=\"5536.5\" y=\"-290.8\" font-family=\"Helvetica,sans-Serif\" font-size=\"14.00\">firstRiftHerald ≤ 1.5</text>\n<text text-anchor=\"start\" x=\"5547\" y=\"-275.8\" font-family=\"Helvetica,sans-Serif\" font-size=\"14.00\">entropy = 0.008</text>\n<text text-anchor=\"start\" x=\"5546\" y=\"-260.8\" font-family=\"Helvetica,sans-Serif\" font-size=\"14.00\">samples = 3077</text>\n<text text-anchor=\"start\" x=\"5544\" y=\"-245.8\" font-family=\"Helvetica,sans-Serif\" font-size=\"14.00\">value = [2, 3075]</text>\n<text text-anchor=\"start\" x=\"5567\" y=\"-230.8\" font-family=\"Helvetica,sans-Serif\" font-size=\"14.00\">class = 2</text>\n</g>\n<!-- 101&#45;&gt;102 -->\n<g id=\"edge102\" class=\"edge\">\n<title>101&#45;&gt;102</title>\n<path fill=\"none\" stroke=\"black\" d=\"M5725.11,-341.91C5707.17,-331.41 5687.78,-320.07 5669.57,-309.42\"/>\n<polygon fill=\"black\" stroke=\"black\" points=\"5671.13,-306.28 5660.74,-304.25 5667.6,-312.32 5671.13,-306.28\"/>\n</g>\n<!-- 107 -->\n<g id=\"node108\" class=\"node\">\n<title>107</title>\n<path fill=\"#41a1e6\" stroke=\"black\" d=\"M5846.5,-306C5846.5,-306 5742.5,-306 5742.5,-306 5736.5,-306 5730.5,-300 5730.5,-294 5730.5,-294 5730.5,-235 5730.5,-235 5730.5,-229 5736.5,-223 5742.5,-223 5742.5,-223 5846.5,-223 5846.5,-223 5852.5,-223 5858.5,-229 5858.5,-235 5858.5,-235 5858.5,-294 5858.5,-294 5858.5,-300 5852.5,-306 5846.5,-306\"/>\n<text text-anchor=\"start\" x=\"5738.5\" y=\"-290.8\" font-family=\"Helvetica,sans-Serif\" font-size=\"14.00\">t1_baronKills ≤ 0.5</text>\n<text text-anchor=\"start\" x=\"5747\" y=\"-275.8\" font-family=\"Helvetica,sans-Serif\" font-size=\"14.00\">entropy = 0.239</text>\n<text text-anchor=\"start\" x=\"5753.5\" y=\"-260.8\" font-family=\"Helvetica,sans-Serif\" font-size=\"14.00\">samples = 51</text>\n<text text-anchor=\"start\" x=\"5751.5\" y=\"-245.8\" font-family=\"Helvetica,sans-Serif\" font-size=\"14.00\">value = [2, 49]</text>\n<text text-anchor=\"start\" x=\"5767\" y=\"-230.8\" font-family=\"Helvetica,sans-Serif\" font-size=\"14.00\">class = 2</text>\n</g>\n<!-- 101&#45;&gt;107 -->\n<g id=\"edge107\" class=\"edge\">\n<title>101&#45;&gt;107</title>\n<path fill=\"none\" stroke=\"black\" d=\"M5794.5,-341.91C5794.5,-333.65 5794.5,-324.86 5794.5,-316.3\"/>\n<polygon fill=\"black\" stroke=\"black\" points=\"5798,-316.02 5794.5,-306.02 5791,-316.02 5798,-316.02\"/>\n</g>\n<!-- 103 -->\n<g id=\"node104\" class=\"node\">\n<title>103</title>\n<path fill=\"#399de5\" stroke=\"black\" d=\"M5496,-179.5C5496,-179.5 5403,-179.5 5403,-179.5 5397,-179.5 5391,-173.5 5391,-167.5 5391,-167.5 5391,-123.5 5391,-123.5 5391,-117.5 5397,-111.5 5403,-111.5 5403,-111.5 5496,-111.5 5496,-111.5 5502,-111.5 5508,-117.5 5508,-123.5 5508,-123.5 5508,-167.5 5508,-167.5 5508,-173.5 5502,-179.5 5496,-179.5\"/>\n<text text-anchor=\"start\" x=\"5409.5\" y=\"-164.3\" font-family=\"Helvetica,sans-Serif\" font-size=\"14.00\">entropy = 0.0</text>\n<text text-anchor=\"start\" x=\"5401\" y=\"-149.3\" font-family=\"Helvetica,sans-Serif\" font-size=\"14.00\">samples = 2069</text>\n<text text-anchor=\"start\" x=\"5399\" y=\"-134.3\" font-family=\"Helvetica,sans-Serif\" font-size=\"14.00\">value = [0, 2069]</text>\n<text text-anchor=\"start\" x=\"5422\" y=\"-119.3\" font-family=\"Helvetica,sans-Serif\" font-size=\"14.00\">class = 2</text>\n</g>\n<!-- 102&#45;&gt;103 -->\n<g id=\"edge103\" class=\"edge\">\n<title>102&#45;&gt;103</title>\n<path fill=\"none\" stroke=\"black\" d=\"M5544.19,-222.91C5529.42,-210.99 5513.29,-197.98 5498.6,-186.12\"/>\n<polygon fill=\"black\" stroke=\"black\" points=\"5500.58,-183.22 5490.6,-179.67 5496.19,-188.67 5500.58,-183.22\"/>\n</g>\n<!-- 104 -->\n<g id=\"node105\" class=\"node\">\n<title>104</title>\n<path fill=\"#399de5\" stroke=\"black\" d=\"M5650.5,-187C5650.5,-187 5538.5,-187 5538.5,-187 5532.5,-187 5526.5,-181 5526.5,-175 5526.5,-175 5526.5,-116 5526.5,-116 5526.5,-110 5532.5,-104 5538.5,-104 5538.5,-104 5650.5,-104 5650.5,-104 5656.5,-104 5662.5,-110 5662.5,-116 5662.5,-116 5662.5,-175 5662.5,-175 5662.5,-181 5656.5,-187 5650.5,-187\"/>\n<text text-anchor=\"start\" x=\"5534.5\" y=\"-171.8\" font-family=\"Helvetica,sans-Serif\" font-size=\"14.00\">t2_dragonKills ≤ 3.5</text>\n<text text-anchor=\"start\" x=\"5547\" y=\"-156.8\" font-family=\"Helvetica,sans-Serif\" font-size=\"14.00\">entropy = 0.021</text>\n<text text-anchor=\"start\" x=\"5546\" y=\"-141.8\" font-family=\"Helvetica,sans-Serif\" font-size=\"14.00\">samples = 1008</text>\n<text text-anchor=\"start\" x=\"5544\" y=\"-126.8\" font-family=\"Helvetica,sans-Serif\" font-size=\"14.00\">value = [2, 1006]</text>\n<text text-anchor=\"start\" x=\"5567\" y=\"-111.8\" font-family=\"Helvetica,sans-Serif\" font-size=\"14.00\">class = 2</text>\n</g>\n<!-- 102&#45;&gt;104 -->\n<g id=\"edge104\" class=\"edge\">\n<title>102&#45;&gt;104</title>\n<path fill=\"none\" stroke=\"black\" d=\"M5594.5,-222.91C5594.5,-214.65 5594.5,-205.86 5594.5,-197.3\"/>\n<polygon fill=\"black\" stroke=\"black\" points=\"5598,-197.02 5594.5,-187.02 5591,-197.02 5598,-197.02\"/>\n</g>\n<!-- 105 -->\n<g id=\"node106\" class=\"node\">\n<title>105</title>\n<path fill=\"#399de5\" stroke=\"black\" d=\"M5611,-68C5611,-68 5524,-68 5524,-68 5518,-68 5512,-62 5512,-56 5512,-56 5512,-12 5512,-12 5512,-6 5518,0 5524,0 5524,0 5611,0 5611,0 5617,0 5623,-6 5623,-12 5623,-12 5623,-56 5623,-56 5623,-62 5617,-68 5611,-68\"/>\n<text text-anchor=\"start\" x=\"5520\" y=\"-52.8\" font-family=\"Helvetica,sans-Serif\" font-size=\"14.00\">entropy = 0.012</text>\n<text text-anchor=\"start\" x=\"5522.5\" y=\"-37.8\" font-family=\"Helvetica,sans-Serif\" font-size=\"14.00\">samples = 968</text>\n<text text-anchor=\"start\" x=\"5520.5\" y=\"-22.8\" font-family=\"Helvetica,sans-Serif\" font-size=\"14.00\">value = [1, 967]</text>\n<text text-anchor=\"start\" x=\"5540\" y=\"-7.8\" font-family=\"Helvetica,sans-Serif\" font-size=\"14.00\">class = 2</text>\n</g>\n<!-- 104&#45;&gt;105 -->\n<g id=\"edge105\" class=\"edge\">\n<title>104&#45;&gt;105</title>\n<path fill=\"none\" stroke=\"black\" d=\"M5584.45,-103.73C5582.4,-95.43 5580.24,-86.67 5578.17,-78.28\"/>\n<polygon fill=\"black\" stroke=\"black\" points=\"5581.5,-77.17 5575.71,-68.3 5574.71,-78.85 5581.5,-77.17\"/>\n</g>\n<!-- 106 -->\n<g id=\"node107\" class=\"node\">\n<title>106</title>\n<path fill=\"#3ea0e6\" stroke=\"black\" d=\"M5740,-68C5740,-68 5653,-68 5653,-68 5647,-68 5641,-62 5641,-56 5641,-56 5641,-12 5641,-12 5641,-6 5647,0 5653,0 5653,0 5740,0 5740,0 5746,0 5752,-6 5752,-12 5752,-12 5752,-56 5752,-56 5752,-62 5746,-68 5740,-68\"/>\n<text text-anchor=\"start\" x=\"5649\" y=\"-52.8\" font-family=\"Helvetica,sans-Serif\" font-size=\"14.00\">entropy = 0.169</text>\n<text text-anchor=\"start\" x=\"5655.5\" y=\"-37.8\" font-family=\"Helvetica,sans-Serif\" font-size=\"14.00\">samples = 40</text>\n<text text-anchor=\"start\" x=\"5653.5\" y=\"-22.8\" font-family=\"Helvetica,sans-Serif\" font-size=\"14.00\">value = [1, 39]</text>\n<text text-anchor=\"start\" x=\"5669\" y=\"-7.8\" font-family=\"Helvetica,sans-Serif\" font-size=\"14.00\">class = 2</text>\n</g>\n<!-- 104&#45;&gt;106 -->\n<g id=\"edge106\" class=\"edge\">\n<title>104&#45;&gt;106</title>\n<path fill=\"none\" stroke=\"black\" d=\"M5632.48,-103.73C5640.98,-94.61 5649.99,-84.93 5658.49,-75.81\"/>\n<polygon fill=\"black\" stroke=\"black\" points=\"5661.23,-78 5665.48,-68.3 5656.1,-73.23 5661.23,-78\"/>\n</g>\n<!-- 108 -->\n<g id=\"node109\" class=\"node\">\n<title>108</title>\n<path fill=\"#399de5\" stroke=\"black\" d=\"M5770.5,-179.5C5770.5,-179.5 5692.5,-179.5 5692.5,-179.5 5686.5,-179.5 5680.5,-173.5 5680.5,-167.5 5680.5,-167.5 5680.5,-123.5 5680.5,-123.5 5680.5,-117.5 5686.5,-111.5 5692.5,-111.5 5692.5,-111.5 5770.5,-111.5 5770.5,-111.5 5776.5,-111.5 5782.5,-117.5 5782.5,-123.5 5782.5,-123.5 5782.5,-167.5 5782.5,-167.5 5782.5,-173.5 5776.5,-179.5 5770.5,-179.5\"/>\n<text text-anchor=\"start\" x=\"5691.5\" y=\"-164.3\" font-family=\"Helvetica,sans-Serif\" font-size=\"14.00\">entropy = 0.0</text>\n<text text-anchor=\"start\" x=\"5690.5\" y=\"-149.3\" font-family=\"Helvetica,sans-Serif\" font-size=\"14.00\">samples = 35</text>\n<text text-anchor=\"start\" x=\"5688.5\" y=\"-134.3\" font-family=\"Helvetica,sans-Serif\" font-size=\"14.00\">value = [0, 35]</text>\n<text text-anchor=\"start\" x=\"5704\" y=\"-119.3\" font-family=\"Helvetica,sans-Serif\" font-size=\"14.00\">class = 2</text>\n</g>\n<!-- 107&#45;&gt;108 -->\n<g id=\"edge108\" class=\"edge\">\n<title>107&#45;&gt;108</title>\n<path fill=\"none\" stroke=\"black\" d=\"M5772.64,-222.91C5766.7,-211.87 5760.25,-199.9 5754.26,-188.77\"/>\n<polygon fill=\"black\" stroke=\"black\" points=\"5757.18,-186.81 5749.36,-179.67 5751.02,-190.13 5757.18,-186.81\"/>\n</g>\n<!-- 109 -->\n<g id=\"node110\" class=\"node\">\n<title>109</title>\n<path fill=\"#55abe9\" stroke=\"black\" d=\"M5916.5,-187C5916.5,-187 5812.5,-187 5812.5,-187 5806.5,-187 5800.5,-181 5800.5,-175 5800.5,-175 5800.5,-116 5800.5,-116 5800.5,-110 5806.5,-104 5812.5,-104 5812.5,-104 5916.5,-104 5916.5,-104 5922.5,-104 5928.5,-110 5928.5,-116 5928.5,-116 5928.5,-175 5928.5,-175 5928.5,-181 5922.5,-187 5916.5,-187\"/>\n<text text-anchor=\"start\" x=\"5808.5\" y=\"-171.8\" font-family=\"Helvetica,sans-Serif\" font-size=\"14.00\">t2_baronKills ≤ 1.5</text>\n<text text-anchor=\"start\" x=\"5817\" y=\"-156.8\" font-family=\"Helvetica,sans-Serif\" font-size=\"14.00\">entropy = 0.544</text>\n<text text-anchor=\"start\" x=\"5823.5\" y=\"-141.8\" font-family=\"Helvetica,sans-Serif\" font-size=\"14.00\">samples = 16</text>\n<text text-anchor=\"start\" x=\"5821.5\" y=\"-126.8\" font-family=\"Helvetica,sans-Serif\" font-size=\"14.00\">value = [2, 14]</text>\n<text text-anchor=\"start\" x=\"5837\" y=\"-111.8\" font-family=\"Helvetica,sans-Serif\" font-size=\"14.00\">class = 2</text>\n</g>\n<!-- 107&#45;&gt;109 -->\n<g id=\"edge109\" class=\"edge\">\n<title>107&#45;&gt;109</title>\n<path fill=\"none\" stroke=\"black\" d=\"M5818.79,-222.91C5824.05,-214.1 5829.68,-204.7 5835.12,-195.61\"/>\n<polygon fill=\"black\" stroke=\"black\" points=\"5838.13,-197.4 5840.26,-187.02 5832.12,-193.81 5838.13,-197.4\"/>\n</g>\n<!-- 110 -->\n<g id=\"node111\" class=\"node\">\n<title>110</title>\n<path fill=\"#47a4e7\" stroke=\"black\" d=\"M5889,-68C5889,-68 5802,-68 5802,-68 5796,-68 5790,-62 5790,-56 5790,-56 5790,-12 5790,-12 5790,-6 5796,0 5802,0 5802,0 5889,0 5889,0 5895,0 5901,-6 5901,-12 5901,-12 5901,-56 5901,-56 5901,-62 5895,-68 5889,-68\"/>\n<text text-anchor=\"start\" x=\"5798\" y=\"-52.8\" font-family=\"Helvetica,sans-Serif\" font-size=\"14.00\">entropy = 0.353</text>\n<text text-anchor=\"start\" x=\"5804.5\" y=\"-37.8\" font-family=\"Helvetica,sans-Serif\" font-size=\"14.00\">samples = 15</text>\n<text text-anchor=\"start\" x=\"5802.5\" y=\"-22.8\" font-family=\"Helvetica,sans-Serif\" font-size=\"14.00\">value = [1, 14]</text>\n<text text-anchor=\"start\" x=\"5818\" y=\"-7.8\" font-family=\"Helvetica,sans-Serif\" font-size=\"14.00\">class = 2</text>\n</g>\n<!-- 109&#45;&gt;110 -->\n<g id=\"edge110\" class=\"edge\">\n<title>109&#45;&gt;110</title>\n<path fill=\"none\" stroke=\"black\" d=\"M5857.43,-103.73C5855.98,-95.43 5854.47,-86.67 5853.01,-78.28\"/>\n<polygon fill=\"black\" stroke=\"black\" points=\"5856.44,-77.55 5851.28,-68.3 5849.54,-78.75 5856.44,-77.55\"/>\n</g>\n<!-- 111 -->\n<g id=\"node112\" class=\"node\">\n<title>111</title>\n<path fill=\"#e58139\" stroke=\"black\" d=\"M6003.5,-68C6003.5,-68 5931.5,-68 5931.5,-68 5925.5,-68 5919.5,-62 5919.5,-56 5919.5,-56 5919.5,-12 5919.5,-12 5919.5,-6 5925.5,0 5931.5,0 5931.5,0 6003.5,0 6003.5,0 6009.5,0 6015.5,-6 6015.5,-12 6015.5,-12 6015.5,-56 6015.5,-56 6015.5,-62 6009.5,-68 6003.5,-68\"/>\n<text text-anchor=\"start\" x=\"5927.5\" y=\"-52.8\" font-family=\"Helvetica,sans-Serif\" font-size=\"14.00\">entropy = 0.0</text>\n<text text-anchor=\"start\" x=\"5930\" y=\"-37.8\" font-family=\"Helvetica,sans-Serif\" font-size=\"14.00\">samples = 1</text>\n<text text-anchor=\"start\" x=\"5928\" y=\"-22.8\" font-family=\"Helvetica,sans-Serif\" font-size=\"14.00\">value = [1, 0]</text>\n<text text-anchor=\"start\" x=\"5940\" y=\"-7.8\" font-family=\"Helvetica,sans-Serif\" font-size=\"14.00\">class = 1</text>\n</g>\n<!-- 109&#45;&gt;111 -->\n<g id=\"edge111\" class=\"edge\">\n<title>109&#45;&gt;111</title>\n<path fill=\"none\" stroke=\"black\" d=\"M5902.85,-103.73C5911.43,-94.61 5920.53,-84.93 5929.11,-75.81\"/>\n<polygon fill=\"black\" stroke=\"black\" points=\"5931.87,-77.98 5936.18,-68.3 5926.78,-73.19 5931.87,-77.98\"/>\n</g>\n<!-- 114 -->\n<g id=\"node115\" class=\"node\">\n<title>114</title>\n<path fill=\"#3d9fe6\" stroke=\"black\" d=\"M6275,-425C6275,-425 6158,-425 6158,-425 6152,-425 6146,-419 6146,-413 6146,-413 6146,-354 6146,-354 6146,-348 6152,-342 6158,-342 6158,-342 6275,-342 6275,-342 6281,-342 6287,-348 6287,-354 6287,-354 6287,-413 6287,-413 6287,-419 6281,-425 6275,-425\"/>\n<text text-anchor=\"start\" x=\"6154\" y=\"-409.8\" font-family=\"Helvetica,sans-Serif\" font-size=\"14.00\">t2_inhibitorKills ≤ 0.5</text>\n<text text-anchor=\"start\" x=\"6169\" y=\"-394.8\" font-family=\"Helvetica,sans-Serif\" font-size=\"14.00\">entropy = 0.144</text>\n<text text-anchor=\"start\" x=\"6171.5\" y=\"-379.8\" font-family=\"Helvetica,sans-Serif\" font-size=\"14.00\">samples = 489</text>\n<text text-anchor=\"start\" x=\"6166\" y=\"-364.8\" font-family=\"Helvetica,sans-Serif\" font-size=\"14.00\">value = [10, 479]</text>\n<text text-anchor=\"start\" x=\"6189\" y=\"-349.8\" font-family=\"Helvetica,sans-Serif\" font-size=\"14.00\">class = 2</text>\n</g>\n<!-- 113&#45;&gt;114 -->\n<g id=\"edge114\" class=\"edge\">\n<title>113&#45;&gt;114</title>\n<path fill=\"none\" stroke=\"black\" d=\"M6216.5,-460.91C6216.5,-452.65 6216.5,-443.86 6216.5,-435.3\"/>\n<polygon fill=\"black\" stroke=\"black\" points=\"6220,-435.02 6216.5,-425.02 6213,-435.02 6220,-435.02\"/>\n</g>\n<!-- 123 -->\n<g id=\"node124\" class=\"node\">\n<title>123</title>\n<path fill=\"#5dafea\" stroke=\"black\" d=\"M6686.5,-425C6686.5,-425 6582.5,-425 6582.5,-425 6576.5,-425 6570.5,-419 6570.5,-413 6570.5,-413 6570.5,-354 6570.5,-354 6570.5,-348 6576.5,-342 6582.5,-342 6582.5,-342 6686.5,-342 6686.5,-342 6692.5,-342 6698.5,-348 6698.5,-354 6698.5,-354 6698.5,-413 6698.5,-413 6698.5,-419 6692.5,-425 6686.5,-425\"/>\n<text text-anchor=\"start\" x=\"6578.5\" y=\"-409.8\" font-family=\"Helvetica,sans-Serif\" font-size=\"14.00\">t1_baronKills ≤ 0.5</text>\n<text text-anchor=\"start\" x=\"6587\" y=\"-394.8\" font-family=\"Helvetica,sans-Serif\" font-size=\"14.00\">entropy = 0.619</text>\n<text text-anchor=\"start\" x=\"6589.5\" y=\"-379.8\" font-family=\"Helvetica,sans-Serif\" font-size=\"14.00\">samples = 332</text>\n<text text-anchor=\"start\" x=\"6584\" y=\"-364.8\" font-family=\"Helvetica,sans-Serif\" font-size=\"14.00\">value = [51, 281]</text>\n<text text-anchor=\"start\" x=\"6607\" y=\"-349.8\" font-family=\"Helvetica,sans-Serif\" font-size=\"14.00\">class = 2</text>\n</g>\n<!-- 113&#45;&gt;123 -->\n<g id=\"edge123\" class=\"edge\">\n<title>113&#45;&gt;123</title>\n<path fill=\"none\" stroke=\"black\" d=\"M6276.83,-484.61C6351.74,-463.64 6479.48,-427.89 6560.31,-405.27\"/>\n<polygon fill=\"black\" stroke=\"black\" points=\"6561.72,-408.5 6570.41,-402.44 6559.84,-401.76 6561.72,-408.5\"/>\n</g>\n<!-- 115 -->\n<g id=\"node116\" class=\"node\">\n<title>115</title>\n<path fill=\"#e9965a\" stroke=\"black\" d=\"M6148,-306C6148,-306 6045,-306 6045,-306 6039,-306 6033,-300 6033,-294 6033,-294 6033,-235 6033,-235 6033,-229 6039,-223 6045,-223 6045,-223 6148,-223 6148,-223 6154,-223 6160,-229 6160,-235 6160,-235 6160,-294 6160,-294 6160,-300 6154,-306 6148,-306\"/>\n<text text-anchor=\"start\" x=\"6041\" y=\"-290.8\" font-family=\"Helvetica,sans-Serif\" font-size=\"14.00\">t2_towerKills ≤ 8.5</text>\n<text text-anchor=\"start\" x=\"6049\" y=\"-275.8\" font-family=\"Helvetica,sans-Serif\" font-size=\"14.00\">entropy = 0.592</text>\n<text text-anchor=\"start\" x=\"6059\" y=\"-260.8\" font-family=\"Helvetica,sans-Serif\" font-size=\"14.00\">samples = 7</text>\n<text text-anchor=\"start\" x=\"6057\" y=\"-245.8\" font-family=\"Helvetica,sans-Serif\" font-size=\"14.00\">value = [6, 1]</text>\n<text text-anchor=\"start\" x=\"6069\" y=\"-230.8\" font-family=\"Helvetica,sans-Serif\" font-size=\"14.00\">class = 1</text>\n</g>\n<!-- 114&#45;&gt;115 -->\n<g id=\"edge115\" class=\"edge\">\n<title>114&#45;&gt;115</title>\n<path fill=\"none\" stroke=\"black\" d=\"M6174.87,-341.91C6165.37,-332.65 6155.2,-322.73 6145.43,-313.21\"/>\n<polygon fill=\"black\" stroke=\"black\" points=\"6147.66,-310.5 6138.06,-306.02 6142.78,-315.51 6147.66,-310.5\"/>\n</g>\n<!-- 118 -->\n<g id=\"node119\" class=\"node\">\n<title>118</title>\n<path fill=\"#3b9ee5\" stroke=\"black\" d=\"M6294.5,-306C6294.5,-306 6190.5,-306 6190.5,-306 6184.5,-306 6178.5,-300 6178.5,-294 6178.5,-294 6178.5,-235 6178.5,-235 6178.5,-229 6184.5,-223 6190.5,-223 6190.5,-223 6294.5,-223 6294.5,-223 6300.5,-223 6306.5,-229 6306.5,-235 6306.5,-235 6306.5,-294 6306.5,-294 6306.5,-300 6300.5,-306 6294.5,-306\"/>\n<text text-anchor=\"start\" x=\"6186.5\" y=\"-290.8\" font-family=\"Helvetica,sans-Serif\" font-size=\"14.00\">t1_baronKills ≤ 0.5</text>\n<text text-anchor=\"start\" x=\"6195\" y=\"-275.8\" font-family=\"Helvetica,sans-Serif\" font-size=\"14.00\">entropy = 0.069</text>\n<text text-anchor=\"start\" x=\"6197.5\" y=\"-260.8\" font-family=\"Helvetica,sans-Serif\" font-size=\"14.00\">samples = 482</text>\n<text text-anchor=\"start\" x=\"6195.5\" y=\"-245.8\" font-family=\"Helvetica,sans-Serif\" font-size=\"14.00\">value = [4, 478]</text>\n<text text-anchor=\"start\" x=\"6215\" y=\"-230.8\" font-family=\"Helvetica,sans-Serif\" font-size=\"14.00\">class = 2</text>\n</g>\n<!-- 114&#45;&gt;118 -->\n<g id=\"edge118\" class=\"edge\">\n<title>114&#45;&gt;118</title>\n<path fill=\"none\" stroke=\"black\" d=\"M6225.52,-341.91C6227.38,-333.56 6229.35,-324.67 6231.27,-316.02\"/>\n<polygon fill=\"black\" stroke=\"black\" points=\"6234.74,-316.54 6233.5,-306.02 6227.91,-315.02 6234.74,-316.54\"/>\n</g>\n<!-- 116 -->\n<g id=\"node117\" class=\"node\">\n<title>116</title>\n<path fill=\"#e58139\" stroke=\"black\" d=\"M6030.5,-179.5C6030.5,-179.5 5958.5,-179.5 5958.5,-179.5 5952.5,-179.5 5946.5,-173.5 5946.5,-167.5 5946.5,-167.5 5946.5,-123.5 5946.5,-123.5 5946.5,-117.5 5952.5,-111.5 5958.5,-111.5 5958.5,-111.5 6030.5,-111.5 6030.5,-111.5 6036.5,-111.5 6042.5,-117.5 6042.5,-123.5 6042.5,-123.5 6042.5,-167.5 6042.5,-167.5 6042.5,-173.5 6036.5,-179.5 6030.5,-179.5\"/>\n<text text-anchor=\"start\" x=\"5954.5\" y=\"-164.3\" font-family=\"Helvetica,sans-Serif\" font-size=\"14.00\">entropy = 0.0</text>\n<text text-anchor=\"start\" x=\"5957\" y=\"-149.3\" font-family=\"Helvetica,sans-Serif\" font-size=\"14.00\">samples = 6</text>\n<text text-anchor=\"start\" x=\"5955\" y=\"-134.3\" font-family=\"Helvetica,sans-Serif\" font-size=\"14.00\">value = [6, 0]</text>\n<text text-anchor=\"start\" x=\"5967\" y=\"-119.3\" font-family=\"Helvetica,sans-Serif\" font-size=\"14.00\">class = 1</text>\n</g>\n<!-- 115&#45;&gt;116 -->\n<g id=\"edge116\" class=\"edge\">\n<title>115&#45;&gt;116</title>\n<path fill=\"none\" stroke=\"black\" d=\"M6061.11,-222.91C6051.11,-211.43 6040.22,-198.94 6030.19,-187.44\"/>\n<polygon fill=\"black\" stroke=\"black\" points=\"6032.62,-184.9 6023.41,-179.67 6027.35,-189.5 6032.62,-184.9\"/>\n</g>\n<!-- 117 -->\n<g id=\"node118\" class=\"node\">\n<title>117</title>\n<path fill=\"#399de5\" stroke=\"black\" d=\"M6144.5,-179.5C6144.5,-179.5 6072.5,-179.5 6072.5,-179.5 6066.5,-179.5 6060.5,-173.5 6060.5,-167.5 6060.5,-167.5 6060.5,-123.5 6060.5,-123.5 6060.5,-117.5 6066.5,-111.5 6072.5,-111.5 6072.5,-111.5 6144.5,-111.5 6144.5,-111.5 6150.5,-111.5 6156.5,-117.5 6156.5,-123.5 6156.5,-123.5 6156.5,-167.5 6156.5,-167.5 6156.5,-173.5 6150.5,-179.5 6144.5,-179.5\"/>\n<text text-anchor=\"start\" x=\"6068.5\" y=\"-164.3\" font-family=\"Helvetica,sans-Serif\" font-size=\"14.00\">entropy = 0.0</text>\n<text text-anchor=\"start\" x=\"6071\" y=\"-149.3\" font-family=\"Helvetica,sans-Serif\" font-size=\"14.00\">samples = 1</text>\n<text text-anchor=\"start\" x=\"6069\" y=\"-134.3\" font-family=\"Helvetica,sans-Serif\" font-size=\"14.00\">value = [0, 1]</text>\n<text text-anchor=\"start\" x=\"6081\" y=\"-119.3\" font-family=\"Helvetica,sans-Serif\" font-size=\"14.00\">class = 2</text>\n</g>\n<!-- 115&#45;&gt;117 -->\n<g id=\"edge117\" class=\"edge\">\n<title>115&#45;&gt;117</title>\n<path fill=\"none\" stroke=\"black\" d=\"M6100.66,-222.91C6101.76,-212.2 6102.95,-200.62 6104.06,-189.78\"/>\n<polygon fill=\"black\" stroke=\"black\" points=\"6107.56,-189.97 6105.1,-179.67 6100.6,-189.26 6107.56,-189.97\"/>\n</g>\n<!-- 119 -->\n<g id=\"node120\" class=\"node\">\n<title>119</title>\n<path fill=\"#399de5\" stroke=\"black\" d=\"M6272.5,-179.5C6272.5,-179.5 6186.5,-179.5 6186.5,-179.5 6180.5,-179.5 6174.5,-173.5 6174.5,-167.5 6174.5,-167.5 6174.5,-123.5 6174.5,-123.5 6174.5,-117.5 6180.5,-111.5 6186.5,-111.5 6186.5,-111.5 6272.5,-111.5 6272.5,-111.5 6278.5,-111.5 6284.5,-117.5 6284.5,-123.5 6284.5,-123.5 6284.5,-167.5 6284.5,-167.5 6284.5,-173.5 6278.5,-179.5 6272.5,-179.5\"/>\n<text text-anchor=\"start\" x=\"6189.5\" y=\"-164.3\" font-family=\"Helvetica,sans-Serif\" font-size=\"14.00\">entropy = 0.0</text>\n<text text-anchor=\"start\" x=\"6184.5\" y=\"-149.3\" font-family=\"Helvetica,sans-Serif\" font-size=\"14.00\">samples = 333</text>\n<text text-anchor=\"start\" x=\"6182.5\" y=\"-134.3\" font-family=\"Helvetica,sans-Serif\" font-size=\"14.00\">value = [0, 333]</text>\n<text text-anchor=\"start\" x=\"6202\" y=\"-119.3\" font-family=\"Helvetica,sans-Serif\" font-size=\"14.00\">class = 2</text>\n</g>\n<!-- 118&#45;&gt;119 -->\n<g id=\"edge119\" class=\"edge\">\n<title>118&#45;&gt;119</title>\n<path fill=\"none\" stroke=\"black\" d=\"M6237.99,-222.91C6236.8,-212.2 6235.51,-200.62 6234.31,-189.78\"/>\n<polygon fill=\"black\" stroke=\"black\" points=\"6237.77,-189.22 6233.19,-179.67 6230.81,-189.99 6237.77,-189.22\"/>\n</g>\n<!-- 120 -->\n<g id=\"node121\" class=\"node\">\n<title>120</title>\n<path fill=\"#3ea0e6\" stroke=\"black\" d=\"M6426.5,-187C6426.5,-187 6314.5,-187 6314.5,-187 6308.5,-187 6302.5,-181 6302.5,-175 6302.5,-175 6302.5,-116 6302.5,-116 6302.5,-110 6308.5,-104 6314.5,-104 6314.5,-104 6426.5,-104 6426.5,-104 6432.5,-104 6438.5,-110 6438.5,-116 6438.5,-116 6438.5,-175 6438.5,-175 6438.5,-181 6432.5,-187 6426.5,-187\"/>\n<text text-anchor=\"start\" x=\"6310.5\" y=\"-171.8\" font-family=\"Helvetica,sans-Serif\" font-size=\"14.00\">t2_dragonKills ≤ 3.5</text>\n<text text-anchor=\"start\" x=\"6323\" y=\"-156.8\" font-family=\"Helvetica,sans-Serif\" font-size=\"14.00\">entropy = 0.178</text>\n<text text-anchor=\"start\" x=\"6325.5\" y=\"-141.8\" font-family=\"Helvetica,sans-Serif\" font-size=\"14.00\">samples = 149</text>\n<text text-anchor=\"start\" x=\"6323.5\" y=\"-126.8\" font-family=\"Helvetica,sans-Serif\" font-size=\"14.00\">value = [4, 145]</text>\n<text text-anchor=\"start\" x=\"6343\" y=\"-111.8\" font-family=\"Helvetica,sans-Serif\" font-size=\"14.00\">class = 2</text>\n</g>\n<!-- 118&#45;&gt;120 -->\n<g id=\"edge120\" class=\"edge\">\n<title>118&#45;&gt;120</title>\n<path fill=\"none\" stroke=\"black\" d=\"M6286.91,-222.91C6297.14,-213.56 6308.1,-203.54 6318.61,-193.93\"/>\n<polygon fill=\"black\" stroke=\"black\" points=\"6321.15,-196.35 6326.17,-187.02 6316.43,-191.18 6321.15,-196.35\"/>\n</g>\n<!-- 121 -->\n<g id=\"node122\" class=\"node\">\n<title>121</title>\n<path fill=\"#40a1e6\" stroke=\"black\" d=\"M6245,-68C6245,-68 6158,-68 6158,-68 6152,-68 6146,-62 6146,-56 6146,-56 6146,-12 6146,-12 6146,-6 6152,0 6158,0 6158,0 6245,0 6245,0 6251,0 6257,-6 6257,-12 6257,-12 6257,-56 6257,-56 6257,-62 6251,-68 6245,-68\"/>\n<text text-anchor=\"start\" x=\"6154\" y=\"-52.8\" font-family=\"Helvetica,sans-Serif\" font-size=\"14.00\">entropy = 0.218</text>\n<text text-anchor=\"start\" x=\"6156.5\" y=\"-37.8\" font-family=\"Helvetica,sans-Serif\" font-size=\"14.00\">samples = 115</text>\n<text text-anchor=\"start\" x=\"6154.5\" y=\"-22.8\" font-family=\"Helvetica,sans-Serif\" font-size=\"14.00\">value = [4, 111]</text>\n<text text-anchor=\"start\" x=\"6174\" y=\"-7.8\" font-family=\"Helvetica,sans-Serif\" font-size=\"14.00\">class = 2</text>\n</g>\n<!-- 120&#45;&gt;121 -->\n<g id=\"edge121\" class=\"edge\">\n<title>120&#45;&gt;121</title>\n<path fill=\"none\" stroke=\"black\" d=\"M6307.57,-103.73C6292.43,-93.92 6276.3,-83.46 6261.31,-73.75\"/>\n<polygon fill=\"black\" stroke=\"black\" points=\"6262.92,-70.63 6252.62,-68.13 6259.11,-76.5 6262.92,-70.63\"/>\n</g>\n<!-- 122 -->\n<g id=\"node123\" class=\"node\">\n<title>122</title>\n<path fill=\"#399de5\" stroke=\"black\" d=\"M6365.5,-68C6365.5,-68 6287.5,-68 6287.5,-68 6281.5,-68 6275.5,-62 6275.5,-56 6275.5,-56 6275.5,-12 6275.5,-12 6275.5,-6 6281.5,0 6287.5,0 6287.5,0 6365.5,0 6365.5,0 6371.5,0 6377.5,-6 6377.5,-12 6377.5,-12 6377.5,-56 6377.5,-56 6377.5,-62 6371.5,-68 6365.5,-68\"/>\n<text text-anchor=\"start\" x=\"6286.5\" y=\"-52.8\" font-family=\"Helvetica,sans-Serif\" font-size=\"14.00\">entropy = 0.0</text>\n<text text-anchor=\"start\" x=\"6285.5\" y=\"-37.8\" font-family=\"Helvetica,sans-Serif\" font-size=\"14.00\">samples = 34</text>\n<text text-anchor=\"start\" x=\"6283.5\" y=\"-22.8\" font-family=\"Helvetica,sans-Serif\" font-size=\"14.00\">value = [0, 34]</text>\n<text text-anchor=\"start\" x=\"6299\" y=\"-7.8\" font-family=\"Helvetica,sans-Serif\" font-size=\"14.00\">class = 2</text>\n</g>\n<!-- 120&#45;&gt;122 -->\n<g id=\"edge122\" class=\"edge\">\n<title>120&#45;&gt;122</title>\n<path fill=\"none\" stroke=\"black\" d=\"M6354.12,-103.73C6350.71,-95.24 6347.11,-86.28 6343.67,-77.73\"/>\n<polygon fill=\"black\" stroke=\"black\" points=\"6346.86,-76.27 6339.88,-68.3 6340.36,-78.88 6346.86,-76.27\"/>\n</g>\n<!-- 124 -->\n<g id=\"node125\" class=\"node\">\n<title>124</title>\n<path fill=\"#45a3e7\" stroke=\"black\" d=\"M6686,-306C6686,-306 6583,-306 6583,-306 6577,-306 6571,-300 6571,-294 6571,-294 6571,-235 6571,-235 6571,-229 6577,-223 6583,-223 6583,-223 6686,-223 6686,-223 6692,-223 6698,-229 6698,-235 6698,-235 6698,-294 6698,-294 6698,-300 6692,-306 6686,-306\"/>\n<text text-anchor=\"start\" x=\"6579\" y=\"-290.8\" font-family=\"Helvetica,sans-Serif\" font-size=\"14.00\">t2_towerKills ≤ 8.5</text>\n<text text-anchor=\"start\" x=\"6587\" y=\"-275.8\" font-family=\"Helvetica,sans-Serif\" font-size=\"14.00\">entropy = 0.316</text>\n<text text-anchor=\"start\" x=\"6589.5\" y=\"-260.8\" font-family=\"Helvetica,sans-Serif\" font-size=\"14.00\">samples = 175</text>\n<text text-anchor=\"start\" x=\"6584\" y=\"-245.8\" font-family=\"Helvetica,sans-Serif\" font-size=\"14.00\">value = [10, 165]</text>\n<text text-anchor=\"start\" x=\"6607\" y=\"-230.8\" font-family=\"Helvetica,sans-Serif\" font-size=\"14.00\">class = 2</text>\n</g>\n<!-- 123&#45;&gt;124 -->\n<g id=\"edge124\" class=\"edge\">\n<title>123&#45;&gt;124</title>\n<path fill=\"none\" stroke=\"black\" d=\"M6634.5,-341.91C6634.5,-333.65 6634.5,-324.86 6634.5,-316.3\"/>\n<polygon fill=\"black\" stroke=\"black\" points=\"6638,-316.02 6634.5,-306.02 6631,-316.02 6638,-316.02\"/>\n</g>\n<!-- 131 -->\n<g id=\"node132\" class=\"node\">\n<title>131</title>\n<path fill=\"#7fc0ee\" stroke=\"black\" d=\"M7061,-306C7061,-306 6944,-306 6944,-306 6938,-306 6932,-300 6932,-294 6932,-294 6932,-235 6932,-235 6932,-229 6938,-223 6944,-223 6944,-223 7061,-223 7061,-223 7067,-223 7073,-229 7073,-235 7073,-235 7073,-294 7073,-294 7073,-300 7067,-306 7061,-306\"/>\n<text text-anchor=\"start\" x=\"6940\" y=\"-290.8\" font-family=\"Helvetica,sans-Serif\" font-size=\"14.00\">t2_inhibitorKills ≤ 1.5</text>\n<text text-anchor=\"start\" x=\"6955\" y=\"-275.8\" font-family=\"Helvetica,sans-Serif\" font-size=\"14.00\">entropy = 0.828</text>\n<text text-anchor=\"start\" x=\"6957.5\" y=\"-260.8\" font-family=\"Helvetica,sans-Serif\" font-size=\"14.00\">samples = 157</text>\n<text text-anchor=\"start\" x=\"6940.5\" y=\"-245.8\" font-family=\"Helvetica,sans-Serif\" font-size=\"14.00\">value = [41.0, 116.0]</text>\n<text text-anchor=\"start\" x=\"6975\" y=\"-230.8\" font-family=\"Helvetica,sans-Serif\" font-size=\"14.00\">class = 2</text>\n</g>\n<!-- 123&#45;&gt;131 -->\n<g id=\"edge131\" class=\"edge\">\n<title>123&#45;&gt;131</title>\n<path fill=\"none\" stroke=\"black\" d=\"M6698.6,-362.12C6760.72,-342.37 6855.14,-312.35 6922.23,-291.02\"/>\n<polygon fill=\"black\" stroke=\"black\" points=\"6923.45,-294.31 6931.92,-287.94 6921.33,-287.63 6923.45,-294.31\"/>\n</g>\n<!-- 125 -->\n<g id=\"node126\" class=\"node\">\n<title>125</title>\n<path fill=\"#5baee9\" stroke=\"black\" d=\"M6610.5,-187C6610.5,-187 6518.5,-187 6518.5,-187 6512.5,-187 6506.5,-181 6506.5,-175 6506.5,-175 6506.5,-116 6506.5,-116 6506.5,-110 6512.5,-104 6518.5,-104 6518.5,-104 6610.5,-104 6610.5,-104 6616.5,-104 6622.5,-110 6622.5,-116 6622.5,-116 6622.5,-175 6622.5,-175 6622.5,-181 6616.5,-187 6610.5,-187\"/>\n<text text-anchor=\"start\" x=\"6514.5\" y=\"-171.8\" font-family=\"Helvetica,sans-Serif\" font-size=\"14.00\">firstDragon ≤ 1.5</text>\n<text text-anchor=\"start\" x=\"6517\" y=\"-156.8\" font-family=\"Helvetica,sans-Serif\" font-size=\"14.00\">entropy = 0.601</text>\n<text text-anchor=\"start\" x=\"6523.5\" y=\"-141.8\" font-family=\"Helvetica,sans-Serif\" font-size=\"14.00\">samples = 41</text>\n<text text-anchor=\"start\" x=\"6521.5\" y=\"-126.8\" font-family=\"Helvetica,sans-Serif\" font-size=\"14.00\">value = [6, 35]</text>\n<text text-anchor=\"start\" x=\"6537\" y=\"-111.8\" font-family=\"Helvetica,sans-Serif\" font-size=\"14.00\">class = 2</text>\n</g>\n<!-- 124&#45;&gt;125 -->\n<g id=\"edge125\" class=\"edge\">\n<title>124&#45;&gt;125</title>\n<path fill=\"none\" stroke=\"black\" d=\"M6610.21,-222.91C6604.95,-214.1 6599.32,-204.7 6593.88,-195.61\"/>\n<polygon fill=\"black\" stroke=\"black\" points=\"6596.88,-193.81 6588.74,-187.02 6590.87,-197.4 6596.88,-193.81\"/>\n</g>\n<!-- 128 -->\n<g id=\"node129\" class=\"node\">\n<title>128</title>\n<path fill=\"#3fa0e6\" stroke=\"black\" d=\"M6756,-187C6756,-187 6653,-187 6653,-187 6647,-187 6641,-181 6641,-175 6641,-175 6641,-116 6641,-116 6641,-110 6647,-104 6653,-104 6653,-104 6756,-104 6756,-104 6762,-104 6768,-110 6768,-116 6768,-116 6768,-175 6768,-175 6768,-181 6762,-187 6756,-187\"/>\n<text text-anchor=\"start\" x=\"6649\" y=\"-171.8\" font-family=\"Helvetica,sans-Serif\" font-size=\"14.00\">t1_towerKills ≤ 5.5</text>\n<text text-anchor=\"start\" x=\"6657\" y=\"-156.8\" font-family=\"Helvetica,sans-Serif\" font-size=\"14.00\">entropy = 0.194</text>\n<text text-anchor=\"start\" x=\"6659.5\" y=\"-141.8\" font-family=\"Helvetica,sans-Serif\" font-size=\"14.00\">samples = 134</text>\n<text text-anchor=\"start\" x=\"6657.5\" y=\"-126.8\" font-family=\"Helvetica,sans-Serif\" font-size=\"14.00\">value = [4, 130]</text>\n<text text-anchor=\"start\" x=\"6677\" y=\"-111.8\" font-family=\"Helvetica,sans-Serif\" font-size=\"14.00\">class = 2</text>\n</g>\n<!-- 124&#45;&gt;128 -->\n<g id=\"edge128\" class=\"edge\">\n<title>124&#45;&gt;128</title>\n<path fill=\"none\" stroke=\"black\" d=\"M6658.79,-222.91C6664.05,-214.1 6669.68,-204.7 6675.12,-195.61\"/>\n<polygon fill=\"black\" stroke=\"black\" points=\"6678.13,-197.4 6680.26,-187.02 6672.12,-193.81 6678.13,-197.4\"/>\n</g>\n<!-- 126 -->\n<g id=\"node127\" class=\"node\">\n<title>126</title>\n<path fill=\"#399de5\" stroke=\"black\" d=\"M6485.5,-68C6485.5,-68 6407.5,-68 6407.5,-68 6401.5,-68 6395.5,-62 6395.5,-56 6395.5,-56 6395.5,-12 6395.5,-12 6395.5,-6 6401.5,0 6407.5,0 6407.5,0 6485.5,0 6485.5,0 6491.5,0 6497.5,-6 6497.5,-12 6497.5,-12 6497.5,-56 6497.5,-56 6497.5,-62 6491.5,-68 6485.5,-68\"/>\n<text text-anchor=\"start\" x=\"6406.5\" y=\"-52.8\" font-family=\"Helvetica,sans-Serif\" font-size=\"14.00\">entropy = 0.0</text>\n<text text-anchor=\"start\" x=\"6405.5\" y=\"-37.8\" font-family=\"Helvetica,sans-Serif\" font-size=\"14.00\">samples = 14</text>\n<text text-anchor=\"start\" x=\"6403.5\" y=\"-22.8\" font-family=\"Helvetica,sans-Serif\" font-size=\"14.00\">value = [0, 14]</text>\n<text text-anchor=\"start\" x=\"6419\" y=\"-7.8\" font-family=\"Helvetica,sans-Serif\" font-size=\"14.00\">class = 2</text>\n</g>\n<!-- 125&#45;&gt;126 -->\n<g id=\"edge126\" class=\"edge\">\n<title>125&#45;&gt;126</title>\n<path fill=\"none\" stroke=\"black\" d=\"M6520.56,-103.73C6510.54,-94.42 6499.89,-84.54 6489.89,-75.26\"/>\n<polygon fill=\"black\" stroke=\"black\" points=\"6492.1,-72.54 6482.38,-68.3 6487.33,-77.67 6492.1,-72.54\"/>\n</g>\n<!-- 127 -->\n<g id=\"node128\" class=\"node\">\n<title>127</title>\n<path fill=\"#72b9ec\" stroke=\"black\" d=\"M6615,-68C6615,-68 6528,-68 6528,-68 6522,-68 6516,-62 6516,-56 6516,-56 6516,-12 6516,-12 6516,-6 6522,0 6528,0 6528,0 6615,0 6615,0 6621,0 6627,-6 6627,-12 6627,-12 6627,-56 6627,-56 6627,-62 6621,-68 6615,-68\"/>\n<text text-anchor=\"start\" x=\"6524\" y=\"-52.8\" font-family=\"Helvetica,sans-Serif\" font-size=\"14.00\">entropy = 0.764</text>\n<text text-anchor=\"start\" x=\"6530.5\" y=\"-37.8\" font-family=\"Helvetica,sans-Serif\" font-size=\"14.00\">samples = 27</text>\n<text text-anchor=\"start\" x=\"6528.5\" y=\"-22.8\" font-family=\"Helvetica,sans-Serif\" font-size=\"14.00\">value = [6, 21]</text>\n<text text-anchor=\"start\" x=\"6544\" y=\"-7.8\" font-family=\"Helvetica,sans-Serif\" font-size=\"14.00\">class = 2</text>\n</g>\n<!-- 125&#45;&gt;127 -->\n<g id=\"edge127\" class=\"edge\">\n<title>125&#45;&gt;127</title>\n<path fill=\"none\" stroke=\"black\" d=\"M6567.11,-103.73C6567.64,-95.43 6568.2,-86.67 6568.73,-78.28\"/>\n<polygon fill=\"black\" stroke=\"black\" points=\"6572.23,-78.5 6569.37,-68.3 6565.24,-78.06 6572.23,-78.5\"/>\n</g>\n<!-- 129 -->\n<g id=\"node130\" class=\"node\">\n<title>129</title>\n<path fill=\"#399de5\" stroke=\"black\" d=\"M6735.5,-68C6735.5,-68 6657.5,-68 6657.5,-68 6651.5,-68 6645.5,-62 6645.5,-56 6645.5,-56 6645.5,-12 6645.5,-12 6645.5,-6 6651.5,0 6657.5,0 6657.5,0 6735.5,0 6735.5,0 6741.5,0 6747.5,-6 6747.5,-12 6747.5,-12 6747.5,-56 6747.5,-56 6747.5,-62 6741.5,-68 6735.5,-68\"/>\n<text text-anchor=\"start\" x=\"6656.5\" y=\"-52.8\" font-family=\"Helvetica,sans-Serif\" font-size=\"14.00\">entropy = 0.0</text>\n<text text-anchor=\"start\" x=\"6655.5\" y=\"-37.8\" font-family=\"Helvetica,sans-Serif\" font-size=\"14.00\">samples = 65</text>\n<text text-anchor=\"start\" x=\"6653.5\" y=\"-22.8\" font-family=\"Helvetica,sans-Serif\" font-size=\"14.00\">value = [0, 65]</text>\n<text text-anchor=\"start\" x=\"6669\" y=\"-7.8\" font-family=\"Helvetica,sans-Serif\" font-size=\"14.00\">class = 2</text>\n</g>\n<!-- 128&#45;&gt;129 -->\n<g id=\"edge129\" class=\"edge\">\n<title>128&#45;&gt;129</title>\n<path fill=\"none\" stroke=\"black\" d=\"M6701.52,-103.73C6700.91,-95.43 6700.27,-86.67 6699.66,-78.28\"/>\n<polygon fill=\"black\" stroke=\"black\" points=\"6703.15,-78.02 6698.93,-68.3 6696.17,-78.53 6703.15,-78.02\"/>\n</g>\n<!-- 130 -->\n<g id=\"node131\" class=\"node\">\n<title>130</title>\n<path fill=\"#45a3e7\" stroke=\"black\" d=\"M6865,-68C6865,-68 6778,-68 6778,-68 6772,-68 6766,-62 6766,-56 6766,-56 6766,-12 6766,-12 6766,-6 6772,0 6778,0 6778,0 6865,0 6865,0 6871,0 6877,-6 6877,-12 6877,-12 6877,-56 6877,-56 6877,-62 6871,-68 6865,-68\"/>\n<text text-anchor=\"start\" x=\"6774\" y=\"-52.8\" font-family=\"Helvetica,sans-Serif\" font-size=\"14.00\">entropy = 0.319</text>\n<text text-anchor=\"start\" x=\"6780.5\" y=\"-37.8\" font-family=\"Helvetica,sans-Serif\" font-size=\"14.00\">samples = 69</text>\n<text text-anchor=\"start\" x=\"6778.5\" y=\"-22.8\" font-family=\"Helvetica,sans-Serif\" font-size=\"14.00\">value = [4, 65]</text>\n<text text-anchor=\"start\" x=\"6794\" y=\"-7.8\" font-family=\"Helvetica,sans-Serif\" font-size=\"14.00\">class = 2</text>\n</g>\n<!-- 128&#45;&gt;130 -->\n<g id=\"edge130\" class=\"edge\">\n<title>128&#45;&gt;130</title>\n<path fill=\"none\" stroke=\"black\" d=\"M6748.07,-103.73C6758.01,-94.42 6768.56,-84.54 6778.48,-75.26\"/>\n<polygon fill=\"black\" stroke=\"black\" points=\"6781.01,-77.69 6785.92,-68.3 6776.23,-72.58 6781.01,-77.69\"/>\n</g>\n<!-- 132 -->\n<g id=\"node133\" class=\"node\">\n<title>132</title>\n<path fill=\"#f1b991\" stroke=\"black\" d=\"M7054.5,-187C7054.5,-187 6950.5,-187 6950.5,-187 6944.5,-187 6938.5,-181 6938.5,-175 6938.5,-175 6938.5,-116 6938.5,-116 6938.5,-110 6944.5,-104 6950.5,-104 6950.5,-104 7054.5,-104 7054.5,-104 7060.5,-104 7066.5,-110 7066.5,-116 7066.5,-116 7066.5,-175 7066.5,-175 7066.5,-181 7060.5,-187 7054.5,-187\"/>\n<text text-anchor=\"start\" x=\"6946.5\" y=\"-171.8\" font-family=\"Helvetica,sans-Serif\" font-size=\"14.00\">t2_baronKills ≤ 0.5</text>\n<text text-anchor=\"start\" x=\"6958.5\" y=\"-156.8\" font-family=\"Helvetica,sans-Serif\" font-size=\"14.00\">entropy = 0.89</text>\n<text text-anchor=\"start\" x=\"6961.5\" y=\"-141.8\" font-family=\"Helvetica,sans-Serif\" font-size=\"14.00\">samples = 26</text>\n<text text-anchor=\"start\" x=\"6959.5\" y=\"-126.8\" font-family=\"Helvetica,sans-Serif\" font-size=\"14.00\">value = [18, 8]</text>\n<text text-anchor=\"start\" x=\"6975\" y=\"-111.8\" font-family=\"Helvetica,sans-Serif\" font-size=\"14.00\">class = 1</text>\n</g>\n<!-- 131&#45;&gt;132 -->\n<g id=\"edge132\" class=\"edge\">\n<title>131&#45;&gt;132</title>\n<path fill=\"none\" stroke=\"black\" d=\"M7002.5,-222.91C7002.5,-214.65 7002.5,-205.86 7002.5,-197.3\"/>\n<polygon fill=\"black\" stroke=\"black\" points=\"7006,-197.02 7002.5,-187.02 6999,-197.02 7006,-197.02\"/>\n</g>\n<!-- 135 -->\n<g id=\"node136\" class=\"node\">\n<title>135</title>\n<path fill=\"#63b2eb\" stroke=\"black\" d=\"M7241,-187C7241,-187 7148,-187 7148,-187 7142,-187 7136,-181 7136,-175 7136,-175 7136,-116 7136,-116 7136,-110 7142,-104 7148,-104 7148,-104 7241,-104 7241,-104 7247,-104 7253,-110 7253,-116 7253,-116 7253,-175 7253,-175 7253,-181 7247,-187 7241,-187\"/>\n<text text-anchor=\"start\" x=\"7148.5\" y=\"-171.8\" font-family=\"Helvetica,sans-Serif\" font-size=\"14.00\">firstTower ≤ 1.5</text>\n<text text-anchor=\"start\" x=\"7150.5\" y=\"-156.8\" font-family=\"Helvetica,sans-Serif\" font-size=\"14.00\">entropy = 0.67</text>\n<text text-anchor=\"start\" x=\"7149.5\" y=\"-141.8\" font-family=\"Helvetica,sans-Serif\" font-size=\"14.00\">samples = 131</text>\n<text text-anchor=\"start\" x=\"7144\" y=\"-126.8\" font-family=\"Helvetica,sans-Serif\" font-size=\"14.00\">value = [23, 108]</text>\n<text text-anchor=\"start\" x=\"7167\" y=\"-111.8\" font-family=\"Helvetica,sans-Serif\" font-size=\"14.00\">class = 2</text>\n</g>\n<!-- 131&#45;&gt;135 -->\n<g id=\"edge135\" class=\"edge\">\n<title>131&#45;&gt;135</title>\n<path fill=\"none\" stroke=\"black\" d=\"M7069.11,-222.91C7087.81,-211.51 7108.16,-199.11 7126.92,-187.68\"/>\n<polygon fill=\"black\" stroke=\"black\" points=\"7128.98,-190.53 7135.7,-182.33 7125.33,-184.55 7128.98,-190.53\"/>\n</g>\n<!-- 133 -->\n<g id=\"node134\" class=\"node\">\n<title>133</title>\n<path fill=\"#f8ddc9\" stroke=\"black\" d=\"M6994,-68C6994,-68 6907,-68 6907,-68 6901,-68 6895,-62 6895,-56 6895,-56 6895,-12 6895,-12 6895,-6 6901,0 6907,0 6907,0 6994,0 6994,0 7000,0 7006,-6 7006,-12 7006,-12 7006,-56 7006,-56 7006,-62 7000,-68 6994,-68\"/>\n<text text-anchor=\"start\" x=\"6903\" y=\"-52.8\" font-family=\"Helvetica,sans-Serif\" font-size=\"14.00\">entropy = 0.982</text>\n<text text-anchor=\"start\" x=\"6909.5\" y=\"-37.8\" font-family=\"Helvetica,sans-Serif\" font-size=\"14.00\">samples = 19</text>\n<text text-anchor=\"start\" x=\"6907.5\" y=\"-22.8\" font-family=\"Helvetica,sans-Serif\" font-size=\"14.00\">value = [11, 8]</text>\n<text text-anchor=\"start\" x=\"6923\" y=\"-7.8\" font-family=\"Helvetica,sans-Serif\" font-size=\"14.00\">class = 1</text>\n</g>\n<!-- 132&#45;&gt;133 -->\n<g id=\"edge133\" class=\"edge\">\n<title>132&#45;&gt;133</title>\n<path fill=\"none\" stroke=\"black\" d=\"M6983.14,-103.73C6979.07,-95.15 6974.76,-86.09 6970.66,-77.46\"/>\n<polygon fill=\"black\" stroke=\"black\" points=\"6973.76,-75.83 6966.31,-68.3 6967.44,-78.83 6973.76,-75.83\"/>\n</g>\n<!-- 134 -->\n<g id=\"node135\" class=\"node\">\n<title>134</title>\n<path fill=\"#e58139\" stroke=\"black\" d=\"M7108.5,-68C7108.5,-68 7036.5,-68 7036.5,-68 7030.5,-68 7024.5,-62 7024.5,-56 7024.5,-56 7024.5,-12 7024.5,-12 7024.5,-6 7030.5,0 7036.5,0 7036.5,0 7108.5,0 7108.5,0 7114.5,0 7120.5,-6 7120.5,-12 7120.5,-12 7120.5,-56 7120.5,-56 7120.5,-62 7114.5,-68 7108.5,-68\"/>\n<text text-anchor=\"start\" x=\"7032.5\" y=\"-52.8\" font-family=\"Helvetica,sans-Serif\" font-size=\"14.00\">entropy = 0.0</text>\n<text text-anchor=\"start\" x=\"7035\" y=\"-37.8\" font-family=\"Helvetica,sans-Serif\" font-size=\"14.00\">samples = 7</text>\n<text text-anchor=\"start\" x=\"7033\" y=\"-22.8\" font-family=\"Helvetica,sans-Serif\" font-size=\"14.00\">value = [7, 0]</text>\n<text text-anchor=\"start\" x=\"7045\" y=\"-7.8\" font-family=\"Helvetica,sans-Serif\" font-size=\"14.00\">class = 1</text>\n</g>\n<!-- 132&#45;&gt;134 -->\n<g id=\"edge134\" class=\"edge\">\n<title>132&#45;&gt;134</title>\n<path fill=\"none\" stroke=\"black\" d=\"M7028.57,-103.73C7034.16,-94.97 7040.09,-85.7 7045.71,-76.91\"/>\n<polygon fill=\"black\" stroke=\"black\" points=\"7048.78,-78.61 7051.21,-68.3 7042.88,-74.84 7048.78,-78.61\"/>\n</g>\n<!-- 136 -->\n<g id=\"node137\" class=\"node\">\n<title>136</title>\n<path fill=\"#3e9fe6\" stroke=\"black\" d=\"M7238,-68C7238,-68 7151,-68 7151,-68 7145,-68 7139,-62 7139,-56 7139,-56 7139,-12 7139,-12 7139,-6 7145,0 7151,0 7151,0 7238,0 7238,0 7244,0 7250,-6 7250,-12 7250,-12 7250,-56 7250,-56 7250,-62 7244,-68 7238,-68\"/>\n<text text-anchor=\"start\" x=\"7147\" y=\"-52.8\" font-family=\"Helvetica,sans-Serif\" font-size=\"14.00\">entropy = 0.162</text>\n<text text-anchor=\"start\" x=\"7153.5\" y=\"-37.8\" font-family=\"Helvetica,sans-Serif\" font-size=\"14.00\">samples = 42</text>\n<text text-anchor=\"start\" x=\"7151.5\" y=\"-22.8\" font-family=\"Helvetica,sans-Serif\" font-size=\"14.00\">value = [1, 41]</text>\n<text text-anchor=\"start\" x=\"7167\" y=\"-7.8\" font-family=\"Helvetica,sans-Serif\" font-size=\"14.00\">class = 2</text>\n</g>\n<!-- 135&#45;&gt;136 -->\n<g id=\"edge136\" class=\"edge\">\n<title>135&#45;&gt;136</title>\n<path fill=\"none\" stroke=\"black\" d=\"M7194.5,-103.73C7194.5,-95.52 7194.5,-86.86 7194.5,-78.56\"/>\n<polygon fill=\"black\" stroke=\"black\" points=\"7198,-78.3 7194.5,-68.3 7191,-78.3 7198,-78.3\"/>\n</g>\n<!-- 137 -->\n<g id=\"node138\" class=\"node\">\n<title>137</title>\n<path fill=\"#7abdee\" stroke=\"black\" d=\"M7367,-68C7367,-68 7280,-68 7280,-68 7274,-68 7268,-62 7268,-56 7268,-56 7268,-12 7268,-12 7268,-6 7274,0 7280,0 7280,0 7367,0 7367,0 7373,0 7379,-6 7379,-12 7379,-12 7379,-56 7379,-56 7379,-62 7373,-68 7367,-68\"/>\n<text text-anchor=\"start\" x=\"7276\" y=\"-52.8\" font-family=\"Helvetica,sans-Serif\" font-size=\"14.00\">entropy = 0.807</text>\n<text text-anchor=\"start\" x=\"7282.5\" y=\"-37.8\" font-family=\"Helvetica,sans-Serif\" font-size=\"14.00\">samples = 89</text>\n<text text-anchor=\"start\" x=\"7276.5\" y=\"-22.8\" font-family=\"Helvetica,sans-Serif\" font-size=\"14.00\">value = [22, 67]</text>\n<text text-anchor=\"start\" x=\"7296\" y=\"-7.8\" font-family=\"Helvetica,sans-Serif\" font-size=\"14.00\">class = 2</text>\n</g>\n<!-- 135&#45;&gt;137 -->\n<g id=\"edge137\" class=\"edge\">\n<title>135&#45;&gt;137</title>\n<path fill=\"none\" stroke=\"black\" d=\"M7242.53,-103.73C7253.6,-94.33 7265.36,-84.35 7276.39,-74.99\"/>\n<polygon fill=\"black\" stroke=\"black\" points=\"7278.91,-77.44 7284.27,-68.3 7274.38,-72.1 7278.91,-77.44\"/>\n</g>\n<!-- 139 -->\n<g id=\"node140\" class=\"node\">\n<title>139</title>\n<path fill=\"#9acdf2\" stroke=\"black\" d=\"M7846,-544C7846,-544 7729,-544 7729,-544 7723,-544 7717,-538 7717,-532 7717,-532 7717,-473 7717,-473 7717,-467 7723,-461 7729,-461 7729,-461 7846,-461 7846,-461 7852,-461 7858,-467 7858,-473 7858,-473 7858,-532 7858,-532 7858,-538 7852,-544 7846,-544\"/>\n<text text-anchor=\"start\" x=\"7725\" y=\"-528.8\" font-family=\"Helvetica,sans-Serif\" font-size=\"14.00\">t1_inhibitorKills ≤ 0.5</text>\n<text text-anchor=\"start\" x=\"7740\" y=\"-513.8\" font-family=\"Helvetica,sans-Serif\" font-size=\"14.00\">entropy = 0.915</text>\n<text text-anchor=\"start\" x=\"7739\" y=\"-498.8\" font-family=\"Helvetica,sans-Serif\" font-size=\"14.00\">samples = 1546</text>\n<text text-anchor=\"start\" x=\"7729.5\" y=\"-483.8\" font-family=\"Helvetica,sans-Serif\" font-size=\"14.00\">value = [510, 1036]</text>\n<text text-anchor=\"start\" x=\"7760\" y=\"-468.8\" font-family=\"Helvetica,sans-Serif\" font-size=\"14.00\">class = 2</text>\n</g>\n<!-- 138&#45;&gt;139 -->\n<g id=\"edge139\" class=\"edge\">\n<title>138&#45;&gt;139</title>\n<path fill=\"none\" stroke=\"black\" d=\"M7787.5,-579.91C7787.5,-571.65 7787.5,-562.86 7787.5,-554.3\"/>\n<polygon fill=\"black\" stroke=\"black\" points=\"7791,-554.02 7787.5,-544.02 7784,-554.02 7791,-554.02\"/>\n</g>\n<!-- 162 -->\n<g id=\"node163\" class=\"node\">\n<title>162</title>\n<path fill=\"#f1b991\" stroke=\"black\" d=\"M9094,-544C9094,-544 8993,-544 8993,-544 8987,-544 8981,-538 8981,-532 8981,-532 8981,-473 8981,-473 8981,-467 8987,-461 8993,-461 8993,-461 9094,-461 9094,-461 9100,-461 9106,-467 9106,-473 9106,-473 9106,-532 9106,-532 9106,-538 9100,-544 9094,-544\"/>\n<text text-anchor=\"start\" x=\"8991.5\" y=\"-528.8\" font-family=\"Helvetica,sans-Serif\" font-size=\"14.00\">firstInhibitor ≤ 1.5</text>\n<text text-anchor=\"start\" x=\"8996\" y=\"-513.8\" font-family=\"Helvetica,sans-Serif\" font-size=\"14.00\">entropy = 0.891</text>\n<text text-anchor=\"start\" x=\"8995\" y=\"-498.8\" font-family=\"Helvetica,sans-Serif\" font-size=\"14.00\">samples = 1112</text>\n<text text-anchor=\"start\" x=\"8989\" y=\"-483.8\" font-family=\"Helvetica,sans-Serif\" font-size=\"14.00\">value = [769, 343]</text>\n<text text-anchor=\"start\" x=\"9016\" y=\"-468.8\" font-family=\"Helvetica,sans-Serif\" font-size=\"14.00\">class = 1</text>\n</g>\n<!-- 138&#45;&gt;162 -->\n<g id=\"edge162\" class=\"edge\">\n<title>138&#45;&gt;162</title>\n<path fill=\"none\" stroke=\"black\" d=\"M7868.94,-612.91C8099.04,-591.48 8751.46,-530.7 8970.65,-510.29\"/>\n<polygon fill=\"black\" stroke=\"black\" points=\"8971.12,-513.76 8980.75,-509.34 8970.47,-506.79 8971.12,-513.76\"/>\n</g>\n<!-- 140 -->\n<g id=\"node141\" class=\"node\">\n<title>140</title>\n<path fill=\"#3c9ee5\" stroke=\"black\" d=\"M7766.5,-425C7766.5,-425 7654.5,-425 7654.5,-425 7648.5,-425 7642.5,-419 7642.5,-413 7642.5,-413 7642.5,-354 7642.5,-354 7642.5,-348 7648.5,-342 7654.5,-342 7654.5,-342 7766.5,-342 7766.5,-342 7772.5,-342 7778.5,-348 7778.5,-354 7778.5,-354 7778.5,-413 7778.5,-413 7778.5,-419 7772.5,-425 7766.5,-425\"/>\n<text text-anchor=\"start\" x=\"7650.5\" y=\"-409.8\" font-family=\"Helvetica,sans-Serif\" font-size=\"14.00\">t1_dragonKills ≤ 2.5</text>\n<text text-anchor=\"start\" x=\"7663\" y=\"-394.8\" font-family=\"Helvetica,sans-Serif\" font-size=\"14.00\">entropy = 0.104</text>\n<text text-anchor=\"start\" x=\"7665.5\" y=\"-379.8\" font-family=\"Helvetica,sans-Serif\" font-size=\"14.00\">samples = 221</text>\n<text text-anchor=\"start\" x=\"7663.5\" y=\"-364.8\" font-family=\"Helvetica,sans-Serif\" font-size=\"14.00\">value = [3, 218]</text>\n<text text-anchor=\"start\" x=\"7683\" y=\"-349.8\" font-family=\"Helvetica,sans-Serif\" font-size=\"14.00\">class = 2</text>\n</g>\n<!-- 139&#45;&gt;140 -->\n<g id=\"edge140\" class=\"edge\">\n<title>139&#45;&gt;140</title>\n<path fill=\"none\" stroke=\"black\" d=\"M7760.79,-460.91C7754.99,-452.1 7748.8,-442.7 7742.82,-433.61\"/>\n<polygon fill=\"black\" stroke=\"black\" points=\"7745.59,-431.45 7737.17,-425.02 7739.74,-435.3 7745.59,-431.45\"/>\n</g>\n<!-- 147 -->\n<g id=\"node148\" class=\"node\">\n<title>147</title>\n<path fill=\"#b4daf5\" stroke=\"black\" d=\"M7972,-425C7972,-425 7871,-425 7871,-425 7865,-425 7859,-419 7859,-413 7859,-413 7859,-354 7859,-354 7859,-348 7865,-342 7871,-342 7871,-342 7972,-342 7972,-342 7978,-342 7984,-348 7984,-354 7984,-354 7984,-413 7984,-413 7984,-419 7978,-425 7972,-425\"/>\n<text text-anchor=\"start\" x=\"7869.5\" y=\"-409.8\" font-family=\"Helvetica,sans-Serif\" font-size=\"14.00\">firstInhibitor ≤ 1.5</text>\n<text text-anchor=\"start\" x=\"7877.5\" y=\"-394.8\" font-family=\"Helvetica,sans-Serif\" font-size=\"14.00\">entropy = 0.96</text>\n<text text-anchor=\"start\" x=\"7873\" y=\"-379.8\" font-family=\"Helvetica,sans-Serif\" font-size=\"14.00\">samples = 1325</text>\n<text text-anchor=\"start\" x=\"7867\" y=\"-364.8\" font-family=\"Helvetica,sans-Serif\" font-size=\"14.00\">value = [507, 818]</text>\n<text text-anchor=\"start\" x=\"7894\" y=\"-349.8\" font-family=\"Helvetica,sans-Serif\" font-size=\"14.00\">class = 2</text>\n</g>\n<!-- 139&#45;&gt;147 -->\n<g id=\"edge147\" class=\"edge\">\n<title>139&#45;&gt;147</title>\n<path fill=\"none\" stroke=\"black\" d=\"M7833.99,-460.91C7844.8,-451.47 7856.4,-441.34 7867.5,-431.65\"/>\n<polygon fill=\"black\" stroke=\"black\" points=\"7869.86,-434.23 7875.09,-425.02 7865.26,-428.96 7869.86,-434.23\"/>\n</g>\n<!-- 141 -->\n<g id=\"node142\" class=\"node\">\n<title>141</title>\n<path fill=\"#399de5\" stroke=\"black\" d=\"M7616.5,-298.5C7616.5,-298.5 7530.5,-298.5 7530.5,-298.5 7524.5,-298.5 7518.5,-292.5 7518.5,-286.5 7518.5,-286.5 7518.5,-242.5 7518.5,-242.5 7518.5,-236.5 7524.5,-230.5 7530.5,-230.5 7530.5,-230.5 7616.5,-230.5 7616.5,-230.5 7622.5,-230.5 7628.5,-236.5 7628.5,-242.5 7628.5,-242.5 7628.5,-286.5 7628.5,-286.5 7628.5,-292.5 7622.5,-298.5 7616.5,-298.5\"/>\n<text text-anchor=\"start\" x=\"7533.5\" y=\"-283.3\" font-family=\"Helvetica,sans-Serif\" font-size=\"14.00\">entropy = 0.0</text>\n<text text-anchor=\"start\" x=\"7528.5\" y=\"-268.3\" font-family=\"Helvetica,sans-Serif\" font-size=\"14.00\">samples = 147</text>\n<text text-anchor=\"start\" x=\"7526.5\" y=\"-253.3\" font-family=\"Helvetica,sans-Serif\" font-size=\"14.00\">value = [0, 147]</text>\n<text text-anchor=\"start\" x=\"7546\" y=\"-238.3\" font-family=\"Helvetica,sans-Serif\" font-size=\"14.00\">class = 2</text>\n</g>\n<!-- 140&#45;&gt;141 -->\n<g id=\"edge141\" class=\"edge\">\n<title>140&#45;&gt;141</title>\n<path fill=\"none\" stroke=\"black\" d=\"M7662.97,-341.91C7649.14,-330.1 7634.06,-317.22 7620.28,-305.45\"/>\n<polygon fill=\"black\" stroke=\"black\" points=\"7622.21,-302.5 7612.34,-298.67 7617.67,-307.82 7622.21,-302.5\"/>\n</g>\n<!-- 142 -->\n<g id=\"node143\" class=\"node\">\n<title>142</title>\n<path fill=\"#41a1e6\" stroke=\"black\" d=\"M7762,-306C7762,-306 7659,-306 7659,-306 7653,-306 7647,-300 7647,-294 7647,-294 7647,-235 7647,-235 7647,-229 7653,-223 7659,-223 7659,-223 7762,-223 7762,-223 7768,-223 7774,-229 7774,-235 7774,-235 7774,-294 7774,-294 7774,-300 7768,-306 7762,-306\"/>\n<text text-anchor=\"start\" x=\"7655\" y=\"-290.8\" font-family=\"Helvetica,sans-Serif\" font-size=\"14.00\">t2_towerKills ≤ 8.5</text>\n<text text-anchor=\"start\" x=\"7663\" y=\"-275.8\" font-family=\"Helvetica,sans-Serif\" font-size=\"14.00\">entropy = 0.245</text>\n<text text-anchor=\"start\" x=\"7669.5\" y=\"-260.8\" font-family=\"Helvetica,sans-Serif\" font-size=\"14.00\">samples = 74</text>\n<text text-anchor=\"start\" x=\"7667.5\" y=\"-245.8\" font-family=\"Helvetica,sans-Serif\" font-size=\"14.00\">value = [3, 71]</text>\n<text text-anchor=\"start\" x=\"7683\" y=\"-230.8\" font-family=\"Helvetica,sans-Serif\" font-size=\"14.00\">class = 2</text>\n</g>\n<!-- 140&#45;&gt;142 -->\n<g id=\"edge142\" class=\"edge\">\n<title>140&#45;&gt;142</title>\n<path fill=\"none\" stroke=\"black\" d=\"M7710.5,-341.91C7710.5,-333.65 7710.5,-324.86 7710.5,-316.3\"/>\n<polygon fill=\"black\" stroke=\"black\" points=\"7714,-316.02 7710.5,-306.02 7707,-316.02 7714,-316.02\"/>\n</g>\n<!-- 143 -->\n<g id=\"node144\" class=\"node\">\n<title>143</title>\n<path fill=\"#4aa6e7\" stroke=\"black\" d=\"M7629,-187C7629,-187 7512,-187 7512,-187 7506,-187 7500,-181 7500,-175 7500,-175 7500,-116 7500,-116 7500,-110 7506,-104 7512,-104 7512,-104 7629,-104 7629,-104 7635,-104 7641,-110 7641,-116 7641,-116 7641,-175 7641,-175 7641,-181 7635,-187 7629,-187\"/>\n<text text-anchor=\"start\" x=\"7508\" y=\"-171.8\" font-family=\"Helvetica,sans-Serif\" font-size=\"14.00\">t2_inhibitorKills ≤ 2.5</text>\n<text text-anchor=\"start\" x=\"7523\" y=\"-156.8\" font-family=\"Helvetica,sans-Serif\" font-size=\"14.00\">entropy = 0.406</text>\n<text text-anchor=\"start\" x=\"7529.5\" y=\"-141.8\" font-family=\"Helvetica,sans-Serif\" font-size=\"14.00\">samples = 37</text>\n<text text-anchor=\"start\" x=\"7527.5\" y=\"-126.8\" font-family=\"Helvetica,sans-Serif\" font-size=\"14.00\">value = [3, 34]</text>\n<text text-anchor=\"start\" x=\"7543\" y=\"-111.8\" font-family=\"Helvetica,sans-Serif\" font-size=\"14.00\">class = 2</text>\n</g>\n<!-- 142&#45;&gt;143 -->\n<g id=\"edge143\" class=\"edge\">\n<title>142&#45;&gt;143</title>\n<path fill=\"none\" stroke=\"black\" d=\"M7661.93,-222.91C7650.63,-213.47 7638.52,-203.34 7626.92,-193.65\"/>\n<polygon fill=\"black\" stroke=\"black\" points=\"7628.9,-190.75 7618.99,-187.02 7624.42,-196.12 7628.9,-190.75\"/>\n</g>\n<!-- 146 -->\n<g id=\"node147\" class=\"node\">\n<title>146</title>\n<path fill=\"#399de5\" stroke=\"black\" d=\"M7749.5,-179.5C7749.5,-179.5 7671.5,-179.5 7671.5,-179.5 7665.5,-179.5 7659.5,-173.5 7659.5,-167.5 7659.5,-167.5 7659.5,-123.5 7659.5,-123.5 7659.5,-117.5 7665.5,-111.5 7671.5,-111.5 7671.5,-111.5 7749.5,-111.5 7749.5,-111.5 7755.5,-111.5 7761.5,-117.5 7761.5,-123.5 7761.5,-123.5 7761.5,-167.5 7761.5,-167.5 7761.5,-173.5 7755.5,-179.5 7749.5,-179.5\"/>\n<text text-anchor=\"start\" x=\"7670.5\" y=\"-164.3\" font-family=\"Helvetica,sans-Serif\" font-size=\"14.00\">entropy = 0.0</text>\n<text text-anchor=\"start\" x=\"7669.5\" y=\"-149.3\" font-family=\"Helvetica,sans-Serif\" font-size=\"14.00\">samples = 37</text>\n<text text-anchor=\"start\" x=\"7667.5\" y=\"-134.3\" font-family=\"Helvetica,sans-Serif\" font-size=\"14.00\">value = [0, 37]</text>\n<text text-anchor=\"start\" x=\"7683\" y=\"-119.3\" font-family=\"Helvetica,sans-Serif\" font-size=\"14.00\">class = 2</text>\n</g>\n<!-- 142&#45;&gt;146 -->\n<g id=\"edge146\" class=\"edge\">\n<title>142&#45;&gt;146</title>\n<path fill=\"none\" stroke=\"black\" d=\"M7710.5,-222.91C7710.5,-212.2 7710.5,-200.62 7710.5,-189.78\"/>\n<polygon fill=\"black\" stroke=\"black\" points=\"7714,-189.67 7710.5,-179.67 7707,-189.67 7714,-189.67\"/>\n</g>\n<!-- 144 -->\n<g id=\"node145\" class=\"node\">\n<title>144</title>\n<path fill=\"#3fa0e6\" stroke=\"black\" d=\"M7496,-68C7496,-68 7409,-68 7409,-68 7403,-68 7397,-62 7397,-56 7397,-56 7397,-12 7397,-12 7397,-6 7403,0 7409,0 7409,0 7496,0 7496,0 7502,0 7508,-6 7508,-12 7508,-12 7508,-56 7508,-56 7508,-62 7502,-68 7496,-68\"/>\n<text text-anchor=\"start\" x=\"7405\" y=\"-52.8\" font-family=\"Helvetica,sans-Serif\" font-size=\"14.00\">entropy = 0.191</text>\n<text text-anchor=\"start\" x=\"7411.5\" y=\"-37.8\" font-family=\"Helvetica,sans-Serif\" font-size=\"14.00\">samples = 34</text>\n<text text-anchor=\"start\" x=\"7409.5\" y=\"-22.8\" font-family=\"Helvetica,sans-Serif\" font-size=\"14.00\">value = [1, 33]</text>\n<text text-anchor=\"start\" x=\"7425\" y=\"-7.8\" font-family=\"Helvetica,sans-Serif\" font-size=\"14.00\">class = 2</text>\n</g>\n<!-- 143&#45;&gt;144 -->\n<g id=\"edge144\" class=\"edge\">\n<title>143&#45;&gt;144</title>\n<path fill=\"none\" stroke=\"black\" d=\"M7526.56,-103.73C7516.54,-94.42 7505.89,-84.54 7495.89,-75.26\"/>\n<polygon fill=\"black\" stroke=\"black\" points=\"7498.1,-72.54 7488.38,-68.3 7493.33,-77.67 7498.1,-72.54\"/>\n</g>\n<!-- 145 -->\n<g id=\"node146\" class=\"node\">\n<title>145</title>\n<path fill=\"#f2c09c\" stroke=\"black\" d=\"M7625,-68C7625,-68 7538,-68 7538,-68 7532,-68 7526,-62 7526,-56 7526,-56 7526,-12 7526,-12 7526,-6 7532,0 7538,0 7538,0 7625,0 7625,0 7631,0 7637,-6 7637,-12 7637,-12 7637,-56 7637,-56 7637,-62 7631,-68 7625,-68\"/>\n<text text-anchor=\"start\" x=\"7534\" y=\"-52.8\" font-family=\"Helvetica,sans-Serif\" font-size=\"14.00\">entropy = 0.918</text>\n<text text-anchor=\"start\" x=\"7544\" y=\"-37.8\" font-family=\"Helvetica,sans-Serif\" font-size=\"14.00\">samples = 3</text>\n<text text-anchor=\"start\" x=\"7542\" y=\"-22.8\" font-family=\"Helvetica,sans-Serif\" font-size=\"14.00\">value = [2, 1]</text>\n<text text-anchor=\"start\" x=\"7554\" y=\"-7.8\" font-family=\"Helvetica,sans-Serif\" font-size=\"14.00\">class = 1</text>\n</g>\n<!-- 143&#45;&gt;145 -->\n<g id=\"edge145\" class=\"edge\">\n<title>143&#45;&gt;145</title>\n<path fill=\"none\" stroke=\"black\" d=\"M7574.6,-103.73C7575.43,-95.43 7576.31,-86.67 7577.15,-78.28\"/>\n<polygon fill=\"black\" stroke=\"black\" points=\"7580.64,-78.6 7578.15,-68.3 7573.67,-77.9 7580.64,-78.6\"/>\n</g>\n<!-- 148 -->\n<g id=\"node149\" class=\"node\">\n<title>148</title>\n<path fill=\"#68b4eb\" stroke=\"black\" d=\"M7980,-306C7980,-306 7863,-306 7863,-306 7857,-306 7851,-300 7851,-294 7851,-294 7851,-235 7851,-235 7851,-229 7857,-223 7863,-223 7863,-223 7980,-223 7980,-223 7986,-223 7992,-229 7992,-235 7992,-235 7992,-294 7992,-294 7992,-300 7986,-306 7980,-306\"/>\n<text text-anchor=\"start\" x=\"7859\" y=\"-290.8\" font-family=\"Helvetica,sans-Serif\" font-size=\"14.00\">t2_inhibitorKills ≤ 0.5</text>\n<text text-anchor=\"start\" x=\"7874\" y=\"-275.8\" font-family=\"Helvetica,sans-Serif\" font-size=\"14.00\">entropy = 0.708</text>\n<text text-anchor=\"start\" x=\"7876.5\" y=\"-260.8\" font-family=\"Helvetica,sans-Serif\" font-size=\"14.00\">samples = 740</text>\n<text text-anchor=\"start\" x=\"7867\" y=\"-245.8\" font-family=\"Helvetica,sans-Serif\" font-size=\"14.00\">value = [143, 597]</text>\n<text text-anchor=\"start\" x=\"7894\" y=\"-230.8\" font-family=\"Helvetica,sans-Serif\" font-size=\"14.00\">class = 2</text>\n</g>\n<!-- 147&#45;&gt;148 -->\n<g id=\"edge148\" class=\"edge\">\n<title>147&#45;&gt;148</title>\n<path fill=\"none\" stroke=\"black\" d=\"M7921.5,-341.91C7921.5,-333.65 7921.5,-324.86 7921.5,-316.3\"/>\n<polygon fill=\"black\" stroke=\"black\" points=\"7925,-316.02 7921.5,-306.02 7918,-316.02 7925,-316.02\"/>\n</g>\n<!-- 155 -->\n<g id=\"node156\" class=\"node\">\n<title>155</title>\n<path fill=\"#f5ceb1\" stroke=\"black\" d=\"M8383,-306C8383,-306 8280,-306 8280,-306 8274,-306 8268,-300 8268,-294 8268,-294 8268,-235 8268,-235 8268,-229 8274,-223 8280,-223 8280,-223 8383,-223 8383,-223 8389,-223 8395,-229 8395,-235 8395,-235 8395,-294 8395,-294 8395,-300 8389,-306 8383,-306\"/>\n<text text-anchor=\"start\" x=\"8276\" y=\"-290.8\" font-family=\"Helvetica,sans-Serif\" font-size=\"14.00\">t2_towerKills ≤ 8.5</text>\n<text text-anchor=\"start\" x=\"8284\" y=\"-275.8\" font-family=\"Helvetica,sans-Serif\" font-size=\"14.00\">entropy = 0.956</text>\n<text text-anchor=\"start\" x=\"8286.5\" y=\"-260.8\" font-family=\"Helvetica,sans-Serif\" font-size=\"14.00\">samples = 585</text>\n<text text-anchor=\"start\" x=\"8277\" y=\"-245.8\" font-family=\"Helvetica,sans-Serif\" font-size=\"14.00\">value = [364, 221]</text>\n<text text-anchor=\"start\" x=\"8304\" y=\"-230.8\" font-family=\"Helvetica,sans-Serif\" font-size=\"14.00\">class = 1</text>\n</g>\n<!-- 147&#45;&gt;155 -->\n<g id=\"edge155\" class=\"edge\">\n<title>147&#45;&gt;155</title>\n<path fill=\"none\" stroke=\"black\" d=\"M7984.22,-364.6C8057.9,-343.58 8179.96,-308.74 8258.01,-286.47\"/>\n<polygon fill=\"black\" stroke=\"black\" points=\"8259.12,-289.79 8267.78,-283.68 8257.2,-283.06 8259.12,-289.79\"/>\n</g>\n<!-- 149 -->\n<g id=\"node150\" class=\"node\">\n<title>149</title>\n<path fill=\"#e6843e\" stroke=\"black\" d=\"M7879,-187C7879,-187 7792,-187 7792,-187 7786,-187 7780,-181 7780,-175 7780,-175 7780,-116 7780,-116 7780,-110 7786,-104 7792,-104 7792,-104 7879,-104 7879,-104 7885,-104 7891,-110 7891,-116 7891,-116 7891,-175 7891,-175 7891,-181 7885,-187 7879,-187\"/>\n<text text-anchor=\"start\" x=\"7789.5\" y=\"-171.8\" font-family=\"Helvetica,sans-Serif\" font-size=\"14.00\">firstTower ≤ 1.5</text>\n<text text-anchor=\"start\" x=\"7788\" y=\"-156.8\" font-family=\"Helvetica,sans-Serif\" font-size=\"14.00\">entropy = 0.176</text>\n<text text-anchor=\"start\" x=\"7794.5\" y=\"-141.8\" font-family=\"Helvetica,sans-Serif\" font-size=\"14.00\">samples = 76</text>\n<text text-anchor=\"start\" x=\"7792.5\" y=\"-126.8\" font-family=\"Helvetica,sans-Serif\" font-size=\"14.00\">value = [74, 2]</text>\n<text text-anchor=\"start\" x=\"7808\" y=\"-111.8\" font-family=\"Helvetica,sans-Serif\" font-size=\"14.00\">class = 1</text>\n</g>\n<!-- 148&#45;&gt;149 -->\n<g id=\"edge149\" class=\"edge\">\n<title>148&#45;&gt;149</title>\n<path fill=\"none\" stroke=\"black\" d=\"M7891.66,-222.91C7885.13,-214.01 7878.14,-204.51 7871.39,-195.33\"/>\n<polygon fill=\"black\" stroke=\"black\" points=\"7874.03,-193.01 7865.28,-187.02 7868.39,-197.15 7874.03,-193.01\"/>\n</g>\n<!-- 152 -->\n<g id=\"node153\" class=\"node\">\n<title>152</title>\n<path fill=\"#50a8e8\" stroke=\"black\" d=\"M8038,-187C8038,-187 7921,-187 7921,-187 7915,-187 7909,-181 7909,-175 7909,-175 7909,-116 7909,-116 7909,-110 7915,-104 7921,-104 7921,-104 8038,-104 8038,-104 8044,-104 8050,-110 8050,-116 8050,-116 8050,-175 8050,-175 8050,-181 8044,-187 8038,-187\"/>\n<text text-anchor=\"start\" x=\"7917\" y=\"-171.8\" font-family=\"Helvetica,sans-Serif\" font-size=\"14.00\">t1_inhibitorKills ≤ 1.5</text>\n<text text-anchor=\"start\" x=\"7932\" y=\"-156.8\" font-family=\"Helvetica,sans-Serif\" font-size=\"14.00\">entropy = 0.481</text>\n<text text-anchor=\"start\" x=\"7934.5\" y=\"-141.8\" font-family=\"Helvetica,sans-Serif\" font-size=\"14.00\">samples = 664</text>\n<text text-anchor=\"start\" x=\"7929\" y=\"-126.8\" font-family=\"Helvetica,sans-Serif\" font-size=\"14.00\">value = [69, 595]</text>\n<text text-anchor=\"start\" x=\"7952\" y=\"-111.8\" font-family=\"Helvetica,sans-Serif\" font-size=\"14.00\">class = 2</text>\n</g>\n<!-- 148&#45;&gt;152 -->\n<g id=\"edge152\" class=\"edge\">\n<title>148&#45;&gt;152</title>\n<path fill=\"none\" stroke=\"black\" d=\"M7941.62,-222.91C7945.9,-214.29 7950.46,-205.09 7954.87,-196.17\"/>\n<polygon fill=\"black\" stroke=\"black\" points=\"7958.11,-197.53 7959.41,-187.02 7951.84,-194.43 7958.11,-197.53\"/>\n</g>\n<!-- 150 -->\n<g id=\"node151\" class=\"node\">\n<title>150</title>\n<path fill=\"#e78c49\" stroke=\"black\" d=\"M7754,-68C7754,-68 7667,-68 7667,-68 7661,-68 7655,-62 7655,-56 7655,-56 7655,-12 7655,-12 7655,-6 7661,0 7667,0 7667,0 7754,0 7754,0 7760,0 7766,-6 7766,-12 7766,-12 7766,-56 7766,-56 7766,-62 7760,-68 7754,-68\"/>\n<text text-anchor=\"start\" x=\"7663\" y=\"-52.8\" font-family=\"Helvetica,sans-Serif\" font-size=\"14.00\">entropy = 0.391</text>\n<text text-anchor=\"start\" x=\"7669.5\" y=\"-37.8\" font-family=\"Helvetica,sans-Serif\" font-size=\"14.00\">samples = 26</text>\n<text text-anchor=\"start\" x=\"7667.5\" y=\"-22.8\" font-family=\"Helvetica,sans-Serif\" font-size=\"14.00\">value = [24, 2]</text>\n<text text-anchor=\"start\" x=\"7683\" y=\"-7.8\" font-family=\"Helvetica,sans-Serif\" font-size=\"14.00\">class = 1</text>\n</g>\n<!-- 149&#45;&gt;150 -->\n<g id=\"edge150\" class=\"edge\">\n<title>149&#45;&gt;150</title>\n<path fill=\"none\" stroke=\"black\" d=\"M7788.95,-103.73C7778.23,-94.33 7766.83,-84.35 7756.15,-74.99\"/>\n<polygon fill=\"black\" stroke=\"black\" points=\"7758.34,-72.26 7748.51,-68.3 7753.73,-77.52 7758.34,-72.26\"/>\n</g>\n<!-- 151 -->\n<g id=\"node152\" class=\"node\">\n<title>151</title>\n<path fill=\"#e58139\" stroke=\"black\" d=\"M7874.5,-68C7874.5,-68 7796.5,-68 7796.5,-68 7790.5,-68 7784.5,-62 7784.5,-56 7784.5,-56 7784.5,-12 7784.5,-12 7784.5,-6 7790.5,0 7796.5,0 7796.5,0 7874.5,0 7874.5,0 7880.5,0 7886.5,-6 7886.5,-12 7886.5,-12 7886.5,-56 7886.5,-56 7886.5,-62 7880.5,-68 7874.5,-68\"/>\n<text text-anchor=\"start\" x=\"7795.5\" y=\"-52.8\" font-family=\"Helvetica,sans-Serif\" font-size=\"14.00\">entropy = 0.0</text>\n<text text-anchor=\"start\" x=\"7794.5\" y=\"-37.8\" font-family=\"Helvetica,sans-Serif\" font-size=\"14.00\">samples = 50</text>\n<text text-anchor=\"start\" x=\"7792.5\" y=\"-22.8\" font-family=\"Helvetica,sans-Serif\" font-size=\"14.00\">value = [50, 0]</text>\n<text text-anchor=\"start\" x=\"7808\" y=\"-7.8\" font-family=\"Helvetica,sans-Serif\" font-size=\"14.00\">class = 1</text>\n</g>\n<!-- 149&#45;&gt;151 -->\n<g id=\"edge151\" class=\"edge\">\n<title>149&#45;&gt;151</title>\n<path fill=\"none\" stroke=\"black\" d=\"M7835.5,-103.73C7835.5,-95.52 7835.5,-86.86 7835.5,-78.56\"/>\n<polygon fill=\"black\" stroke=\"black\" points=\"7839,-78.3 7835.5,-68.3 7832,-78.3 7839,-78.3\"/>\n</g>\n<!-- 153 -->\n<g id=\"node154\" class=\"node\">\n<title>153</title>\n<path fill=\"#41a1e6\" stroke=\"black\" d=\"M8032.5,-68C8032.5,-68 7916.5,-68 7916.5,-68 7910.5,-68 7904.5,-62 7904.5,-56 7904.5,-56 7904.5,-12 7904.5,-12 7904.5,-6 7910.5,0 7916.5,0 7916.5,0 8032.5,0 8032.5,0 8038.5,0 8044.5,-6 8044.5,-12 8044.5,-12 8044.5,-56 8044.5,-56 8044.5,-62 8038.5,-68 8032.5,-68\"/>\n<text text-anchor=\"start\" x=\"7927\" y=\"-52.8\" font-family=\"Helvetica,sans-Serif\" font-size=\"14.00\">entropy = 0.246</text>\n<text text-anchor=\"start\" x=\"7929.5\" y=\"-37.8\" font-family=\"Helvetica,sans-Serif\" font-size=\"14.00\">samples = 343</text>\n<text text-anchor=\"start\" x=\"7912.5\" y=\"-22.8\" font-family=\"Helvetica,sans-Serif\" font-size=\"14.00\">value = [14.0, 329.0]</text>\n<text text-anchor=\"start\" x=\"7947\" y=\"-7.8\" font-family=\"Helvetica,sans-Serif\" font-size=\"14.00\">class = 2</text>\n</g>\n<!-- 152&#45;&gt;153 -->\n<g id=\"edge153\" class=\"edge\">\n<title>152&#45;&gt;153</title>\n<path fill=\"none\" stroke=\"black\" d=\"M7977.64,-103.73C7977.26,-95.52 7976.87,-86.86 7976.49,-78.56\"/>\n<polygon fill=\"black\" stroke=\"black\" points=\"7979.97,-78.13 7976.02,-68.3 7972.98,-78.45 7979.97,-78.13\"/>\n</g>\n<!-- 154 -->\n<g id=\"node155\" class=\"node\">\n<title>154</title>\n<path fill=\"#62b1ea\" stroke=\"black\" d=\"M8168,-68C8168,-68 8075,-68 8075,-68 8069,-68 8063,-62 8063,-56 8063,-56 8063,-12 8063,-12 8063,-6 8069,0 8075,0 8075,0 8168,0 8168,0 8174,0 8180,-6 8180,-12 8180,-12 8180,-56 8180,-56 8180,-62 8174,-68 8168,-68\"/>\n<text text-anchor=\"start\" x=\"8074\" y=\"-52.8\" font-family=\"Helvetica,sans-Serif\" font-size=\"14.00\">entropy = 0.661</text>\n<text text-anchor=\"start\" x=\"8076.5\" y=\"-37.8\" font-family=\"Helvetica,sans-Serif\" font-size=\"14.00\">samples = 321</text>\n<text text-anchor=\"start\" x=\"8071\" y=\"-22.8\" font-family=\"Helvetica,sans-Serif\" font-size=\"14.00\">value = [55, 266]</text>\n<text text-anchor=\"start\" x=\"8094\" y=\"-7.8\" font-family=\"Helvetica,sans-Serif\" font-size=\"14.00\">class = 2</text>\n</g>\n<!-- 152&#45;&gt;154 -->\n<g id=\"edge154\" class=\"edge\">\n<title>152&#45;&gt;154</title>\n<path fill=\"none\" stroke=\"black\" d=\"M8032.38,-103.73C8044.79,-94.15 8058.01,-83.96 8070.35,-74.44\"/>\n<polygon fill=\"black\" stroke=\"black\" points=\"8072.54,-77.18 8078.32,-68.3 8068.26,-71.63 8072.54,-77.18\"/>\n</g>\n<!-- 156 -->\n<g id=\"node157\" class=\"node\">\n<title>156</title>\n<path fill=\"#eb9f68\" stroke=\"black\" d=\"M8390,-187C8390,-187 8273,-187 8273,-187 8267,-187 8261,-181 8261,-175 8261,-175 8261,-116 8261,-116 8261,-110 8267,-104 8273,-104 8273,-104 8390,-104 8390,-104 8396,-104 8402,-110 8402,-116 8402,-116 8402,-175 8402,-175 8402,-181 8396,-187 8390,-187\"/>\n<text text-anchor=\"start\" x=\"8269\" y=\"-171.8\" font-family=\"Helvetica,sans-Serif\" font-size=\"14.00\">t2_inhibitorKills ≤ 1.5</text>\n<text text-anchor=\"start\" x=\"8284\" y=\"-156.8\" font-family=\"Helvetica,sans-Serif\" font-size=\"14.00\">entropy = 0.706</text>\n<text text-anchor=\"start\" x=\"8286.5\" y=\"-141.8\" font-family=\"Helvetica,sans-Serif\" font-size=\"14.00\">samples = 307</text>\n<text text-anchor=\"start\" x=\"8281\" y=\"-126.8\" font-family=\"Helvetica,sans-Serif\" font-size=\"14.00\">value = [248, 59]</text>\n<text text-anchor=\"start\" x=\"8304\" y=\"-111.8\" font-family=\"Helvetica,sans-Serif\" font-size=\"14.00\">class = 1</text>\n</g>\n<!-- 155&#45;&gt;156 -->\n<g id=\"edge156\" class=\"edge\">\n<title>155&#45;&gt;156</title>\n<path fill=\"none\" stroke=\"black\" d=\"M8331.5,-222.91C8331.5,-214.65 8331.5,-205.86 8331.5,-197.3\"/>\n<polygon fill=\"black\" stroke=\"black\" points=\"8335,-197.02 8331.5,-187.02 8328,-197.02 8335,-197.02\"/>\n</g>\n<!-- 159 -->\n<g id=\"node160\" class=\"node\">\n<title>159</title>\n<path fill=\"#c7e3f8\" stroke=\"black\" d=\"M8599,-187C8599,-187 8496,-187 8496,-187 8490,-187 8484,-181 8484,-175 8484,-175 8484,-116 8484,-116 8484,-110 8490,-104 8496,-104 8496,-104 8599,-104 8599,-104 8605,-104 8611,-110 8611,-116 8611,-116 8611,-175 8611,-175 8611,-181 8605,-187 8599,-187\"/>\n<text text-anchor=\"start\" x=\"8492\" y=\"-171.8\" font-family=\"Helvetica,sans-Serif\" font-size=\"14.00\">t2_towerKills ≤ 9.5</text>\n<text text-anchor=\"start\" x=\"8503.5\" y=\"-156.8\" font-family=\"Helvetica,sans-Serif\" font-size=\"14.00\">entropy = 0.98</text>\n<text text-anchor=\"start\" x=\"8502.5\" y=\"-141.8\" font-family=\"Helvetica,sans-Serif\" font-size=\"14.00\">samples = 278</text>\n<text text-anchor=\"start\" x=\"8493\" y=\"-126.8\" font-family=\"Helvetica,sans-Serif\" font-size=\"14.00\">value = [116, 162]</text>\n<text text-anchor=\"start\" x=\"8520\" y=\"-111.8\" font-family=\"Helvetica,sans-Serif\" font-size=\"14.00\">class = 2</text>\n</g>\n<!-- 155&#45;&gt;159 -->\n<g id=\"edge159\" class=\"edge\">\n<title>155&#45;&gt;159</title>\n<path fill=\"none\" stroke=\"black\" d=\"M8395.14,-229.03C8420.19,-215.46 8449.08,-199.81 8474.94,-185.8\"/>\n<polygon fill=\"black\" stroke=\"black\" points=\"8476.82,-188.77 8483.94,-180.93 8473.48,-182.61 8476.82,-188.77\"/>\n</g>\n<!-- 157 -->\n<g id=\"node158\" class=\"node\">\n<title>157</title>\n<path fill=\"#e88e4e\" stroke=\"black\" d=\"M8326.5,-68C8326.5,-68 8210.5,-68 8210.5,-68 8204.5,-68 8198.5,-62 8198.5,-56 8198.5,-56 8198.5,-12 8198.5,-12 8198.5,-6 8204.5,0 8210.5,0 8210.5,0 8326.5,0 8326.5,0 8332.5,0 8338.5,-6 8338.5,-12 8338.5,-12 8338.5,-56 8338.5,-56 8338.5,-62 8332.5,-68 8326.5,-68\"/>\n<text text-anchor=\"start\" x=\"8221\" y=\"-52.8\" font-family=\"Helvetica,sans-Serif\" font-size=\"14.00\">entropy = 0.451</text>\n<text text-anchor=\"start\" x=\"8223.5\" y=\"-37.8\" font-family=\"Helvetica,sans-Serif\" font-size=\"14.00\">samples = 159</text>\n<text text-anchor=\"start\" x=\"8206.5\" y=\"-22.8\" font-family=\"Helvetica,sans-Serif\" font-size=\"14.00\">value = [144.0, 15.0]</text>\n<text text-anchor=\"start\" x=\"8241\" y=\"-7.8\" font-family=\"Helvetica,sans-Serif\" font-size=\"14.00\">class = 1</text>\n</g>\n<!-- 156&#45;&gt;157 -->\n<g id=\"edge157\" class=\"edge\">\n<title>156&#45;&gt;157</title>\n<path fill=\"none\" stroke=\"black\" d=\"M8308.04,-103.73C8303.06,-95.06 8297.78,-85.9 8292.77,-77.18\"/>\n<polygon fill=\"black\" stroke=\"black\" points=\"8295.68,-75.22 8287.66,-68.3 8289.61,-78.71 8295.68,-75.22\"/>\n</g>\n<!-- 158 -->\n<g id=\"node159\" class=\"node\">\n<title>158</title>\n<path fill=\"#f0b68d\" stroke=\"black\" d=\"M8462,-68C8462,-68 8369,-68 8369,-68 8363,-68 8357,-62 8357,-56 8357,-56 8357,-12 8357,-12 8357,-6 8363,0 8369,0 8369,0 8462,0 8462,0 8468,0 8474,-6 8474,-12 8474,-12 8474,-56 8474,-56 8474,-62 8468,-68 8462,-68\"/>\n<text text-anchor=\"start\" x=\"8368\" y=\"-52.8\" font-family=\"Helvetica,sans-Serif\" font-size=\"14.00\">entropy = 0.878</text>\n<text text-anchor=\"start\" x=\"8370.5\" y=\"-37.8\" font-family=\"Helvetica,sans-Serif\" font-size=\"14.00\">samples = 148</text>\n<text text-anchor=\"start\" x=\"8365\" y=\"-22.8\" font-family=\"Helvetica,sans-Serif\" font-size=\"14.00\">value = [104, 44]</text>\n<text text-anchor=\"start\" x=\"8388\" y=\"-7.8\" font-family=\"Helvetica,sans-Serif\" font-size=\"14.00\">class = 1</text>\n</g>\n<!-- 156&#45;&gt;158 -->\n<g id=\"edge158\" class=\"edge\">\n<title>156&#45;&gt;158</title>\n<path fill=\"none\" stroke=\"black\" d=\"M8362.78,-103.73C8369.64,-94.79 8376.9,-85.32 8383.78,-76.36\"/>\n<polygon fill=\"black\" stroke=\"black\" points=\"8386.65,-78.36 8389.96,-68.3 8381.09,-74.1 8386.65,-78.36\"/>\n</g>\n<!-- 160 -->\n<g id=\"node161\" class=\"node\">\n<title>160</title>\n<path fill=\"#fcf0e7\" stroke=\"black\" d=\"M8591,-68C8591,-68 8504,-68 8504,-68 8498,-68 8492,-62 8492,-56 8492,-56 8492,-12 8492,-12 8492,-6 8498,0 8504,0 8504,0 8591,0 8591,0 8597,0 8603,-6 8603,-12 8603,-12 8603,-56 8603,-56 8603,-62 8597,-68 8591,-68\"/>\n<text text-anchor=\"start\" x=\"8500\" y=\"-52.8\" font-family=\"Helvetica,sans-Serif\" font-size=\"14.00\">entropy = 0.997</text>\n<text text-anchor=\"start\" x=\"8502.5\" y=\"-37.8\" font-family=\"Helvetica,sans-Serif\" font-size=\"14.00\">samples = 141</text>\n<text text-anchor=\"start\" x=\"8500.5\" y=\"-22.8\" font-family=\"Helvetica,sans-Serif\" font-size=\"14.00\">value = [75, 66]</text>\n<text text-anchor=\"start\" x=\"8520\" y=\"-7.8\" font-family=\"Helvetica,sans-Serif\" font-size=\"14.00\">class = 1</text>\n</g>\n<!-- 159&#45;&gt;160 -->\n<g id=\"edge160\" class=\"edge\">\n<title>159&#45;&gt;160</title>\n<path fill=\"none\" stroke=\"black\" d=\"M8547.5,-103.73C8547.5,-95.52 8547.5,-86.86 8547.5,-78.56\"/>\n<polygon fill=\"black\" stroke=\"black\" points=\"8551,-78.3 8547.5,-68.3 8544,-78.3 8551,-78.3\"/>\n</g>\n<!-- 161 -->\n<g id=\"node162\" class=\"node\">\n<title>161</title>\n<path fill=\"#8ec7f0\" stroke=\"black\" d=\"M8719.5,-68C8719.5,-68 8633.5,-68 8633.5,-68 8627.5,-68 8621.5,-62 8621.5,-56 8621.5,-56 8621.5,-12 8621.5,-12 8621.5,-6 8627.5,0 8633.5,0 8633.5,0 8719.5,0 8719.5,0 8725.5,0 8731.5,-6 8731.5,-12 8731.5,-12 8731.5,-56 8731.5,-56 8731.5,-62 8725.5,-68 8719.5,-68\"/>\n<text text-anchor=\"start\" x=\"8632.5\" y=\"-52.8\" font-family=\"Helvetica,sans-Serif\" font-size=\"14.00\">entropy = 0.88</text>\n<text text-anchor=\"start\" x=\"8631.5\" y=\"-37.8\" font-family=\"Helvetica,sans-Serif\" font-size=\"14.00\">samples = 137</text>\n<text text-anchor=\"start\" x=\"8629.5\" y=\"-22.8\" font-family=\"Helvetica,sans-Serif\" font-size=\"14.00\">value = [41, 96]</text>\n<text text-anchor=\"start\" x=\"8649\" y=\"-7.8\" font-family=\"Helvetica,sans-Serif\" font-size=\"14.00\">class = 2</text>\n</g>\n<!-- 159&#45;&gt;161 -->\n<g id=\"edge161\" class=\"edge\">\n<title>159&#45;&gt;161</title>\n<path fill=\"none\" stroke=\"black\" d=\"M8595.53,-103.73C8606.6,-94.33 8618.36,-84.35 8629.39,-74.99\"/>\n<polygon fill=\"black\" stroke=\"black\" points=\"8631.91,-77.44 8637.27,-68.3 8627.38,-72.1 8631.91,-77.44\"/>\n</g>\n<!-- 163 -->\n<g id=\"node164\" class=\"node\">\n<title>163</title>\n<path fill=\"#fcf2eb\" stroke=\"black\" d=\"M9102,-425C9102,-425 8985,-425 8985,-425 8979,-425 8973,-419 8973,-413 8973,-413 8973,-354 8973,-354 8973,-348 8979,-342 8985,-342 8985,-342 9102,-342 9102,-342 9108,-342 9114,-348 9114,-354 9114,-354 9114,-413 9114,-413 9114,-419 9108,-425 9102,-425\"/>\n<text text-anchor=\"start\" x=\"8981\" y=\"-409.8\" font-family=\"Helvetica,sans-Serif\" font-size=\"14.00\">t2_inhibitorKills ≤ 0.5</text>\n<text text-anchor=\"start\" x=\"8996\" y=\"-394.8\" font-family=\"Helvetica,sans-Serif\" font-size=\"14.00\">entropy = 0.998</text>\n<text text-anchor=\"start\" x=\"8998.5\" y=\"-379.8\" font-family=\"Helvetica,sans-Serif\" font-size=\"14.00\">samples = 609</text>\n<text text-anchor=\"start\" x=\"8989\" y=\"-364.8\" font-family=\"Helvetica,sans-Serif\" font-size=\"14.00\">value = [321, 288]</text>\n<text text-anchor=\"start\" x=\"9016\" y=\"-349.8\" font-family=\"Helvetica,sans-Serif\" font-size=\"14.00\">class = 1</text>\n</g>\n<!-- 162&#45;&gt;163 -->\n<g id=\"edge163\" class=\"edge\">\n<title>162&#45;&gt;163</title>\n<path fill=\"none\" stroke=\"black\" d=\"M9043.5,-460.91C9043.5,-452.65 9043.5,-443.86 9043.5,-435.3\"/>\n<polygon fill=\"black\" stroke=\"black\" points=\"9047,-435.02 9043.5,-425.02 9040,-435.02 9047,-435.02\"/>\n</g>\n<!-- 172 -->\n<g id=\"node173\" class=\"node\">\n<title>172</title>\n<path fill=\"#e89051\" stroke=\"black\" d=\"M9327,-425C9327,-425 9210,-425 9210,-425 9204,-425 9198,-419 9198,-413 9198,-413 9198,-354 9198,-354 9198,-348 9204,-342 9210,-342 9210,-342 9327,-342 9327,-342 9333,-342 9339,-348 9339,-354 9339,-354 9339,-413 9339,-413 9339,-419 9333,-425 9327,-425\"/>\n<text text-anchor=\"start\" x=\"9206\" y=\"-409.8\" font-family=\"Helvetica,sans-Serif\" font-size=\"14.00\">t2_inhibitorKills ≤ 1.5</text>\n<text text-anchor=\"start\" x=\"9221\" y=\"-394.8\" font-family=\"Helvetica,sans-Serif\" font-size=\"14.00\">entropy = 0.498</text>\n<text text-anchor=\"start\" x=\"9223.5\" y=\"-379.8\" font-family=\"Helvetica,sans-Serif\" font-size=\"14.00\">samples = 503</text>\n<text text-anchor=\"start\" x=\"9218\" y=\"-364.8\" font-family=\"Helvetica,sans-Serif\" font-size=\"14.00\">value = [448, 55]</text>\n<text text-anchor=\"start\" x=\"9241\" y=\"-349.8\" font-family=\"Helvetica,sans-Serif\" font-size=\"14.00\">class = 1</text>\n</g>\n<!-- 162&#45;&gt;172 -->\n<g id=\"edge172\" class=\"edge\">\n<title>162&#45;&gt;172</title>\n<path fill=\"none\" stroke=\"black\" d=\"M9106.18,-468.91C9131.76,-455.61 9161.65,-440.06 9188.76,-425.96\"/>\n<polygon fill=\"black\" stroke=\"black\" points=\"9190.58,-428.96 9197.84,-421.24 9187.35,-422.75 9190.58,-428.96\"/>\n</g>\n<!-- 164 -->\n<g id=\"node165\" class=\"node\">\n<title>164</title>\n<path fill=\"#e58139\" stroke=\"black\" d=\"M8972.5,-298.5C8972.5,-298.5 8886.5,-298.5 8886.5,-298.5 8880.5,-298.5 8874.5,-292.5 8874.5,-286.5 8874.5,-286.5 8874.5,-242.5 8874.5,-242.5 8874.5,-236.5 8880.5,-230.5 8886.5,-230.5 8886.5,-230.5 8972.5,-230.5 8972.5,-230.5 8978.5,-230.5 8984.5,-236.5 8984.5,-242.5 8984.5,-242.5 8984.5,-286.5 8984.5,-286.5 8984.5,-292.5 8978.5,-298.5 8972.5,-298.5\"/>\n<text text-anchor=\"start\" x=\"8889.5\" y=\"-283.3\" font-family=\"Helvetica,sans-Serif\" font-size=\"14.00\">entropy = 0.0</text>\n<text text-anchor=\"start\" x=\"8884.5\" y=\"-268.3\" font-family=\"Helvetica,sans-Serif\" font-size=\"14.00\">samples = 114</text>\n<text text-anchor=\"start\" x=\"8882.5\" y=\"-253.3\" font-family=\"Helvetica,sans-Serif\" font-size=\"14.00\">value = [114, 0]</text>\n<text text-anchor=\"start\" x=\"8902\" y=\"-238.3\" font-family=\"Helvetica,sans-Serif\" font-size=\"14.00\">class = 1</text>\n</g>\n<!-- 163&#45;&gt;164 -->\n<g id=\"edge164\" class=\"edge\">\n<title>163&#45;&gt;164</title>\n<path fill=\"none\" stroke=\"black\" d=\"M9003.95,-341.91C8992.66,-330.32 8980.36,-317.7 8969.07,-306.11\"/>\n<polygon fill=\"black\" stroke=\"black\" points=\"8971.3,-303.39 8961.82,-298.67 8966.29,-308.27 8971.3,-303.39\"/>\n</g>\n<!-- 165 -->\n<g id=\"node166\" class=\"node\">\n<title>165</title>\n<path fill=\"#c7e3f8\" stroke=\"black\" d=\"M9118,-306C9118,-306 9015,-306 9015,-306 9009,-306 9003,-300 9003,-294 9003,-294 9003,-235 9003,-235 9003,-229 9009,-223 9015,-223 9015,-223 9118,-223 9118,-223 9124,-223 9130,-229 9130,-235 9130,-235 9130,-294 9130,-294 9130,-300 9124,-306 9118,-306\"/>\n<text text-anchor=\"start\" x=\"9011\" y=\"-290.8\" font-family=\"Helvetica,sans-Serif\" font-size=\"14.00\">t2_towerKills ≤ 7.5</text>\n<text text-anchor=\"start\" x=\"9019\" y=\"-275.8\" font-family=\"Helvetica,sans-Serif\" font-size=\"14.00\">entropy = 0.981</text>\n<text text-anchor=\"start\" x=\"9021.5\" y=\"-260.8\" font-family=\"Helvetica,sans-Serif\" font-size=\"14.00\">samples = 495</text>\n<text text-anchor=\"start\" x=\"9012\" y=\"-245.8\" font-family=\"Helvetica,sans-Serif\" font-size=\"14.00\">value = [207, 288]</text>\n<text text-anchor=\"start\" x=\"9039\" y=\"-230.8\" font-family=\"Helvetica,sans-Serif\" font-size=\"14.00\">class = 2</text>\n</g>\n<!-- 163&#45;&gt;165 -->\n<g id=\"edge165\" class=\"edge\">\n<title>163&#45;&gt;165</title>\n<path fill=\"none\" stroke=\"black\" d=\"M9051.48,-341.91C9053.12,-333.56 9054.87,-324.67 9056.57,-316.02\"/>\n<polygon fill=\"black\" stroke=\"black\" points=\"9060.04,-316.51 9058.53,-306.02 9053.17,-315.16 9060.04,-316.51\"/>\n</g>\n<!-- 166 -->\n<g id=\"node167\" class=\"node\">\n<title>166</title>\n<path fill=\"#f6d5bc\" stroke=\"black\" d=\"M8981.5,-187C8981.5,-187 8871.5,-187 8871.5,-187 8865.5,-187 8859.5,-181 8859.5,-175 8859.5,-175 8859.5,-116 8859.5,-116 8859.5,-110 8865.5,-104 8871.5,-104 8871.5,-104 8981.5,-104 8981.5,-104 8987.5,-104 8993.5,-110 8993.5,-116 8993.5,-116 8993.5,-175 8993.5,-175 8993.5,-181 8987.5,-187 8981.5,-187\"/>\n<text text-anchor=\"start\" x=\"8867.5\" y=\"-171.8\" font-family=\"Helvetica,sans-Serif\" font-size=\"14.00\">t1_towerKills ≤ 10.5</text>\n<text text-anchor=\"start\" x=\"8882.5\" y=\"-156.8\" font-family=\"Helvetica,sans-Serif\" font-size=\"14.00\">entropy = 0.97</text>\n<text text-anchor=\"start\" x=\"8881.5\" y=\"-141.8\" font-family=\"Helvetica,sans-Serif\" font-size=\"14.00\">samples = 178</text>\n<text text-anchor=\"start\" x=\"8876\" y=\"-126.8\" font-family=\"Helvetica,sans-Serif\" font-size=\"14.00\">value = [107, 71]</text>\n<text text-anchor=\"start\" x=\"8899\" y=\"-111.8\" font-family=\"Helvetica,sans-Serif\" font-size=\"14.00\">class = 1</text>\n</g>\n<!-- 165&#45;&gt;166 -->\n<g id=\"edge166\" class=\"edge\">\n<title>165&#45;&gt;166</title>\n<path fill=\"none\" stroke=\"black\" d=\"M9017.93,-222.91C9006.63,-213.47 8994.52,-203.34 8982.92,-193.65\"/>\n<polygon fill=\"black\" stroke=\"black\" points=\"8984.9,-190.75 8974.99,-187.02 8980.42,-196.12 8984.9,-190.75\"/>\n</g>\n<!-- 169 -->\n<g id=\"node170\" class=\"node\">\n<title>169</title>\n<path fill=\"#94caf1\" stroke=\"black\" d=\"M9133.5,-187C9133.5,-187 9023.5,-187 9023.5,-187 9017.5,-187 9011.5,-181 9011.5,-175 9011.5,-175 9011.5,-116 9011.5,-116 9011.5,-110 9017.5,-104 9023.5,-104 9023.5,-104 9133.5,-104 9133.5,-104 9139.5,-104 9145.5,-110 9145.5,-116 9145.5,-116 9145.5,-175 9145.5,-175 9145.5,-181 9139.5,-187 9133.5,-187\"/>\n<text text-anchor=\"start\" x=\"9019.5\" y=\"-171.8\" font-family=\"Helvetica,sans-Serif\" font-size=\"14.00\">t2_towerKills ≤ 10.5</text>\n<text text-anchor=\"start\" x=\"9031\" y=\"-156.8\" font-family=\"Helvetica,sans-Serif\" font-size=\"14.00\">entropy = 0.899</text>\n<text text-anchor=\"start\" x=\"9033.5\" y=\"-141.8\" font-family=\"Helvetica,sans-Serif\" font-size=\"14.00\">samples = 317</text>\n<text text-anchor=\"start\" x=\"9024\" y=\"-126.8\" font-family=\"Helvetica,sans-Serif\" font-size=\"14.00\">value = [100, 217]</text>\n<text text-anchor=\"start\" x=\"9051\" y=\"-111.8\" font-family=\"Helvetica,sans-Serif\" font-size=\"14.00\">class = 2</text>\n</g>\n<!-- 165&#45;&gt;169 -->\n<g id=\"edge169\" class=\"edge\">\n<title>165&#45;&gt;169</title>\n<path fill=\"none\" stroke=\"black\" d=\"M9070.66,-222.91C9071.52,-214.56 9072.43,-205.67 9073.32,-197.02\"/>\n<polygon fill=\"black\" stroke=\"black\" points=\"9076.81,-197.33 9074.34,-187.02 9069.84,-196.61 9076.81,-197.33\"/>\n</g>\n<!-- 167 -->\n<g id=\"node168\" class=\"node\">\n<title>167</title>\n<path fill=\"#fdf3ec\" stroke=\"black\" d=\"M8849,-68C8849,-68 8762,-68 8762,-68 8756,-68 8750,-62 8750,-56 8750,-56 8750,-12 8750,-12 8750,-6 8756,0 8762,0 8762,0 8849,0 8849,0 8855,0 8861,-6 8861,-12 8861,-12 8861,-56 8861,-56 8861,-62 8855,-68 8849,-68\"/>\n<text text-anchor=\"start\" x=\"8758\" y=\"-52.8\" font-family=\"Helvetica,sans-Serif\" font-size=\"14.00\">entropy = 0.998</text>\n<text text-anchor=\"start\" x=\"8760.5\" y=\"-37.8\" font-family=\"Helvetica,sans-Serif\" font-size=\"14.00\">samples = 139</text>\n<text text-anchor=\"start\" x=\"8758.5\" y=\"-22.8\" font-family=\"Helvetica,sans-Serif\" font-size=\"14.00\">value = [73, 66]</text>\n<text text-anchor=\"start\" x=\"8778\" y=\"-7.8\" font-family=\"Helvetica,sans-Serif\" font-size=\"14.00\">class = 1</text>\n</g>\n<!-- 166&#45;&gt;167 -->\n<g id=\"edge167\" class=\"edge\">\n<title>166&#45;&gt;167</title>\n<path fill=\"none\" stroke=\"black\" d=\"M8881.44,-103.73C8871.16,-94.42 8860.25,-84.54 8849.99,-75.26\"/>\n<polygon fill=\"black\" stroke=\"black\" points=\"8852.06,-72.41 8842.3,-68.3 8847.36,-77.6 8852.06,-72.41\"/>\n</g>\n<!-- 168 -->\n<g id=\"node169\" class=\"node\">\n<title>168</title>\n<path fill=\"#e99456\" stroke=\"black\" d=\"M8978,-68C8978,-68 8891,-68 8891,-68 8885,-68 8879,-62 8879,-56 8879,-56 8879,-12 8879,-12 8879,-6 8885,0 8891,0 8891,0 8978,0 8978,0 8984,0 8990,-6 8990,-12 8990,-12 8990,-56 8990,-56 8990,-62 8984,-68 8978,-68\"/>\n<text text-anchor=\"start\" x=\"8887\" y=\"-52.8\" font-family=\"Helvetica,sans-Serif\" font-size=\"14.00\">entropy = 0.552</text>\n<text text-anchor=\"start\" x=\"8893.5\" y=\"-37.8\" font-family=\"Helvetica,sans-Serif\" font-size=\"14.00\">samples = 39</text>\n<text text-anchor=\"start\" x=\"8891.5\" y=\"-22.8\" font-family=\"Helvetica,sans-Serif\" font-size=\"14.00\">value = [34, 5]</text>\n<text text-anchor=\"start\" x=\"8907\" y=\"-7.8\" font-family=\"Helvetica,sans-Serif\" font-size=\"14.00\">class = 1</text>\n</g>\n<!-- 166&#45;&gt;168 -->\n<g id=\"edge168\" class=\"edge\">\n<title>166&#45;&gt;168</title>\n<path fill=\"none\" stroke=\"black\" d=\"M8929.48,-103.73C8930.09,-95.43 8930.73,-86.67 8931.34,-78.28\"/>\n<polygon fill=\"black\" stroke=\"black\" points=\"8934.83,-78.53 8932.07,-68.3 8927.85,-78.02 8934.83,-78.53\"/>\n</g>\n<!-- 170 -->\n<g id=\"node171\" class=\"node\">\n<title>170</title>\n<path fill=\"#9ecff2\" stroke=\"black\" d=\"M9121,-68C9121,-68 9020,-68 9020,-68 9014,-68 9008,-62 9008,-56 9008,-56 9008,-12 9008,-12 9008,-6 9014,0 9020,0 9020,0 9121,0 9121,0 9127,0 9133,-6 9133,-12 9133,-12 9133,-56 9133,-56 9133,-62 9127,-68 9121,-68\"/>\n<text text-anchor=\"start\" x=\"9023\" y=\"-52.8\" font-family=\"Helvetica,sans-Serif\" font-size=\"14.00\">entropy = 0.923</text>\n<text text-anchor=\"start\" x=\"9025.5\" y=\"-37.8\" font-family=\"Helvetica,sans-Serif\" font-size=\"14.00\">samples = 296</text>\n<text text-anchor=\"start\" x=\"9016\" y=\"-22.8\" font-family=\"Helvetica,sans-Serif\" font-size=\"14.00\">value = [100, 196]</text>\n<text text-anchor=\"start\" x=\"9043\" y=\"-7.8\" font-family=\"Helvetica,sans-Serif\" font-size=\"14.00\">class = 2</text>\n</g>\n<!-- 169&#45;&gt;170 -->\n<g id=\"edge170\" class=\"edge\">\n<title>169&#45;&gt;170</title>\n<path fill=\"none\" stroke=\"black\" d=\"M9075.52,-103.73C9074.91,-95.43 9074.27,-86.67 9073.66,-78.28\"/>\n<polygon fill=\"black\" stroke=\"black\" points=\"9077.15,-78.02 9072.93,-68.3 9070.17,-78.53 9077.15,-78.02\"/>\n</g>\n<!-- 171 -->\n<g id=\"node172\" class=\"node\">\n<title>171</title>\n<path fill=\"#399de5\" stroke=\"black\" d=\"M9241.5,-68C9241.5,-68 9163.5,-68 9163.5,-68 9157.5,-68 9151.5,-62 9151.5,-56 9151.5,-56 9151.5,-12 9151.5,-12 9151.5,-6 9157.5,0 9163.5,0 9163.5,0 9241.5,0 9241.5,0 9247.5,0 9253.5,-6 9253.5,-12 9253.5,-12 9253.5,-56 9253.5,-56 9253.5,-62 9247.5,-68 9241.5,-68\"/>\n<text text-anchor=\"start\" x=\"9162.5\" y=\"-52.8\" font-family=\"Helvetica,sans-Serif\" font-size=\"14.00\">entropy = 0.0</text>\n<text text-anchor=\"start\" x=\"9161.5\" y=\"-37.8\" font-family=\"Helvetica,sans-Serif\" font-size=\"14.00\">samples = 21</text>\n<text text-anchor=\"start\" x=\"9159.5\" y=\"-22.8\" font-family=\"Helvetica,sans-Serif\" font-size=\"14.00\">value = [0, 21]</text>\n<text text-anchor=\"start\" x=\"9175\" y=\"-7.8\" font-family=\"Helvetica,sans-Serif\" font-size=\"14.00\">class = 2</text>\n</g>\n<!-- 169&#45;&gt;171 -->\n<g id=\"edge171\" class=\"edge\">\n<title>169&#45;&gt;171</title>\n<path fill=\"none\" stroke=\"black\" d=\"M9124.67,-103.73C9135.31,-94.33 9146.62,-84.35 9157.22,-74.99\"/>\n<polygon fill=\"black\" stroke=\"black\" points=\"9159.61,-77.54 9164.79,-68.3 9154.98,-72.3 9159.61,-77.54\"/>\n</g>\n<!-- 173 -->\n<g id=\"node174\" class=\"node\">\n<title>173</title>\n<path fill=\"#e5823a\" stroke=\"black\" d=\"M9324.5,-306C9324.5,-306 9212.5,-306 9212.5,-306 9206.5,-306 9200.5,-300 9200.5,-294 9200.5,-294 9200.5,-235 9200.5,-235 9200.5,-229 9206.5,-223 9212.5,-223 9212.5,-223 9324.5,-223 9324.5,-223 9330.5,-223 9336.5,-229 9336.5,-235 9336.5,-235 9336.5,-294 9336.5,-294 9336.5,-300 9330.5,-306 9324.5,-306\"/>\n<text text-anchor=\"start\" x=\"9208.5\" y=\"-290.8\" font-family=\"Helvetica,sans-Serif\" font-size=\"14.00\">t1_dragonKills ≤ 3.5</text>\n<text text-anchor=\"start\" x=\"9221\" y=\"-275.8\" font-family=\"Helvetica,sans-Serif\" font-size=\"14.00\">entropy = 0.044</text>\n<text text-anchor=\"start\" x=\"9223.5\" y=\"-260.8\" font-family=\"Helvetica,sans-Serif\" font-size=\"14.00\">samples = 206</text>\n<text text-anchor=\"start\" x=\"9210.5\" y=\"-245.8\" font-family=\"Helvetica,sans-Serif\" font-size=\"14.00\">value = [205.0, 1.0]</text>\n<text text-anchor=\"start\" x=\"9241\" y=\"-230.8\" font-family=\"Helvetica,sans-Serif\" font-size=\"14.00\">class = 1</text>\n</g>\n<!-- 172&#45;&gt;173 -->\n<g id=\"edge173\" class=\"edge\">\n<title>172&#45;&gt;173</title>\n<path fill=\"none\" stroke=\"black\" d=\"M9268.5,-341.91C9268.5,-333.65 9268.5,-324.86 9268.5,-316.3\"/>\n<polygon fill=\"black\" stroke=\"black\" points=\"9272,-316.02 9268.5,-306.02 9265,-316.02 9272,-316.02\"/>\n</g>\n<!-- 178 -->\n<g id=\"node179\" class=\"node\">\n<title>178</title>\n<path fill=\"#eb9d65\" stroke=\"black\" d=\"M9680.5,-306C9680.5,-306 9564.5,-306 9564.5,-306 9558.5,-306 9552.5,-300 9552.5,-294 9552.5,-294 9552.5,-235 9552.5,-235 9552.5,-229 9558.5,-223 9564.5,-223 9564.5,-223 9680.5,-223 9680.5,-223 9686.5,-223 9692.5,-229 9692.5,-235 9692.5,-235 9692.5,-294 9692.5,-294 9692.5,-300 9686.5,-306 9680.5,-306\"/>\n<text text-anchor=\"start\" x=\"9567\" y=\"-290.8\" font-family=\"Helvetica,sans-Serif\" font-size=\"14.00\">t2_towerKills ≤ 9.5</text>\n<text text-anchor=\"start\" x=\"9575\" y=\"-275.8\" font-family=\"Helvetica,sans-Serif\" font-size=\"14.00\">entropy = 0.684</text>\n<text text-anchor=\"start\" x=\"9577.5\" y=\"-260.8\" font-family=\"Helvetica,sans-Serif\" font-size=\"14.00\">samples = 297</text>\n<text text-anchor=\"start\" x=\"9560.5\" y=\"-245.8\" font-family=\"Helvetica,sans-Serif\" font-size=\"14.00\">value = [243.0, 54.0]</text>\n<text text-anchor=\"start\" x=\"9595\" y=\"-230.8\" font-family=\"Helvetica,sans-Serif\" font-size=\"14.00\">class = 1</text>\n</g>\n<!-- 172&#45;&gt;178 -->\n<g id=\"edge178\" class=\"edge\">\n<title>172&#45;&gt;178</title>\n<path fill=\"none\" stroke=\"black\" d=\"M9339.29,-359.1C9398.08,-339.67 9481.7,-312.04 9542.83,-291.83\"/>\n<polygon fill=\"black\" stroke=\"black\" points=\"9544.04,-295.12 9552.44,-288.66 9541.85,-288.47 9544.04,-295.12\"/>\n</g>\n<!-- 174 -->\n<g id=\"node175\" class=\"node\">\n<title>174</title>\n<path fill=\"#e58139\" stroke=\"black\" d=\"M9300.5,-179.5C9300.5,-179.5 9214.5,-179.5 9214.5,-179.5 9208.5,-179.5 9202.5,-173.5 9202.5,-167.5 9202.5,-167.5 9202.5,-123.5 9202.5,-123.5 9202.5,-117.5 9208.5,-111.5 9214.5,-111.5 9214.5,-111.5 9300.5,-111.5 9300.5,-111.5 9306.5,-111.5 9312.5,-117.5 9312.5,-123.5 9312.5,-123.5 9312.5,-167.5 9312.5,-167.5 9312.5,-173.5 9306.5,-179.5 9300.5,-179.5\"/>\n<text text-anchor=\"start\" x=\"9217.5\" y=\"-164.3\" font-family=\"Helvetica,sans-Serif\" font-size=\"14.00\">entropy = 0.0</text>\n<text text-anchor=\"start\" x=\"9212.5\" y=\"-149.3\" font-family=\"Helvetica,sans-Serif\" font-size=\"14.00\">samples = 194</text>\n<text text-anchor=\"start\" x=\"9210.5\" y=\"-134.3\" font-family=\"Helvetica,sans-Serif\" font-size=\"14.00\">value = [194, 0]</text>\n<text text-anchor=\"start\" x=\"9230\" y=\"-119.3\" font-family=\"Helvetica,sans-Serif\" font-size=\"14.00\">class = 1</text>\n</g>\n<!-- 173&#45;&gt;174 -->\n<g id=\"edge174\" class=\"edge\">\n<title>173&#45;&gt;174</title>\n<path fill=\"none\" stroke=\"black\" d=\"M9264.68,-222.91C9263.68,-212.2 9262.59,-200.62 9261.57,-189.78\"/>\n<polygon fill=\"black\" stroke=\"black\" points=\"9265.04,-189.3 9260.62,-179.67 9258.07,-189.95 9265.04,-189.3\"/>\n</g>\n<!-- 175 -->\n<g id=\"node176\" class=\"node\">\n<title>175</title>\n<path fill=\"#e78c4b\" stroke=\"black\" d=\"M9446,-187C9446,-187 9343,-187 9343,-187 9337,-187 9331,-181 9331,-175 9331,-175 9331,-116 9331,-116 9331,-110 9337,-104 9343,-104 9343,-104 9446,-104 9446,-104 9452,-104 9458,-110 9458,-116 9458,-116 9458,-175 9458,-175 9458,-181 9452,-187 9446,-187\"/>\n<text text-anchor=\"start\" x=\"9339\" y=\"-171.8\" font-family=\"Helvetica,sans-Serif\" font-size=\"14.00\">t1_towerKills ≤ 9.5</text>\n<text text-anchor=\"start\" x=\"9347\" y=\"-156.8\" font-family=\"Helvetica,sans-Serif\" font-size=\"14.00\">entropy = 0.414</text>\n<text text-anchor=\"start\" x=\"9353.5\" y=\"-141.8\" font-family=\"Helvetica,sans-Serif\" font-size=\"14.00\">samples = 12</text>\n<text text-anchor=\"start\" x=\"9351.5\" y=\"-126.8\" font-family=\"Helvetica,sans-Serif\" font-size=\"14.00\">value = [11, 1]</text>\n<text text-anchor=\"start\" x=\"9367\" y=\"-111.8\" font-family=\"Helvetica,sans-Serif\" font-size=\"14.00\">class = 1</text>\n</g>\n<!-- 173&#45;&gt;175 -->\n<g id=\"edge175\" class=\"edge\">\n<title>173&#45;&gt;175</title>\n<path fill=\"none\" stroke=\"black\" d=\"M9312.22,-222.91C9322.28,-213.56 9333.07,-203.54 9343.42,-193.93\"/>\n<polygon fill=\"black\" stroke=\"black\" points=\"9345.92,-196.39 9350.86,-187.02 9341.15,-191.26 9345.92,-196.39\"/>\n</g>\n<!-- 176 -->\n<g id=\"node177\" class=\"node\">\n<title>176</title>\n<path fill=\"#f2c09c\" stroke=\"black\" d=\"M9371,-68C9371,-68 9284,-68 9284,-68 9278,-68 9272,-62 9272,-56 9272,-56 9272,-12 9272,-12 9272,-6 9278,0 9284,0 9284,0 9371,0 9371,0 9377,0 9383,-6 9383,-12 9383,-12 9383,-56 9383,-56 9383,-62 9377,-68 9371,-68\"/>\n<text text-anchor=\"start\" x=\"9280\" y=\"-52.8\" font-family=\"Helvetica,sans-Serif\" font-size=\"14.00\">entropy = 0.918</text>\n<text text-anchor=\"start\" x=\"9290\" y=\"-37.8\" font-family=\"Helvetica,sans-Serif\" font-size=\"14.00\">samples = 3</text>\n<text text-anchor=\"start\" x=\"9288\" y=\"-22.8\" font-family=\"Helvetica,sans-Serif\" font-size=\"14.00\">value = [2, 1]</text>\n<text text-anchor=\"start\" x=\"9300\" y=\"-7.8\" font-family=\"Helvetica,sans-Serif\" font-size=\"14.00\">class = 1</text>\n</g>\n<!-- 175&#45;&gt;176 -->\n<g id=\"edge176\" class=\"edge\">\n<title>175&#45;&gt;176</title>\n<path fill=\"none\" stroke=\"black\" d=\"M9369.55,-103.73C9364.19,-94.97 9358.52,-85.7 9353.14,-76.91\"/>\n<polygon fill=\"black\" stroke=\"black\" points=\"9356.08,-75 9347.88,-68.3 9350.11,-78.66 9356.08,-75\"/>\n</g>\n<!-- 177 -->\n<g id=\"node178\" class=\"node\">\n<title>177</title>\n<path fill=\"#e58139\" stroke=\"black\" d=\"M9485.5,-68C9485.5,-68 9413.5,-68 9413.5,-68 9407.5,-68 9401.5,-62 9401.5,-56 9401.5,-56 9401.5,-12 9401.5,-12 9401.5,-6 9407.5,0 9413.5,0 9413.5,0 9485.5,0 9485.5,0 9491.5,0 9497.5,-6 9497.5,-12 9497.5,-12 9497.5,-56 9497.5,-56 9497.5,-62 9491.5,-68 9485.5,-68\"/>\n<text text-anchor=\"start\" x=\"9409.5\" y=\"-52.8\" font-family=\"Helvetica,sans-Serif\" font-size=\"14.00\">entropy = 0.0</text>\n<text text-anchor=\"start\" x=\"9412\" y=\"-37.8\" font-family=\"Helvetica,sans-Serif\" font-size=\"14.00\">samples = 9</text>\n<text text-anchor=\"start\" x=\"9410\" y=\"-22.8\" font-family=\"Helvetica,sans-Serif\" font-size=\"14.00\">value = [9, 0]</text>\n<text text-anchor=\"start\" x=\"9422\" y=\"-7.8\" font-family=\"Helvetica,sans-Serif\" font-size=\"14.00\">class = 1</text>\n</g>\n<!-- 175&#45;&gt;177 -->\n<g id=\"edge177\" class=\"edge\">\n<title>175&#45;&gt;177</title>\n<path fill=\"none\" stroke=\"black\" d=\"M9414.98,-103.73C9419.29,-95.15 9423.84,-86.09 9428.18,-77.46\"/>\n<polygon fill=\"black\" stroke=\"black\" points=\"9431.41,-78.81 9432.77,-68.3 9425.16,-75.66 9431.41,-78.81\"/>\n</g>\n<!-- 179 -->\n<g id=\"node180\" class=\"node\">\n<title>179</title>\n<path fill=\"#e99355\" stroke=\"black\" d=\"M9677.5,-187C9677.5,-187 9567.5,-187 9567.5,-187 9561.5,-187 9555.5,-181 9555.5,-175 9555.5,-175 9555.5,-116 9555.5,-116 9555.5,-110 9561.5,-104 9567.5,-104 9567.5,-104 9677.5,-104 9677.5,-104 9683.5,-104 9689.5,-110 9689.5,-116 9689.5,-116 9689.5,-175 9689.5,-175 9689.5,-181 9683.5,-187 9677.5,-187\"/>\n<text text-anchor=\"start\" x=\"9563.5\" y=\"-171.8\" font-family=\"Helvetica,sans-Serif\" font-size=\"14.00\">t1_towerKills ≤ 10.5</text>\n<text text-anchor=\"start\" x=\"9575\" y=\"-156.8\" font-family=\"Helvetica,sans-Serif\" font-size=\"14.00\">entropy = 0.537</text>\n<text text-anchor=\"start\" x=\"9577.5\" y=\"-141.8\" font-family=\"Helvetica,sans-Serif\" font-size=\"14.00\">samples = 212</text>\n<text text-anchor=\"start\" x=\"9572\" y=\"-126.8\" font-family=\"Helvetica,sans-Serif\" font-size=\"14.00\">value = [186, 26]</text>\n<text text-anchor=\"start\" x=\"9595\" y=\"-111.8\" font-family=\"Helvetica,sans-Serif\" font-size=\"14.00\">class = 1</text>\n</g>\n<!-- 178&#45;&gt;179 -->\n<g id=\"edge179\" class=\"edge\">\n<title>178&#45;&gt;179</title>\n<path fill=\"none\" stroke=\"black\" d=\"M9622.5,-222.91C9622.5,-214.65 9622.5,-205.86 9622.5,-197.3\"/>\n<polygon fill=\"black\" stroke=\"black\" points=\"9626,-197.02 9622.5,-187.02 9619,-197.02 9626,-197.02\"/>\n</g>\n<!-- 182 -->\n<g id=\"node183\" class=\"node\">\n<title>182</title>\n<path fill=\"#f2bf9a\" stroke=\"black\" d=\"M9886,-187C9886,-187 9769,-187 9769,-187 9763,-187 9757,-181 9757,-175 9757,-175 9757,-116 9757,-116 9757,-110 9763,-104 9769,-104 9769,-104 9886,-104 9886,-104 9892,-104 9898,-110 9898,-116 9898,-116 9898,-175 9898,-175 9898,-181 9892,-187 9886,-187\"/>\n<text text-anchor=\"start\" x=\"9765\" y=\"-171.8\" font-family=\"Helvetica,sans-Serif\" font-size=\"14.00\">t2_inhibitorKills ≤ 2.5</text>\n<text text-anchor=\"start\" x=\"9780\" y=\"-156.8\" font-family=\"Helvetica,sans-Serif\" font-size=\"14.00\">entropy = 0.914</text>\n<text text-anchor=\"start\" x=\"9786.5\" y=\"-141.8\" font-family=\"Helvetica,sans-Serif\" font-size=\"14.00\">samples = 85</text>\n<text text-anchor=\"start\" x=\"9769.5\" y=\"-126.8\" font-family=\"Helvetica,sans-Serif\" font-size=\"14.00\">value = [57.0, 28.0]</text>\n<text text-anchor=\"start\" x=\"9800\" y=\"-111.8\" font-family=\"Helvetica,sans-Serif\" font-size=\"14.00\">class = 1</text>\n</g>\n<!-- 178&#45;&gt;182 -->\n<g id=\"edge182\" class=\"edge\">\n<title>178&#45;&gt;182</title>\n<path fill=\"none\" stroke=\"black\" d=\"M9692.76,-223.4C9710.59,-213.22 9729.87,-202.22 9748.12,-191.81\"/>\n<polygon fill=\"black\" stroke=\"black\" points=\"9750.03,-194.74 9756.98,-186.75 9746.56,-188.66 9750.03,-194.74\"/>\n</g>\n<!-- 180 -->\n<g id=\"node181\" class=\"node\">\n<title>180</title>\n<path fill=\"#e9975b\" stroke=\"black\" d=\"M9621,-68C9621,-68 9528,-68 9528,-68 9522,-68 9516,-62 9516,-56 9516,-56 9516,-12 9516,-12 9516,-6 9522,0 9528,0 9528,0 9621,0 9621,0 9627,0 9633,-6 9633,-12 9633,-12 9633,-56 9633,-56 9633,-62 9627,-68 9621,-68\"/>\n<text text-anchor=\"start\" x=\"9534.5\" y=\"-52.8\" font-family=\"Helvetica,sans-Serif\" font-size=\"14.00\">entropy = 0.6</text>\n<text text-anchor=\"start\" x=\"9529.5\" y=\"-37.8\" font-family=\"Helvetica,sans-Serif\" font-size=\"14.00\">samples = 178</text>\n<text text-anchor=\"start\" x=\"9524\" y=\"-22.8\" font-family=\"Helvetica,sans-Serif\" font-size=\"14.00\">value = [152, 26]</text>\n<text text-anchor=\"start\" x=\"9547\" y=\"-7.8\" font-family=\"Helvetica,sans-Serif\" font-size=\"14.00\">class = 1</text>\n</g>\n<!-- 179&#45;&gt;180 -->\n<g id=\"edge180\" class=\"edge\">\n<title>179&#45;&gt;180</title>\n<path fill=\"none\" stroke=\"black\" d=\"M9604.63,-103.73C9600.91,-95.24 9596.98,-86.28 9593.23,-77.73\"/>\n<polygon fill=\"black\" stroke=\"black\" points=\"9596.32,-76.05 9589.1,-68.3 9589.91,-78.86 9596.32,-76.05\"/>\n</g>\n<!-- 181 -->\n<g id=\"node182\" class=\"node\">\n<title>181</title>\n<path fill=\"#e58139\" stroke=\"black\" d=\"M9741.5,-68C9741.5,-68 9663.5,-68 9663.5,-68 9657.5,-68 9651.5,-62 9651.5,-56 9651.5,-56 9651.5,-12 9651.5,-12 9651.5,-6 9657.5,0 9663.5,0 9663.5,0 9741.5,0 9741.5,0 9747.5,0 9753.5,-6 9753.5,-12 9753.5,-12 9753.5,-56 9753.5,-56 9753.5,-62 9747.5,-68 9741.5,-68\"/>\n<text text-anchor=\"start\" x=\"9662.5\" y=\"-52.8\" font-family=\"Helvetica,sans-Serif\" font-size=\"14.00\">entropy = 0.0</text>\n<text text-anchor=\"start\" x=\"9661.5\" y=\"-37.8\" font-family=\"Helvetica,sans-Serif\" font-size=\"14.00\">samples = 34</text>\n<text text-anchor=\"start\" x=\"9659.5\" y=\"-22.8\" font-family=\"Helvetica,sans-Serif\" font-size=\"14.00\">value = [34, 0]</text>\n<text text-anchor=\"start\" x=\"9675\" y=\"-7.8\" font-family=\"Helvetica,sans-Serif\" font-size=\"14.00\">class = 1</text>\n</g>\n<!-- 179&#45;&gt;181 -->\n<g id=\"edge181\" class=\"edge\">\n<title>179&#45;&gt;181</title>\n<path fill=\"none\" stroke=\"black\" d=\"M9652.29,-103.73C9658.75,-94.88 9665.6,-85.51 9672.09,-76.63\"/>\n<polygon fill=\"black\" stroke=\"black\" points=\"9675.1,-78.44 9678.17,-68.3 9669.45,-74.31 9675.1,-78.44\"/>\n</g>\n<!-- 183 -->\n<g id=\"node184\" class=\"node\">\n<title>183</title>\n<path fill=\"#e99457\" stroke=\"black\" d=\"M9871,-68C9871,-68 9784,-68 9784,-68 9778,-68 9772,-62 9772,-56 9772,-56 9772,-12 9772,-12 9772,-6 9778,0 9784,0 9784,0 9871,0 9871,0 9877,0 9883,-6 9883,-12 9883,-12 9883,-56 9883,-56 9883,-62 9877,-68 9871,-68\"/>\n<text text-anchor=\"start\" x=\"9780\" y=\"-52.8\" font-family=\"Helvetica,sans-Serif\" font-size=\"14.00\">entropy = 0.559</text>\n<text text-anchor=\"start\" x=\"9786.5\" y=\"-37.8\" font-family=\"Helvetica,sans-Serif\" font-size=\"14.00\">samples = 23</text>\n<text text-anchor=\"start\" x=\"9784.5\" y=\"-22.8\" font-family=\"Helvetica,sans-Serif\" font-size=\"14.00\">value = [20, 3]</text>\n<text text-anchor=\"start\" x=\"9800\" y=\"-7.8\" font-family=\"Helvetica,sans-Serif\" font-size=\"14.00\">class = 1</text>\n</g>\n<!-- 182&#45;&gt;183 -->\n<g id=\"edge183\" class=\"edge\">\n<title>182&#45;&gt;183</title>\n<path fill=\"none\" stroke=\"black\" d=\"M9827.5,-103.73C9827.5,-95.52 9827.5,-86.86 9827.5,-78.56\"/>\n<polygon fill=\"black\" stroke=\"black\" points=\"9831,-78.3 9827.5,-68.3 9824,-78.3 9831,-78.3\"/>\n</g>\n<!-- 184 -->\n<g id=\"node185\" class=\"node\">\n<title>184</title>\n<path fill=\"#f7d6bf\" stroke=\"black\" d=\"M10000,-68C10000,-68 9913,-68 9913,-68 9907,-68 9901,-62 9901,-56 9901,-56 9901,-12 9901,-12 9901,-6 9907,0 9913,0 9913,0 10000,0 10000,0 10006,0 10012,-6 10012,-12 10012,-12 10012,-56 10012,-56 10012,-62 10006,-68 10000,-68\"/>\n<text text-anchor=\"start\" x=\"9909\" y=\"-52.8\" font-family=\"Helvetica,sans-Serif\" font-size=\"14.00\">entropy = 0.973</text>\n<text text-anchor=\"start\" x=\"9915.5\" y=\"-37.8\" font-family=\"Helvetica,sans-Serif\" font-size=\"14.00\">samples = 62</text>\n<text text-anchor=\"start\" x=\"9909.5\" y=\"-22.8\" font-family=\"Helvetica,sans-Serif\" font-size=\"14.00\">value = [37, 25]</text>\n<text text-anchor=\"start\" x=\"9929\" y=\"-7.8\" font-family=\"Helvetica,sans-Serif\" font-size=\"14.00\">class = 1</text>\n</g>\n<!-- 182&#45;&gt;184 -->\n<g id=\"edge184\" class=\"edge\">\n<title>182&#45;&gt;184</title>\n<path fill=\"none\" stroke=\"black\" d=\"M9875.53,-103.73C9886.6,-94.33 9898.36,-84.35 9909.39,-74.99\"/>\n<polygon fill=\"black\" stroke=\"black\" points=\"9911.91,-77.44 9917.27,-68.3 9907.38,-72.1 9911.91,-77.44\"/>\n</g>\n</g>\n</svg>\n",
            "text/plain": [
              "<graphviz.sources.Source at 0x7fac3195b4c0>"
            ]
          },
          "metadata": {},
          "execution_count": 19
        }
      ],
      "source": [
        "from sklearn import tree\n",
        "import graphviz\n",
        "dot_data = tree.export_graphviz(dt2, out_file=None, feature_names=x.columns,class_names=[\"1\",\"2\"],\n",
        "                     filled=True, rounded=True, special_characters=True)\n",
        "graph = graphviz.Source(dot_data)\n",
        "graph"
      ]
    },
    {
      "cell_type": "markdown",
      "metadata": {
        "id": "yBNWEFOsqYge"
      },
      "source": [
        "To evaluate our model, I used confusion matrix and classification report."
      ]
    },
    {
      "cell_type": "code",
      "execution_count": null,
      "metadata": {
        "_kg_hide-input": true,
        "colab": {
          "base_uri": "https://localhost:8080/"
        },
        "id": "OWonGkJeqYge",
        "outputId": "ce8efa7d-05ec-4346-a436-97c393860691"
      },
      "outputs": [
        {
          "output_type": "stream",
          "name": "stdout",
          "text": [
            "Classification report : \n",
            "               precision    recall  f1-score   support\n",
            "\n",
            "           1       0.96      0.97      0.97      7917\n",
            "           2       0.97      0.96      0.97      7518\n",
            "\n",
            "    accuracy                           0.97     15435\n",
            "   macro avg       0.97      0.97      0.97     15435\n",
            "weighted avg       0.97      0.97      0.97     15435\n",
            "\n"
          ]
        }
      ],
      "source": [
        "from sklearn.metrics import confusion_matrix,classification_report\n",
        "predicted_values = dt2.predict(x_test)\n",
        "cm=confusion_matrix(y_test,predicted_values)\n",
        "cr=classification_report(y_test,predicted_values)\n",
        "print('Classification report : \\n',cr)"
      ]
    },
    {
      "cell_type": "code",
      "execution_count": null,
      "metadata": {
        "_kg_hide-input": true,
        "colab": {
          "base_uri": "https://localhost:8080/",
          "height": 467
        },
        "id": "p-a3s4yHqYge",
        "outputId": "752ec780-e948-482f-f6af-b36fdcecab2e"
      },
      "outputs": [
        {
          "output_type": "execute_result",
          "data": {
            "text/plain": [
              "Text(0.5, 22.71666666666666, 'y_head')"
            ]
          },
          "metadata": {},
          "execution_count": 21
        },
        {
          "output_type": "display_data",
          "data": {
            "text/plain": [
              "<Figure size 640x480 with 1 Axes>"
            ],
            "image/png": "[encoded data removed]"
          },
          "metadata": {}
        }
      ],
      "source": [
        "g1 = sns.heatmap(cm,annot=True,fmt=\".1f\",cmap=\"flag\",cbar=False)\n",
        "g1.set_ylabel('y_true')\n",
        "g1.set_xlabel('y_head')"
      ]
    },
    {
      "cell_type": "markdown",
      "metadata": {
        "id": "2uuhNSwwqYge"
      },
      "source": [
        "As seen in the confusion matrix, our models knew 226 matches which win First team as  Second Team. Also it knew 295 matches which win Second Team as First Team. Now let's implement."
      ]
    },
    {
      "cell_type": "markdown",
      "metadata": {
        "id": "f4xWrfv-qYge"
      },
      "source": [
        "<a id=\"4\"></a> <br>\n",
        "**LET'S TRY!**"
      ]
    },
    {
      "cell_type": "markdown",
      "metadata": {
        "id": "JN9mHwjGqYge"
      },
      "source": [
        "Let's say:\n",
        "\n",
        "First team took First Blood, First Tower, First Baron, First Dragon and First Rift Herald and Second team only took First Inhibitor. And\n",
        "\n",
        "Team1 numbers of tower, inhibitor, Baron and dragon kills are 10,2,1,4 respectively and\n",
        "\n",
        "Team2 numbers of tower, inhibitor, Baron and dragon kills are 7,2,1,1 respectively.\n"
      ]
    },
    {
      "cell_type": "code",
      "execution_count": null,
      "metadata": {
        "_kg_hide-input": true,
        "colab": {
          "base_uri": "https://localhost:8080/",
          "height": 112
        },
        "id": "HyGOqwnUqYgi",
        "outputId": "c09ffda4-7103-49f3-972a-ad9d6f2fbd0b"
      },
      "outputs": [
        {
          "output_type": "execute_result",
          "data": {
            "text/plain": [
              "                  0            1                2            3             4   \\\n",
              "feature  first_blood  first_tower  first_inhibitor  first_Baron  first_Dragon   \n",
              "value              1            1                0            0             2   \n",
              "\n",
              "                       5         6             7         8          9   \\\n",
              "feature  first_RiftHerald  t1_tower  t1_inhibitor  t1_baron  t1_dragon   \n",
              "value                   2         5             0         0          2   \n",
              "\n",
              "               10            11        12         13  \n",
              "feature  t2_tower  t2_inhibitor  t2_baron  t2_dragon  \n",
              "value           1             0         0          1  "
            ],
            "text/html": [
              "\n",
              "  <div id=\"df-6829f90c-87b6-4e72-9cd4-aefbb1f1a13b\" class=\"colab-df-container\">\n",
              "    <div>\n",
              "<style scoped>\n",
              "    .dataframe tbody tr th:only-of-type {\n",
              "        vertical-align: middle;\n",
              "    }\n",
              "\n",
              "    .dataframe tbody tr th {\n",
              "        vertical-align: top;\n",
              "    }\n",
              "\n",
              "    .dataframe thead th {\n",
              "        text-align: right;\n",
              "    }\n",
              "</style>\n",
              "<table border=\"1\" class=\"dataframe\">\n",
              "  <thead>\n",
              "    <tr style=\"text-align: right;\">\n",
              "      <th></th>\n",
              "      <th>0</th>\n",
              "      <th>1</th>\n",
              "      <th>2</th>\n",
              "      <th>3</th>\n",
              "      <th>4</th>\n",
              "      <th>5</th>\n",
              "      <th>6</th>\n",
              "      <th>7</th>\n",
              "      <th>8</th>\n",
              "      <th>9</th>\n",
              "      <th>10</th>\n",
              "      <th>11</th>\n",
              "      <th>12</th>\n",
              "      <th>13</th>\n",
              "    </tr>\n",
              "  </thead>\n",
              "  <tbody>\n",
              "    <tr>\n",
              "      <th>feature</th>\n",
              "      <td>first_blood</td>\n",
              "      <td>first_tower</td>\n",
              "      <td>first_inhibitor</td>\n",
              "      <td>first_Baron</td>\n",
              "      <td>first_Dragon</td>\n",
              "      <td>first_RiftHerald</td>\n",
              "      <td>t1_tower</td>\n",
              "      <td>t1_inhibitor</td>\n",
              "      <td>t1_baron</td>\n",
              "      <td>t1_dragon</td>\n",
              "      <td>t2_tower</td>\n",
              "      <td>t2_inhibitor</td>\n",
              "      <td>t2_baron</td>\n",
              "      <td>t2_dragon</td>\n",
              "    </tr>\n",
              "    <tr>\n",
              "      <th>value</th>\n",
              "      <td>1</td>\n",
              "      <td>1</td>\n",
              "      <td>0</td>\n",
              "      <td>0</td>\n",
              "      <td>2</td>\n",
              "      <td>2</td>\n",
              "      <td>5</td>\n",
              "      <td>0</td>\n",
              "      <td>0</td>\n",
              "      <td>2</td>\n",
              "      <td>1</td>\n",
              "      <td>0</td>\n",
              "      <td>0</td>\n",
              "      <td>1</td>\n",
              "    </tr>\n",
              "  </tbody>\n",
              "</table>\n",
              "</div>\n",
              "    <div class=\"colab-df-buttons\">\n",
              "\n",
              "  <div class=\"colab-df-container\">\n",
              "    <button class=\"colab-df-convert\" onclick=\"convertToInteractive('df-6829f90c-87b6-4e72-9cd4-aefbb1f1a13b')\"\n",
              "            title=\"Convert this dataframe to an interactive table.\"\n",
              "            style=\"display:none;\">\n",
              "\n",
              "  <svg xmlns=\"http://www.w3.org/2000/svg\" height=\"24px\" viewBox=\"0 -960 960 960\">\n",
              "    <path d=\"M120-120v-720h720v720H120Zm60-500h600v-160H180v160Zm220 220h160v-160H400v160Zm0 220h160v-160H400v160ZM180-400h160v-160H180v160Zm440 0h160v-160H620v160ZM180-180h160v-160H180v160Zm440 0h160v-160H620v160Z\"/>\n",
              "  </svg>\n",
              "    </button>\n",
              "\n",
              "  <style>\n",
              "    .colab-df-container {\n",
              "      display:flex;\n",
              "      gap: 12px;\n",
              "    }\n",
              "\n",
              "    .colab-df-convert {\n",
              "      background-color: #E8F0FE;\n",
              "      border: none;\n",
              "      border-radius: 50%;\n",
              "      cursor: pointer;\n",
              "      display: none;\n",
              "      fill: #1967D2;\n",
              "      height: 32px;\n",
              "      padding: 0 0 0 0;\n",
              "      width: 32px;\n",
              "    }\n",
              "\n",
              "    .colab-df-convert:hover {\n",
              "      background-color: #E2EBFA;\n",
              "      box-shadow: 0px 1px 2px rgba(60, 64, 67, 0.3), 0px 1px 3px 1px rgba(60, 64, 67, 0.15);\n",
              "      fill: #174EA6;\n",
              "    }\n",
              "\n",
              "    .colab-df-buttons div {\n",
              "      margin-bottom: 4px;\n",
              "    }\n",
              "\n",
              "    [theme=dark] .colab-df-convert {\n",
              "      background-color: #3B4455;\n",
              "      fill: #D2E3FC;\n",
              "    }\n",
              "\n",
              "    [theme=dark] .colab-df-convert:hover {\n",
              "      background-color: #434B5C;\n",
              "      box-shadow: 0px 1px 3px 1px rgba(0, 0, 0, 0.15);\n",
              "      filter: drop-shadow(0px 1px 2px rgba(0, 0, 0, 0.3));\n",
              "      fill: #FFFFFF;\n",
              "    }\n",
              "  </style>\n",
              "\n",
              "    <script>\n",
              "      const buttonEl =\n",
              "        document.querySelector('#df-6829f90c-87b6-4e72-9cd4-aefbb1f1a13b button.colab-df-convert');\n",
              "      buttonEl.style.display =\n",
              "        google.colab.kernel.accessAllowed ? 'block' : 'none';\n",
              "\n",
              "      async function convertToInteractive(key) {\n",
              "        const element = document.querySelector('#df-6829f90c-87b6-4e72-9cd4-aefbb1f1a13b');\n",
              "        const dataTable =\n",
              "          await google.colab.kernel.invokeFunction('convertToInteractive',\n",
              "                                                    [key], {});\n",
              "        if (!dataTable) return;\n",
              "\n",
              "        const docLinkHtml = 'Like what you see? Visit the ' +\n",
              "          '<a target=\"_blank\" href=https://colab.research.google.com/notebooks/data_table.ipynb>data table notebook</a>'\n",
              "          + ' to learn more about interactive tables.';\n",
              "        element.innerHTML = '';\n",
              "        dataTable['output_type'] = 'display_data';\n",
              "        await google.colab.output.renderOutput(dataTable, element);\n",
              "        const docLink = document.createElement('div');\n",
              "        docLink.innerHTML = docLinkHtml;\n",
              "        element.appendChild(docLink);\n",
              "      }\n",
              "    </script>\n",
              "  </div>\n",
              "\n",
              "\n",
              "<div id=\"df-f7bc93e9-e484-49f7-82cb-af67d48ee01f\">\n",
              "  <button class=\"colab-df-quickchart\" onclick=\"quickchart('df-f7bc93e9-e484-49f7-82cb-af67d48ee01f')\"\n",
              "            title=\"Suggest charts\"\n",
              "            style=\"display:none;\">\n",
              "\n",
              "<svg xmlns=\"http://www.w3.org/2000/svg\" height=\"24px\"viewBox=\"0 0 24 24\"\n",
              "     width=\"24px\">\n",
              "    <g>\n",
              "        <path d=\"M19 3H5c-1.1 0-2 .9-2 2v14c0 1.1.9 2 2 2h14c1.1 0 2-.9 2-2V5c0-1.1-.9-2-2-2zM9 17H7v-7h2v7zm4 0h-2V7h2v10zm4 0h-2v-4h2v4z\"/>\n",
              "    </g>\n",
              "</svg>\n",
              "  </button>\n",
              "\n",
              "<style>\n",
              "  .colab-df-quickchart {\n",
              "      --bg-color: #E8F0FE;\n",
              "      --fill-color: #1967D2;\n",
              "      --hover-bg-color: #E2EBFA;\n",
              "      --hover-fill-color: #174EA6;\n",
              "      --disabled-fill-color: #AAA;\n",
              "      --disabled-bg-color: #DDD;\n",
              "  }\n",
              "\n",
              "  [theme=dark] .colab-df-quickchart {\n",
              "      --bg-color: #3B4455;\n",
              "      --fill-color: #D2E3FC;\n",
              "      --hover-bg-color: #434B5C;\n",
              "      --hover-fill-color: #FFFFFF;\n",
              "      --disabled-bg-color: #3B4455;\n",
              "      --disabled-fill-color: #666;\n",
              "  }\n",
              "\n",
              "  .colab-df-quickchart {\n",
              "    background-color: var(--bg-color);\n",
              "    border: none;\n",
              "    border-radius: 50%;\n",
              "    cursor: pointer;\n",
              "    display: none;\n",
              "    fill: var(--fill-color);\n",
              "    height: 32px;\n",
              "    padding: 0;\n",
              "    width: 32px;\n",
              "  }\n",
              "\n",
              "  .colab-df-quickchart:hover {\n",
              "    background-color: var(--hover-bg-color);\n",
              "    box-shadow: 0 1px 2px rgba(60, 64, 67, 0.3), 0 1px 3px 1px rgba(60, 64, 67, 0.15);\n",
              "    fill: var(--button-hover-fill-color);\n",
              "  }\n",
              "\n",
              "  .colab-df-quickchart-complete:disabled,\n",
              "  .colab-df-quickchart-complete:disabled:hover {\n",
              "    background-color: var(--disabled-bg-color);\n",
              "    fill: var(--disabled-fill-color);\n",
              "    box-shadow: none;\n",
              "  }\n",
              "\n",
              "  .colab-df-spinner {\n",
              "    border: 2px solid var(--fill-color);\n",
              "    border-color: transparent;\n",
              "    border-bottom-color: var(--fill-color);\n",
              "    animation:\n",
              "      spin 1s steps(1) infinite;\n",
              "  }\n",
              "\n",
              "  @keyframes spin {\n",
              "    0% {\n",
              "      border-color: transparent;\n",
              "      border-bottom-color: var(--fill-color);\n",
              "      border-left-color: var(--fill-color);\n",
              "    }\n",
              "    20% {\n",
              "      border-color: transparent;\n",
              "      border-left-color: var(--fill-color);\n",
              "      border-top-color: var(--fill-color);\n",
              "    }\n",
              "    30% {\n",
              "      border-color: transparent;\n",
              "      border-left-color: var(--fill-color);\n",
              "      border-top-color: var(--fill-color);\n",
              "      border-right-color: var(--fill-color);\n",
              "    }\n",
              "    40% {\n",
              "      border-color: transparent;\n",
              "      border-right-color: var(--fill-color);\n",
              "      border-top-color: var(--fill-color);\n",
              "    }\n",
              "    60% {\n",
              "      border-color: transparent;\n",
              "      border-right-color: var(--fill-color);\n",
              "    }\n",
              "    80% {\n",
              "      border-color: transparent;\n",
              "      border-right-color: var(--fill-color);\n",
              "      border-bottom-color: var(--fill-color);\n",
              "    }\n",
              "    90% {\n",
              "      border-color: transparent;\n",
              "      border-bottom-color: var(--fill-color);\n",
              "    }\n",
              "  }\n",
              "</style>\n",
              "\n",
              "  <script>\n",
              "    async function quickchart(key) {\n",
              "      const quickchartButtonEl =\n",
              "        document.querySelector('#' + key + ' button');\n",
              "      quickchartButtonEl.disabled = true;  // To prevent multiple clicks.\n",
              "      quickchartButtonEl.classList.add('colab-df-spinner');\n",
              "      try {\n",
              "        const charts = await google.colab.kernel.invokeFunction(\n",
              "            'suggestCharts', [key], {});\n",
              "      } catch (error) {\n",
              "        console.error('Error during call to suggestCharts:', error);\n",
              "      }\n",
              "      quickchartButtonEl.classList.remove('colab-df-spinner');\n",
              "      quickchartButtonEl.classList.add('colab-df-quickchart-complete');\n",
              "    }\n",
              "    (() => {\n",
              "      let quickchartButtonEl =\n",
              "        document.querySelector('#df-f7bc93e9-e484-49f7-82cb-af67d48ee01f button');\n",
              "      quickchartButtonEl.style.display =\n",
              "        google.colab.kernel.accessAllowed ? 'block' : 'none';\n",
              "    })();\n",
              "  </script>\n",
              "</div>\n",
              "\n",
              "    </div>\n",
              "  </div>\n"
            ],
            "application/vnd.google.colaboratory.intrinsic+json": {
              "type": "dataframe",
              "summary": "{\n  \"name\": \"scen\",\n  \"rows\": 2,\n  \"fields\": [\n    {\n      \"column\": 0,\n      \"properties\": {\n        \"dtype\": \"string\",\n        \"num_unique_values\": 2,\n        \"samples\": [\n          1,\n          \"first_blood\"\n        ],\n        \"semantic_type\": \"\",\n        \"description\": \"\"\n      }\n    },\n    {\n      \"column\": 1,\n      \"properties\": {\n        \"dtype\": \"string\",\n        \"num_unique_values\": 2,\n        \"samples\": [\n          1,\n          \"first_tower\"\n        ],\n        \"semantic_type\": \"\",\n        \"description\": \"\"\n      }\n    },\n    {\n      \"column\": 2,\n      \"properties\": {\n        \"dtype\": \"string\",\n        \"num_unique_values\": 2,\n        \"samples\": [\n          0,\n          \"first_inhibitor\"\n        ],\n        \"semantic_type\": \"\",\n        \"description\": \"\"\n      }\n    },\n    {\n      \"column\": 3,\n      \"properties\": {\n        \"dtype\": \"string\",\n        \"num_unique_values\": 2,\n        \"samples\": [\n          0,\n          \"first_Baron\"\n        ],\n        \"semantic_type\": \"\",\n        \"description\": \"\"\n      }\n    },\n    {\n      \"column\": 4,\n      \"properties\": {\n        \"dtype\": \"string\",\n        \"num_unique_values\": 2,\n        \"samples\": [\n          2,\n          \"first_Dragon\"\n        ],\n        \"semantic_type\": \"\",\n        \"description\": \"\"\n      }\n    },\n    {\n      \"column\": 5,\n      \"properties\": {\n        \"dtype\": \"string\",\n        \"num_unique_values\": 2,\n        \"samples\": [\n          2,\n          \"first_RiftHerald\"\n        ],\n        \"semantic_type\": \"\",\n        \"description\": \"\"\n      }\n    },\n    {\n      \"column\": 6,\n      \"properties\": {\n        \"dtype\": \"string\",\n        \"num_unique_values\": 2,\n        \"samples\": [\n          5,\n          \"t1_tower\"\n        ],\n        \"semantic_type\": \"\",\n        \"description\": \"\"\n      }\n    },\n    {\n      \"column\": 7,\n      \"properties\": {\n        \"dtype\": \"string\",\n        \"num_unique_values\": 2,\n        \"samples\": [\n          0,\n          \"t1_inhibitor\"\n        ],\n        \"semantic_type\": \"\",\n        \"description\": \"\"\n      }\n    },\n    {\n      \"column\": 8,\n      \"properties\": {\n        \"dtype\": \"string\",\n        \"num_unique_values\": 2,\n        \"samples\": [\n          0,\n          \"t1_baron\"\n        ],\n        \"semantic_type\": \"\",\n        \"description\": \"\"\n      }\n    },\n    {\n      \"column\": 9,\n      \"properties\": {\n        \"dtype\": \"string\",\n        \"num_unique_values\": 2,\n        \"samples\": [\n          2,\n          \"t1_dragon\"\n        ],\n        \"semantic_type\": \"\",\n        \"description\": \"\"\n      }\n    },\n    {\n      \"column\": 10,\n      \"properties\": {\n        \"dtype\": \"string\",\n        \"num_unique_values\": 2,\n        \"samples\": [\n          1,\n          \"t2_tower\"\n        ],\n        \"semantic_type\": \"\",\n        \"description\": \"\"\n      }\n    },\n    {\n      \"column\": 11,\n      \"properties\": {\n        \"dtype\": \"string\",\n        \"num_unique_values\": 2,\n        \"samples\": [\n          0,\n          \"t2_inhibitor\"\n        ],\n        \"semantic_type\": \"\",\n        \"description\": \"\"\n      }\n    },\n    {\n      \"column\": 12,\n      \"properties\": {\n        \"dtype\": \"string\",\n        \"num_unique_values\": 2,\n        \"samples\": [\n          0,\n          \"t2_baron\"\n        ],\n        \"semantic_type\": \"\",\n        \"description\": \"\"\n      }\n    },\n    {\n      \"column\": 13,\n      \"properties\": {\n        \"dtype\": \"string\",\n        \"num_unique_values\": 2,\n        \"samples\": [\n          1,\n          \"t2_dragon\"\n        ],\n        \"semantic_type\": \"\",\n        \"description\": \"\"\n      }\n    }\n  ]\n}"
            }
          },
          "metadata": {},
          "execution_count": 22
        }
      ],
      "source": [
        "scenario={\"feature\":[\"first_blood\",\"first_tower\",\"first_inhibitor\",\"first_Baron\",\"first_Dragon\",\"first_RiftHerald\",\n",
        "\"t1_tower\",\"t1_inhibitor\",\"t1_baron\",\"t1_dragon\",\"t2_tower\",\"t2_inhibitor\",\"t2_baron\",\"t2_dragon\"],\n",
        "         \"value\":[1,1,0,0,2,2,5,0,0,2,1,0,0,1]}\n",
        "scen=pd.DataFrame(scenario)\n",
        "scen.T"
      ]
    },
    {
      "cell_type": "code",
      "execution_count": null,
      "metadata": {
        "_kg_hide-input": true,
        "colab": {
          "base_uri": "https://localhost:8080/"
        },
        "id": "ydGEHaZbqYgi",
        "outputId": "99c0b424-0311-4eb0-c6a1-f61d0f19bffe"
      },
      "outputs": [
        {
          "output_type": "stream",
          "name": "stdout",
          "text": [
            "winner is : [1]\n",
            "first team win probability is %  [99.78339350180505] \n",
            "second team win probability is %: [0.21660649819494585]\n"
          ]
        }
      ],
      "source": [
        "x1=[[1,1,0,0,2,2,5,0,0,2,1,0,0,1]]\n",
        "c=dt2.predict_proba(x1).reshape(-1,1)\n",
        "print(\"winner is :\" , dt2.predict(x1) )\n",
        "print(\"first team win probability is % \", list(c[0]*100),\"\\nsecond team win probability is %:\",list(c[1]*100)  )"
      ]
    },
    {
      "cell_type": "markdown",
      "metadata": {
        "id": "E3k81EsfqYgi"
      },
      "source": [
        "Our model says The winner will be First Team with 85% probability."
      ]
    },
    {
      "cell_type": "markdown",
      "metadata": {
        "id": "_DCuK11FqYgi"
      },
      "source": [
        "WHAT HAPPENED EARLY SURRENDER SITUATION?"
      ]
    },
    {
      "cell_type": "markdown",
      "metadata": {
        "id": "Gl_SbztpqYgi"
      },
      "source": [
        "In addition, at the beginning of the LOL game players can give an early surrender as a result of AFK. In this case, if the first blood is not shed, our model predicts the result of the match as 51% - 49%."
      ]
    },
    {
      "cell_type": "code",
      "execution_count": null,
      "metadata": {
        "id": "sQQgNMfeqYgj",
        "outputId": "6a33dee5-7c7d-4f63-eade-1b37a88d530b",
        "colab": {
          "base_uri": "https://localhost:8080/"
        }
      },
      "outputs": [
        {
          "output_type": "stream",
          "name": "stdout",
          "text": [
            "winner is : [1]\n",
            "first team win probability is %  [50.991501416430594] \n",
            "second team win probability is %: [49.008498583569406]\n"
          ]
        }
      ],
      "source": [
        "x2=[[0,0,0,0,0,0,0,0,0,0,0,0,0,0]]\n",
        "c=dt2.predict_proba(x2).reshape(-1,1)\n",
        "print(\"winner is :\" , dt2.predict(x2) )\n",
        "print(\"first team win probability is % \", list(c[0]*100),\"\\nsecond team win probability is %:\",list(c[1]*100)  )"
      ]
    },
    {
      "cell_type": "code",
      "source": [
        "import joblib\n",
        "\n",
        "# Save the trained model to a file\n",
        "joblib.dump(dt2, '/content/decision_tree_model.pkl')\n",
        "\n",
        "print(\"Model saved as decision_tree_model.pkl\")\n"
      ],
      "metadata": {
        "colab": {
          "base_uri": "https://localhost:8080/"
        },
        "id": "rASMy1zJBRuZ",
        "outputId": "5d3c7f88-9702-4a44-d17f-7dd1bc0274ba"
      },
      "execution_count": null,
      "outputs": [
        {
          "output_type": "stream",
          "name": "stdout",
          "text": [
            "Model saved as decision_tree_model.pkl\n"
          ]
        }
      ]
    },
    {
      "cell_type": "code",
      "source": [
        "!pip install streamlit pyngrok joblib\n"
      ],
      "metadata": {
        "colab": {
          "base_uri": "https://localhost:8080/"
        },
        "id": "UxP1O12MDnCD",
        "outputId": "a720c003-d14a-40ec-ec78-304c8b130ccf"
      },
      "execution_count": null,
      "outputs": [
        {
          "output_type": "stream",
          "name": "stdout",
          "text": [
            "Collecting streamlit\n",
            "  Downloading streamlit-1.41.1-py2.py3-none-any.whl.metadata (8.5 kB)\n",
            "Collecting pyngrok\n",
            "  Downloading pyngrok-7.2.2-py3-none-any.whl.metadata (8.4 kB)\n",
            "Requirement already satisfied: joblib in /usr/local/lib/python3.10/dist-packages (1.4.2)\n",
            "Requirement already satisfied: altair<6,>=4.0 in /usr/local/lib/python3.10/dist-packages (from streamlit) (5.5.0)\n",
            "Requirement already satisfied: blinker<2,>=1.0.0 in /usr/local/lib/python3.10/dist-packages (from streamlit) (1.9.0)\n",
            "Requirement already satisfied: cachetools<6,>=4.0 in /usr/local/lib/python3.10/dist-packages (from streamlit) (5.5.0)\n",
            "Requirement already satisfied: click<9,>=7.0 in /usr/local/lib/python3.10/dist-packages (from streamlit) (8.1.7)\n",
            "Requirement already satisfied: numpy<3,>=1.23 in /usr/local/lib/python3.10/dist-packages (from streamlit) (1.26.4)\n",
            "Requirement already satisfied: packaging<25,>=20 in /usr/local/lib/python3.10/dist-packages (from streamlit) (24.2)\n",
            "Requirement already satisfied: pandas<3,>=1.4.0 in /usr/local/lib/python3.10/dist-packages (from streamlit) (2.2.2)\n",
            "Requirement already satisfied: pillow<12,>=7.1.0 in /usr/local/lib/python3.10/dist-packages (from streamlit) (11.0.0)\n",
            "Requirement already satisfied: protobuf<6,>=3.20 in /usr/local/lib/python3.10/dist-packages (from streamlit) (4.25.5)\n",
            "Requirement already satisfied: pyarrow>=7.0 in /usr/local/lib/python3.10/dist-packages (from streamlit) (17.0.0)\n",
            "Requirement already satisfied: requests<3,>=2.27 in /usr/local/lib/python3.10/dist-packages (from streamlit) (2.32.3)\n",
            "Requirement already satisfied: rich<14,>=10.14.0 in /usr/local/lib/python3.10/dist-packages (from streamlit) (13.9.4)\n",
            "Requirement already satisfied: tenacity<10,>=8.1.0 in /usr/local/lib/python3.10/dist-packages (from streamlit) (9.0.0)\n",
            "Requirement already satisfied: toml<2,>=0.10.1 in /usr/local/lib/python3.10/dist-packages (from streamlit) (0.10.2)\n",
            "Requirement already satisfied: typing-extensions<5,>=4.3.0 in /usr/local/lib/python3.10/dist-packages (from streamlit) (4.12.2)\n",
            "Collecting watchdog<7,>=2.1.5 (from streamlit)\n",
            "  Downloading watchdog-6.0.0-py3-none-manylinux2014_x86_64.whl.metadata (44 kB)\n",
            "\u001b[2K     \u001b[90m━━━━━━━━━━━━━━━━━━━━━━━━━━━━━━━━━━━━━━━━\u001b[0m \u001b[32m44.3/44.3 kB\u001b[0m \u001b[31m2.0 MB/s\u001b[0m eta \u001b[36m0:00:00\u001b[0m\n",
            "\u001b[?25hRequirement already satisfied: gitpython!=3.1.19,<4,>=3.0.7 in /usr/local/lib/python3.10/dist-packages (from streamlit) (3.1.43)\n",
            "Collecting pydeck<1,>=0.8.0b4 (from streamlit)\n",
            "  Downloading pydeck-0.9.1-py2.py3-none-any.whl.metadata (4.1 kB)\n",
            "Requirement already satisfied: tornado<7,>=6.0.3 in /usr/local/lib/python3.10/dist-packages (from streamlit) (6.3.3)\n",
            "Requirement already satisfied: PyYAML>=5.1 in /usr/local/lib/python3.10/dist-packages (from pyngrok) (6.0.2)\n",
            "Requirement already satisfied: jinja2 in /usr/local/lib/python3.10/dist-packages (from altair<6,>=4.0->streamlit) (3.1.4)\n",
            "Requirement already satisfied: jsonschema>=3.0 in /usr/local/lib/python3.10/dist-packages (from altair<6,>=4.0->streamlit) (4.23.0)\n",
            "Requirement already satisfied: narwhals>=1.14.2 in /usr/local/lib/python3.10/dist-packages (from altair<6,>=4.0->streamlit) (1.18.4)\n",
            "Requirement already satisfied: gitdb<5,>=4.0.1 in /usr/local/lib/python3.10/dist-packages (from gitpython!=3.1.19,<4,>=3.0.7->streamlit) (4.0.11)\n",
            "Requirement already satisfied: python-dateutil>=2.8.2 in /usr/local/lib/python3.10/dist-packages (from pandas<3,>=1.4.0->streamlit) (2.8.2)\n",
            "Requirement already satisfied: pytz>=2020.1 in /usr/local/lib/python3.10/dist-packages (from pandas<3,>=1.4.0->streamlit) (2024.2)\n",
            "Requirement already satisfied: tzdata>=2022.7 in /usr/local/lib/python3.10/dist-packages (from pandas<3,>=1.4.0->streamlit) (2024.2)\n",
            "Requirement already satisfied: charset-normalizer<4,>=2 in /usr/local/lib/python3.10/dist-packages (from requests<3,>=2.27->streamlit) (3.4.0)\n",
            "Requirement already satisfied: idna<4,>=2.5 in /usr/local/lib/python3.10/dist-packages (from requests<3,>=2.27->streamlit) (3.10)\n",
            "Requirement already satisfied: urllib3<3,>=1.21.1 in /usr/local/lib/python3.10/dist-packages (from requests<3,>=2.27->streamlit) (2.2.3)\n",
            "Requirement already satisfied: certifi>=2017.4.17 in /usr/local/lib/python3.10/dist-packages (from requests<3,>=2.27->streamlit) (2024.12.14)\n",
            "Requirement already satisfied: markdown-it-py>=2.2.0 in /usr/local/lib/python3.10/dist-packages (from rich<14,>=10.14.0->streamlit) (3.0.0)\n",
            "Requirement already satisfied: pygments<3.0.0,>=2.13.0 in /usr/local/lib/python3.10/dist-packages (from rich<14,>=10.14.0->streamlit) (2.18.0)\n",
            "Requirement already satisfied: smmap<6,>=3.0.1 in /usr/local/lib/python3.10/dist-packages (from gitdb<5,>=4.0.1->gitpython!=3.1.19,<4,>=3.0.7->streamlit) (5.0.1)\n",
            "Requirement already satisfied: MarkupSafe>=2.0 in /usr/local/lib/python3.10/dist-packages (from jinja2->altair<6,>=4.0->streamlit) (3.0.2)\n",
            "Requirement already satisfied: attrs>=22.2.0 in /usr/local/lib/python3.10/dist-packages (from jsonschema>=3.0->altair<6,>=4.0->streamlit) (24.3.0)\n",
            "Requirement already satisfied: jsonschema-specifications>=2023.03.6 in /usr/local/lib/python3.10/dist-packages (from jsonschema>=3.0->altair<6,>=4.0->streamlit) (2024.10.1)\n",
            "Requirement already satisfied: referencing>=0.28.4 in /usr/local/lib/python3.10/dist-packages (from jsonschema>=3.0->altair<6,>=4.0->streamlit) (0.35.1)\n",
            "Requirement already satisfied: rpds-py>=0.7.1 in /usr/local/lib/python3.10/dist-packages (from jsonschema>=3.0->altair<6,>=4.0->streamlit) (0.22.3)\n",
            "Requirement already satisfied: mdurl~=0.1 in /usr/local/lib/python3.10/dist-packages (from markdown-it-py>=2.2.0->rich<14,>=10.14.0->streamlit) (0.1.2)\n",
            "Requirement already satisfied: six>=1.5 in /usr/local/lib/python3.10/dist-packages (from python-dateutil>=2.8.2->pandas<3,>=1.4.0->streamlit) (1.17.0)\n",
            "Downloading streamlit-1.41.1-py2.py3-none-any.whl (9.1 MB)\n",
            "\u001b[2K   \u001b[90m━━━━━━━━━━━━━━━━━━━━━━━━━━━━━━━━━━━━━━━━\u001b[0m \u001b[32m9.1/9.1 MB\u001b[0m \u001b[31m67.1 MB/s\u001b[0m eta \u001b[36m0:00:00\u001b[0m\n",
            "\u001b[?25hDownloading pyngrok-7.2.2-py3-none-any.whl (22 kB)\n",
            "Downloading pydeck-0.9.1-py2.py3-none-any.whl (6.9 MB)\n",
            "\u001b[2K   \u001b[90m━━━━━━━━━━━━━━━━━━━━━━━━━━━━━━━━━━━━━━━━\u001b[0m \u001b[32m6.9/6.9 MB\u001b[0m \u001b[31m81.9 MB/s\u001b[0m eta \u001b[36m0:00:00\u001b[0m\n",
            "\u001b[?25hDownloading watchdog-6.0.0-py3-none-manylinux2014_x86_64.whl (79 kB)\n",
            "\u001b[2K   \u001b[90m━━━━━━━━━━━━━━━━━━━━━━━━━━━━━━━━━━━━━━━━\u001b[0m \u001b[32m79.1/79.1 kB\u001b[0m \u001b[31m7.5 MB/s\u001b[0m eta \u001b[36m0:00:00\u001b[0m\n",
            "\u001b[?25hInstalling collected packages: watchdog, pyngrok, pydeck, streamlit\n",
            "Successfully installed pydeck-0.9.1 pyngrok-7.2.2 streamlit-1.41.1 watchdog-6.0.0\n"
          ]
        }
      ]
    },
    {
      "cell_type": "code",
      "source": [
        "from google.colab import files\n",
        "uploaded = files.upload()\n"
      ],
      "metadata": {
        "colab": {
          "base_uri": "https://localhost:8080/",
          "height": 74
        },
        "id": "NSpUmCDcDqc-",
        "outputId": "ba993d10-af92-40c5-a852-51946de08131"
      },
      "execution_count": null,
      "outputs": [
        {
          "output_type": "display_data",
          "data": {
            "text/plain": [
              "<IPython.core.display.HTML object>"
            ],
            "text/html": [
              "\n",
              "     <input type=\"file\" id=\"files-85be08fd-a39d-415d-b3b0-f3a7ba7aa30c\" name=\"files[]\" multiple disabled\n",
              "        style=\"border:none\" />\n",
              "     <output id=\"result-85be08fd-a39d-415d-b3b0-f3a7ba7aa30c\">\n",
              "      Upload widget is only available when the cell has been executed in the\n",
              "      current browser session. Please rerun this cell to enable.\n",
              "      </output>\n",
              "      <script>// Copyright 2017 Google LLC\n",
              "//\n",
              "// Licensed under the Apache License, Version 2.0 (the \"License\");\n",
              "// you may not use this file except in compliance with the License.\n",
              "// You may obtain a copy of the License at\n",
              "//\n",
              "//      http://www.apache.org/licenses/LICENSE-2.0\n",
              "//\n",
              "// Unless required by applicable law or agreed to in writing, software\n",
              "// distributed under the License is distributed on an \"AS IS\" BASIS,\n",
              "// WITHOUT WARRANTIES OR CONDITIONS OF ANY KIND, either express or implied.\n",
              "// See the License for the specific language governing permissions and\n",
              "// limitations under the License.\n",
              "\n",
              "/**\n",
              " * @fileoverview Helpers for google.colab Python module.\n",
              " */\n",
              "(function(scope) {\n",
              "function span(text, styleAttributes = {}) {\n",
              "  const element = document.createElement('span');\n",
              "  element.textContent = text;\n",
              "  for (const key of Object.keys(styleAttributes)) {\n",
              "    element.style[key] = styleAttributes[key];\n",
              "  }\n",
              "  return element;\n",
              "}\n",
              "\n",
              "// Max number of bytes which will be uploaded at a time.\n",
              "const MAX_PAYLOAD_SIZE = 100 * 1024;\n",
              "\n",
              "function _uploadFiles(inputId, outputId) {\n",
              "  const steps = uploadFilesStep(inputId, outputId);\n",
              "  const outputElement = document.getElementById(outputId);\n",
              "  // Cache steps on the outputElement to make it available for the next call\n",
              "  // to uploadFilesContinue from Python.\n",
              "  outputElement.steps = steps;\n",
              "\n",
              "  return _uploadFilesContinue(outputId);\n",
              "}\n",
              "\n",
              "// This is roughly an async generator (not supported in the browser yet),\n",
              "// where there are multiple asynchronous steps and the Python side is going\n",
              "// to poll for completion of each step.\n",
              "// This uses a Promise to block the python side on completion of each step,\n",
              "// then passes the result of the previous step as the input to the next step.\n",
              "function _uploadFilesContinue(outputId) {\n",
              "  const outputElement = document.getElementById(outputId);\n",
              "  const steps = outputElement.steps;\n",
              "\n",
              "  const next = steps.next(outputElement.lastPromiseValue);\n",
              "  return Promise.resolve(next.value.promise).then((value) => {\n",
              "    // Cache the last promise value to make it available to the next\n",
              "    // step of the generator.\n",
              "    outputElement.lastPromiseValue = value;\n",
              "    return next.value.response;\n",
              "  });\n",
              "}\n",
              "\n",
              "/**\n",
              " * Generator function which is called between each async step of the upload\n",
              " * process.\n",
              " * @param {string} inputId Element ID of the input file picker element.\n",
              " * @param {string} outputId Element ID of the output display.\n",
              " * @return {!Iterable<!Object>} Iterable of next steps.\n",
              " */\n",
              "function* uploadFilesStep(inputId, outputId) {\n",
              "  const inputElement = document.getElementById(inputId);\n",
              "  inputElement.disabled = false;\n",
              "\n",
              "  const outputElement = document.getElementById(outputId);\n",
              "  outputElement.innerHTML = '';\n",
              "\n",
              "  const pickedPromise = new Promise((resolve) => {\n",
              "    inputElement.addEventListener('change', (e) => {\n",
              "      resolve(e.target.files);\n",
              "    });\n",
              "  });\n",
              "\n",
              "  const cancel = document.createElement('button');\n",
              "  inputElement.parentElement.appendChild(cancel);\n",
              "  cancel.textContent = 'Cancel upload';\n",
              "  const cancelPromise = new Promise((resolve) => {\n",
              "    cancel.onclick = () => {\n",
              "      resolve(null);\n",
              "    };\n",
              "  });\n",
              "\n",
              "  // Wait for the user to pick the files.\n",
              "  const files = yield {\n",
              "    promise: Promise.race([pickedPromise, cancelPromise]),\n",
              "    response: {\n",
              "      action: 'starting',\n",
              "    }\n",
              "  };\n",
              "\n",
              "  cancel.remove();\n",
              "\n",
              "  // Disable the input element since further picks are not allowed.\n",
              "  inputElement.disabled = true;\n",
              "\n",
              "  if (!files) {\n",
              "    return {\n",
              "      response: {\n",
              "        action: 'complete',\n",
              "      }\n",
              "    };\n",
              "  }\n",
              "\n",
              "  for (const file of files) {\n",
              "    const li = document.createElement('li');\n",
              "    li.append(span(file.name, {fontWeight: 'bold'}));\n",
              "    li.append(span(\n",
              "        `(${file.type || 'n/a'}) - ${file.size} bytes, ` +\n",
              "        `last modified: ${\n",
              "            file.lastModifiedDate ? file.lastModifiedDate.toLocaleDateString() :\n",
              "                                    'n/a'} - `));\n",
              "    const percent = span('0% done');\n",
              "    li.appendChild(percent);\n",
              "\n",
              "    outputElement.appendChild(li);\n",
              "\n",
              "    const fileDataPromise = new Promise((resolve) => {\n",
              "      const reader = new FileReader();\n",
              "      reader.onload = (e) => {\n",
              "        resolve(e.target.result);\n",
              "      };\n",
              "      reader.readAsArrayBuffer(file);\n",
              "    });\n",
              "    // Wait for the data to be ready.\n",
              "    let fileData = yield {\n",
              "      promise: fileDataPromise,\n",
              "      response: {\n",
              "        action: 'continue',\n",
              "      }\n",
              "    };\n",
              "\n",
              "    // Use a chunked sending to avoid message size limits. See b/62115660.\n",
              "    let position = 0;\n",
              "    do {\n",
              "      const length = Math.min(fileData.byteLength - position, MAX_PAYLOAD_SIZE);\n",
              "      const chunk = new Uint8Array(fileData, position, length);\n",
              "      position += length;\n",
              "\n",
              "      const base64 = btoa(String.fromCharCode.apply(null, chunk));\n",
              "      yield {\n",
              "        response: {\n",
              "          action: 'append',\n",
              "          file: file.name,\n",
              "          data: base64,\n",
              "        },\n",
              "      };\n",
              "\n",
              "      let percentDone = fileData.byteLength === 0 ?\n",
              "          100 :\n",
              "          Math.round((position / fileData.byteLength) * 100);\n",
              "      percent.textContent = `${percentDone}% done`;\n",
              "\n",
              "    } while (position < fileData.byteLength);\n",
              "  }\n",
              "\n",
              "  // All done.\n",
              "  yield {\n",
              "    response: {\n",
              "      action: 'complete',\n",
              "    }\n",
              "  };\n",
              "}\n",
              "\n",
              "scope.google = scope.google || {};\n",
              "scope.google.colab = scope.google.colab || {};\n",
              "scope.google.colab._files = {\n",
              "  _uploadFiles,\n",
              "  _uploadFilesContinue,\n",
              "};\n",
              "})(self);\n",
              "</script> "
            ]
          },
          "metadata": {}
        },
        {
          "output_type": "stream",
          "name": "stdout",
          "text": [
            "Saving decision_tree_model.pkl to decision_tree_model (1).pkl\n"
          ]
        }
      ]
    },
    {
      "cell_type": "code",
      "source": [
        "import streamlit as st\n",
        "import joblib\n",
        "import numpy as np\n",
        "\n",
        "# Load the trained model\n",
        "model = joblib.load('decision_tree_model.pkl')\n",
        "\n",
        "# Set up Streamlit app interface\n",
        "st.title('Game Outcome Prediction')\n",
        "\n",
        "# Input fields for Team 1 and Team 2's data\n",
        "st.header('Enter the features for prediction')\n",
        "\n",
        "# Create two columns for Team 1 and Team 2 input fields (cards layout)\n",
        "col1, col2 = st.columns(2)\n",
        "\n",
        "# Team 1 Inputs (First team) on the left side (col1)\n",
        "with col1:\n",
        "    st.subheader(\"Team 1\")\n",
        "    team1_first_blood = st.selectbox('Did Team 1 take First Blood?', ['Yes', 'No'])\n",
        "    team1_first_tower = st.selectbox('Did Team 1 take First Tower?', ['Yes', 'No'])\n",
        "    team1_first_baron = st.selectbox('Did Team 1 take First Baron?', ['Yes', 'No'])\n",
        "    team1_first_dragon = st.selectbox('Did Team 1 take First Dragon?', ['Yes', 'No'])\n",
        "    team1_first_rift_herald = st.selectbox('Did Team 1 take First Rift Herald?', ['Yes', 'No'])\n",
        "\n",
        "    team1_tower_kills = st.number_input('Number of Tower Kills for Team 1:', min_value=0)\n",
        "    team1_inhibitor_kills = st.number_input('Number of Inhibitor Kills for Team 1:', min_value=0)\n",
        "    team1_baron_kills = st.number_input('Number of Baron Kills for Team 1:', min_value=0)\n",
        "    team1_dragon_kills = st.number_input('Number of Dragon Kills for Team 1:', min_value=0)\n",
        "\n",
        "# Team 2 Inputs (Second team) on the right side (col2)\n",
        "with col2:\n",
        "    st.subheader(\"Team 2\")\n",
        "    team2_first_inhibitor = st.selectbox('Did Team 2 take First Inhibitor?', ['Yes', 'No'])\n",
        "\n",
        "    team2_tower_kills = st.number_input('Number of Tower Kills for Team 2:', min_value=0)\n",
        "    team2_inhibitor_kills = st.number_input('Number of Inhibitor Kills for Team 2:', min_value=0)\n",
        "    team2_baron_kills = st.number_input('Number of Baron Kills for Team 2:', min_value=0)\n",
        "    team2_dragon_kills = st.number_input('Number of Dragon Kills for Team 2:', min_value=0)\n",
        "\n",
        "# Shared feature labels (between the two columns)\n",
        "st.markdown(\"\"\"\n",
        "    <div style=\"display: flex; justify-content: center; align-items: center; font-size: 20px;\">\n",
        "        <p style=\"width: 250px; text-align: center;\">Shared Features</p>\n",
        "    </div>\n",
        "\"\"\", unsafe_allow_html=True)\n",
        "\n",
        "# Mapping inputs to numerical values (for prediction)\n",
        "team1_first_blood = 1 if team1_first_blood == 'Yes' else 0\n",
        "team1_first_tower = 1 if team1_first_tower == 'Yes' else 0\n",
        "team1_first_baron = 1 if team1_first_baron == 'Yes' else 0\n",
        "team1_first_dragon = 1 if team1_first_dragon == 'Yes' else 0\n",
        "team1_first_rift_herald = 1 if team1_first_rift_herald == 'Yes' else 0\n",
        "team2_first_inhibitor = 1 if team2_first_inhibitor == 'Yes' else 0\n",
        "\n",
        "# When the user clicks 'Predict', make the prediction\n",
        "if st.button('Predict'):\n",
        "    # Prepare the input data in the same format as the model was trained on\n",
        "    input_data = np.array([[team1_first_blood, team1_first_tower, team1_first_baron,\n",
        "                            team1_first_dragon, team1_first_rift_herald, team2_first_inhibitor,\n",
        "                            team1_tower_kills, team1_inhibitor_kills, team1_baron_kills,\n",
        "                            team1_dragon_kills, team2_tower_kills, team2_inhibitor_kills,\n",
        "                            team2_baron_kills, team2_dragon_kills]])\n",
        "\n",
        "    # Get prediction from the model\n",
        "    prediction = model.predict(input_data)\n",
        "\n",
        "    # Get prediction probabilities from the model\n",
        "    prediction_proba = model.predict_proba(input_data)\n",
        "\n",
        "    # Display the result\n",
        "    if prediction == 1:\n",
        "        st.success(\"Team 1 wins!\")\n",
        "    else:\n",
        "        st.success(\"Team 2 wins!\")\n",
        "\n",
        "    # Show the probabilities of each class\n",
        "    st.subheader(\"Prediction Probabilities:\")\n",
        "    st.write(f\"Probability of Team 1 winning: {prediction_proba[0][1]:.2f}\")\n",
        "    st.write(f\"Probability of Team 2 winning: {prediction_proba[0][0]:.2f}\")\n"
      ],
      "metadata": {
        "colab": {
          "base_uri": "https://localhost:8080/"
        },
        "id": "MnEgYtd6Dy3H",
        "outputId": "5102f013-71ac-42a6-fbdc-9a03f104b3c5"
      },
      "execution_count": null,
      "outputs": [
        {
          "output_type": "stream",
          "name": "stderr",
          "text": [
            "2024-12-18 23:47:51.802 WARNING streamlit.runtime.scriptrunner_utils.script_run_context: Thread 'MainThread': missing ScriptRunContext! This warning can be ignored when running in bare mode.\n",
            "2024-12-18 23:47:51.948 \n",
            "  \u001b[33m\u001b[1mWarning:\u001b[0m to view this Streamlit app on a browser, run it with the following\n",
            "  command:\n",
            "\n",
            "    streamlit run /usr/local/lib/python3.10/dist-packages/colab_kernel_launcher.py [ARGUMENTS]\n",
            "2024-12-18 23:47:51.952 Thread 'MainThread': missing ScriptRunContext! This warning can be ignored when running in bare mode.\n",
            "2024-12-18 23:47:51.953 Thread 'MainThread': missing ScriptRunContext! This warning can be ignored when running in bare mode.\n",
            "2024-12-18 23:47:51.956 Thread 'MainThread': missing ScriptRunContext! This warning can be ignored when running in bare mode.\n",
            "2024-12-18 23:47:51.959 Thread 'MainThread': missing ScriptRunContext! This warning can be ignored when running in bare mode.\n",
            "2024-12-18 23:47:51.961 Thread 'MainThread': missing ScriptRunContext! This warning can be ignored when running in bare mode.\n",
            "2024-12-18 23:47:51.964 Thread 'MainThread': missing ScriptRunContext! This warning can be ignored when running in bare mode.\n",
            "2024-12-18 23:47:51.966 Thread 'MainThread': missing ScriptRunContext! This warning can be ignored when running in bare mode.\n",
            "2024-12-18 23:47:51.967 Thread 'MainThread': missing ScriptRunContext! This warning can be ignored when running in bare mode.\n",
            "2024-12-18 23:47:51.969 Thread 'MainThread': missing ScriptRunContext! This warning can be ignored when running in bare mode.\n",
            "2024-12-18 23:47:51.970 Thread 'MainThread': missing ScriptRunContext! This warning can be ignored when running in bare mode.\n",
            "2024-12-18 23:47:51.971 Thread 'MainThread': missing ScriptRunContext! This warning can be ignored when running in bare mode.\n",
            "2024-12-18 23:47:51.972 Thread 'MainThread': missing ScriptRunContext! This warning can be ignored when running in bare mode.\n",
            "2024-12-18 23:47:51.973 Session state does not function when running a script without `streamlit run`\n",
            "2024-12-18 23:47:51.975 Thread 'MainThread': missing ScriptRunContext! This warning can be ignored when running in bare mode.\n",
            "2024-12-18 23:47:51.976 Thread 'MainThread': missing ScriptRunContext! This warning can be ignored when running in bare mode.\n",
            "2024-12-18 23:47:51.977 Thread 'MainThread': missing ScriptRunContext! This warning can be ignored when running in bare mode.\n",
            "2024-12-18 23:47:51.978 Thread 'MainThread': missing ScriptRunContext! This warning can be ignored when running in bare mode.\n",
            "2024-12-18 23:47:51.979 Thread 'MainThread': missing ScriptRunContext! This warning can be ignored when running in bare mode.\n",
            "2024-12-18 23:47:51.980 Thread 'MainThread': missing ScriptRunContext! This warning can be ignored when running in bare mode.\n",
            "2024-12-18 23:47:51.981 Thread 'MainThread': missing ScriptRunContext! This warning can be ignored when running in bare mode.\n",
            "2024-12-18 23:47:51.982 Thread 'MainThread': missing ScriptRunContext! This warning can be ignored when running in bare mode.\n",
            "2024-12-18 23:47:51.983 Thread 'MainThread': missing ScriptRunContext! This warning can be ignored when running in bare mode.\n",
            "2024-12-18 23:47:51.984 Thread 'MainThread': missing ScriptRunContext! This warning can be ignored when running in bare mode.\n",
            "2024-12-18 23:47:51.985 Thread 'MainThread': missing ScriptRunContext! This warning can be ignored when running in bare mode.\n",
            "2024-12-18 23:47:51.990 Thread 'MainThread': missing ScriptRunContext! This warning can be ignored when running in bare mode.\n",
            "2024-12-18 23:47:51.992 Thread 'MainThread': missing ScriptRunContext! This warning can be ignored when running in bare mode.\n",
            "2024-12-18 23:47:51.993 Thread 'MainThread': missing ScriptRunContext! This warning can be ignored when running in bare mode.\n",
            "2024-12-18 23:47:51.994 Thread 'MainThread': missing ScriptRunContext! This warning can be ignored when running in bare mode.\n",
            "2024-12-18 23:47:51.995 Thread 'MainThread': missing ScriptRunContext! This warning can be ignored when running in bare mode.\n",
            "2024-12-18 23:47:51.996 Thread 'MainThread': missing ScriptRunContext! This warning can be ignored when running in bare mode.\n",
            "2024-12-18 23:47:52.000 Thread 'MainThread': missing ScriptRunContext! This warning can be ignored when running in bare mode.\n",
            "2024-12-18 23:47:52.001 Thread 'MainThread': missing ScriptRunContext! This warning can be ignored when running in bare mode.\n",
            "2024-12-18 23:47:52.003 Thread 'MainThread': missing ScriptRunContext! This warning can be ignored when running in bare mode.\n",
            "2024-12-18 23:47:52.004 Thread 'MainThread': missing ScriptRunContext! This warning can be ignored when running in bare mode.\n",
            "2024-12-18 23:47:52.005 Thread 'MainThread': missing ScriptRunContext! This warning can be ignored when running in bare mode.\n",
            "2024-12-18 23:47:52.006 Thread 'MainThread': missing ScriptRunContext! This warning can be ignored when running in bare mode.\n",
            "2024-12-18 23:47:52.007 Thread 'MainThread': missing ScriptRunContext! This warning can be ignored when running in bare mode.\n",
            "2024-12-18 23:47:52.008 Thread 'MainThread': missing ScriptRunContext! This warning can be ignored when running in bare mode.\n",
            "2024-12-18 23:47:52.009 Thread 'MainThread': missing ScriptRunContext! This warning can be ignored when running in bare mode.\n",
            "2024-12-18 23:47:52.010 Thread 'MainThread': missing ScriptRunContext! This warning can be ignored when running in bare mode.\n",
            "2024-12-18 23:47:52.011 Thread 'MainThread': missing ScriptRunContext! This warning can be ignored when running in bare mode.\n",
            "2024-12-18 23:47:52.012 Thread 'MainThread': missing ScriptRunContext! This warning can be ignored when running in bare mode.\n",
            "2024-12-18 23:47:52.014 Thread 'MainThread': missing ScriptRunContext! This warning can be ignored when running in bare mode.\n",
            "2024-12-18 23:47:52.015 Thread 'MainThread': missing ScriptRunContext! This warning can be ignored when running in bare mode.\n",
            "2024-12-18 23:47:52.016 Thread 'MainThread': missing ScriptRunContext! This warning can be ignored when running in bare mode.\n",
            "2024-12-18 23:47:52.017 Thread 'MainThread': missing ScriptRunContext! This warning can be ignored when running in bare mode.\n",
            "2024-12-18 23:47:52.018 Thread 'MainThread': missing ScriptRunContext! This warning can be ignored when running in bare mode.\n",
            "2024-12-18 23:47:52.019 Thread 'MainThread': missing ScriptRunContext! This warning can be ignored when running in bare mode.\n",
            "2024-12-18 23:47:52.021 Thread 'MainThread': missing ScriptRunContext! This warning can be ignored when running in bare mode.\n",
            "2024-12-18 23:47:52.022 Thread 'MainThread': missing ScriptRunContext! This warning can be ignored when running in bare mode.\n",
            "2024-12-18 23:47:52.023 Thread 'MainThread': missing ScriptRunContext! This warning can be ignored when running in bare mode.\n",
            "2024-12-18 23:47:52.024 Thread 'MainThread': missing ScriptRunContext! This warning can be ignored when running in bare mode.\n",
            "2024-12-18 23:47:52.025 Thread 'MainThread': missing ScriptRunContext! This warning can be ignored when running in bare mode.\n",
            "2024-12-18 23:47:52.026 Thread 'MainThread': missing ScriptRunContext! This warning can be ignored when running in bare mode.\n",
            "2024-12-18 23:47:52.027 Thread 'MainThread': missing ScriptRunContext! This warning can be ignored when running in bare mode.\n",
            "2024-12-18 23:47:52.028 Thread 'MainThread': missing ScriptRunContext! This warning can be ignored when running in bare mode.\n",
            "2024-12-18 23:47:52.030 Thread 'MainThread': missing ScriptRunContext! This warning can be ignored when running in bare mode.\n",
            "2024-12-18 23:47:52.031 Thread 'MainThread': missing ScriptRunContext! This warning can be ignored when running in bare mode.\n",
            "2024-12-18 23:47:52.032 Thread 'MainThread': missing ScriptRunContext! This warning can be ignored when running in bare mode.\n",
            "2024-12-18 23:47:52.033 Thread 'MainThread': missing ScriptRunContext! This warning can be ignored when running in bare mode.\n",
            "2024-12-18 23:47:52.034 Thread 'MainThread': missing ScriptRunContext! This warning can be ignored when running in bare mode.\n",
            "2024-12-18 23:47:52.036 Thread 'MainThread': missing ScriptRunContext! This warning can be ignored when running in bare mode.\n",
            "2024-12-18 23:47:52.037 Thread 'MainThread': missing ScriptRunContext! This warning can be ignored when running in bare mode.\n",
            "2024-12-18 23:47:52.038 Thread 'MainThread': missing ScriptRunContext! This warning can be ignored when running in bare mode.\n",
            "2024-12-18 23:47:52.039 Thread 'MainThread': missing ScriptRunContext! This warning can be ignored when running in bare mode.\n",
            "2024-12-18 23:47:52.040 Thread 'MainThread': missing ScriptRunContext! This warning can be ignored when running in bare mode.\n",
            "2024-12-18 23:47:52.041 Thread 'MainThread': missing ScriptRunContext! This warning can be ignored when running in bare mode.\n",
            "2024-12-18 23:47:52.043 Thread 'MainThread': missing ScriptRunContext! This warning can be ignored when running in bare mode.\n",
            "2024-12-18 23:47:52.044 Thread 'MainThread': missing ScriptRunContext! This warning can be ignored when running in bare mode.\n",
            "2024-12-18 23:47:52.045 Thread 'MainThread': missing ScriptRunContext! This warning can be ignored when running in bare mode.\n",
            "2024-12-18 23:47:52.046 Thread 'MainThread': missing ScriptRunContext! This warning can be ignored when running in bare mode.\n",
            "2024-12-18 23:47:52.047 Thread 'MainThread': missing ScriptRunContext! This warning can be ignored when running in bare mode.\n",
            "2024-12-18 23:47:52.048 Thread 'MainThread': missing ScriptRunContext! This warning can be ignored when running in bare mode.\n",
            "2024-12-18 23:47:52.049 Thread 'MainThread': missing ScriptRunContext! This warning can be ignored when running in bare mode.\n",
            "2024-12-18 23:47:52.050 Thread 'MainThread': missing ScriptRunContext! This warning can be ignored when running in bare mode.\n",
            "2024-12-18 23:47:52.051 Thread 'MainThread': missing ScriptRunContext! This warning can be ignored when running in bare mode.\n",
            "2024-12-18 23:47:52.053 Thread 'MainThread': missing ScriptRunContext! This warning can be ignored when running in bare mode.\n",
            "2024-12-18 23:47:52.054 Thread 'MainThread': missing ScriptRunContext! This warning can be ignored when running in bare mode.\n",
            "2024-12-18 23:47:52.055 Thread 'MainThread': missing ScriptRunContext! This warning can be ignored when running in bare mode.\n",
            "2024-12-18 23:47:52.056 Thread 'MainThread': missing ScriptRunContext! This warning can be ignored when running in bare mode.\n",
            "2024-12-18 23:47:52.057 Thread 'MainThread': missing ScriptRunContext! This warning can be ignored when running in bare mode.\n",
            "2024-12-18 23:47:52.060 Thread 'MainThread': missing ScriptRunContext! This warning can be ignored when running in bare mode.\n",
            "2024-12-18 23:47:52.063 Thread 'MainThread': missing ScriptRunContext! This warning can be ignored when running in bare mode.\n",
            "2024-12-18 23:47:52.066 Thread 'MainThread': missing ScriptRunContext! This warning can be ignored when running in bare mode.\n",
            "2024-12-18 23:47:52.068 Thread 'MainThread': missing ScriptRunContext! This warning can be ignored when running in bare mode.\n",
            "2024-12-18 23:47:52.069 Thread 'MainThread': missing ScriptRunContext! This warning can be ignored when running in bare mode.\n",
            "2024-12-18 23:47:52.070 Thread 'MainThread': missing ScriptRunContext! This warning can be ignored when running in bare mode.\n",
            "2024-12-18 23:47:52.071 Thread 'MainThread': missing ScriptRunContext! This warning can be ignored when running in bare mode.\n",
            "2024-12-18 23:47:52.072 Thread 'MainThread': missing ScriptRunContext! This warning can be ignored when running in bare mode.\n",
            "2024-12-18 23:47:52.073 Thread 'MainThread': missing ScriptRunContext! This warning can be ignored when running in bare mode.\n",
            "2024-12-18 23:47:52.074 Thread 'MainThread': missing ScriptRunContext! This warning can be ignored when running in bare mode.\n",
            "2024-12-18 23:47:52.075 Thread 'MainThread': missing ScriptRunContext! This warning can be ignored when running in bare mode.\n",
            "2024-12-18 23:47:52.077 Thread 'MainThread': missing ScriptRunContext! This warning can be ignored when running in bare mode.\n",
            "2024-12-18 23:47:52.078 Thread 'MainThread': missing ScriptRunContext! This warning can be ignored when running in bare mode.\n",
            "2024-12-18 23:47:52.079 Thread 'MainThread': missing ScriptRunContext! This warning can be ignored when running in bare mode.\n",
            "2024-12-18 23:47:52.080 Thread 'MainThread': missing ScriptRunContext! This warning can be ignored when running in bare mode.\n",
            "2024-12-18 23:47:52.081 Thread 'MainThread': missing ScriptRunContext! This warning can be ignored when running in bare mode.\n",
            "2024-12-18 23:47:52.083 Thread 'MainThread': missing ScriptRunContext! This warning can be ignored when running in bare mode.\n",
            "2024-12-18 23:47:52.084 Thread 'MainThread': missing ScriptRunContext! This warning can be ignored when running in bare mode.\n",
            "2024-12-18 23:47:52.086 Thread 'MainThread': missing ScriptRunContext! This warning can be ignored when running in bare mode.\n",
            "2024-12-18 23:47:52.087 Thread 'MainThread': missing ScriptRunContext! This warning can be ignored when running in bare mode.\n",
            "2024-12-18 23:47:52.088 Thread 'MainThread': missing ScriptRunContext! This warning can be ignored when running in bare mode.\n"
          ]
        }
      ]
    },
    {
      "cell_type": "code",
      "source": [
        "!streamlit run app.py &>/content/logs.txt &\n"
      ],
      "metadata": {
        "id": "-1cdhOIrL4Qc"
      },
      "execution_count": null,
      "outputs": []
    },
    {
      "cell_type": "code",
      "source": [
        "!pip install pyngrok\n",
        "\n",
        "from pyngrok import ngrok\n",
        "public_url = ngrok.connect(8501)  # Replace 8501 with the port of your local service\n",
        "print(f\"Public URL: {public_url}\")\n"
      ],
      "metadata": {
        "colab": {
          "base_uri": "https://localhost:8080/",
          "height": 498
        },
        "id": "da7IOZqLLRth",
        "outputId": "3022c4eb-e6bf-41a5-ea1c-255b270bbf46"
      },
      "execution_count": null,
      "outputs": [
        {
          "output_type": "stream",
          "name": "stdout",
          "text": [
            "Requirement already satisfied: pyngrok in /usr/local/lib/python3.10/dist-packages (7.2.2)\n",
            "Requirement already satisfied: PyYAML>=5.1 in /usr/local/lib/python3.10/dist-packages (from pyngrok) (6.0.2)\n"
          ]
        },
        {
          "output_type": "stream",
          "name": "stderr",
          "text": [
            "ERROR:pyngrok.process.ngrok:t=2024-12-18T23:51:02+0000 lvl=eror msg=\"failed to reconnect session\" obj=tunnels.session err=\"authentication failed: Usage of ngrok requires a verified account and authtoken.\\n\\nSign up for an account: https://dashboard.ngrok.com/signup\\nInstall your authtoken: https://dashboard.ngrok.com/get-started/your-authtoken\\r\\n\\r\\nERR_NGROK_4018\\r\\n\"\n",
            "ERROR:pyngrok.process.ngrok:t=2024-12-18T23:51:02+0000 lvl=eror msg=\"session closing\" obj=tunnels.session err=\"authentication failed: Usage of ngrok requires a verified account and authtoken.\\n\\nSign up for an account: https://dashboard.ngrok.com/signup\\nInstall your authtoken: https://dashboard.ngrok.com/get-started/your-authtoken\\r\\n\\r\\nERR_NGROK_4018\\r\\n\"\n",
            "ERROR:pyngrok.process.ngrok:t=2024-12-18T23:51:02+0000 lvl=eror msg=\"terminating with error\" obj=app err=\"authentication failed: Usage of ngrok requires a verified account and authtoken.\\n\\nSign up for an account: https://dashboard.ngrok.com/signup\\nInstall your authtoken: https://dashboard.ngrok.com/get-started/your-authtoken\\r\\n\\r\\nERR_NGROK_4018\\r\\n\"\n",
            "CRITICAL:pyngrok.process.ngrok:t=2024-12-18T23:51:02+0000 lvl=crit msg=\"command failed\" err=\"authentication failed: Usage of ngrok requires a verified account and authtoken.\\n\\nSign up for an account: https://dashboard.ngrok.com/signup\\nInstall your authtoken: https://dashboard.ngrok.com/get-started/your-authtoken\\r\\n\\r\\nERR_NGROK_4018\\r\\n\"\n"
          ]
        },
        {
          "output_type": "error",
          "ename": "PyngrokNgrokError",
          "evalue": "The ngrok process errored on start: authentication failed: Usage of ngrok requires a verified account and authtoken.\\n\\nSign up for an account: https://dashboard.ngrok.com/signup\\nInstall your authtoken: https://dashboard.ngrok.com/get-started/your-authtoken\\r\\n\\r\\nERR_NGROK_4018\\r\\n.",
          "traceback": [
            "\u001b[0;31m---------------------------------------------------------------------------\u001b[0m",
            "\u001b[0;31mPyngrokNgrokError\u001b[0m                         Traceback (most recent call last)",
            "\u001b[0;32m<ipython-input-32-ecc2539bbd7e>\u001b[0m in \u001b[0;36m<cell line: 4>\u001b[0;34m()\u001b[0m\n\u001b[1;32m      2\u001b[0m \u001b[0;34m\u001b[0m\u001b[0m\n\u001b[1;32m      3\u001b[0m \u001b[0;32mfrom\u001b[0m \u001b[0mpyngrok\u001b[0m \u001b[0;32mimport\u001b[0m \u001b[0mngrok\u001b[0m\u001b[0;34m\u001b[0m\u001b[0;34m\u001b[0m\u001b[0m\n\u001b[0;32m----> 4\u001b[0;31m \u001b[0mpublic_url\u001b[0m \u001b[0;34m=\u001b[0m \u001b[0mngrok\u001b[0m\u001b[0;34m.\u001b[0m\u001b[0mconnect\u001b[0m\u001b[0;34m(\u001b[0m\u001b[0;36m8501\u001b[0m\u001b[0;34m)\u001b[0m  \u001b[0;31m# Replace 8501 with the port of your local service\u001b[0m\u001b[0;34m\u001b[0m\u001b[0;34m\u001b[0m\u001b[0m\n\u001b[0m\u001b[1;32m      5\u001b[0m \u001b[0mprint\u001b[0m\u001b[0;34m(\u001b[0m\u001b[0;34mf\"Public URL: {public_url}\"\u001b[0m\u001b[0;34m)\u001b[0m\u001b[0;34m\u001b[0m\u001b[0;34m\u001b[0m\u001b[0m\n",
            "\u001b[0;32m/usr/local/lib/python3.10/dist-packages/pyngrok/ngrok.py\u001b[0m in \u001b[0;36mconnect\u001b[0;34m(addr, proto, name, pyngrok_config, **options)\u001b[0m\n\u001b[1;32m    329\u001b[0m     \u001b[0mlogger\u001b[0m\u001b[0;34m.\u001b[0m\u001b[0minfo\u001b[0m\u001b[0;34m(\u001b[0m\u001b[0;34mf\"Opening tunnel named: {name}\"\u001b[0m\u001b[0;34m)\u001b[0m\u001b[0;34m\u001b[0m\u001b[0;34m\u001b[0m\u001b[0m\n\u001b[1;32m    330\u001b[0m \u001b[0;34m\u001b[0m\u001b[0m\n\u001b[0;32m--> 331\u001b[0;31m     \u001b[0mapi_url\u001b[0m \u001b[0;34m=\u001b[0m \u001b[0mget_ngrok_process\u001b[0m\u001b[0;34m(\u001b[0m\u001b[0mpyngrok_config\u001b[0m\u001b[0;34m)\u001b[0m\u001b[0;34m.\u001b[0m\u001b[0mapi_url\u001b[0m\u001b[0;34m\u001b[0m\u001b[0;34m\u001b[0m\u001b[0m\n\u001b[0m\u001b[1;32m    332\u001b[0m \u001b[0;34m\u001b[0m\u001b[0m\n\u001b[1;32m    333\u001b[0m     \u001b[0mlogger\u001b[0m\u001b[0;34m.\u001b[0m\u001b[0mdebug\u001b[0m\u001b[0;34m(\u001b[0m\u001b[0;34mf\"Creating tunnel with options: {options}\"\u001b[0m\u001b[0;34m)\u001b[0m\u001b[0;34m\u001b[0m\u001b[0;34m\u001b[0m\u001b[0m\n",
            "\u001b[0;32m/usr/local/lib/python3.10/dist-packages/pyngrok/ngrok.py\u001b[0m in \u001b[0;36mget_ngrok_process\u001b[0;34m(pyngrok_config)\u001b[0m\n\u001b[1;32m    154\u001b[0m     \u001b[0minstall_ngrok\u001b[0m\u001b[0;34m(\u001b[0m\u001b[0mpyngrok_config\u001b[0m\u001b[0;34m)\u001b[0m\u001b[0;34m\u001b[0m\u001b[0;34m\u001b[0m\u001b[0m\n\u001b[1;32m    155\u001b[0m \u001b[0;34m\u001b[0m\u001b[0m\n\u001b[0;32m--> 156\u001b[0;31m     \u001b[0;32mreturn\u001b[0m \u001b[0mprocess\u001b[0m\u001b[0;34m.\u001b[0m\u001b[0mget_process\u001b[0m\u001b[0;34m(\u001b[0m\u001b[0mpyngrok_config\u001b[0m\u001b[0;34m)\u001b[0m\u001b[0;34m\u001b[0m\u001b[0;34m\u001b[0m\u001b[0m\n\u001b[0m\u001b[1;32m    157\u001b[0m \u001b[0;34m\u001b[0m\u001b[0m\n\u001b[1;32m    158\u001b[0m \u001b[0;34m\u001b[0m\u001b[0m\n",
            "\u001b[0;32m/usr/local/lib/python3.10/dist-packages/pyngrok/process.py\u001b[0m in \u001b[0;36mget_process\u001b[0;34m(pyngrok_config)\u001b[0m\n\u001b[1;32m    233\u001b[0m         \u001b[0;32mreturn\u001b[0m \u001b[0m_current_processes\u001b[0m\u001b[0;34m[\u001b[0m\u001b[0mpyngrok_config\u001b[0m\u001b[0;34m.\u001b[0m\u001b[0mngrok_path\u001b[0m\u001b[0;34m]\u001b[0m\u001b[0;34m\u001b[0m\u001b[0;34m\u001b[0m\u001b[0m\n\u001b[1;32m    234\u001b[0m \u001b[0;34m\u001b[0m\u001b[0m\n\u001b[0;32m--> 235\u001b[0;31m     \u001b[0;32mreturn\u001b[0m \u001b[0m_start_process\u001b[0m\u001b[0;34m(\u001b[0m\u001b[0mpyngrok_config\u001b[0m\u001b[0;34m)\u001b[0m\u001b[0;34m\u001b[0m\u001b[0;34m\u001b[0m\u001b[0m\n\u001b[0m\u001b[1;32m    236\u001b[0m \u001b[0;34m\u001b[0m\u001b[0m\n\u001b[1;32m    237\u001b[0m \u001b[0;34m\u001b[0m\u001b[0m\n",
            "\u001b[0;32m/usr/local/lib/python3.10/dist-packages/pyngrok/process.py\u001b[0m in \u001b[0;36m_start_process\u001b[0;34m(pyngrok_config)\u001b[0m\n\u001b[1;32m    396\u001b[0m \u001b[0;34m\u001b[0m\u001b[0m\n\u001b[1;32m    397\u001b[0m         \u001b[0;32mif\u001b[0m \u001b[0mngrok_process\u001b[0m\u001b[0;34m.\u001b[0m\u001b[0mstartup_error\u001b[0m \u001b[0;32mis\u001b[0m \u001b[0;32mnot\u001b[0m \u001b[0;32mNone\u001b[0m\u001b[0;34m:\u001b[0m\u001b[0;34m\u001b[0m\u001b[0;34m\u001b[0m\u001b[0m\n\u001b[0;32m--> 398\u001b[0;31m             raise PyngrokNgrokError(f\"The ngrok process errored on start: {ngrok_process.startup_error}.\",\n\u001b[0m\u001b[1;32m    399\u001b[0m                                     \u001b[0mngrok_process\u001b[0m\u001b[0;34m.\u001b[0m\u001b[0mlogs\u001b[0m\u001b[0;34m,\u001b[0m\u001b[0;34m\u001b[0m\u001b[0;34m\u001b[0m\u001b[0m\n\u001b[1;32m    400\u001b[0m                                     ngrok_process.startup_error)\n",
            "\u001b[0;31mPyngrokNgrokError\u001b[0m: The ngrok process errored on start: authentication failed: Usage of ngrok requires a verified account and authtoken.\\n\\nSign up for an account: https://dashboard.ngrok.com/signup\\nInstall your authtoken: https://dashboard.ngrok.com/get-started/your-authtoken\\r\\n\\r\\nERR_NGROK_4018\\r\\n."
          ]
        }
      ]
    },
    {
      "cell_type": "code",
      "source": [
        "import os\n",
        "from pyngrok import ngrok\n",
        "\n",
        "# Start the Streamlit app\n",
        "os.system(\"streamlit run your_app.py &\")  # Replace 'your_app.py' with the name of your Streamlit app\n",
        "\n",
        "# Expose the Streamlit app via ngrok\n",
        "public_url = ngrok.connect(8501)  # Streamlit runs on port 8501 by default\n",
        "print(f\"Public URL: {public_url}\")\n"
      ],
      "metadata": {
        "colab": {
          "base_uri": "https://localhost:8080/",
          "height": 164
        },
        "id": "wb2Sg0lED8YJ",
        "outputId": "7a241e0b-4e4b-432c-dc98-a2a0a4e52639"
      },
      "execution_count": null,
      "outputs": [
        {
          "output_type": "error",
          "ename": "NameError",
          "evalue": "name 'ngrok' is not defined",
          "traceback": [
            "\u001b[0;31m---------------------------------------------------------------------------\u001b[0m",
            "\u001b[0;31mNameError\u001b[0m                                 Traceback (most recent call last)",
            "\u001b[0;32m<ipython-input-30-fff0035d7d39>\u001b[0m in \u001b[0;36m<cell line: 1>\u001b[0;34m()\u001b[0m\n\u001b[0;32m----> 1\u001b[0;31m \u001b[0mpublic_url\u001b[0m \u001b[0;34m=\u001b[0m \u001b[0mngrok\u001b[0m\u001b[0;34m.\u001b[0m\u001b[0mconnect\u001b[0m\u001b[0;34m(\u001b[0m\u001b[0;36m8501\u001b[0m\u001b[0;34m)\u001b[0m\u001b[0;34m\u001b[0m\u001b[0;34m\u001b[0m\u001b[0m\n\u001b[0m\u001b[1;32m      2\u001b[0m \u001b[0mprint\u001b[0m\u001b[0;34m(\u001b[0m\u001b[0;34mf\"Public URL: {public_url}\"\u001b[0m\u001b[0;34m)\u001b[0m\u001b[0;34m\u001b[0m\u001b[0;34m\u001b[0m\u001b[0m\n",
            "\u001b[0;31mNameError\u001b[0m: name 'ngrok' is not defined"
          ]
        }
      ]
    },
    {
      "cell_type": "code",
      "source": [],
      "metadata": {
        "id": "jHZKzNQNEPLU"
      },
      "execution_count": null,
      "outputs": []
    }
  ],
  "metadata": {
    "kernelspec": {
      "display_name": "Python 3",
      "language": "python",
      "name": "python3"
    },
    "language_info": {
      "codemirror_mode": {
        "name": "ipython",
        "version": 3
      },
      "file_extension": ".py",
      "mimetype": "text/x-python",
      "name": "python",
      "nbconvert_exporter": "python",
      "pygments_lexer": "ipython3",
      "version": "3.6.4"
    },
    "colab": {
      "provenance": [],
      "toc_visible": true
    }
  },
  "nbformat": 4,
  "nbformat_minor": 0
}